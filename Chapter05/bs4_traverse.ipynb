{
 "cells": [
  {
   "cell_type": "code",
   "execution_count": 2,
   "id": "edf4358b-1a0f-4a03-a459-892cd660a8a8",
   "metadata": {},
   "outputs": [],
   "source": [
    "from bs4 import BeautifulSoup as BSoup\n",
    "import re"
   ]
  },
  {
   "cell_type": "code",
   "execution_count": 3,
   "id": "84894295-9759-4679-86e5-4f1938cdf0a9",
   "metadata": {},
   "outputs": [],
   "source": [
    "html = open(\"testHTML.html\",\"r\").read()"
   ]
  },
  {
   "cell_type": "code",
   "execution_count": 4,
   "id": "cd36793d-0986-46d7-a04a-b34c5f27bfcb",
   "metadata": {},
   "outputs": [],
   "source": [
    "soup = BSoup(html)"
   ]
  },
  {
   "cell_type": "code",
   "execution_count": 5,
   "id": "9d2e9f35-9fc0-4cfe-a84d-a80b5bd1aa96",
   "metadata": {},
   "outputs": [
    {
     "data": {
      "text/plain": [
       "'<html>\\n <head>\\n  <title>\\n   The Dormouse\\'s story\\n  </title>\\n </head>\\n <body>\\n  <p class=\"title\">\\n   <b>\\n    The Dormouse\\'s story\\n   </b>\\n  </p>\\n  <p class=\"story\">\\n   Once upon a time there were three little sisters; and their names were\\n   <a class=\"sister\" href=\"http://example.com/elsie\" id=\"link1\">\\n    Elsie\\n   </a>\\n   ,\\n   <a class=\"sister\" href=\"http://example.com/lacie\" id=\"link2\">\\n    Lacie\\n   </a>\\n   and\\n   <a class=\"sister\" href=\"http://example.com/tillie\" id=\"link3\">\\n    Tillie\\n   </a>\\n   ;\\n            and they lived at the bottom of a well.\\n  </p>\\n  <p class=\"story\">\\n   ...\\n  </p>\\n  <h1>\\n   Secret agents\\n  </h1>\\n  <ul>\\n   <li data-id=\"10784\">\\n    Jason Walters, 003: Found dead in \"A View to a Kill\".\\n   </li>\\n   <li data-id=\"97865\">\\n    Alex Trevelyan, 006: Agent turned terrorist leader; James\\' nemesis in \"Goldeneye\".\\n   </li>\\n   <li data-id=\"45732\">\\n    James Bond, 007: The main man; shaken but not stirred.\\n   </li>\\n  </ul>\\n </body>\\n</html>'"
      ]
     },
     "execution_count": 5,
     "metadata": {},
     "output_type": "execute_result"
    }
   ],
   "source": [
    "soup.prettify()"
   ]
  },
  {
   "cell_type": "markdown",
   "id": "d40505c8-fee7-4756-9ca5-f948b841a3dd",
   "metadata": {
    "tags": []
   },
   "source": [
    "### Element as Attribute"
   ]
  },
  {
   "cell_type": "code",
   "execution_count": 6,
   "id": "e6aa1817-b9e2-4d73-a801-6fed4d58a202",
   "metadata": {},
   "outputs": [
    {
     "data": {
      "text/plain": [
       "<a class=\"sister\" href=\"http://example.com/elsie\" id=\"link1\">Elsie</a>"
      ]
     },
     "execution_count": 6,
     "metadata": {},
     "output_type": "execute_result"
    }
   ],
   "source": [
    "soup.a"
   ]
  },
  {
   "cell_type": "code",
   "execution_count": 7,
   "id": "9cb1a9c4-0a8c-43b1-b7e4-f28485d6544c",
   "metadata": {},
   "outputs": [
    {
     "data": {
      "text/plain": [
       "'a'"
      ]
     },
     "execution_count": 7,
     "metadata": {},
     "output_type": "execute_result"
    }
   ],
   "source": [
    "soup.a.name"
   ]
  },
  {
   "cell_type": "code",
   "execution_count": 8,
   "id": "cff935d1-930d-45f1-88e1-821b5af2a290",
   "metadata": {},
   "outputs": [
    {
     "data": {
      "text/plain": [
       "<h1>Secret agents</h1>"
      ]
     },
     "execution_count": 8,
     "metadata": {},
     "output_type": "execute_result"
    }
   ],
   "source": [
    "soup.h1"
   ]
  },
  {
   "cell_type": "code",
   "execution_count": 9,
   "id": "506866b2-b0ff-4973-8ab8-03e5b3ec2b1c",
   "metadata": {},
   "outputs": [
    {
     "data": {
      "text/plain": [
       "[<a class=\"sister\" href=\"http://example.com/elsie\" id=\"link1\">Elsie</a>,\n",
       " <a class=\"sister\" href=\"http://example.com/lacie\" id=\"link2\">Lacie</a>,\n",
       " <a class=\"sister\" href=\"http://example.com/tillie\" id=\"link3\">Tillie</a>]"
      ]
     },
     "execution_count": 9,
     "metadata": {},
     "output_type": "execute_result"
    }
   ],
   "source": [
    "soup('a')"
   ]
  },
  {
   "cell_type": "markdown",
   "id": "31768625-3ad3-4b5c-9ad5-ff9c0d956a3a",
   "metadata": {},
   "source": [
    "#### Attributes"
   ]
  },
  {
   "cell_type": "code",
   "execution_count": 10,
   "id": "f26ad36c-1b84-45d2-93dc-fd5f2f4d481d",
   "metadata": {},
   "outputs": [
    {
     "data": {
      "text/plain": [
       "True"
      ]
     },
     "execution_count": 10,
     "metadata": {},
     "output_type": "execute_result"
    }
   ],
   "source": [
    "soup.a.has_attr('class')"
   ]
  },
  {
   "cell_type": "code",
   "execution_count": 11,
   "id": "259ce539-9f13-483a-a853-f3eaa31a5319",
   "metadata": {},
   "outputs": [
    {
     "data": {
      "text/plain": [
       "False"
      ]
     },
     "execution_count": 11,
     "metadata": {},
     "output_type": "execute_result"
    }
   ],
   "source": [
    "soup.a.has_attr('name')"
   ]
  },
  {
   "cell_type": "code",
   "execution_count": 12,
   "id": "26f91d3a-b308-41db-bf6a-e9b8fa50c0a0",
   "metadata": {},
   "outputs": [
    {
     "data": {
      "text/plain": [
       "{'href': 'http://example.com/elsie', 'class': ['sister'], 'id': 'link1'}"
      ]
     },
     "execution_count": 12,
     "metadata": {},
     "output_type": "execute_result"
    }
   ],
   "source": [
    "soup.a.attrs"
   ]
  },
  {
   "cell_type": "code",
   "execution_count": 13,
   "id": "79321fa3-1111-4111-8f56-c6a3bc4ddb3d",
   "metadata": {},
   "outputs": [
    {
     "data": {
      "text/plain": [
       "['http://example.com/elsie']"
      ]
     },
     "execution_count": 13,
     "metadata": {},
     "output_type": "execute_result"
    }
   ],
   "source": [
    "soup.a.get_attribute_list('href')"
   ]
  },
  {
   "cell_type": "code",
   "execution_count": 14,
   "id": "bbc49677-a801-4c1c-a4c8-37a9ff86da04",
   "metadata": {},
   "outputs": [
    {
     "data": {
      "text/plain": [
       "['sister']"
      ]
     },
     "execution_count": 14,
     "metadata": {},
     "output_type": "execute_result"
    }
   ],
   "source": [
    "soup.a.get('class')"
   ]
  },
  {
   "cell_type": "code",
   "execution_count": 15,
   "id": "c5d0bcfb-7374-4964-8b5c-5de3c48f212d",
   "metadata": {},
   "outputs": [
    {
     "data": {
      "text/plain": [
       "'link1'"
      ]
     },
     "execution_count": 15,
     "metadata": {},
     "output_type": "execute_result"
    }
   ],
   "source": [
    "soup.a.get('id')"
   ]
  },
  {
   "cell_type": "code",
   "execution_count": 16,
   "id": "05fd4d70-a8d1-496d-a286-c0dd931c0e34",
   "metadata": {},
   "outputs": [
    {
     "data": {
      "text/plain": [
       "'http://example.com/elsie'"
      ]
     },
     "execution_count": 16,
     "metadata": {},
     "output_type": "execute_result"
    }
   ],
   "source": [
    "soup.a.get('href')"
   ]
  },
  {
   "cell_type": "markdown",
   "id": "2086f588-5f44-4eb5-9a67-4cc6a84bbc67",
   "metadata": {},
   "source": [
    "#### Text or content"
   ]
  },
  {
   "cell_type": "code",
   "execution_count": 17,
   "id": "0b17fb10-d5f6-465b-996d-c7457216e08b",
   "metadata": {},
   "outputs": [
    {
     "data": {
      "text/plain": [
       "'Elsie'"
      ]
     },
     "execution_count": 17,
     "metadata": {},
     "output_type": "execute_result"
    }
   ],
   "source": [
    "soup.a.text #get_text()"
   ]
  },
  {
   "cell_type": "code",
   "execution_count": 18,
   "id": "3dbfaee2-0ee9-45dd-b0a3-95914e23effe",
   "metadata": {},
   "outputs": [
    {
     "data": {
      "text/plain": [
       "['Elsie']"
      ]
     },
     "execution_count": 18,
     "metadata": {},
     "output_type": "execute_result"
    }
   ],
   "source": [
    "soup.a.contents"
   ]
  },
  {
   "cell_type": "code",
   "execution_count": 19,
   "id": "fe0ea266-c7c2-451c-bd66-d31cbb0160bf",
   "metadata": {},
   "outputs": [
    {
     "data": {
      "text/plain": [
       "'Elsie'"
      ]
     },
     "execution_count": 19,
     "metadata": {},
     "output_type": "execute_result"
    }
   ],
   "source": [
    "soup.a.string"
   ]
  },
  {
   "cell_type": "code",
   "execution_count": 20,
   "id": "330a11a2-7dcc-49de-9bba-3a1eb40a5a2b",
   "metadata": {},
   "outputs": [
    {
     "data": {
      "text/plain": [
       "'Elsie'"
      ]
     },
     "execution_count": 20,
     "metadata": {},
     "output_type": "execute_result"
    }
   ],
   "source": [
    "soup.a.get_text()"
   ]
  },
  {
   "cell_type": "markdown",
   "id": "4ba876d3-da57-4d8d-a818-191889fe4d68",
   "metadata": {},
   "source": [
    "### find"
   ]
  },
  {
   "cell_type": "code",
   "execution_count": 21,
   "id": "d9051c38-5f47-4736-a7f3-23ff50925e73",
   "metadata": {},
   "outputs": [
    {
     "data": {
      "text/plain": [
       "<a class=\"sister\" href=\"http://example.com/elsie\" id=\"link1\">Elsie</a>"
      ]
     },
     "execution_count": 21,
     "metadata": {},
     "output_type": "execute_result"
    }
   ],
   "source": [
    "soup.find('a')"
   ]
  },
  {
   "cell_type": "code",
   "execution_count": 22,
   "id": "e9e671d4-01af-4174-8025-be48b04e692c",
   "metadata": {},
   "outputs": [
    {
     "data": {
      "text/plain": [
       "['sister']"
      ]
     },
     "execution_count": 22,
     "metadata": {},
     "output_type": "execute_result"
    }
   ],
   "source": [
    "soup.find('a').get('class')"
   ]
  },
  {
   "cell_type": "code",
   "execution_count": 23,
   "id": "3c70fe6b-ceff-4466-9d19-d145ad1a6f57",
   "metadata": {},
   "outputs": [
    {
     "data": {
      "text/plain": [
       "'http://example.com/elsie'"
      ]
     },
     "execution_count": 23,
     "metadata": {},
     "output_type": "execute_result"
    }
   ],
   "source": [
    "soup.find('a').get('href')"
   ]
  },
  {
   "cell_type": "code",
   "execution_count": 81,
   "id": "694bd53f-9efc-466d-8aee-5cbb934eaaee",
   "metadata": {},
   "outputs": [
    {
     "data": {
      "text/plain": [
       "'Elsie'"
      ]
     },
     "execution_count": 81,
     "metadata": {},
     "output_type": "execute_result"
    }
   ],
   "source": [
    "soup.find('a',attrs={'class':\"sister\"}).get_text()"
   ]
  },
  {
   "cell_type": "code",
   "execution_count": 25,
   "id": "3c9b9e56-dc66-41cd-9199-661f718ad9f4",
   "metadata": {},
   "outputs": [
    {
     "data": {
      "text/plain": [
       "<a class=\"sister\" href=\"http://example.com/elsie\" id=\"link1\">Elsie</a>"
      ]
     },
     "execution_count": 25,
     "metadata": {},
     "output_type": "execute_result"
    }
   ],
   "source": [
    "soup.find('a',string=\"Elsie\")"
   ]
  },
  {
   "cell_type": "code",
   "execution_count": 26,
   "id": "05cf45f8-6d38-42ae-9839-daddc9724b8b",
   "metadata": {},
   "outputs": [
    {
     "data": {
      "text/plain": [
       "<a class=\"sister\" href=\"http://example.com/elsie\" id=\"link1\">Elsie</a>"
      ]
     },
     "execution_count": 26,
     "metadata": {},
     "output_type": "execute_result"
    }
   ],
   "source": [
    "soup.find('a',\"sister\")"
   ]
  },
  {
   "cell_type": "code",
   "execution_count": 27,
   "id": "73cb4983-d830-47d0-808c-3dfce015315d",
   "metadata": {},
   "outputs": [
    {
     "data": {
      "text/plain": [
       "<a class=\"sister\" href=\"http://example.com/elsie\" id=\"link1\">Elsie</a>"
      ]
     },
     "execution_count": 27,
     "metadata": {},
     "output_type": "execute_result"
    }
   ],
   "source": [
    "soup.find('a',attrs={'class':\"sister\"})"
   ]
  },
  {
   "cell_type": "code",
   "execution_count": 28,
   "id": "b2a95952-f0e7-4972-a39c-915aacca6582",
   "metadata": {},
   "outputs": [
    {
     "data": {
      "text/plain": [
       "<a class=\"sister\" href=\"http://example.com/elsie\" id=\"link1\">Elsie</a>"
      ]
     },
     "execution_count": 28,
     "metadata": {},
     "output_type": "execute_result"
    }
   ],
   "source": [
    "soup.find('a',{'class':\"sister\"})"
   ]
  },
  {
   "cell_type": "code",
   "execution_count": 29,
   "id": "89b383f5-02fa-47a9-9d98-31f37bc0d6db",
   "metadata": {},
   "outputs": [
    {
     "data": {
      "text/plain": [
       "<a class=\"sister\" href=\"http://example.com/elsie\" id=\"link1\">Elsie</a>"
      ]
     },
     "execution_count": 29,
     "metadata": {},
     "output_type": "execute_result"
    }
   ],
   "source": [
    "soup.find('a',{'id':\"link1\"})"
   ]
  },
  {
   "cell_type": "code",
   "execution_count": 30,
   "id": "b43544f9-4cbd-40a6-a812-d0f707d1b734",
   "metadata": {},
   "outputs": [
    {
     "data": {
      "text/plain": [
       "<a class=\"sister\" href=\"http://example.com/elsie\" id=\"link1\">Elsie</a>"
      ]
     },
     "execution_count": 30,
     "metadata": {},
     "output_type": "execute_result"
    }
   ],
   "source": [
    "soup.find(\"a\",attrs={'class':'sister'},text=\"Elsie\")"
   ]
  },
  {
   "cell_type": "code",
   "execution_count": 31,
   "id": "84531717-364f-467f-bffa-0f2936a54072",
   "metadata": {},
   "outputs": [
    {
     "data": {
      "text/plain": [
       "<a class=\"sister\" href=\"http://example.com/tillie\" id=\"link3\">Tillie</a>"
      ]
     },
     "execution_count": 31,
     "metadata": {},
     "output_type": "execute_result"
    }
   ],
   "source": [
    "soup.find('a',attrs={'id':'link3'})"
   ]
  },
  {
   "cell_type": "code",
   "execution_count": 32,
   "id": "ac63d72f-14e5-4e8e-afc8-db07a943ac24",
   "metadata": {},
   "outputs": [
    {
     "data": {
      "text/plain": [
       "<a class=\"sister\" href=\"http://example.com/lacie\" id=\"link2\">Lacie</a>"
      ]
     },
     "execution_count": 32,
     "metadata": {},
     "output_type": "execute_result"
    }
   ],
   "source": [
    "soup.find(\"a\",attrs={'class':'sister'},text=\"Lacie\")"
   ]
  },
  {
   "cell_type": "code",
   "execution_count": 33,
   "id": "5f11c825-851c-4074-afe7-d97a049bd35c",
   "metadata": {},
   "outputs": [
    {
     "data": {
      "text/plain": [
       "<p class=\"story\">Once upon a time there were three little sisters; and their names were\n",
       "            <a class=\"sister\" href=\"http://example.com/elsie\" id=\"link1\">Elsie</a>,\n",
       "            <a class=\"sister\" href=\"http://example.com/lacie\" id=\"link2\">Lacie</a> and\n",
       "            <a class=\"sister\" href=\"http://example.com/tillie\" id=\"link3\">Tillie</a>;\n",
       "            and they lived at the bottom of a well.\n",
       "        </p>"
      ]
     },
     "execution_count": 33,
     "metadata": {},
     "output_type": "execute_result"
    }
   ],
   "source": [
    "soup.find('p','story')"
   ]
  },
  {
   "cell_type": "code",
   "execution_count": 34,
   "id": "32552e99-6e55-4d7a-9f5a-42b6ab4d2d01",
   "metadata": {},
   "outputs": [
    {
     "data": {
      "text/plain": [
       "<ul>\n",
       "<li data-id=\"10784\">Jason Walters, 003: Found dead in \"A View to a Kill\".</li>\n",
       "<li data-id=\"97865\">Alex Trevelyan, 006: Agent turned terrorist leader; James' nemesis in \"Goldeneye\".</li>\n",
       "<li data-id=\"45732\">James Bond, 007: The main man; shaken but not stirred.</li>\n",
       "</ul>"
      ]
     },
     "execution_count": 34,
     "metadata": {},
     "output_type": "execute_result"
    }
   ],
   "source": [
    "soup.find('ul')"
   ]
  },
  {
   "cell_type": "code",
   "execution_count": 35,
   "id": "c72506bd-6708-418a-936b-404ec9c64618",
   "metadata": {},
   "outputs": [
    {
     "data": {
      "text/plain": [
       "<li data-id=\"10784\">Jason Walters, 003: Found dead in \"A View to a Kill\".</li>"
      ]
     },
     "execution_count": 35,
     "metadata": {},
     "output_type": "execute_result"
    }
   ],
   "source": [
    "soup.find('ul').find('li')"
   ]
  },
  {
   "cell_type": "code",
   "execution_count": 80,
   "id": "6057d7ed-7792-4de8-98bf-6efd7669874a",
   "metadata": {},
   "outputs": [
    {
     "data": {
      "text/plain": [
       "'Alex Trevelyan, 006: Agent turned terrorist leader; James\\' nemesis in \"Goldeneye\".'"
      ]
     },
     "execution_count": 80,
     "metadata": {},
     "output_type": "execute_result"
    }
   ],
   "source": [
    "soup.find('ul').find('li',attrs={'data-id':'97865'}).get_text()"
   ]
  },
  {
   "cell_type": "markdown",
   "id": "760151c6-0e36-4a66-9db6-0e771e9f51f3",
   "metadata": {},
   "source": [
    "### find_all"
   ]
  },
  {
   "cell_type": "code",
   "execution_count": 37,
   "id": "5ffd52c8-401b-40ff-ba8d-fa2a75c25bcc",
   "metadata": {},
   "outputs": [
    {
     "data": {
      "text/plain": [
       "[<a class=\"sister\" href=\"http://example.com/elsie\" id=\"link1\">Elsie</a>,\n",
       " <a class=\"sister\" href=\"http://example.com/lacie\" id=\"link2\">Lacie</a>,\n",
       " <a class=\"sister\" href=\"http://example.com/tillie\" id=\"link3\">Tillie</a>]"
      ]
     },
     "execution_count": 37,
     "metadata": {},
     "output_type": "execute_result"
    }
   ],
   "source": [
    "soup.find_all('a')"
   ]
  },
  {
   "cell_type": "code",
   "execution_count": 38,
   "id": "5b12e83a-dfb1-4ddc-9ceb-da2f27d08bdb",
   "metadata": {},
   "outputs": [
    {
     "data": {
      "text/plain": [
       "[<a class=\"sister\" href=\"http://example.com/elsie\" id=\"link1\">Elsie</a>,\n",
       " <a class=\"sister\" href=\"http://example.com/lacie\" id=\"link2\">Lacie</a>,\n",
       " <a class=\"sister\" href=\"http://example.com/tillie\" id=\"link3\">Tillie</a>]"
      ]
     },
     "execution_count": 38,
     "metadata": {},
     "output_type": "execute_result"
    }
   ],
   "source": [
    "soup(\"a\")"
   ]
  },
  {
   "cell_type": "code",
   "execution_count": 39,
   "id": "8117bbd5-0d10-4a13-80c8-66eb3eeab186",
   "metadata": {},
   "outputs": [
    {
     "data": {
      "text/plain": [
       "[<a class=\"sister\" href=\"http://example.com/elsie\" id=\"link1\">Elsie</a>,\n",
       " <a class=\"sister\" href=\"http://example.com/lacie\" id=\"link2\">Lacie</a>,\n",
       " <a class=\"sister\" href=\"http://example.com/tillie\" id=\"link3\">Tillie</a>]"
      ]
     },
     "execution_count": 39,
     "metadata": {},
     "output_type": "execute_result"
    }
   ],
   "source": [
    "soup.find_all('a',\"sister\")"
   ]
  },
  {
   "cell_type": "code",
   "execution_count": 40,
   "id": "b5e1dfb5-9fb9-4f5f-9985-15141f421cfd",
   "metadata": {},
   "outputs": [
    {
     "data": {
      "text/plain": [
       "[<a class=\"sister\" href=\"http://example.com/elsie\" id=\"link1\">Elsie</a>,\n",
       " <a class=\"sister\" href=\"http://example.com/lacie\" id=\"link2\">Lacie</a>,\n",
       " <a class=\"sister\" href=\"http://example.com/tillie\" id=\"link3\">Tillie</a>]"
      ]
     },
     "execution_count": 40,
     "metadata": {},
     "output_type": "execute_result"
    }
   ],
   "source": [
    "soup.find_all('a',{'class':\"sister\"})"
   ]
  },
  {
   "cell_type": "code",
   "execution_count": 41,
   "id": "a9947e6f-d911-4984-99f9-8297cdc63acd",
   "metadata": {},
   "outputs": [
    {
     "data": {
      "text/plain": [
       "['Elsie']"
      ]
     },
     "execution_count": 41,
     "metadata": {},
     "output_type": "execute_result"
    }
   ],
   "source": [
    "soup.find_all(string=\"Elsie\")"
   ]
  },
  {
   "cell_type": "code",
   "execution_count": 42,
   "id": "16b42166-eefc-45a0-9eee-f6c59a413473",
   "metadata": {},
   "outputs": [
    {
     "data": {
      "text/plain": [
       "[<a class=\"sister\" href=\"http://example.com/elsie\" id=\"link1\">Elsie</a>]"
      ]
     },
     "execution_count": 42,
     "metadata": {},
     "output_type": "execute_result"
    }
   ],
   "source": [
    "soup.find_all(\"a\",string=\"Elsie\")"
   ]
  },
  {
   "cell_type": "code",
   "execution_count": 43,
   "id": "97dad11a-5f75-4f5f-9efa-53da8cf25037",
   "metadata": {},
   "outputs": [
    {
     "data": {
      "text/plain": [
       "['Elsie']"
      ]
     },
     "execution_count": 43,
     "metadata": {},
     "output_type": "execute_result"
    }
   ],
   "source": [
    "soup.find_all(text=re.compile(r\"Elsie\"))"
   ]
  },
  {
   "cell_type": "code",
   "execution_count": 44,
   "id": "ed3cc8ba-62e2-43a2-b332-373020041c59",
   "metadata": {},
   "outputs": [
    {
     "data": {
      "text/plain": [
       "[<a class=\"sister\" href=\"http://example.com/elsie\" id=\"link1\">Elsie</a>,\n",
       " <a class=\"sister\" href=\"http://example.com/lacie\" id=\"link2\">Lacie</a>]"
      ]
     },
     "execution_count": 44,
     "metadata": {},
     "output_type": "execute_result"
    }
   ],
   "source": [
    "soup.find_all('a',limit=2)"
   ]
  },
  {
   "cell_type": "code",
   "execution_count": 45,
   "id": "32720fef-d8a6-4e2e-84bd-f22b71c6c4b6",
   "metadata": {},
   "outputs": [
    {
     "data": {
      "text/plain": [
       "[<a class=\"sister\" href=\"http://example.com/elsie\" id=\"link1\">Elsie</a>,\n",
       " <a class=\"sister\" href=\"http://example.com/lacie\" id=\"link2\">Lacie</a>,\n",
       " <a class=\"sister\" href=\"http://example.com/tillie\" id=\"link3\">Tillie</a>]"
      ]
     },
     "execution_count": 45,
     "metadata": {},
     "output_type": "execute_result"
    }
   ],
   "source": [
    "soup.find_all('a',attrs={'id':re.compile(r\"link\")})"
   ]
  },
  {
   "cell_type": "code",
   "execution_count": 46,
   "id": "2f1382fc-baa6-4809-85a1-8ab3e2bde647",
   "metadata": {},
   "outputs": [
    {
     "data": {
      "text/plain": [
       "[<a class=\"sister\" href=\"http://example.com/elsie\" id=\"link1\">Elsie</a>,\n",
       " <a class=\"sister\" href=\"http://example.com/lacie\" id=\"link2\">Lacie</a>,\n",
       " <a class=\"sister\" href=\"http://example.com/tillie\" id=\"link3\">Tillie</a>]"
      ]
     },
     "execution_count": 46,
     "metadata": {},
     "output_type": "execute_result"
    }
   ],
   "source": [
    "soup.find_all('a',attrs={'href':re.compile(r\".*ie$\")})"
   ]
  },
  {
   "cell_type": "code",
   "execution_count": 47,
   "id": "98ca01fa-96d1-47ac-91cd-6e83f78e72e2",
   "metadata": {},
   "outputs": [
    {
     "data": {
      "text/plain": [
       "[<a class=\"sister\" href=\"http://example.com/elsie\" id=\"link1\">Elsie</a>,\n",
       " <a class=\"sister\" href=\"http://example.com/lacie\" id=\"link2\">Lacie</a>,\n",
       " <a class=\"sister\" href=\"http://example.com/tillie\" id=\"link3\">Tillie</a>]"
      ]
     },
     "execution_count": 47,
     "metadata": {},
     "output_type": "execute_result"
    }
   ],
   "source": [
    "soup.find_all(\"a\",text=re.compile(r\".*ie$\"))"
   ]
  },
  {
   "cell_type": "code",
   "execution_count": 48,
   "id": "40383e12-fc8b-4ff2-86bf-c4541e609bf9",
   "metadata": {},
   "outputs": [
    {
     "data": {
      "text/plain": [
       "[<title>The Dormouse's story</title>,\n",
       " <a class=\"sister\" href=\"http://example.com/elsie\" id=\"link1\">Elsie</a>,\n",
       " <a class=\"sister\" href=\"http://example.com/lacie\" id=\"link2\">Lacie</a>,\n",
       " <a class=\"sister\" href=\"http://example.com/tillie\" id=\"link3\">Tillie</a>]"
      ]
     },
     "execution_count": 48,
     "metadata": {},
     "output_type": "execute_result"
    }
   ],
   "source": [
    "soup.find_all(['a','title'])"
   ]
  },
  {
   "cell_type": "code",
   "execution_count": 49,
   "id": "0c5fd2f8-4b3e-4599-91f9-a769f0ed05f9",
   "metadata": {},
   "outputs": [
    {
     "data": {
      "text/plain": [
       "[<p class=\"story\">Once upon a time there were three little sisters; and their names were\n",
       "             <a class=\"sister\" href=\"http://example.com/elsie\" id=\"link1\">Elsie</a>,\n",
       "             <a class=\"sister\" href=\"http://example.com/lacie\" id=\"link2\">Lacie</a> and\n",
       "             <a class=\"sister\" href=\"http://example.com/tillie\" id=\"link3\">Tillie</a>;\n",
       "             and they lived at the bottom of a well.\n",
       "         </p>,\n",
       " <p class=\"story\">...</p>]"
      ]
     },
     "execution_count": 49,
     "metadata": {},
     "output_type": "execute_result"
    }
   ],
   "source": [
    "soup.find_all('p','story')"
   ]
  },
  {
   "cell_type": "code",
   "execution_count": 50,
   "id": "256b3535-a724-431d-a34c-82fe4df4996a",
   "metadata": {},
   "outputs": [
    {
     "data": {
      "text/plain": [
       "[<p class=\"title\"><b>The Dormouse's story</b></p>,\n",
       " <p class=\"story\">Once upon a time there were three little sisters; and their names were\n",
       "             <a class=\"sister\" href=\"http://example.com/elsie\" id=\"link1\">Elsie</a>,\n",
       "             <a class=\"sister\" href=\"http://example.com/lacie\" id=\"link2\">Lacie</a> and\n",
       "             <a class=\"sister\" href=\"http://example.com/tillie\" id=\"link3\">Tillie</a>;\n",
       "             and they lived at the bottom of a well.\n",
       "         </p>,\n",
       " <p class=\"story\">...</p>]"
      ]
     },
     "execution_count": 50,
     "metadata": {},
     "output_type": "execute_result"
    }
   ],
   "source": [
    "soup.find_all(\"p\",attrs={'class':[\"title\",\"story\"]})"
   ]
  },
  {
   "cell_type": "markdown",
   "id": "f24e3e5e-25b5-4e75-a285-0455c019e6a5",
   "metadata": {},
   "source": [
    "#### next_element, previous_element"
   ]
  },
  {
   "cell_type": "code",
   "execution_count": 91,
   "id": "2b83b8f7-d2d7-4e4a-9c6e-38a7f238aa66",
   "metadata": {},
   "outputs": [
    {
     "data": {
      "text/plain": [
       "'Once upon a time there were three little sisters; and their names were\\n            '"
      ]
     },
     "execution_count": 91,
     "metadata": {},
     "output_type": "execute_result"
    }
   ],
   "source": [
    "soup.find('p','story').next_element"
   ]
  },
  {
   "cell_type": "code",
   "execution_count": 92,
   "id": "d5a56409-f3ea-4f0a-bc3b-62f6f38b4103",
   "metadata": {},
   "outputs": [
    {
     "data": {
      "text/plain": [
       "<a class=\"sister\" href=\"http://example.com/elsie\" id=\"link1\">Elsie</a>"
      ]
     },
     "execution_count": 92,
     "metadata": {},
     "output_type": "execute_result"
    }
   ],
   "source": [
    "soup.find('p','story').next_element.next_element"
   ]
  },
  {
   "cell_type": "code",
   "execution_count": 93,
   "id": "cc5fadfa-43b8-4e1b-bd3a-a1f3ad879913",
   "metadata": {},
   "outputs": [
    {
     "data": {
      "text/plain": [
       "'Elsie'"
      ]
     },
     "execution_count": 93,
     "metadata": {},
     "output_type": "execute_result"
    }
   ],
   "source": [
    "soup.find('a','sister').next_element"
   ]
  },
  {
   "cell_type": "code",
   "execution_count": 94,
   "id": "f8fe3e75-36d3-4818-a11e-7eee8c3452f4",
   "metadata": {},
   "outputs": [
    {
     "data": {
      "text/plain": [
       "',\\n            '"
      ]
     },
     "execution_count": 94,
     "metadata": {},
     "output_type": "execute_result"
    }
   ],
   "source": [
    "soup.find('a','sister').next_element.next_element"
   ]
  },
  {
   "cell_type": "code",
   "execution_count": 95,
   "id": "6023e4db-022b-4ebf-83af-79160f7ab93e",
   "metadata": {},
   "outputs": [
    {
     "data": {
      "text/plain": [
       "<b>The Dormouse's story</b>"
      ]
     },
     "execution_count": 95,
     "metadata": {},
     "output_type": "execute_result"
    }
   ],
   "source": [
    "soup.find('p').next_element"
   ]
  },
  {
   "cell_type": "code",
   "execution_count": 96,
   "id": "56abda93-b7a5-4edc-bccf-605dc83808c7",
   "metadata": {},
   "outputs": [
    {
     "data": {
      "text/plain": [
       "'\\n'"
      ]
     },
     "execution_count": 96,
     "metadata": {},
     "output_type": "execute_result"
    }
   ],
   "source": [
    "soup.find('ul').next_element"
   ]
  },
  {
   "cell_type": "code",
   "execution_count": 97,
   "id": "e9dd73b0-9fe8-4a96-a779-0a05b1e3d072",
   "metadata": {},
   "outputs": [
    {
     "data": {
      "text/plain": [
       "'\\n'"
      ]
     },
     "execution_count": 97,
     "metadata": {},
     "output_type": "execute_result"
    }
   ],
   "source": [
    "soup.find('p','story').previous_element"
   ]
  },
  {
   "cell_type": "code",
   "execution_count": 98,
   "id": "8377a6f3-c2d8-4d44-ac44-ed785d73901f",
   "metadata": {},
   "outputs": [
    {
     "data": {
      "text/plain": [
       "<p class=\"title\"><b>The Dormouse's story</b></p>"
      ]
     },
     "execution_count": 98,
     "metadata": {},
     "output_type": "execute_result"
    }
   ],
   "source": [
    "soup.find('b').previous_element"
   ]
  },
  {
   "cell_type": "code",
   "execution_count": 99,
   "id": "75f7d8fd-17b7-4214-91d1-f8b7363a35c3",
   "metadata": {},
   "outputs": [
    {
     "data": {
      "text/plain": [
       "'\\n'"
      ]
     },
     "execution_count": 99,
     "metadata": {},
     "output_type": "execute_result"
    }
   ],
   "source": [
    "soup.find('li',{'data-id':'45732'}).previous_element"
   ]
  },
  {
   "cell_type": "code",
   "execution_count": 100,
   "id": "17900826-b124-4c54-b695-8f68853b50e8",
   "metadata": {},
   "outputs": [
    {
     "data": {
      "text/plain": [
       "'Alex Trevelyan, 006: Agent turned terrorist leader; James\\' nemesis in \"Goldeneye\".'"
      ]
     },
     "execution_count": 100,
     "metadata": {},
     "output_type": "execute_result"
    }
   ],
   "source": [
    "soup.find('li',{'data-id':'45732'}).previous_element.previous_element"
   ]
  },
  {
   "cell_type": "code",
   "execution_count": 101,
   "id": "52450db0-ba15-4652-a08d-526e3df29dad",
   "metadata": {},
   "outputs": [
    {
     "data": {
      "text/plain": [
       "<li data-id=\"97865\">Alex Trevelyan, 006: Agent turned terrorist leader; James' nemesis in \"Goldeneye\".</li>"
      ]
     },
     "execution_count": 101,
     "metadata": {},
     "output_type": "execute_result"
    }
   ],
   "source": [
    "soup.find('li',{'data-id':'45732'}).previous_element.previous_element.previous_element"
   ]
  },
  {
   "cell_type": "markdown",
   "id": "d47d4fc3-e4c5-4c64-8257-05e702d5ba51",
   "metadata": {},
   "source": [
    "### Iterating"
   ]
  },
  {
   "cell_type": "code",
   "execution_count": 104,
   "id": "9ee94836-fbf4-4ab1-b748-668dbd8d30b8",
   "metadata": {},
   "outputs": [
    {
     "name": "stdout",
     "output_type": "stream",
     "text": [
      "li : 10784 : (53) - Jason Walters, 003: Found dead in \"A View to a Kill\".\n",
      "li : 97865 : (82) - Alex Trevelyan, 006: Agent turned terrorist leader; James' nemesis in \"Goldeneye\".\n",
      "li : 45732 : (54) - James Bond, 007: The main man; shaken but not stirred.\n"
     ]
    }
   ],
   "source": [
    "for li in soup.ul.find_all('li'):\n",
    "    text = li.get_text().strip()\n",
    "    print(f\"{li.name} : {li.get('data-id')} : ({len(text)}) - {text}\")"
   ]
  },
  {
   "cell_type": "code",
   "execution_count": 106,
   "id": "eedeb6d1-691a-4dfe-8f28-5c54c1560d19",
   "metadata": {},
   "outputs": [
    {
     "name": "stdout",
     "output_type": "stream",
     "text": [
      "\n",
      "\n",
      "<li data-id=\"10784\">Jason Walters, 003: Found dead in \"A View to a Kill\".</li>\n",
      "Jason Walters, 003: Found dead in \"A View to a Kill\".\n",
      "\n",
      "\n",
      "<li data-id=\"97865\">Alex Trevelyan, 006: Agent turned terrorist leader; James' nemesis in \"Goldeneye\".</li>\n",
      "Alex Trevelyan, 006: Agent turned terrorist leader; James' nemesis in \"Goldeneye\".\n",
      "\n",
      "\n",
      "<li data-id=\"45732\">James Bond, 007: The main man; shaken but not stirred.</li>\n",
      "James Bond, 007: The main man; shaken but not stirred.\n",
      "\n",
      "\n",
      "\n",
      "\n",
      "\n",
      "\n"
     ]
    }
   ],
   "source": [
    "for element in soup.find('ul').next_elements:\n",
    "    print(element)"
   ]
  },
  {
   "cell_type": "code",
   "execution_count": 29,
   "id": "4ddcfdfb-d529-42aa-a30c-aaba164c3caf",
   "metadata": {},
   "outputs": [
    {
     "data": {
      "text/plain": [
       "[{'tag': 'a', 'text': 'Elsie', 'class': ['sister']},\n",
       " {'tag': 'a', 'text': 'Lacie', 'class': ['sister']},\n",
       " {'tag': 'a', 'text': 'Tillie', 'class': ['sister']}]"
      ]
     },
     "execution_count": 29,
     "metadata": {},
     "output_type": "execute_result"
    }
   ],
   "source": [
    "[{'tag':a.name,'text':a.text,'class':a.get('class')} for a in soup.find('p','story').children if a.name!=None]"
   ]
  },
  {
   "cell_type": "code",
   "execution_count": 30,
   "id": "4e2a5b9d-9c51-4875-a079-548c687fdd25",
   "metadata": {},
   "outputs": [
    {
     "data": {
      "text/plain": [
       "['a', 'a', 'a']"
      ]
     },
     "execution_count": 30,
     "metadata": {},
     "output_type": "execute_result"
    }
   ],
   "source": [
    "list(filter(None,[a.name for a in soup.find('p','story').descendants]))"
   ]
  }
 ],
 "metadata": {
  "kernelspec": {
   "display_name": "Python 3 (ipykernel)",
   "language": "python",
   "name": "python3"
  },
  "language_info": {
   "codemirror_mode": {
    "name": "ipython",
    "version": 3
   },
   "file_extension": ".py",
   "mimetype": "text/x-python",
   "name": "python",
   "nbconvert_exporter": "python",
   "pygments_lexer": "ipython3",
   "version": "3.11.1"
  }
 },
 "nbformat": 4,
 "nbformat_minor": 5
}
