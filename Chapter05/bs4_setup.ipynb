{
 "cells": [
  {
   "cell_type": "code",
   "execution_count": 1,
   "id": "a5bcab5b-d731-411d-b46a-0212a82048e3",
   "metadata": {},
   "outputs": [],
   "source": [
    "import bs4"
   ]
  },
  {
   "cell_type": "code",
   "execution_count": 3,
   "id": "ee3d6abb-41fe-4fef-89bc-51372d8c6778",
   "metadata": {},
   "outputs": [
    {
     "data": {
      "text/plain": [
       "'4.11.1'"
      ]
     },
     "execution_count": 3,
     "metadata": {},
     "output_type": "execute_result"
    }
   ],
   "source": [
    "bs4.__version__"
   ]
  },
  {
   "cell_type": "code",
   "execution_count": 2,
   "id": "89d410bf-f8b2-4cc1-9e05-8e9ad5b31642",
   "metadata": {
    "scrolled": true,
    "tags": []
   },
   "outputs": [
    {
     "data": {
      "text/plain": [
       "['BeautifulSoup',\n",
       " 'BeautifulStoneSoup',\n",
       " 'CData',\n",
       " 'Comment',\n",
       " 'Counter',\n",
       " 'DEFAULT_OUTPUT_ENCODING',\n",
       " 'Declaration',\n",
       " 'Doctype',\n",
       " 'FeatureNotFound',\n",
       " 'GuessedAtParserWarning',\n",
       " 'MarkupResemblesLocatorWarning',\n",
       " 'NavigableString',\n",
       " 'PYTHON_SPECIFIC_ENCODINGS',\n",
       " 'PageElement',\n",
       " 'ParserRejectedMarkup',\n",
       " 'ProcessingInstruction',\n",
       " 'ResultSet',\n",
       " 'Script',\n",
       " 'SoupStrainer',\n",
       " 'StopParsing',\n",
       " 'Stylesheet',\n",
       " 'Tag',\n",
       " 'TemplateString',\n",
       " 'UnicodeDammit',\n",
       " 'XMLParsedAsHTMLWarning',\n",
       " '__all__',\n",
       " '__author__',\n",
       " '__builtins__',\n",
       " '__cached__',\n",
       " '__copyright__',\n",
       " '__doc__',\n",
       " '__file__',\n",
       " '__license__',\n",
       " '__loader__',\n",
       " '__name__',\n",
       " '__package__',\n",
       " '__path__',\n",
       " '__spec__',\n",
       " '__version__',\n",
       " '_s',\n",
       " '_soup',\n",
       " 'builder',\n",
       " 'builder_registry',\n",
       " 'dammit',\n",
       " 'element',\n",
       " 'formatter',\n",
       " 'os',\n",
       " 're',\n",
       " 'sys',\n",
       " 'traceback',\n",
       " 'warnings']"
      ]
     },
     "execution_count": 2,
     "metadata": {},
     "output_type": "execute_result"
    }
   ],
   "source": [
    "dir(bs4)"
   ]
  }
 ],
 "metadata": {
  "kernelspec": {
   "display_name": "Python 3 (ipykernel)",
   "language": "python",
   "name": "python3"
  },
  "language_info": {
   "codemirror_mode": {
    "name": "ipython",
    "version": 3
   },
   "file_extension": ".py",
   "mimetype": "text/x-python",
   "name": "python",
   "nbconvert_exporter": "python",
   "pygments_lexer": "ipython3",
   "version": "3.11.1"
  }
 },
 "nbformat": 4,
 "nbformat_minor": 5
}
