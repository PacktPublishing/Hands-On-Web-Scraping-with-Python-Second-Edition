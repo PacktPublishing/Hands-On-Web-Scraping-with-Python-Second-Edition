{
 "cells": [
  {
   "cell_type": "markdown",
   "id": "7f71a415-d134-4ece-bd9b-979966950ed7",
   "metadata": {},
   "source": [
    "## Parsing Test bs4"
   ]
  },
  {
   "cell_type": "code",
   "execution_count": 1,
   "id": "83d48054-23bd-477d-828c-bd5e30cab528",
   "metadata": {},
   "outputs": [],
   "source": [
    "from bs4 import BeautifulSoup as BSoup\n",
    "from bs4 import SoupStrainer"
   ]
  },
  {
   "cell_type": "code",
   "execution_count": 2,
   "id": "ed796715-4e89-423d-bbd8-7c6540cbf3b9",
   "metadata": {},
   "outputs": [],
   "source": [
    "markup = \"<a></p></a></p>\" "
   ]
  },
  {
   "cell_type": "code",
   "execution_count": 12,
   "id": "01bf1f5f-ff17-40bd-abb6-e7e801808bac",
   "metadata": {},
   "outputs": [
    {
     "data": {
      "text/plain": [
       "<html><body><a></a></body></html>"
      ]
     },
     "execution_count": 12,
     "metadata": {},
     "output_type": "execute_result"
    }
   ],
   "source": [
    "BSoup(markup)   # Default Parser"
   ]
  },
  {
   "cell_type": "code",
   "execution_count": 3,
   "id": "1da2af64-852f-444b-9e4a-007c5ec96fc2",
   "metadata": {},
   "outputs": [
    {
     "data": {
      "text/plain": [
       "<a></a>"
      ]
     },
     "execution_count": 3,
     "metadata": {},
     "output_type": "execute_result"
    }
   ],
   "source": [
    "BSoup(markup,\"html.parser\")"
   ]
  },
  {
   "cell_type": "code",
   "execution_count": 4,
   "id": "807a56f2-d82c-4a54-8c8a-289123a9931b",
   "metadata": {},
   "outputs": [
    {
     "data": {
      "text/plain": [
       "<html><body><a></a></body></html>"
      ]
     },
     "execution_count": 4,
     "metadata": {},
     "output_type": "execute_result"
    }
   ],
   "source": [
    "BSoup(markup,\"lxml\")"
   ]
  },
  {
   "cell_type": "code",
   "execution_count": 5,
   "id": "a2b681e2-7f4d-48c3-9ff7-c1d6929b9169",
   "metadata": {},
   "outputs": [
    {
     "data": {
      "text/plain": [
       "<?xml version=\"1.0\" encoding=\"utf-8\"?>\n",
       "<a/>"
      ]
     },
     "execution_count": 5,
     "metadata": {},
     "output_type": "execute_result"
    }
   ],
   "source": [
    "BSoup(markup,\"lxml-xml\")"
   ]
  },
  {
   "cell_type": "code",
   "execution_count": 6,
   "id": "9b4d4bf6-3225-459a-9e16-2019d80c4696",
   "metadata": {},
   "outputs": [
    {
     "data": {
      "text/plain": [
       "<?xml version=\"1.0\" encoding=\"utf-8\"?>\n",
       "<a/>"
      ]
     },
     "execution_count": 6,
     "metadata": {},
     "output_type": "execute_result"
    }
   ],
   "source": [
    "BSoup(markup,\"xml\")"
   ]
  },
  {
   "cell_type": "code",
   "execution_count": 7,
   "id": "1ab3e5a0-6b4e-47a5-a235-a18ef62abfa5",
   "metadata": {},
   "outputs": [
    {
     "data": {
      "text/plain": [
       "<html><head></head><body><a><p></p></a><p></p></body></html>"
      ]
     },
     "execution_count": 7,
     "metadata": {},
     "output_type": "execute_result"
    }
   ],
   "source": [
    "BSoup(markup,\"html5lib\")"
   ]
  },
  {
   "cell_type": "markdown",
   "id": "8c35a97b-c430-42cd-b8c9-a5f39f2231ee",
   "metadata": {},
   "source": [
    "### SoupStrainer : Targetting portion of document or section"
   ]
  },
  {
   "cell_type": "code",
   "execution_count": 14,
   "id": "53409758-e7cf-4b40-9d55-511a04226d70",
   "metadata": {},
   "outputs": [
    {
     "data": {
      "text/plain": [
       "<a></a>"
      ]
     },
     "execution_count": 14,
     "metadata": {},
     "output_type": "execute_result"
    }
   ],
   "source": [
    "BSoup(\"<p><a></img></a></p>\", 'lxml', parse_only=SoupStrainer(\"a\"))"
   ]
  },
  {
   "cell_type": "code",
   "execution_count": 10,
   "id": "6a2dd198-372d-43d4-a7a3-6487b8dc0145",
   "metadata": {},
   "outputs": [
    {
     "name": "stderr",
     "output_type": "stream",
     "text": [
      "C:\\HOWScraping2E\\secondEd\\Lib\\site-packages\\bs4\\builder\\_html5lib.py:84: UserWarning: You provided a value for parse_only, but the html5lib tree builder doesn't support parse_only. The entire document will be parsed.\n",
      "  warnings.warn(\"You provided a value for parse_only, but the html5lib tree builder doesn't support parse_only. The entire document will be parsed.\")\n"
     ]
    },
    {
     "data": {
      "text/plain": [
       "<html><head></head><body><p><a></a></p></body></html>"
      ]
     },
     "execution_count": 10,
     "metadata": {},
     "output_type": "execute_result"
    }
   ],
   "source": [
    "BSoup(\"<p><a></img></a></p>\", 'html5lib', parse_only=SoupStrainer(\"a\"))"
   ]
  },
  {
   "cell_type": "code",
   "execution_count": 11,
   "id": "d73f914b-3343-4ba6-9fbf-42e767557bf6",
   "metadata": {},
   "outputs": [
    {
     "data": {
      "text/plain": [
       "<a></a>"
      ]
     },
     "execution_count": 11,
     "metadata": {},
     "output_type": "execute_result"
    }
   ],
   "source": [
    "BSoup(\"<p><a></img></a></p>\", 'html.parser', parse_only=SoupStrainer(\"a\"))"
   ]
  }
 ],
 "metadata": {
  "kernelspec": {
   "display_name": "Python 3 (ipykernel)",
   "language": "python",
   "name": "python3"
  },
  "language_info": {
   "codemirror_mode": {
    "name": "ipython",
    "version": 3
   },
   "file_extension": ".py",
   "mimetype": "text/x-python",
   "name": "python",
   "nbconvert_exporter": "python",
   "pygments_lexer": "ipython3",
   "version": "3.11.1"
  }
 },
 "nbformat": 4,
 "nbformat_minor": 5
}
