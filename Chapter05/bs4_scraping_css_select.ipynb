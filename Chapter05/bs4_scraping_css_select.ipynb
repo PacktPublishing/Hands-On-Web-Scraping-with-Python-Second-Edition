{
 "cells": [
  {
   "cell_type": "markdown",
   "id": "69aad3f9-2b95-4384-94d5-d83258bdef60",
   "metadata": {},
   "source": [
    "## Scraping using bs4: CSS Selector"
   ]
  },
  {
   "cell_type": "markdown",
   "id": "16e399e0-5177-494d-b914-e33fdd5e546b",
   "metadata": {},
   "source": [
    "#### select() : Uses CSS selector and returns all the matching ones in [] (like find_all())\n",
    "#### select_one() : Uses CSS selector and returns single matching one (like find()). "
   ]
  },
  {
   "cell_type": "code",
   "execution_count": 15,
   "id": "0d09494a-fdd7-4cba-929d-35f7a74aae8d",
   "metadata": {},
   "outputs": [],
   "source": [
    "from bs4 import BeautifulSoup as BSoup\n",
    "import requests\n",
    "import csv\n",
    "import json\n",
    "url = \"http://quotes.toscrape.com/tag/hope/page/\"\n",
    "columns=['id','author','quote','tags','quote_length','born_date','born_location','author_url'] #Columns for CSV header"
   ]
  },
  {
   "cell_type": "code",
   "execution_count": 16,
   "id": "dab0e917-f117-4ba0-9e5a-c81c8740e58e",
   "metadata": {},
   "outputs": [],
   "source": [
    "authorSet=dict()\n",
    "dataSet=list()\n",
    "page=1\n",
    "nextPage=True\n",
    "uid=0"
   ]
  },
  {
   "cell_type": "code",
   "execution_count": 17,
   "id": "57eb6f8f-96e9-469d-b29a-06c6ac5baa48",
   "metadata": {},
   "outputs": [
    {
     "name": "stdout",
     "output_type": "stream",
     "text": [
      "http://quotes.toscrape.com/tag/hope/page/1\n",
      "Quotes to Scrape\n",
      "Processing 1 False\n",
      "/author/Martin-Luther-King-Jr\n",
      "Martin_Luther_King_Jr_\n",
      "http://quotes.toscrape.com/author/Martin-Luther-King-Jr\n",
      "/author/John-Lennon\n",
      "John_Lennon\n",
      "http://quotes.toscrape.com/author/John-Lennon\n"
     ]
    }
   ],
   "source": [
    "while (nextPage):\n",
    "    \n",
    "    print(url+str(page))\n",
    "    response = requests.get(url+str(page))\n",
    "    source = BSoup(response.content)    \n",
    "    print(source.select_one('title').get_text())\n",
    "    \n",
    "    if source.select_one('ul.pager li.next'):\n",
    "        txtNext = source.select_one('ul.pager li.next a').get_text()\n",
    "        print(f\"Processing {page} {nextPage} {txtNext}\") \n",
    "    else:\n",
    "        txtNext=None\n",
    "    \n",
    "    if txtNext and re.findall(r\".*(Next).*\",txtNext)[0]==\"Next\":    \n",
    "        nextPage=True\n",
    "    else:\n",
    "        nextPage=False\n",
    "        \n",
    "    print(f\"Processing {page} {nextPage}\") \n",
    "    \n",
    "    for quotes in source.select('div.quote'):\n",
    "        quote = quotes.select_one('[itemprop*=\"text\"]').get_text().strip()\n",
    "        author = quotes.select_one('.author').get_text().strip()\n",
    "        tags = quotes.select_one('[itemprop*=\"keywords\"]').get('content').strip()\n",
    "        authorUrl = quotes.select_one('[href*=\"/author/\"]').get('href')\n",
    "        \n",
    "        if authorUrl:\n",
    "            print(authorUrl)\n",
    "            authorKey = author.replace('.','_').replace(' ','_').strip()\n",
    "            print(authorKey)\n",
    "            \n",
    "        if authorUrl and authorKey not in authorSet.keys():\n",
    "            authorUrl = \"http://quotes.toscrape.com\"+authorUrl\n",
    "            print(authorUrl)\n",
    "            source_author = BSoup(requests.get(authorUrl).content)\n",
    "            bornDate = source_author.select_one('.author-born-date').get_text().strip()\n",
    "            bornLocation = source_author.select_one('.author-born-location').get_text().replace('in','').strip()\n",
    "            authorSet[authorKey]={'name':author,'url':authorUrl,'date':bornDate,'location':bornLocation}\n",
    "        else:\n",
    "            print(f\"Author ({authorKey}) details already found!\")\n",
    "            \n",
    "        uid+=1    \n",
    "        dataSet.append([uid,author,quote,tags.replace(',','|'),len(quote),\n",
    "                        authorSet[authorKey]['date'],\n",
    "                        authorSet[authorKey]['location'],\n",
    "                        authorSet[authorKey]['url']            \n",
    "        ]) \n",
    "    page+=1"
   ]
  },
  {
   "cell_type": "code",
   "execution_count": 18,
   "id": "036f126d-ffa8-4890-8e0d-5da30465bc61",
   "metadata": {},
   "outputs": [
    {
     "data": {
      "text/plain": [
       "{'Martin_Luther_King_Jr_': {'name': 'Martin Luther King Jr.',\n",
       "  'url': 'http://quotes.toscrape.com/author/Martin-Luther-King-Jr',\n",
       "  'date': 'January 15, 1929',\n",
       "  'location': 'Atlanta, Georgia, The United States'},\n",
       " 'John_Lennon': {'name': 'John Lennon',\n",
       "  'url': 'http://quotes.toscrape.com/author/John-Lennon',\n",
       "  'date': 'October 09, 1940',\n",
       "  'location': 'Liverpool, England, The United Kgdom'}}"
      ]
     },
     "execution_count": 18,
     "metadata": {},
     "output_type": "execute_result"
    }
   ],
   "source": [
    "authorSet"
   ]
  },
  {
   "cell_type": "code",
   "execution_count": 19,
   "id": "a0ed2e31-dae9-497f-a8dd-3d560a7d01e1",
   "metadata": {},
   "outputs": [
    {
     "data": {
      "text/plain": [
       "[[1,\n",
       "  'Martin Luther King Jr.',\n",
       "  '“Only in the darkness can you see the stars.”',\n",
       "  'hope|inspirational',\n",
       "  45,\n",
       "  'January 15, 1929',\n",
       "  'Atlanta, Georgia, The United States',\n",
       "  'http://quotes.toscrape.com/author/Martin-Luther-King-Jr'],\n",
       " [2,\n",
       "  'John Lennon',\n",
       "  \"“You may say I'm a dreamer, but I'm not the only one. I hope someday you'll join us. And the world will live as one.”\",\n",
       "  'beatles|connection|dreamers|dreaming|dreams|hope|inspirational|peace',\n",
       "  117,\n",
       "  'October 09, 1940',\n",
       "  'Liverpool, England, The United Kgdom',\n",
       "  'http://quotes.toscrape.com/author/John-Lennon']]"
      ]
     },
     "execution_count": 19,
     "metadata": {},
     "output_type": "execute_result"
    }
   ],
   "source": [
    "dataSet"
   ]
  },
  {
   "cell_type": "markdown",
   "id": "18a5c1a1-7a24-43db-9adc-619adb8a2cda",
   "metadata": {},
   "source": [
    "## Write to CSV"
   ]
  },
  {
   "cell_type": "code",
   "execution_count": 20,
   "id": "a407737c-75db-46ea-b9d4-4d37b5f692c0",
   "metadata": {},
   "outputs": [],
   "source": [
    "def writeto_csv(data,filename,columns):\n",
    "    with open(filename,'w+',newline='',encoding=\"UTF-8\") as file:\n",
    "        writer = csv.DictWriter(file, fieldnames=columns)\n",
    "        writer.writeheader()\n",
    "        writer = csv.writer(file)\n",
    "        for element in data:\n",
    "            writer.writerows([element])"
   ]
  },
  {
   "cell_type": "markdown",
   "id": "94006e1b-167d-4d40-a48c-d5b36a097a9a",
   "metadata": {},
   "source": [
    "### Create CSV file from dataSet"
   ]
  },
  {
   "cell_type": "code",
   "execution_count": 21,
   "id": "3151db04-5271-41ff-a330-d9fc692790e5",
   "metadata": {},
   "outputs": [],
   "source": [
    "writeto_csv(dataSet,'quotes_hope.csv',columns)"
   ]
  },
  {
   "cell_type": "markdown",
   "id": "f323ef34-0035-44f4-85da-16f2ff8d2e47",
   "metadata": {},
   "source": [
    "### Write to JSON - author"
   ]
  },
  {
   "cell_type": "code",
   "execution_count": 22,
   "id": "a045c684-70f4-44e0-aa21-541aa2832799",
   "metadata": {},
   "outputs": [],
   "source": [
    "with open(\"quotes_author_hope.json\", \"w\") as file:\n",
    "    json.dump(authorSet, file, indent=4, sort_keys=False)"
   ]
  },
  {
   "cell_type": "code",
   "execution_count": null,
   "id": "e8df4b48-5f18-43b3-8aeb-ff72ef67378c",
   "metadata": {},
   "outputs": [],
   "source": []
  }
 ],
 "metadata": {
  "kernelspec": {
   "display_name": "Python 3 (ipykernel)",
   "language": "python",
   "name": "python3"
  },
  "language_info": {
   "codemirror_mode": {
    "name": "ipython",
    "version": 3
   },
   "file_extension": ".py",
   "mimetype": "text/x-python",
   "name": "python",
   "nbconvert_exporter": "python",
   "pygments_lexer": "ipython3",
   "version": "3.11.1"
  }
 },
 "nbformat": 4,
 "nbformat_minor": 5
}
