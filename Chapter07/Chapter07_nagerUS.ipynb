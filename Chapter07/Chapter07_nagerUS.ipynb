{
 "cells": [
  {
   "cell_type": "markdown",
   "id": "a5915b88-9aed-41f9-a7b3-b6eeb45fedd7",
   "metadata": {},
   "source": [
    "### USA Public Holidays\n"
   ]
  },
  {
   "cell_type": "code",
   "execution_count": 19,
   "id": "42a02e91-4e6b-41ae-84b3-febdb357da36",
   "metadata": {},
   "outputs": [],
   "source": [
    "import requests\n",
    "import csv"
   ]
  },
  {
   "cell_type": "code",
   "execution_count": 5,
   "id": "62915c73-69cd-4343-84ba-674c1ff2f8eb",
   "metadata": {},
   "outputs": [],
   "source": [
    "apiUrl=\"https://date.nager.at/api/v3/PublicHolidays/2023/US\""
   ]
  },
  {
   "cell_type": "markdown",
   "id": "eb046573-9c23-48a0-8ad4-1729fceb254e",
   "metadata": {},
   "source": [
    "#### HTTP Request Headers (from Curl)"
   ]
  },
  {
   "cell_type": "code",
   "execution_count": 6,
   "id": "e54a4f2e-6423-4479-9968-a442d5ef3808",
   "metadata": {},
   "outputs": [],
   "source": [
    "headers={\n",
    "  'accept':'text/html,application/xhtml+xml,application/xml;q=0.9,image/avif,image/webp,image/apng,*/*;q=0.8,application/signed-exchange;v=b3;q=0.7',\n",
    "  'accept-language': 'en-US,en;q=0.9',\n",
    "  'cache-control':'max-age=0',\n",
    "  'upgrade-insecure-requests':'1',\n",
    "  'user-agent': 'Mozilla/5.0 (Windows NT 10.0; Win64; x64) AppleWebKit/537.36 (KHTML, like Gecko) Chrome/111.0.0.0 Safari/537.36'\n",
    "}"
   ]
  },
  {
   "cell_type": "code",
   "execution_count": 7,
   "id": "42de6b4d-36b2-46ac-a705-ea014d523494",
   "metadata": {},
   "outputs": [],
   "source": [
    "response = requests.get(apiUrl, headers=headers).json()"
   ]
  },
  {
   "cell_type": "code",
   "execution_count": 8,
   "id": "30d1034b-45db-4310-b6b3-d03f7bd39d00",
   "metadata": {},
   "outputs": [
    {
     "data": {
      "text/plain": [
       "[{'date': '2023-01-02',\n",
       "  'localName': \"New Year's Day\",\n",
       "  'name': \"New Year's Day\",\n",
       "  'countryCode': 'US',\n",
       "  'fixed': False,\n",
       "  'global': True,\n",
       "  'counties': None,\n",
       "  'launchYear': None,\n",
       "  'types': ['Public']},\n",
       " {'date': '2023-01-16',\n",
       "  'localName': 'Martin Luther King, Jr. Day',\n",
       "  'name': 'Martin Luther King, Jr. Day',\n",
       "  'countryCode': 'US',\n",
       "  'fixed': False,\n",
       "  'global': True,\n",
       "  'counties': None,\n",
       "  'launchYear': None,\n",
       "  'types': ['Public']},\n",
       " {'date': '2023-02-20',\n",
       "  'localName': 'Presidents Day',\n",
       "  'name': \"Washington's Birthday\",\n",
       "  'countryCode': 'US',\n",
       "  'fixed': False,\n",
       "  'global': True,\n",
       "  'counties': None,\n",
       "  'launchYear': None,\n",
       "  'types': ['Public']},\n",
       " {'date': '2023-04-07',\n",
       "  'localName': 'Good Friday',\n",
       "  'name': 'Good Friday',\n",
       "  'countryCode': 'US',\n",
       "  'fixed': False,\n",
       "  'global': False,\n",
       "  'counties': ['US-CT',\n",
       "   'US-DE',\n",
       "   'US-HI',\n",
       "   'US-IN',\n",
       "   'US-KY',\n",
       "   'US-LA',\n",
       "   'US-NC',\n",
       "   'US-ND',\n",
       "   'US-NJ',\n",
       "   'US-TN'],\n",
       "  'launchYear': None,\n",
       "  'types': ['Public']},\n",
       " {'date': '2023-04-07',\n",
       "  'localName': 'Good Friday',\n",
       "  'name': 'Good Friday',\n",
       "  'countryCode': 'US',\n",
       "  'fixed': False,\n",
       "  'global': False,\n",
       "  'counties': ['US-TX'],\n",
       "  'launchYear': None,\n",
       "  'types': ['Optional']},\n",
       " {'date': '2023-05-29',\n",
       "  'localName': 'Memorial Day',\n",
       "  'name': 'Memorial Day',\n",
       "  'countryCode': 'US',\n",
       "  'fixed': False,\n",
       "  'global': True,\n",
       "  'counties': None,\n",
       "  'launchYear': None,\n",
       "  'types': ['Public']},\n",
       " {'date': '2023-06-19',\n",
       "  'localName': 'Juneteenth',\n",
       "  'name': 'Juneteenth',\n",
       "  'countryCode': 'US',\n",
       "  'fixed': False,\n",
       "  'global': True,\n",
       "  'counties': None,\n",
       "  'launchYear': 2021,\n",
       "  'types': ['Public']},\n",
       " {'date': '2023-07-04',\n",
       "  'localName': 'Independence Day',\n",
       "  'name': 'Independence Day',\n",
       "  'countryCode': 'US',\n",
       "  'fixed': False,\n",
       "  'global': True,\n",
       "  'counties': None,\n",
       "  'launchYear': None,\n",
       "  'types': ['Public']},\n",
       " {'date': '2023-09-04',\n",
       "  'localName': 'Labor Day',\n",
       "  'name': 'Labour Day',\n",
       "  'countryCode': 'US',\n",
       "  'fixed': False,\n",
       "  'global': True,\n",
       "  'counties': None,\n",
       "  'launchYear': None,\n",
       "  'types': ['Public']},\n",
       " {'date': '2023-10-09',\n",
       "  'localName': 'Columbus Day',\n",
       "  'name': 'Columbus Day',\n",
       "  'countryCode': 'US',\n",
       "  'fixed': False,\n",
       "  'global': False,\n",
       "  'counties': ['US-AL',\n",
       "   'US-AZ',\n",
       "   'US-CO',\n",
       "   'US-CT',\n",
       "   'US-GA',\n",
       "   'US-ID',\n",
       "   'US-IL',\n",
       "   'US-IN',\n",
       "   'US-IA',\n",
       "   'US-KS',\n",
       "   'US-KY',\n",
       "   'US-LA',\n",
       "   'US-ME',\n",
       "   'US-MD',\n",
       "   'US-MA',\n",
       "   'US-MS',\n",
       "   'US-MO',\n",
       "   'US-MT',\n",
       "   'US-NE',\n",
       "   'US-NH',\n",
       "   'US-NJ',\n",
       "   'US-NM',\n",
       "   'US-NY',\n",
       "   'US-NC',\n",
       "   'US-OH',\n",
       "   'US-OK',\n",
       "   'US-PA',\n",
       "   'US-RI',\n",
       "   'US-SC',\n",
       "   'US-TN',\n",
       "   'US-UT',\n",
       "   'US-VA',\n",
       "   'US-WV'],\n",
       "  'launchYear': None,\n",
       "  'types': ['Public']},\n",
       " {'date': '2023-11-10',\n",
       "  'localName': 'Veterans Day',\n",
       "  'name': 'Veterans Day',\n",
       "  'countryCode': 'US',\n",
       "  'fixed': False,\n",
       "  'global': True,\n",
       "  'counties': None,\n",
       "  'launchYear': None,\n",
       "  'types': ['Public']},\n",
       " {'date': '2023-11-23',\n",
       "  'localName': 'Thanksgiving Day',\n",
       "  'name': 'Thanksgiving Day',\n",
       "  'countryCode': 'US',\n",
       "  'fixed': False,\n",
       "  'global': True,\n",
       "  'counties': None,\n",
       "  'launchYear': 1863,\n",
       "  'types': ['Public']},\n",
       " {'date': '2023-12-25',\n",
       "  'localName': 'Christmas Day',\n",
       "  'name': 'Christmas Day',\n",
       "  'countryCode': 'US',\n",
       "  'fixed': False,\n",
       "  'global': True,\n",
       "  'counties': None,\n",
       "  'launchYear': None,\n",
       "  'types': ['Public']}]"
      ]
     },
     "execution_count": 8,
     "metadata": {},
     "output_type": "execute_result"
    }
   ],
   "source": [
    "response"
   ]
  },
  {
   "cell_type": "code",
   "execution_count": 9,
   "id": "4af281b4-2307-490d-bc13-04d426a0c7da",
   "metadata": {},
   "outputs": [
    {
     "data": {
      "text/plain": [
       "13"
      ]
     },
     "execution_count": 9,
     "metadata": {},
     "output_type": "execute_result"
    }
   ],
   "source": [
    "len(response)"
   ]
  },
  {
   "cell_type": "markdown",
   "id": "c7cd8ccf-9fdc-402f-83a3-8b8cd77f0fd0",
   "metadata": {},
   "source": [
    "#### Collecting only field 'date' and 'name'"
   ]
  },
  {
   "cell_type": "code",
   "execution_count": 10,
   "id": "71a36412-6823-477d-ad75-ac5278ee0b72",
   "metadata": {},
   "outputs": [],
   "source": [
    "lists=[]"
   ]
  },
  {
   "cell_type": "code",
   "execution_count": 11,
   "id": "59332ea7-08f8-482c-acad-1674f2826d7d",
   "metadata": {},
   "outputs": [],
   "source": [
    "for holiday in response:\n",
    "    lists.append([holiday['date'],holiday['name']])"
   ]
  },
  {
   "cell_type": "code",
   "execution_count": 12,
   "id": "d9037bcd-1f72-4c39-ba54-33daa68002fc",
   "metadata": {},
   "outputs": [
    {
     "data": {
      "text/plain": [
       "[['2023-01-02', \"New Year's Day\"],\n",
       " ['2023-01-16', 'Martin Luther King, Jr. Day'],\n",
       " ['2023-02-20', \"Washington's Birthday\"],\n",
       " ['2023-04-07', 'Good Friday'],\n",
       " ['2023-04-07', 'Good Friday'],\n",
       " ['2023-05-29', 'Memorial Day'],\n",
       " ['2023-06-19', 'Juneteenth'],\n",
       " ['2023-07-04', 'Independence Day'],\n",
       " ['2023-09-04', 'Labour Day'],\n",
       " ['2023-10-09', 'Columbus Day'],\n",
       " ['2023-11-10', 'Veterans Day'],\n",
       " ['2023-11-23', 'Thanksgiving Day'],\n",
       " ['2023-12-25', 'Christmas Day']]"
      ]
     },
     "execution_count": 12,
     "metadata": {},
     "output_type": "execute_result"
    }
   ],
   "source": [
    "lists"
   ]
  },
  {
   "cell_type": "markdown",
   "id": "8b9a7228-e812-4001-aa30-657557815eec",
   "metadata": {},
   "source": [
    "#### Convert List(dataSet) to CSV"
   ]
  },
  {
   "cell_type": "code",
   "execution_count": 20,
   "id": "63b5a07d-67ef-44df-a92b-770a0332c2aa",
   "metadata": {},
   "outputs": [],
   "source": [
    "def writeto_csv(data,filename,columns):\n",
    "    with open(filename,'w+',newline='',encoding=\"UTF-8\") as file:\n",
    "        writer = csv.DictWriter(file,fieldnames=columns) #Column header\n",
    "        writer.writeheader()\n",
    "        writer = csv.writer(file)\n",
    "        for element in data:\n",
    "            writer.writerows([element])"
   ]
  },
  {
   "cell_type": "code",
   "execution_count": 21,
   "id": "a51f6900-526a-4009-91a5-8739f0e31267",
   "metadata": {},
   "outputs": [],
   "source": [
    "writeto_csv(lists,'holidays.csv',['Date','Name'])"
   ]
  },
  {
   "cell_type": "code",
   "execution_count": null,
   "id": "b368e9a1-c27f-456c-9095-63c3b83ad28c",
   "metadata": {},
   "outputs": [],
   "source": []
  }
 ],
 "metadata": {
  "kernelspec": {
   "display_name": "Python 3 (ipykernel)",
   "language": "python",
   "name": "python3"
  },
  "language_info": {
   "codemirror_mode": {
    "name": "ipython",
    "version": 3
   },
   "file_extension": ".py",
   "mimetype": "text/x-python",
   "name": "python",
   "nbconvert_exporter": "python",
   "pygments_lexer": "ipython3",
   "version": "3.11.1"
  }
 },
 "nbformat": 4,
 "nbformat_minor": 5
}
