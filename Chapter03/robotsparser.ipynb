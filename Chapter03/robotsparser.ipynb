{
 "cells": [
  {
   "cell_type": "markdown",
   "id": "8afe97d4-55d1-4597-82a5-dc668016b078",
   "metadata": {},
   "source": [
    "## Robots.txt Parser"
   ]
  },
  {
   "cell_type": "code",
   "execution_count": 1,
   "id": "9a4f02c4-21e9-40eb-933b-17f3399456b9",
   "metadata": {},
   "outputs": [],
   "source": [
    "import urllib.robotparser\n",
    "robot = urllib.robotparser.RobotFileParser()\n",
    "robot.set_url(\"https://www.python.org/robots.txt\")\n",
    "robot.read()"
   ]
  },
  {
   "cell_type": "code",
   "execution_count": 14,
   "id": "aec22267-c84f-4746-a8c7-8c331b4ae7dd",
   "metadata": {},
   "outputs": [
    {
     "data": {
      "text/plain": [
       "<urllib.robotparser.RobotFileParser at 0x26439d67a10>"
      ]
     },
     "execution_count": 14,
     "metadata": {},
     "output_type": "execute_result"
    }
   ],
   "source": [
    "robot"
   ]
  },
  {
   "cell_type": "markdown",
   "id": "f40bd66e-2a90-473e-aa46-9d871c6c3477",
   "metadata": {},
   "source": [
    "#### can_fetch(): True ALLOW"
   ]
  },
  {
   "cell_type": "code",
   "execution_count": 8,
   "id": "f8db99a5-9763-4db2-963a-e003ed9cae3e",
   "metadata": {},
   "outputs": [
    {
     "data": {
      "text/plain": [
       "True"
      ]
     },
     "execution_count": 8,
     "metadata": {},
     "output_type": "execute_result"
    }
   ],
   "source": [
    "robot.can_fetch('*','https://docs.python.org/3/library/urllib.robotparser.html')"
   ]
  },
  {
   "cell_type": "markdown",
   "id": "57517e0a-a911-4a46-acf1-8db989860dd5",
   "metadata": {},
   "source": [
    "#### can_fetch(): False DISALLOW"
   ]
  },
  {
   "cell_type": "code",
   "execution_count": 9,
   "id": "17cbb12e-629e-467b-a131-cfa1fb045adc",
   "metadata": {},
   "outputs": [
    {
     "data": {
      "text/plain": [
       "False"
      ]
     },
     "execution_count": 9,
     "metadata": {},
     "output_type": "execute_result"
    }
   ],
   "source": [
    "robot.can_fetch('Nutch','https://docs.python.org/3/library/urllib.robotparser.html')"
   ]
  },
  {
   "cell_type": "markdown",
   "id": "1649912b-8b9d-4685-9b7c-02e4512a5709",
   "metadata": {},
   "source": [
    "#### site_maps() : Available?"
   ]
  },
  {
   "cell_type": "code",
   "execution_count": 12,
   "id": "ea581a6f-72d0-4038-a7e6-93afaed2e6af",
   "metadata": {},
   "outputs": [],
   "source": [
    "robot.site_maps()"
   ]
  }
 ],
 "metadata": {
  "kernelspec": {
   "display_name": "Python 3 (ipykernel)",
   "language": "python",
   "name": "python3"
  },
  "language_info": {
   "codemirror_mode": {
    "name": "ipython",
    "version": 3
   },
   "file_extension": ".py",
   "mimetype": "text/x-python",
   "name": "python",
   "nbconvert_exporter": "python",
   "pygments_lexer": "ipython3",
   "version": "3.11.1"
  }
 },
 "nbformat": 4,
 "nbformat_minor": 5
}
