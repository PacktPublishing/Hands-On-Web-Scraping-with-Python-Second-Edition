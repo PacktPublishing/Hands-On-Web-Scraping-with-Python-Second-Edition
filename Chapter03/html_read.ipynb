{
 "cells": [
  {
   "cell_type": "markdown",
   "id": "d9c23828-2b27-4202-aa93-27ca8f89dc81",
   "metadata": {},
   "source": [
    "## Reading'http://httpbin.org/forms/post' using lxml.html"
   ]
  },
  {
   "cell_type": "code",
   "execution_count": 24,
   "id": "22816a0b-fa8c-434c-b4c4-df2c4178d5fc",
   "metadata": {},
   "outputs": [],
   "source": [
    "from lxml import html\n",
    "from urllib.request import urlopen #loading URL\n",
    "url='http://httpbin.org/forms/post'"
   ]
  },
  {
   "cell_type": "markdown",
   "id": "f18b9df9-975f-415a-b4cb-db4b695efe79",
   "metadata": {
    "tags": []
   },
   "source": [
    "#### Read HTML from URL and parse"
   ]
  },
  {
   "cell_type": "code",
   "execution_count": 98,
   "id": "4464c0be-6b7c-466c-915b-113972f0ae44",
   "metadata": {},
   "outputs": [
    {
     "data": {
      "text/plain": [
       "lxml.etree._ElementTree"
      ]
     },
     "execution_count": 98,
     "metadata": {},
     "output_type": "execute_result"
    }
   ],
   "source": [
    "tree = html.parse(urlopen(url)) #load URL using urlopen and parse \n",
    "type(tree)"
   ]
  },
  {
   "cell_type": "code",
   "execution_count": 97,
   "id": "01cebeb5-2bc5-4256-9b37-d5a0444c9dc5",
   "metadata": {
    "tags": []
   },
   "outputs": [
    {
     "data": {
      "text/plain": [
       "lxml.html.HtmlElement"
      ]
     },
     "execution_count": 97,
     "metadata": {},
     "output_type": "execute_result"
    }
   ],
   "source": [
    "root = tree.getroot() #returns the document root node <html>\n",
    "type(root)"
   ]
  },
  {
   "cell_type": "markdown",
   "id": "bca2a460-261c-4bbb-8d3a-63fb0d9882d0",
   "metadata": {
    "tags": []
   },
   "source": [
    "#### Iterating among tree elements"
   ]
  },
  {
   "cell_type": "code",
   "execution_count": 95,
   "id": "376e2c1a-e913-4caf-9ef8-5627f620deaf",
   "metadata": {
    "scrolled": true,
    "tags": []
   },
   "outputs": [
    {
     "name": "stdout",
     "output_type": "stream",
     "text": [
      "html :parent\n",
      "--head : \n",
      "  \n",
      "body :parent\n",
      "--<cyfunction Comment at 0x00000198C3C3B370> :  Example form from HTML5 spec http://www.w3.org/TR/html5/forms.html#writing-a-form's-user-interface \n",
      "form :parent\n",
      "p :parent\n",
      "label :parent\n",
      "--input : None\n",
      "p :parent\n",
      "label :parent\n",
      "--input : None\n",
      "p :parent\n",
      "label :parent\n",
      "--input : None\n",
      "fieldset :parent\n",
      "--legend :  Pizza Size \n",
      "p :parent\n",
      "label :parent\n",
      "--input : None\n",
      "p :parent\n",
      "label :parent\n",
      "--input : None\n",
      "p :parent\n",
      "label :parent\n",
      "--input : None\n",
      "fieldset :parent\n",
      "--legend :  Pizza Toppings \n",
      "p :parent\n",
      "label :parent\n",
      "--input : None\n",
      "p :parent\n",
      "label :parent\n",
      "--input : None\n",
      "p :parent\n",
      "label :parent\n",
      "--input : None\n",
      "p :parent\n",
      "label :parent\n",
      "--input : None\n",
      "p :parent\n",
      "label :parent\n",
      "--input : None\n",
      "p :parent\n",
      "label :parent\n",
      "--textarea : None\n",
      "p :parent\n",
      "--button : Submit order\n"
     ]
    }
   ],
   "source": [
    "for element in tree.iter():\n",
    "    if len(element):                    #checks if element has childrens or not\n",
    "        print(f\"{element.tag} :parent\")\n",
    "    else:\n",
    "        print(f\"--{element.tag} : {element.text}\") #returns tag name and text"
   ]
  },
  {
   "cell_type": "code",
   "execution_count": 96,
   "id": "a60cb7e2-fe21-45ee-9550-bec4accbe1a9",
   "metadata": {
    "scrolled": true,
    "tags": []
   },
   "outputs": [
    {
     "name": "stdout",
     "output_type": "stream",
     "text": [
      "html - \n",
      "  \n",
      "head - \n",
      "  \n",
      "body - \n",
      "  \n",
      "<cyfunction Comment at 0x00000198C3C3B370> -  Example form from HTML5 spec http://www.w3.org/TR/html5/forms.html#writing-a-form's-user-interface \n",
      "form - \n",
      "   \n",
      "p - None\n",
      "label - Customer name: \n",
      "input - None\n",
      "p - None\n",
      "label - Telephone: \n",
      "input - None\n",
      "p - None\n",
      "label - E-mail address: \n",
      "input - None\n",
      "fieldset - \n",
      "    \n",
      "legend -  Pizza Size \n",
      "p - None\n",
      "label -  \n",
      "input - None\n",
      "p - None\n",
      "label -  \n",
      "input - None\n",
      "p - None\n",
      "label -  \n",
      "input - None\n",
      "fieldset - \n",
      "    \n",
      "legend -  Pizza Toppings \n",
      "p - None\n",
      "label -  \n",
      "input - None\n",
      "p - None\n",
      "label -  \n",
      "input - None\n",
      "p - None\n",
      "label -  \n",
      "input - None\n",
      "p - None\n",
      "label -  \n",
      "input - None\n",
      "p - None\n",
      "label - Preferred delivery time: \n",
      "input - None\n",
      "p - None\n",
      "label - Delivery instructions: \n",
      "textarea - None\n",
      "p - None\n",
      "button - Submit order\n"
     ]
    }
   ],
   "source": [
    "for element in root.iter(): #iteration with all elements\n",
    "    print(f\"{element.tag} - {element.text}\")"
   ]
  },
  {
   "cell_type": "markdown",
   "id": "2e84531f-404c-489b-a893-288b9110ef53",
   "metadata": {},
   "source": [
    "#### Iterating among selected nodes in tree"
   ]
  },
  {
   "cell_type": "code",
   "execution_count": 11,
   "id": "1ea81e9a-b4ef-4ff8-9057-eae62ac8eb5e",
   "metadata": {
    "scrolled": true,
    "tags": []
   },
   "outputs": [
    {
     "name": "stdout",
     "output_type": "stream",
     "text": [
      "p - None\n",
      "p - None\n",
      "p - None\n",
      "p - None\n",
      "p - None\n",
      "p - None\n",
      "p - None\n",
      "p - None\n",
      "p - None\n",
      "p - None\n",
      "p - None\n",
      "p - None\n",
      "p - None\n",
      "button - Submit order\n"
     ]
    }
   ],
   "source": [
    "for element in tree.iter('p','button'):\n",
    "    print(f\"{element.tag} - {element.text}\")"
   ]
  },
  {
   "cell_type": "markdown",
   "id": "b62ceebc-a883-410a-b02b-1dc03aa7e99a",
   "metadata": {},
   "source": [
    "#### Finding HTML Elements using find()"
   ]
  },
  {
   "cell_type": "code",
   "execution_count": 104,
   "id": "75b37fc3-6a99-4329-bda6-a35ffd90ebd8",
   "metadata": {},
   "outputs": [
    {
     "data": {
      "text/plain": [
       "'Customer name: '"
      ]
     },
     "execution_count": 104,
     "metadata": {},
     "output_type": "execute_result"
    }
   ],
   "source": [
    "tagP = root.find('.//p')                               #print(tagP)\n",
    "tagP.text_content()"
   ]
  },
  {
   "cell_type": "code",
   "execution_count": 105,
   "id": "82a7e06f-1a34-40d9-a576-ced4b163547a",
   "metadata": {},
   "outputs": [
    {
     "name": "stdout",
     "output_type": "stream",
     "text": [
      "Customer name: \n"
     ]
    }
   ],
   "source": [
    "tagP1 = root.findtext('.//p/')\n",
    "print(tagP1)"
   ]
  },
  {
   "cell_type": "markdown",
   "id": "60ddee61-6240-4de5-86bb-05fac4f5fbaa",
   "metadata": {},
   "source": [
    "#### Iterating through all <<u>p</u>>"
   ]
  },
  {
   "cell_type": "code",
   "execution_count": 33,
   "id": "a51d5bb9-3583-4632-89c1-ff4d217eda00",
   "metadata": {
    "scrolled": true,
    "tags": []
   },
   "outputs": [
    {
     "name": "stdout",
     "output_type": "stream",
     "text": [
      "Customer name: \n",
      "Telephone: \n",
      "E-mail address: \n",
      "  Small \n",
      "  Medium \n",
      "  Large \n",
      "  Bacon \n",
      "  Extra Cheese \n",
      "  Onion \n",
      "  Mushroom \n",
      "Preferred delivery time: \n",
      "Delivery instructions: \n",
      "Submit order\n"
     ]
    }
   ],
   "source": [
    "for pTag in root.findall('.//p/'):\n",
    "    print(pTag.text_content())"
   ]
  },
  {
   "cell_type": "markdown",
   "id": "99c08061-ee07-457d-a1e0-02f8fedc8933",
   "metadata": {},
   "source": [
    "#### Using xpath and cssselect (translates CSS selectors to XPath)"
   ]
  },
  {
   "cell_type": "code",
   "execution_count": 115,
   "id": "51caca55-878e-4636-9eb0-dd4c1b3c690c",
   "metadata": {},
   "outputs": [
    {
     "name": "stdout",
     "output_type": "stream",
     "text": [
      "['small', 'medium', 'large', 'bacon', 'cheese', 'onion', 'mushroom']\n",
      "[' Pizza Size ', ' Pizza Toppings ']\n",
      "['Customer name:', 'Telephone:', 'E-mail address:', 'Preferred delivery time:', 'Delivery instructions:', 'Submit order']\n"
     ]
    }
   ],
   "source": [
    "print(root.xpath('//p/label/input/@value')) #attribute value\n",
    "print(root.xpath('//legend/text()'))\n",
    "\n",
    "print([formP.text_content().strip() for formP in root.xpath('//form/p')])"
   ]
  },
  {
   "cell_type": "code",
   "execution_count": 116,
   "id": "eb37d870-b507-4d77-9715-51f60ce0ea74",
   "metadata": {},
   "outputs": [
    {
     "name": "stdout",
     "output_type": "stream",
     "text": [
      "['small', 'medium', 'large', 'bacon', 'cheese', 'onion', 'mushroom']\n",
      "[' Pizza Size ', ' Pizza Toppings ']\n",
      "['Customer name:', 'Telephone:', 'E-mail address:', 'Preferred delivery time:', 'Delivery instructions:', 'Submit order']\n"
     ]
    }
   ],
   "source": [
    "print([e.get('value') for e in root.cssselect('p label input[value]')]) #attribute value\n",
    "print([l.text_content() for l in root.cssselect('legend')])\n",
    "\n",
    "print([p.text_content().strip() for p in root.cssselect('form > p')])"
   ]
  },
  {
   "cell_type": "markdown",
   "id": "7c0d64eb-c40c-4eb5-9b1d-ca89ed238323",
   "metadata": {},
   "source": [
    "#### Exploring <<u>form</u>> Elements"
   ]
  },
  {
   "cell_type": "code",
   "execution_count": 107,
   "id": "f1512c15-89b4-43bf-9698-28f9777434d2",
   "metadata": {},
   "outputs": [
    {
     "name": "stdout",
     "output_type": "stream",
     "text": [
      "[<Element form at 0x198c4732670>]\n"
     ]
    }
   ],
   "source": [
    "print(root.forms)                  #there's a single <form> Element available"
   ]
  },
  {
   "cell_type": "code",
   "execution_count": 110,
   "id": "7d85915f-0f77-4478-a42a-8d46b9b0c7f6",
   "metadata": {},
   "outputs": [
    {
     "name": "stdout",
     "output_type": "stream",
     "text": [
      "[('method', 'post'), ('action', '/post')]\n",
      "['method', 'action']\n"
     ]
    }
   ],
   "source": [
    "print(root.forms[0].items())\n",
    "print(root.forms[0].keys())"
   ]
  },
  {
   "cell_type": "code",
   "execution_count": 112,
   "id": "3163906b-c0f2-4dda-9568-08ce584e2df8",
   "metadata": {},
   "outputs": [
    {
     "name": "stdout",
     "output_type": "stream",
     "text": [
      "POST\n",
      "http://httpbin.org/post\n"
     ]
    }
   ],
   "source": [
    "print(root.forms[0].method)\n",
    "print(root.forms[0].action)"
   ]
  },
  {
   "cell_type": "code",
   "execution_count": null,
   "id": "cfb339b2-4d24-4357-ad25-916a898bfafc",
   "metadata": {},
   "outputs": [],
   "source": []
  }
 ],
 "metadata": {
  "kernelspec": {
   "display_name": "Python 3 (ipykernel)",
   "language": "python",
   "name": "python3"
  },
  "language_info": {
   "codemirror_mode": {
    "name": "ipython",
    "version": 3
   },
   "file_extension": ".py",
   "mimetype": "text/x-python",
   "name": "python",
   "nbconvert_exporter": "python",
   "pygments_lexer": "ipython3",
   "version": "3.11.1"
  }
 },
 "nbformat": 4,
 "nbformat_minor": 5
}
