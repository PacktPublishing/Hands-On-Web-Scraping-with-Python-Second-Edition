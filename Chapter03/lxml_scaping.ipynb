{
 "cells": [
  {
   "cell_type": "markdown",
   "id": "ec3a4073-8a04-46ff-9734-f9a080872a60",
   "metadata": {},
   "source": [
    "## LXML scraping"
   ]
  },
  {
   "cell_type": "code",
   "execution_count": 186,
   "id": "b711bd3e-174a-459a-b80d-d79f2f035c0b",
   "metadata": {},
   "outputs": [],
   "source": [
    "import lxml.html as web\n",
    "from lxml.etree import XPath\n",
    "import math\n",
    "import csv"
   ]
  },
  {
   "cell_type": "markdown",
   "id": "923ba7cd-dab3-49c0-9868-7241593a164d",
   "metadata": {},
   "source": [
    "#### URLs and Columns"
   ]
  },
  {
   "cell_type": "code",
   "execution_count": 187,
   "id": "aa1efae9-85c9-4e25-8cd1-1ed3be1954ba",
   "metadata": {},
   "outputs": [],
   "source": [
    "baseUrl=\"http://books.toscrape.com/\"\n",
    "bookUrl=baseUrl+\"catalogue/category/books/childrens_11/index.html\"\n",
    "pageUrl=baseUrl+\"catalogue/category/books/childrens_11/page-\" #page-1,page-2 found\n",
    "columns=['title','price','stock','imageUrl','rating','url'] #for CSV header"
   ]
  },
  {
   "cell_type": "markdown",
   "id": "b64dc257-3b5f-4f67-9bcc-7a471ac26447",
   "metadata": {},
   "source": [
    "#### Empty dataSet and default page values"
   ]
  },
  {
   "cell_type": "code",
   "execution_count": 188,
   "id": "1ef9b92b-896b-471d-8b2b-19d51fb1aacc",
   "metadata": {},
   "outputs": [],
   "source": [
    "dataSet=[]\n",
    "page=1\n",
    "totalPages=1"
   ]
  },
  {
   "cell_type": "markdown",
   "id": "462052a4-90ca-47b4-aeb9-4a62dca8dd9c",
   "metadata": {},
   "source": [
    "#### Save dataSet to CSV file"
   ]
  },
  {
   "cell_type": "code",
   "execution_count": 189,
   "id": "a8776a8f-9f8c-4b7e-84c9-b2e4affd492b",
   "metadata": {},
   "outputs": [],
   "source": [
    "def writeto_csv(data,filename,columns):\n",
    "    with open(filename,'w+',newline='',encoding=\"UTF-8\") as file:\n",
    "        writer = csv.DictWriter(file,fieldnames=columns)\n",
    "        writer.writeheader()\n",
    "        writer = csv.writer(file)\n",
    "        for element in data:\n",
    "            writer.writerows([element])"
   ]
  },
  {
   "cell_type": "markdown",
   "id": "f31c2127-6c91-4fc4-8183-a79ec9c27816",
   "metadata": {
    "tags": []
   },
   "source": [
    "#### Loop through pages"
   ]
  },
  {
   "cell_type": "code",
   "execution_count": 190,
   "id": "3df3be89-d206-4c6b-9d82-acc6d921e66a",
   "metadata": {},
   "outputs": [
    {
     "name": "stdout",
     "output_type": "stream",
     "text": [
      "TotalPages found: 2\n",
      "Processing Page 1 from  2\n",
      "Rows in Dataset:  20\n",
      "Processing Page 2 from  2\n",
      "Rows in Dataset:  29\n"
     ]
    }
   ],
   "source": [
    "while page<=totalPages:\n",
    "    source = web.parse(pageUrl+str(page)+\".html\").getroot() #read and parse\n",
    "    if page==1: #pagination\n",
    "        perpageArticles = source.xpath(\"//form[@class=\\\"form-horizontal\\\"]/strong[3]/text()\") #20\n",
    "        totalArticles = source.xpath(\"//form[@class=\\\"form-horizontal\\\"]/strong[1]/text()\")   #29     \n",
    "        totalPages = math.ceil(int(totalArticles[0])/int(perpageArticles[0])) #1.45 ceil up\n",
    "        print(\"TotalPages found:\",totalPages)\n",
    "    print(\"Processing Page \"+str(page)+\" from \",totalPages)\n",
    "    \n",
    "    #individual path for chosen elements\n",
    "    articles = XPath(\"//ol[contains(@class,'row')]/li[position()>0]\") #block\n",
    "    titlePath = XPath(\".//article[contains(@class,'product_pod')]/h3/a/@title\")\n",
    "    linkPath = XPath(\".//article[contains(@class,'product_pod')]/h3/a/@href\")\n",
    "    pricePath = XPath(\".//article/div[2]/p[contains(@class,'price_color')]/text()\") \n",
    "    stockPath = XPath(\".//article/div[2]/p[contains(@class,'availability')]/text()[normalize-space()]\") \n",
    "    imagePath = XPath(\".//article/div[1][contains(@class,'image_container')]/a/img/@src\")\n",
    "    ratingPath = XPath(\".//article/p[contains(@class,'star-rating')]/@class\")\n",
    "    \n",
    "    #iterate through all articles and individual element path\n",
    "    for row in articles(source):\n",
    "        title = titlePath(row)[0].strip()\n",
    "        link = linkPath(row)[0].replace('../../../',baseUrl+'catalogue/').strip()\n",
    "        price = pricePath(row)[0]\n",
    "        availability = stockPath(row)[0].strip()\n",
    "        image = imagePath(row)[0].replace('../../../../',baseUrl).strip()\n",
    "        rating = ratingPath(row)[0].replace('star-rating','').strip()\n",
    "        \n",
    "        #if title is not missing, add to dataSet\n",
    "        if len(title)>0:\n",
    "             dataSet.append([title,price,availability,image,rating,link])\n",
    "                \n",
    "    print(\"Rows in Dataset: \",len(dataSet))\n",
    "    page+=1 #increment page for loop"
   ]
  },
  {
   "cell_type": "code",
   "execution_count": 191,
   "id": "3830ca8b-8765-4d26-bf85-45a8d87d870d",
   "metadata": {},
   "outputs": [
    {
     "data": {
      "text/plain": [
       "29"
      ]
     },
     "execution_count": 191,
     "metadata": {},
     "output_type": "execute_result"
    }
   ],
   "source": [
    "len(dataSet) #total length of elements"
   ]
  },
  {
   "cell_type": "code",
   "execution_count": 192,
   "id": "296e2436-a023-49bd-bd57-068509426a71",
   "metadata": {},
   "outputs": [
    {
     "data": {
      "text/plain": [
       "[['Birdsong: A Story in Pictures',\n",
       "  '£54.64',\n",
       "  'In stock',\n",
       "  'http://books.toscrape.com/media/cache/af/6e/af6e796160fe63e0cf19d44395c7ddf2.jpg',\n",
       "  'Three',\n",
       "  'http://books.toscrape.com/catalogue/birdsong-a-story-in-pictures_975/index.html'],\n",
       " ['The Bear and the Piano',\n",
       "  '£36.89',\n",
       "  'In stock',\n",
       "  'http://books.toscrape.com/media/cache/cf/bb/cfbb5e62715c6d888fd07794c9bab5d6.jpg',\n",
       "  'One',\n",
       "  'http://books.toscrape.com/catalogue/the-bear-and-the-piano_967/index.html'],\n",
       " ['The Secret of Dreadwillow Carse',\n",
       "  '£56.13',\n",
       "  'In stock',\n",
       "  'http://books.toscrape.com/media/cache/c4/a2/c4a2a1a026c67bcceb5a411c724d7d0c.jpg',\n",
       "  'One',\n",
       "  'http://books.toscrape.com/catalogue/the-secret-of-dreadwillow-carse_944/index.html'],\n",
       " ['The White Cat and the Monk: A Retelling of the Poem “Pangur Bán”',\n",
       "  '£58.08',\n",
       "  'In stock',\n",
       "  'http://books.toscrape.com/media/cache/26/32/2632a1e12f2c085fabbe022ae4cd6933.jpg',\n",
       "  'Four',\n",
       "  'http://books.toscrape.com/catalogue/the-white-cat-and-the-monk-a-retelling-of-the-poem-pangur-ban_865/index.html'],\n",
       " ['Little Red',\n",
       "  '£13.47',\n",
       "  'In stock',\n",
       "  'http://books.toscrape.com/media/cache/80/25/8025b80a40178f2a6dd4f99ad88e0fba.jpg',\n",
       "  'Three',\n",
       "  'http://books.toscrape.com/catalogue/little-red_817/index.html'],\n",
       " [\"Walt Disney's Alice in Wonderland\",\n",
       "  '£12.96',\n",
       "  'In stock',\n",
       "  'http://books.toscrape.com/media/cache/28/50/2850439c2ba103fb69dba9cd2dd9f0c2.jpg',\n",
       "  'Five',\n",
       "  'http://books.toscrape.com/catalogue/walt-disneys-alice-in-wonderland_777/index.html'],\n",
       " ['Twenty Yawns',\n",
       "  '£22.08',\n",
       "  'In stock',\n",
       "  'http://books.toscrape.com/media/cache/2b/38/2b380f77723c797c0389f978afa6db58.jpg',\n",
       "  'Two',\n",
       "  'http://books.toscrape.com/catalogue/twenty-yawns_773/index.html'],\n",
       " ['Rain Fish',\n",
       "  '£23.57',\n",
       "  'In stock',\n",
       "  'http://books.toscrape.com/media/cache/bb/e2/bbe26db72b8a32117bfe4981b7cc8147.jpg',\n",
       "  'Three',\n",
       "  'http://books.toscrape.com/catalogue/rain-fish_728/index.html'],\n",
       " ['Once Was a Time',\n",
       "  '£18.28',\n",
       "  'In stock',\n",
       "  'http://books.toscrape.com/media/cache/97/12/971212afa8e4ff49d92f678bc889d8b7.jpg',\n",
       "  'Two',\n",
       "  'http://books.toscrape.com/catalogue/once-was-a-time_724/index.html'],\n",
       " ['Luis Paints the World',\n",
       "  '£53.95',\n",
       "  'In stock',\n",
       "  'http://books.toscrape.com/media/cache/85/e7/85e75d5a9309da5807c82decf3d90263.jpg',\n",
       "  'Three',\n",
       "  'http://books.toscrape.com/catalogue/luis-paints-the-world_714/index.html'],\n",
       " ['Nap-a-Roo',\n",
       "  '£25.08',\n",
       "  'In stock',\n",
       "  'http://books.toscrape.com/media/cache/27/1f/271faa1d7561473974d12803feb1f0a1.jpg',\n",
       "  'One',\n",
       "  'http://books.toscrape.com/catalogue/nap-a-roo_567/index.html'],\n",
       " ['The Whale',\n",
       "  '£35.96',\n",
       "  'In stock',\n",
       "  'http://books.toscrape.com/media/cache/6c/18/6c18ea03e294bfcfe07cf531c6c5f5b3.jpg',\n",
       "  'Four',\n",
       "  'http://books.toscrape.com/catalogue/the-whale_501/index.html'],\n",
       " ['Shrunken Treasures: Literary Classics, Short, Sweet, and Silly',\n",
       "  '£52.87',\n",
       "  'In stock',\n",
       "  'http://books.toscrape.com/media/cache/4f/1e/4f1ece2500f8dbacecca42d57befca03.jpg',\n",
       "  'Three',\n",
       "  'http://books.toscrape.com/catalogue/shrunken-treasures-literary-classics-short-sweet-and-silly_484/index.html'],\n",
       " ['Raymie Nightingale',\n",
       "  '£34.41',\n",
       "  'In stock',\n",
       "  'http://books.toscrape.com/media/cache/8f/66/8f66ec46e671d6fca79649c10c7c8f8a.jpg',\n",
       "  'Two',\n",
       "  'http://books.toscrape.com/catalogue/raymie-nightingale_482/index.html'],\n",
       " ['Playing from the Heart',\n",
       "  '£32.38',\n",
       "  'In stock',\n",
       "  'http://books.toscrape.com/media/cache/1c/eb/1cebdf525ebe970a1dc3c5a8c50eae6b.jpg',\n",
       "  'One',\n",
       "  'http://books.toscrape.com/catalogue/playing-from-the-heart_481/index.html'],\n",
       " ['Maybe Something Beautiful: How Art Transformed a Neighborhood',\n",
       "  '£22.54',\n",
       "  'In stock',\n",
       "  'http://books.toscrape.com/media/cache/c0/bb/c0bb6e42743b9c1aaf9b754501100a5d.jpg',\n",
       "  'One',\n",
       "  'http://books.toscrape.com/catalogue/maybe-something-beautiful-how-art-transformed-a-neighborhood_386/index.html'],\n",
       " ['The Wild Robot',\n",
       "  '£56.07',\n",
       "  'In stock',\n",
       "  'http://books.toscrape.com/media/cache/bf/db/bfdbf9726621276fc7821d705690dbae.jpg',\n",
       "  'Three',\n",
       "  'http://books.toscrape.com/catalogue/the-wild-robot_288/index.html'],\n",
       " ['The Thing About Jellyfish',\n",
       "  '£48.77',\n",
       "  'In stock',\n",
       "  'http://books.toscrape.com/media/cache/e0/90/e090748ce5a567207aed9185c97eb34b.jpg',\n",
       "  'One',\n",
       "  'http://books.toscrape.com/catalogue/the-thing-about-jellyfish_283/index.html'],\n",
       " ['The Lonely Ones',\n",
       "  '£43.59',\n",
       "  'In stock',\n",
       "  'http://books.toscrape.com/media/cache/21/bd/21bdf7ae21476b1debf4aa3eefe6f29d.jpg',\n",
       "  'Five',\n",
       "  'http://books.toscrape.com/catalogue/the-lonely-ones_261/index.html'],\n",
       " ['The Day the Crayons Came Home (Crayons)',\n",
       "  '£26.33',\n",
       "  'In stock',\n",
       "  'http://books.toscrape.com/media/cache/ec/08/ec08efebaa33a403e54080b48c139794.jpg',\n",
       "  'Five',\n",
       "  'http://books.toscrape.com/catalogue/the-day-the-crayons-came-home-crayons_241/index.html'],\n",
       " ['The Cat in the Hat (Beginner Books B-1)',\n",
       "  '£16.26',\n",
       "  'In stock',\n",
       "  'http://books.toscrape.com/media/cache/9b/f1/9bf106306301a44635aa7bd381c84e4d.jpg',\n",
       "  'Two',\n",
       "  'http://books.toscrape.com/catalogue/the-cat-in-the-hat-beginner-books-b-1_235/index.html'],\n",
       " ['Red: The True Story of Red Riding Hood',\n",
       "  '£28.54',\n",
       "  'In stock',\n",
       "  'http://books.toscrape.com/media/cache/70/4e/704e81b05e56dd84ecf607ea283952db.jpg',\n",
       "  'Three',\n",
       "  'http://books.toscrape.com/catalogue/red-the-true-story-of-red-riding-hood_210/index.html'],\n",
       " ['Horrible Bear!',\n",
       "  '£37.52',\n",
       "  'In stock',\n",
       "  'http://books.toscrape.com/media/cache/d2/63/d26337dee5c0b13b56b7aea59d611570.jpg',\n",
       "  'Two',\n",
       "  'http://books.toscrape.com/catalogue/horrible-bear_168/index.html'],\n",
       " ['Green Eggs and Ham (Beginner Books B-16)',\n",
       "  '£10.79',\n",
       "  'In stock',\n",
       "  'http://books.toscrape.com/media/cache/3a/0e/3a0e75e4f758f90a80965869afbe41b4.jpg',\n",
       "  'Four',\n",
       "  'http://books.toscrape.com/catalogue/green-eggs-and-ham-beginner-books-b-16_165/index.html'],\n",
       " ['Counting Thyme',\n",
       "  '£10.62',\n",
       "  'In stock',\n",
       "  'http://books.toscrape.com/media/cache/e0/ae/e0ae97753a73b88b61b13b19977613dc.jpg',\n",
       "  'One',\n",
       "  'http://books.toscrape.com/catalogue/counting-thyme_142/index.html'],\n",
       " ['Are We There Yet?',\n",
       "  '£10.66',\n",
       "  'In stock',\n",
       "  'http://books.toscrape.com/media/cache/f8/be/f8be3238a1cf039a3e7d50de1d4c2cfd.jpg',\n",
       "  'Three',\n",
       "  'http://books.toscrape.com/catalogue/are-we-there-yet_122/index.html'],\n",
       " ['Diary of a Minecraft Zombie Book 1: A Scare of a Dare (An Unofficial Minecraft Book)',\n",
       "  '£52.88',\n",
       "  'In stock',\n",
       "  'http://books.toscrape.com/media/cache/47/16/47160ff71abe23cb52968b3d1b9b7988.jpg',\n",
       "  'Four',\n",
       "  'http://books.toscrape.com/catalogue/diary-of-a-minecraft-zombie-book-1-a-scare-of-a-dare-an-unofficial-minecraft-book_99/index.html'],\n",
       " ['Matilda',\n",
       "  '£28.34',\n",
       "  'In stock',\n",
       "  'http://books.toscrape.com/media/cache/03/47/0347bd215f4813edd81c2cd76bab53ca.jpg',\n",
       "  'One',\n",
       "  'http://books.toscrape.com/catalogue/matilda_32/index.html'],\n",
       " ['Charlie and the Chocolate Factory (Charlie Bucket #1)',\n",
       "  '£22.85',\n",
       "  'In stock',\n",
       "  'http://books.toscrape.com/media/cache/d6/cc/d6cc0c66e34dfc214b406208bbaf18e2.jpg',\n",
       "  'Three',\n",
       "  'http://books.toscrape.com/catalogue/charlie-and-the-chocolate-factory-charlie-bucket-1_13/index.html']]"
      ]
     },
     "execution_count": 192,
     "metadata": {},
     "output_type": "execute_result"
    }
   ],
   "source": [
    "dataSet #List of collected elements"
   ]
  },
  {
   "cell_type": "markdown",
   "id": "c08652b3-574d-4237-aa7a-1e7a587088d4",
   "metadata": {},
   "source": [
    "#### Convert List(dataSet) to CSV"
   ]
  },
  {
   "cell_type": "code",
   "execution_count": 193,
   "id": "146680d5-2d52-4a08-abad-9486cee10d45",
   "metadata": {},
   "outputs": [],
   "source": [
    "writeto_csv(dataSet,'books.csv',columns)"
   ]
  },
  {
   "cell_type": "code",
   "execution_count": null,
   "id": "b12f0beb-d403-4bb8-bdba-9fb9a2845c57",
   "metadata": {},
   "outputs": [],
   "source": []
  },
  {
   "cell_type": "code",
   "execution_count": null,
   "id": "59dd465f-7771-4acc-828b-57b5687da1ad",
   "metadata": {},
   "outputs": [],
   "source": []
  }
 ],
 "metadata": {
  "kernelspec": {
   "display_name": "Python 3 (ipykernel)",
   "language": "python",
   "name": "python3"
  },
  "language_info": {
   "codemirror_mode": {
    "name": "ipython",
    "version": 3
   },
   "file_extension": ".py",
   "mimetype": "text/x-python",
   "name": "python",
   "nbconvert_exporter": "python",
   "pygments_lexer": "ipython3",
   "version": "3.11.1"
  }
 },
 "nbformat": 4,
 "nbformat_minor": 5
}
