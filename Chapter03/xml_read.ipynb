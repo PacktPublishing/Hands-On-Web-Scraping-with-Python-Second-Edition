{
 "cells": [
  {
   "cell_type": "markdown",
   "id": "d9c23828-2b27-4202-aa93-27ca8f89dc81",
   "metadata": {},
   "source": [
    "## Read 'breakfast.xml' and traversing around elements"
   ]
  },
  {
   "cell_type": "code",
   "execution_count": 1,
   "id": "22816a0b-fa8c-434c-b4c4-df2c4178d5fc",
   "metadata": {},
   "outputs": [],
   "source": [
    "from lxml import etree"
   ]
  },
  {
   "cell_type": "markdown",
   "id": "f18b9df9-975f-415a-b4cb-db4b695efe79",
   "metadata": {
    "tags": []
   },
   "source": [
    "#### Read XML"
   ]
  },
  {
   "cell_type": "code",
   "execution_count": 2,
   "id": "c5542efa-c162-4b25-996e-2cad621dd2b8",
   "metadata": {},
   "outputs": [],
   "source": [
    "xml = open('breakfast.xml','rb').read()"
   ]
  },
  {
   "cell_type": "code",
   "execution_count": 3,
   "id": "01cebeb5-2bc5-4256-9b37-d5a0444c9dc5",
   "metadata": {
    "scrolled": true,
    "tags": []
   },
   "outputs": [
    {
     "data": {
      "text/plain": [
       "b'<?xml version=\"1.0\" encoding=\"UTF-8\"?>\\n<breakfast_menu>\\n  <food>\\n    <name>Belgian Waffles</name>\\n    <price>$5.95</price>\\n    <description>Two of our famous Belgian Waffles with plenty of real maple syrup</description>\\n    <calories>650</calories>\\n  </food>\\n  <food>\\n    <name>Strawberry Belgian Waffles</name>\\n    <price>$7.95</price>\\n    <description>Light Belgian waffles covered with strawberries and whipped cream</description>\\n    <calories>900</calories>\\n  </food>\\n  <food>\\n    <name>Berry-Berry Belgian Waffles</name>\\n    <price>$8.95</price>\\n    <description>Light Belgian waffles covered with an assortment of fresh berries and whipped cream</description>\\n    <calories>900</calories>\\n  </food>\\n  <food>\\n    <name>French Toast</name>\\n    <price>$4.50</price>\\n    <description>Thick slices made from our homemade sourdough bread</description>\\n    <calories>600</calories>\\n  </food>\\n  <food>\\n    <name>Homestyle Breakfast</name>\\n    <price>$6.95</price>\\n    <description>Two eggs, bacon or sausage, toast, and our ever-popular hash browns</description>\\n    <calories>950</calories>\\n  </food>\\n</breakfast_menu>\\n'"
      ]
     },
     "execution_count": 3,
     "metadata": {},
     "output_type": "execute_result"
    }
   ],
   "source": [
    "xml #bytes"
   ]
  },
  {
   "cell_type": "code",
   "execution_count": 4,
   "id": "10460730-2aa5-4fe9-a5d8-902192a3adc6",
   "metadata": {},
   "outputs": [],
   "source": [
    "tree=etree.XML(xml) #parsing using XML()"
   ]
  },
  {
   "cell_type": "code",
   "execution_count": 5,
   "id": "bc5debec-7397-465d-8907-226a70ee74f9",
   "metadata": {},
   "outputs": [
    {
     "data": {
      "text/plain": [
       "<Element breakfast_menu at 0x26cc572f9c0>"
      ]
     },
     "execution_count": 5,
     "metadata": {},
     "output_type": "execute_result"
    }
   ],
   "source": [
    "tree # element object"
   ]
  },
  {
   "cell_type": "code",
   "execution_count": 6,
   "id": "29f8124b-b17d-430f-93a0-34a2153b49dc",
   "metadata": {},
   "outputs": [
    {
     "data": {
      "text/plain": [
       "lxml.etree._Element"
      ]
     },
     "execution_count": 6,
     "metadata": {},
     "output_type": "execute_result"
    }
   ],
   "source": [
    "type(tree)"
   ]
  },
  {
   "cell_type": "code",
   "execution_count": null,
   "id": "fd899a0a-703d-4218-9ad8-ae5945feb078",
   "metadata": {},
   "outputs": [],
   "source": [
    "#dir(tree) #Explore funtions available"
   ]
  },
  {
   "cell_type": "markdown",
   "id": "bca2a460-261c-4bbb-8d3a-63fb0d9882d0",
   "metadata": {
    "tags": []
   },
   "source": [
    "#### Iterating among tree elements"
   ]
  },
  {
   "cell_type": "code",
   "execution_count": 7,
   "id": "376e2c1a-e913-4caf-9ef8-5627f620deaf",
   "metadata": {},
   "outputs": [
    {
     "name": "stdout",
     "output_type": "stream",
     "text": [
      "breakfast_menu :parent\n",
      "food :parent\n",
      "--name : Belgian Waffles\n",
      "--price : $5.95\n",
      "--description : Two of our famous Belgian Waffles with plenty of real maple syrup\n",
      "--calories : 650\n",
      "food :parent\n",
      "--name : Strawberry Belgian Waffles\n",
      "--price : $7.95\n",
      "--description : Light Belgian waffles covered with strawberries and whipped cream\n",
      "--calories : 900\n",
      "food :parent\n",
      "--name : Berry-Berry Belgian Waffles\n",
      "--price : $8.95\n",
      "--description : Light Belgian waffles covered with an assortment of fresh berries and whipped cream\n",
      "--calories : 900\n",
      "food :parent\n",
      "--name : French Toast\n",
      "--price : $4.50\n",
      "--description : Thick slices made from our homemade sourdough bread\n",
      "--calories : 600\n",
      "food :parent\n",
      "--name : Homestyle Breakfast\n",
      "--price : $6.95\n",
      "--description : Two eggs, bacon or sausage, toast, and our ever-popular hash browns\n",
      "--calories : 950\n"
     ]
    }
   ],
   "source": [
    "for element in tree.iter():\n",
    "    if len(element):                    #checks if element has childrens or not\n",
    "        print(f\"{element.tag} :parent\")\n",
    "    else:\n",
    "        print(f\"--{element.tag} : {element.text}\") #returns tag name and text"
   ]
  },
  {
   "cell_type": "code",
   "execution_count": null,
   "id": "a60cb7e2-fe21-45ee-9550-bec4accbe1a9",
   "metadata": {
    "scrolled": true,
    "tags": []
   },
   "outputs": [],
   "source": [
    "for element in tree.iter(): #iteration with all elements\n",
    "    print(f\"{element.tag} - {element.text}\")"
   ]
  },
  {
   "cell_type": "markdown",
   "id": "2e84531f-404c-489b-a893-288b9110ef53",
   "metadata": {},
   "source": [
    "#### Iterating among selected nodes in tree"
   ]
  },
  {
   "cell_type": "code",
   "execution_count": 9,
   "id": "1ea81e9a-b4ef-4ff8-9057-eae62ac8eb5e",
   "metadata": {
    "scrolled": true,
    "tags": []
   },
   "outputs": [
    {
     "name": "stdout",
     "output_type": "stream",
     "text": [
      "name - Belgian Waffles\n",
      "calories - 650\n",
      "name - Strawberry Belgian Waffles\n",
      "calories - 900\n",
      "name - Berry-Berry Belgian Waffles\n",
      "calories - 900\n",
      "name - French Toast\n",
      "calories - 600\n",
      "name - Homestyle Breakfast\n",
      "calories - 950\n"
     ]
    }
   ],
   "source": [
    "for element in tree.iter('name','calories'):\n",
    "    print(f\"{element.tag} - {element.text}\")"
   ]
  },
  {
   "cell_type": "markdown",
   "id": "b62ceebc-a883-410a-b02b-1dc03aa7e99a",
   "metadata": {},
   "source": [
    "#### Applying condition for element 'calories' if text is less than 800"
   ]
  },
  {
   "cell_type": "code",
   "execution_count": null,
   "id": "75b37fc3-6a99-4329-bda6-a35ffd90ebd8",
   "metadata": {},
   "outputs": [],
   "source": [
    " for element in tree.iter():\n",
    "    if element.tag==\"calories\":\n",
    "        if int(element.text)<800:\n",
    "            print(f\"{element.text}\")"
   ]
  },
  {
   "cell_type": "markdown",
   "id": "60ddee61-6240-4de5-86bb-05fac4f5fbaa",
   "metadata": {},
   "source": [
    "#### Applying condition for element 'calories' if text is less than 800 using <u>XPath</u>"
   ]
  },
  {
   "cell_type": "code",
   "execution_count": 11,
   "id": "a51d5bb9-3583-4632-89c1-ff4d217eda00",
   "metadata": {},
   "outputs": [
    {
     "name": "stdout",
     "output_type": "stream",
     "text": [
      "Belgian Waffles - 650\n",
      "French Toast - 600\n"
     ]
    }
   ],
   "source": [
    "for element in tree.xpath('//food'):\n",
    "    if int(element.xpath('./calories/text()')[0])<800:\n",
    "        print(f\"{element.xpath('./name/text()')[0]} - {element.xpath('./calories/text()')[0]}\")"
   ]
  },
  {
   "cell_type": "markdown",
   "id": "81ddb6fd-2369-42b8-be5b-83cb0f07007e",
   "metadata": {},
   "source": [
    "## Using etree.parse"
   ]
  },
  {
   "cell_type": "code",
   "execution_count": 12,
   "id": "de130802-3d6d-4cb8-88f0-72bbd96e18c6",
   "metadata": {},
   "outputs": [],
   "source": [
    "newTree = etree.parse('breakfast.xml')"
   ]
  },
  {
   "cell_type": "code",
   "execution_count": 13,
   "id": "db475a2c-554f-46d0-a99e-dcaf4bc7840a",
   "metadata": {},
   "outputs": [
    {
     "data": {
      "text/plain": [
       "<lxml.etree._ElementTree at 0x26cc56bd180>"
      ]
     },
     "execution_count": 13,
     "metadata": {},
     "output_type": "execute_result"
    }
   ],
   "source": [
    "newTree"
   ]
  },
  {
   "cell_type": "code",
   "execution_count": 15,
   "id": "ea9c9a64-d097-44eb-9536-aaf143afd3d5",
   "metadata": {},
   "outputs": [
    {
     "name": "stdout",
     "output_type": "stream",
     "text": [
      "name - Belgian Waffles\n",
      "name - Strawberry Belgian Waffles\n",
      "name - Berry-Berry Belgian Waffles\n",
      "name - French Toast\n",
      "name - Homestyle Breakfast\n"
     ]
    }
   ],
   "source": [
    "for element in newTree.iter('name'):\n",
    "    print(f\"{element.tag} - {element.text}\")"
   ]
  },
  {
   "cell_type": "code",
   "execution_count": null,
   "id": "dfcc8519-c068-4a02-bfc7-4926aa5c6e04",
   "metadata": {},
   "outputs": [],
   "source": []
  }
 ],
 "metadata": {
  "kernelspec": {
   "display_name": "Python 3 (ipykernel)",
   "language": "python",
   "name": "python3"
  },
  "language_info": {
   "codemirror_mode": {
    "name": "ipython",
    "version": 3
   },
   "file_extension": ".py",
   "mimetype": "text/x-python",
   "name": "python",
   "nbconvert_exporter": "python",
   "pygments_lexer": "ipython3",
   "version": "3.11.1"
  }
 },
 "nbformat": 4,
 "nbformat_minor": 5
}
