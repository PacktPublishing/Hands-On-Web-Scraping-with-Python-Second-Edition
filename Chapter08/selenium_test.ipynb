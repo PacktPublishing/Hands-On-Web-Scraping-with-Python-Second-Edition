{
 "cells": [
  {
   "cell_type": "markdown",
   "id": "7f899f62-5157-44d4-9e82-4ff0c655144d",
   "metadata": {},
   "source": [
    "### Verify 'selenium' library"
   ]
  },
  {
   "cell_type": "code",
   "execution_count": 1,
   "id": "aabb85a8-5d56-431f-a5d8-e8f8e11c0fc5",
   "metadata": {},
   "outputs": [],
   "source": [
    "import selenium"
   ]
  },
  {
   "cell_type": "code",
   "execution_count": 2,
   "id": "3c16a3df-12e1-4c9f-8b6c-ac45e4a79946",
   "metadata": {},
   "outputs": [
    {
     "data": {
      "text/plain": [
       "['__builtins__',\n",
       " '__cached__',\n",
       " '__doc__',\n",
       " '__file__',\n",
       " '__loader__',\n",
       " '__name__',\n",
       " '__package__',\n",
       " '__path__',\n",
       " '__spec__',\n",
       " '__version__']"
      ]
     },
     "execution_count": 2,
     "metadata": {},
     "output_type": "execute_result"
    }
   ],
   "source": [
    "dir(selenium)"
   ]
  },
  {
   "cell_type": "code",
   "execution_count": 3,
   "id": "5b2d13c7-4b47-4c01-9413-779c88b727bd",
   "metadata": {},
   "outputs": [
    {
     "data": {
      "text/plain": [
       "'4.8.3'"
      ]
     },
     "execution_count": 3,
     "metadata": {},
     "output_type": "execute_result"
    }
   ],
   "source": [
    "selenium.__version__"
   ]
  },
  {
   "cell_type": "code",
   "execution_count": 4,
   "id": "a2e74c89-6631-4840-9745-235573cef3e1",
   "metadata": {},
   "outputs": [
    {
     "data": {
      "text/plain": [
       "ModuleSpec(name='selenium', loader=<_frozen_importlib_external.SourceFileLoader object at 0x000001EBE56FBE10>, origin='C:\\\\HOWScraping2E\\\\secondEd\\\\Lib\\\\site-packages\\\\selenium\\\\__init__.py', submodule_search_locations=['C:\\\\HOWScraping2E\\\\secondEd\\\\Lib\\\\site-packages\\\\selenium'])"
      ]
     },
     "execution_count": 4,
     "metadata": {},
     "output_type": "execute_result"
    }
   ],
   "source": [
    "selenium.__spec__"
   ]
  },
  {
   "cell_type": "markdown",
   "id": "613e6eb1-814c-42af-841d-9317f66bc731",
   "metadata": {},
   "source": [
    "#### Verify Webdriver"
   ]
  },
  {
   "cell_type": "code",
   "execution_count": 5,
   "id": "b5c9fe7d-f562-43ad-90a2-9f95d85e9d95",
   "metadata": {},
   "outputs": [],
   "source": [
    "from selenium import webdriver"
   ]
  },
  {
   "cell_type": "code",
   "execution_count": 6,
   "id": "ba1b60c3-a32a-4a71-b2c0-7d4e504f04ae",
   "metadata": {},
   "outputs": [
    {
     "data": {
      "text/plain": [
       "'4.8.3'"
      ]
     },
     "execution_count": 6,
     "metadata": {},
     "output_type": "execute_result"
    }
   ],
   "source": [
    "webdriver.__version__"
   ]
  },
  {
   "cell_type": "markdown",
   "id": "1374724d-19b0-46e7-9cdc-1932efe91238",
   "metadata": {},
   "source": [
    "#### explore Chrome"
   ]
  },
  {
   "cell_type": "code",
   "execution_count": 7,
   "id": "c1e9ef19-0180-4757-8e4d-e81fc0b86f3c",
   "metadata": {},
   "outputs": [
    {
     "data": {
      "text/plain": [
       "['__abstractmethods__',\n",
       " '__class__',\n",
       " '__delattr__',\n",
       " '__dict__',\n",
       " '__dir__',\n",
       " '__doc__',\n",
       " '__enter__',\n",
       " '__eq__',\n",
       " '__exit__',\n",
       " '__format__',\n",
       " '__ge__',\n",
       " '__getattribute__',\n",
       " '__getstate__',\n",
       " '__gt__',\n",
       " '__hash__',\n",
       " '__init__',\n",
       " '__init_subclass__',\n",
       " '__le__',\n",
       " '__lt__',\n",
       " '__module__',\n",
       " '__ne__',\n",
       " '__new__',\n",
       " '__reduce__',\n",
       " '__reduce_ex__',\n",
       " '__repr__',\n",
       " '__setattr__',\n",
       " '__sizeof__',\n",
       " '__str__',\n",
       " '__subclasshook__',\n",
       " '__weakref__',\n",
       " '_abc_impl',\n",
       " '_get_cdp_details',\n",
       " '_shadowroot_cls',\n",
       " '_unwrap_value',\n",
       " '_web_element_cls',\n",
       " '_wrap_value',\n",
       " 'add_cookie',\n",
       " 'add_credential',\n",
       " 'add_virtual_authenticator',\n",
       " 'application_cache',\n",
       " 'back',\n",
       " 'bidi_connection',\n",
       " 'capabilities',\n",
       " 'close',\n",
       " 'create_options',\n",
       " 'create_web_element',\n",
       " 'current_url',\n",
       " 'current_window_handle',\n",
       " 'delete_all_cookies',\n",
       " 'delete_cookie',\n",
       " 'delete_network_conditions',\n",
       " 'desired_capabilities',\n",
       " 'execute',\n",
       " 'execute_async_script',\n",
       " 'execute_cdp_cmd',\n",
       " 'execute_script',\n",
       " 'file_detector',\n",
       " 'file_detector_context',\n",
       " 'find_element',\n",
       " 'find_elements',\n",
       " 'forward',\n",
       " 'fullscreen_window',\n",
       " 'get',\n",
       " 'get_cookie',\n",
       " 'get_cookies',\n",
       " 'get_credentials',\n",
       " 'get_issue_message',\n",
       " 'get_log',\n",
       " 'get_network_conditions',\n",
       " 'get_pinned_scripts',\n",
       " 'get_screenshot_as_base64',\n",
       " 'get_screenshot_as_file',\n",
       " 'get_screenshot_as_png',\n",
       " 'get_sinks',\n",
       " 'get_window_position',\n",
       " 'get_window_rect',\n",
       " 'get_window_size',\n",
       " 'implicitly_wait',\n",
       " 'launch_app',\n",
       " 'log_types',\n",
       " 'maximize_window',\n",
       " 'minimize_window',\n",
       " 'mobile',\n",
       " 'name',\n",
       " 'orientation',\n",
       " 'page_source',\n",
       " 'pin_script',\n",
       " 'print_page',\n",
       " 'quit',\n",
       " 'refresh',\n",
       " 'remove_all_credentials',\n",
       " 'remove_credential',\n",
       " 'remove_virtual_authenticator',\n",
       " 'save_screenshot',\n",
       " 'set_network_conditions',\n",
       " 'set_page_load_timeout',\n",
       " 'set_permissions',\n",
       " 'set_script_timeout',\n",
       " 'set_sink_to_use',\n",
       " 'set_user_verified',\n",
       " 'set_window_position',\n",
       " 'set_window_rect',\n",
       " 'set_window_size',\n",
       " 'start_client',\n",
       " 'start_desktop_mirroring',\n",
       " 'start_session',\n",
       " 'start_tab_mirroring',\n",
       " 'stop_casting',\n",
       " 'stop_client',\n",
       " 'switch_to',\n",
       " 'timeouts',\n",
       " 'title',\n",
       " 'unpin',\n",
       " 'virtual_authenticator_id',\n",
       " 'window_handles']"
      ]
     },
     "execution_count": 7,
     "metadata": {},
     "output_type": "execute_result"
    }
   ],
   "source": [
    "dir(webdriver.Chrome)"
   ]
  },
  {
   "cell_type": "code",
   "execution_count": 8,
   "id": "d11444ff-ffd2-4c5e-9230-d0a033aa84d9",
   "metadata": {},
   "outputs": [],
   "source": [
    "chromedriver_path=\"C:\\HOWScraping2E\\driver\\chromedriver.exe\""
   ]
  },
  {
   "cell_type": "code",
   "execution_count": 9,
   "id": "4a75d1c7-654f-49fb-a44d-0ae74d2b1c5e",
   "metadata": {},
   "outputs": [],
   "source": [
    "#driver = webdriver.Chrome(executable_path=chromedriver_path)"
   ]
  },
  {
   "cell_type": "code",
   "execution_count": 10,
   "id": "971826c1-1c64-4d96-a72e-dfc6056de561",
   "metadata": {},
   "outputs": [],
   "source": [
    "from selenium.webdriver.chrome.service import Service\n",
    "service = Service(service=chromedriver_path)\n",
    "driver = webdriver.Chrome(service=service)"
   ]
  },
  {
   "cell_type": "code",
   "execution_count": 11,
   "id": "82d396f8-5470-45c1-9145-62b4ef114c69",
   "metadata": {},
   "outputs": [
    {
     "data": {
      "text/plain": [
       "selenium.webdriver.chrome.webdriver.WebDriver"
      ]
     },
     "execution_count": 11,
     "metadata": {},
     "output_type": "execute_result"
    }
   ],
   "source": [
    "type(driver)"
   ]
  },
  {
   "cell_type": "code",
   "execution_count": 12,
   "id": "0dff6e98-493d-4869-8990-dc4fb1494fbb",
   "metadata": {},
   "outputs": [
    {
     "data": {
      "text/plain": [
       "['__abstractmethods__',\n",
       " '__class__',\n",
       " '__delattr__',\n",
       " '__dict__',\n",
       " '__dir__',\n",
       " '__doc__',\n",
       " '__enter__',\n",
       " '__eq__',\n",
       " '__exit__',\n",
       " '__format__',\n",
       " '__ge__',\n",
       " '__getattribute__',\n",
       " '__getstate__',\n",
       " '__gt__',\n",
       " '__hash__',\n",
       " '__init__',\n",
       " '__init_subclass__',\n",
       " '__le__',\n",
       " '__lt__',\n",
       " '__module__',\n",
       " '__ne__',\n",
       " '__new__',\n",
       " '__reduce__',\n",
       " '__reduce_ex__',\n",
       " '__repr__',\n",
       " '__setattr__',\n",
       " '__sizeof__',\n",
       " '__str__',\n",
       " '__subclasshook__',\n",
       " '__weakref__',\n",
       " '_abc_impl',\n",
       " '_authenticator_id',\n",
       " '_file_detector',\n",
       " '_get_cdp_details',\n",
       " '_is_remote',\n",
       " '_mobile',\n",
       " '_shadowroot_cls',\n",
       " '_switch_to',\n",
       " '_unwrap_value',\n",
       " '_web_element_cls',\n",
       " '_wrap_value',\n",
       " 'add_cookie',\n",
       " 'add_credential',\n",
       " 'add_virtual_authenticator',\n",
       " 'application_cache',\n",
       " 'back',\n",
       " 'bidi_connection',\n",
       " 'capabilities',\n",
       " 'caps',\n",
       " 'close',\n",
       " 'command_executor',\n",
       " 'create_options',\n",
       " 'create_web_element',\n",
       " 'current_url',\n",
       " 'current_window_handle',\n",
       " 'delete_all_cookies',\n",
       " 'delete_cookie',\n",
       " 'delete_network_conditions',\n",
       " 'desired_capabilities',\n",
       " 'error_handler',\n",
       " 'execute',\n",
       " 'execute_async_script',\n",
       " 'execute_cdp_cmd',\n",
       " 'execute_script',\n",
       " 'file_detector',\n",
       " 'file_detector_context',\n",
       " 'find_element',\n",
       " 'find_elements',\n",
       " 'forward',\n",
       " 'fullscreen_window',\n",
       " 'get',\n",
       " 'get_cookie',\n",
       " 'get_cookies',\n",
       " 'get_credentials',\n",
       " 'get_issue_message',\n",
       " 'get_log',\n",
       " 'get_network_conditions',\n",
       " 'get_pinned_scripts',\n",
       " 'get_screenshot_as_base64',\n",
       " 'get_screenshot_as_file',\n",
       " 'get_screenshot_as_png',\n",
       " 'get_sinks',\n",
       " 'get_window_position',\n",
       " 'get_window_rect',\n",
       " 'get_window_size',\n",
       " 'implicitly_wait',\n",
       " 'launch_app',\n",
       " 'log_types',\n",
       " 'maximize_window',\n",
       " 'minimize_window',\n",
       " 'mobile',\n",
       " 'name',\n",
       " 'orientation',\n",
       " 'page_source',\n",
       " 'pin_script',\n",
       " 'pinned_scripts',\n",
       " 'port',\n",
       " 'print_page',\n",
       " 'quit',\n",
       " 'refresh',\n",
       " 'remove_all_credentials',\n",
       " 'remove_credential',\n",
       " 'remove_virtual_authenticator',\n",
       " 'save_screenshot',\n",
       " 'service',\n",
       " 'session_id',\n",
       " 'set_network_conditions',\n",
       " 'set_page_load_timeout',\n",
       " 'set_permissions',\n",
       " 'set_script_timeout',\n",
       " 'set_sink_to_use',\n",
       " 'set_user_verified',\n",
       " 'set_window_position',\n",
       " 'set_window_rect',\n",
       " 'set_window_size',\n",
       " 'start_client',\n",
       " 'start_desktop_mirroring',\n",
       " 'start_session',\n",
       " 'start_tab_mirroring',\n",
       " 'stop_casting',\n",
       " 'stop_client',\n",
       " 'switch_to',\n",
       " 'timeouts',\n",
       " 'title',\n",
       " 'unpin',\n",
       " 'vendor_prefix',\n",
       " 'virtual_authenticator_id',\n",
       " 'window_handles']"
      ]
     },
     "execution_count": 12,
     "metadata": {},
     "output_type": "execute_result"
    }
   ],
   "source": [
    "dir(driver)"
   ]
  },
  {
   "cell_type": "code",
   "execution_count": 13,
   "id": "d49d5a6d-1b1d-4733-a31d-13e7481fd8b2",
   "metadata": {},
   "outputs": [],
   "source": [
    "driver.get('https://www.python.org')"
   ]
  },
  {
   "cell_type": "code",
   "execution_count": 14,
   "id": "593c23e0-9658-4fcd-b406-d1a64e918b5a",
   "metadata": {},
   "outputs": [],
   "source": [
    "# driver.close() # close the browser"
   ]
  },
  {
   "cell_type": "code",
   "execution_count": 15,
   "id": "32f0d19a-9b05-42d4-a683-bbec86a4a398",
   "metadata": {},
   "outputs": [],
   "source": [
    "driver.quit() # closes the browser and terminates the session"
   ]
  }
 ],
 "metadata": {
  "kernelspec": {
   "display_name": "Python 3 (ipykernel)",
   "language": "python",
   "name": "python3"
  },
  "language_info": {
   "codemirror_mode": {
    "name": "ipython",
    "version": 3
   },
   "file_extension": ".py",
   "mimetype": "text/x-python",
   "name": "python",
   "nbconvert_exporter": "python",
   "pygments_lexer": "ipython3",
   "version": "3.11.1"
  }
 },
 "nbformat": 4,
 "nbformat_minor": 5
}
