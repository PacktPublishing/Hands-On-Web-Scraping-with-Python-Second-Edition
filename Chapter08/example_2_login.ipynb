{
 "cells": [
  {
   "cell_type": "markdown",
   "id": "c0bfc60a-a444-4c7f-8dda-f704fe1e0312",
   "metadata": {},
   "source": [
    "### Web Scraping Example - Form handling(Login), Quotes found across pages & Logout."
   ]
  },
  {
   "cell_type": "code",
   "execution_count": 1,
   "id": "85500edc-9346-4975-b6c1-4c01ec42052b",
   "metadata": {},
   "outputs": [],
   "source": [
    "from selenium import webdriver\n",
    "from selenium.webdriver.chrome.service import Service\n",
    "from selenium.webdriver.common.by import By\n",
    "from selenium.common.exceptions import NoSuchElementException\n",
    "import re\n",
    "\n",
    "chromedriver_path=\"C:\\HOWScraping2E\\driver\\chromedriver.exe\" #fit the path as required."
   ]
  },
  {
   "cell_type": "markdown",
   "id": "fe62fa93-0997-4b3d-b6f0-abda37c42d2d",
   "metadata": {},
   "source": [
    "#### Prepare a 'driver' to use with Chrome"
   ]
  },
  {
   "cell_type": "code",
   "execution_count": 2,
   "id": "fed2eea2-11e1-4f9e-8fbf-bd84450ff9cb",
   "metadata": {},
   "outputs": [],
   "source": [
    "service = Service(service=chromedriver_path)\n",
    "driver = webdriver.Chrome(service=service)"
   ]
  },
  {
   "cell_type": "markdown",
   "id": "d6217dda-4517-4e25-882c-8c5e764786f1",
   "metadata": {},
   "source": [
    "#### URL : https://toscrape.com/"
   ]
  },
  {
   "cell_type": "code",
   "execution_count": 3,
   "id": "e17c5f87-195f-472f-92ae-91c4f4ae1f93",
   "metadata": {},
   "outputs": [],
   "source": [
    "mainUrl=\"https://toscrape.com/\" "
   ]
  },
  {
   "cell_type": "code",
   "execution_count": 4,
   "id": "16290730-96ed-4d97-95f5-e9c92fc49ee5",
   "metadata": {},
   "outputs": [],
   "source": [
    "driver.get(mainUrl)"
   ]
  },
  {
   "cell_type": "markdown",
   "id": "1389c432-a599-4dcd-9e0b-28933eb922a5",
   "metadata": {},
   "source": [
    "#### Choose the link with text 'Login'"
   ]
  },
  {
   "cell_type": "code",
   "execution_count": 5,
   "id": "743ff008-bed3-464b-9473-75464f2a12c8",
   "metadata": {},
   "outputs": [],
   "source": [
    "loginPage = driver.find_element(By.LINK_TEXT, \"Login\").get_attribute('href')"
   ]
  },
  {
   "cell_type": "code",
   "execution_count": 6,
   "id": "746cc5f8-3914-4d01-abf4-92bb2b78756e",
   "metadata": {},
   "outputs": [
    {
     "data": {
      "text/plain": [
       "'http://quotes.toscrape.com/login'"
      ]
     },
     "execution_count": 6,
     "metadata": {},
     "output_type": "execute_result"
    }
   ],
   "source": [
    "loginPage"
   ]
  },
  {
   "cell_type": "code",
   "execution_count": 7,
   "id": "f06b6609-120f-4610-9fc3-e01e0e6709fe",
   "metadata": {},
   "outputs": [],
   "source": [
    "driver.find_element(By.LINK_TEXT, \"Login\").click()"
   ]
  },
  {
   "cell_type": "markdown",
   "id": "2e3684d2-0cb1-467f-bd8f-3bf4f27310f3",
   "metadata": {},
   "source": [
    "#### Form Handling - login"
   ]
  },
  {
   "cell_type": "code",
   "execution_count": 8,
   "id": "a6abf955-e736-407f-849e-336691325aff",
   "metadata": {},
   "outputs": [
    {
     "name": "stdout",
     "output_type": "stream",
     "text": [
      "Before Login : http://quotes.toscrape.com/login\n",
      "After Login : http://quotes.toscrape.com/\n",
      "Logout : http://quotes.toscrape.com/logout\n"
     ]
    }
   ],
   "source": [
    "print(f\"Before Login : {driver.current_url}\")\n",
    "      \n",
    "username = driver.find_element(By.ID, \"username\") #username\n",
    "username.clear()\n",
    "username.send_keys(\"test\") #username\n",
    "\n",
    "password = driver.find_element(By.ID, \"password\") #password\n",
    "password.clear()\n",
    "password.send_keys(\"test\") #password\n",
    "\n",
    "driver.find_element(By.CLASS_NAME,'btn').click() #submit click\n",
    "quotesUrl=driver.current_url\n",
    "print(f\"After Login : {quotesUrl}\") \n",
    "\n",
    "#Extract Logout URL\n",
    "logoutUrl = driver.find_element(By.LINK_TEXT, \"Logout\").get_attribute('href')\n",
    "print(f\"Logout : {logoutUrl}\") "
   ]
  },
  {
   "cell_type": "markdown",
   "id": "11ce6309-5754-46eb-89a6-fad00b5a046e",
   "metadata": {},
   "source": [
    "#### Verify if the link is quotes.toscrape.com"
   ]
  },
  {
   "cell_type": "code",
   "execution_count": 9,
   "id": "cdb0ec64-0273-4701-a014-d2c1d3420f69",
   "metadata": {},
   "outputs": [
    {
     "name": "stdout",
     "output_type": "stream",
     "text": [
      "Total Quotes : 10\n"
     ]
    }
   ],
   "source": [
    "if 'quotes.toscrape.com' in quotesUrl:\n",
    "    pagination=False  #default \n",
    "    column=['author','quote','tags','tag_count','author_url','goodread_url']        \n",
    "    dataSet=[]   #empty dataset\n",
    "    count=0 \n",
    "    \n",
    "    quotesCheck = driver.find_elements(By.CSS_SELECTOR,\"div.row .quote\")\n",
    "    print(f\"Total Quotes : {len(quotesCheck)}\")\n",
    "else:\n",
    "    print(\"URL for quotes is not found!\")"
   ]
  },
  {
   "cell_type": "code",
   "execution_count": 10,
   "id": "9385f3bb-c37a-4908-8157-afb89393b011",
   "metadata": {},
   "outputs": [
    {
     "name": "stdout",
     "output_type": "stream",
     "text": [
      "Processing Page 1 -- 1\n",
      "Data..Albert Einstein -- “The world as we hav -- change,deep-thoughts,thinking,world\n",
      "Data..J.K. Rowling -- “It is our choices,  -- abilities,choices\n",
      "Data..Albert Einstein -- “There are only two  -- inspirational,life,live,miracle,miracles\n",
      "Data..Jane Austen -- “The person, be it g -- aliteracy,books,classic,humor\n",
      "Data..Marilyn Monroe -- “Imperfection is bea -- be-yourself,inspirational\n",
      "Data..Albert Einstein -- “Try not to become a -- adulthood,success,value\n",
      "Data..André Gide -- “It is better to be  -- life,love\n",
      "Data..Thomas A. Edison -- “I have not failed.  -- edison,failure,inspirational,paraphrased\n",
      "Data..Eleanor Roosevelt -- “A woman is like a t -- misattributed-eleanor-roosevelt\n",
      "Data..Steve Martin -- “A day without sunsh -- humor,obvious,simile\n",
      "Processing Page 2 -- 11\n",
      "Data..Marilyn Monroe -- “This life is what y -- friends,heartbreak,inspirational,life,love,sisters\n",
      "Data..J.K. Rowling -- “It takes a great de -- courage,friends\n",
      "Data..Albert Einstein -- “If you can't explai -- simplicity,understand\n",
      "Data..Bob Marley -- “You may not be her  -- love\n",
      "Data..Dr. Seuss -- “I like nonsense, it -- fantasy\n",
      "Data..Douglas Adams -- “I may not have gone -- life,navigation\n",
      "Data..Elie Wiesel -- “The opposite of lov -- activism,apathy,hate,indifference,inspirational,love,opposite,philosophy\n",
      "Data..Friedrich Nietzsche -- “It is not a lack of -- friendship,lack-of-friendship,lack-of-love,love,marriage,unhappy-marriage\n",
      "Data..Mark Twain -- “Good friends, good  -- books,contentment,friends,friendship,life\n",
      "Data..Allen Saunders -- “Life is what happen -- fate,life,misattributed-john-lennon,planning,plans\n",
      "Processing Page 3 -- 21\n",
      "Data..Pablo Neruda -- “I love you without  -- love,poetry\n",
      "Data..Ralph Waldo Emerson -- “For every minute yo -- happiness\n",
      "Data..Mother Teresa -- “If you judge people -- attributed-no-source\n",
      "Data..Garrison Keillor -- “Anyone who thinks s -- humor,religion\n",
      "Data..Jim Henson -- “Beauty is in the ey -- humor\n",
      "Data..Dr. Seuss -- “Today you are You,  -- comedy,life,yourself\n",
      "Data..Albert Einstein -- “If you want your ch -- children,fairy-tales\n",
      "Data..J.K. Rowling -- “It is impossible to -- \n",
      "Data..Albert Einstein -- “Logic will get you  -- imagination\n",
      "Data..Bob Marley -- “One good thing abou -- music\n",
      "Processing Page 4 -- 31\n",
      "Data..Dr. Seuss -- “The more that you r -- learning,reading,seuss\n",
      "Data..J.K. Rowling -- “Of course it is hap -- dumbledore\n",
      "Data..Bob Marley -- “The truth is, every -- friendship\n",
      "Data..Mother Teresa -- “Not all of us can d -- misattributed-to-mother-teresa,paraphrased\n",
      "Data..J.K. Rowling -- “To the well-organiz -- death,inspirational\n",
      "Data..Charles M. Schulz -- “All you need is lov -- chocolate,food,humor\n",
      "Data..William Nicholson -- “We read to know we' -- misattributed-to-c-s-lewis,reading\n",
      "Data..Albert Einstein -- “Any fool can know.  -- knowledge,learning,understanding,wisdom\n",
      "Data..Jorge Luis Borges -- “I have always imagi -- books,library\n",
      "Data..George Eliot -- “It is never too lat -- inspirational\n",
      "Processing Page 5 -- 41\n",
      "Data..George R.R. Martin -- “A reader lives a th -- read,readers,reading,reading-books\n",
      "Data..C.S. Lewis -- “You can never get a -- books,inspirational,reading,tea\n",
      "Data..Marilyn Monroe -- “You believe lies so -- \n",
      "Data..Marilyn Monroe -- “If you can make a w -- girls,love\n",
      "Data..Albert Einstein -- “Life is like riding -- life,simile\n",
      "Data..Marilyn Monroe -- “The real lover is t -- love\n",
      "Data..Marilyn Monroe -- “A wise girl kisses  -- attributed-no-source\n",
      "Data..Martin Luther King Jr. -- “Only in the darknes -- hope,inspirational\n",
      "Data..J.K. Rowling -- “It matters not what -- dumbledore\n",
      "Data..James Baldwin -- “Love does not begin -- love\n",
      "Processing Page 6 -- 51\n",
      "Data..Jane Austen -- “There is nothing I  -- friendship,love\n",
      "Data..Eleanor Roosevelt -- “Do one thing every  -- attributed,fear,inspiration\n",
      "Data..Marilyn Monroe -- “I am good, but not  -- attributed-no-source\n",
      "Data..Albert Einstein -- “If I were not a phy -- music\n",
      "Data..Haruki Murakami -- “If you only read th -- books,thought\n",
      "Data..Alexandre Dumas fils -- “The difference betw -- misattributed-to-einstein\n",
      "Data..Stephenie Meyer -- “He's like a drug fo -- drug,romance,simile\n",
      "Data..Ernest Hemingway -- “There is no friend  -- books,friends,novelist-quotes\n",
      "Data..Helen Keller -- “When one door of ha -- inspirational\n",
      "Data..George Bernard Shaw -- “Life isn't about fi -- inspirational,life,yourself\n",
      "Processing Page 7 -- 61\n",
      "Data..Charles Bukowski -- “That's the problem  -- alcohol\n",
      "Data..Suzanne Collins -- “You don’t forget th -- the-hunger-games\n",
      "Data..Suzanne Collins -- “Remember, we're mad -- humor\n",
      "Data..C.S. Lewis -- “To love at all is t -- love\n",
      "Data..J.R.R. Tolkien -- “Not all those who w -- bilbo,journey,lost,quest,travel,wander\n",
      "Data..J.K. Rowling -- “Do not pity the dea -- live-death-love\n",
      "Data..Ernest Hemingway -- “There is nothing to -- good,writing\n",
      "Data..Ralph Waldo Emerson -- “Finish each day and -- life,regrets\n",
      "Data..Mark Twain -- “I have never let my -- education\n",
      "Data..Dr. Seuss -- “I have heard there  -- troubles\n",
      "Processing Page 8 -- 71\n",
      "Data..Alfred Tennyson -- “If I had a flower f -- friendship,love\n",
      "Data..Charles Bukowski -- “Some people never g -- humor\n",
      "Data..Terry Pratchett -- “The trouble with ha -- humor,open-mind,thinking\n",
      "Data..Dr. Seuss -- “Think left and thin -- humor,philosophy\n",
      "Data..J.D. Salinger -- “What really knocks  -- authors,books,literature,reading,writing\n",
      "Data..George Carlin -- “The reason I talk t -- humor,insanity,lies,lying,self-indulgence,truth\n",
      "Data..John Lennon -- “You may say I'm a d -- beatles,connection,dreamers,dreaming,dreams,hope,inspirational,peace\n",
      "Data..W.C. Fields -- “I am free of all pr -- humor,sinister\n",
      "Data..Ayn Rand -- “The question isn't  -- \n",
      "Data..Mark Twain -- “′Classic′ - a book  -- books,classic,reading\n",
      "Processing Page 9 -- 81\n",
      "Data..Albert Einstein -- “Anyone who has neve -- mistakes\n",
      "Data..Jane Austen -- “A lady's imaginatio -- humor,love,romantic,women\n",
      "Data..J.K. Rowling -- “Remember, if the ti -- integrity\n",
      "Data..Jane Austen -- “I declare after all -- books,library,reading\n",
      "Data..Jane Austen -- “There are few peopl -- elizabeth-bennet,jane-austen\n",
      "Data..C.S. Lewis -- “Some day you will b -- age,fairytales,growing-up\n",
      "Data..C.S. Lewis -- “We are not necessar -- god\n",
      "Data..Mark Twain -- “The fear of death f -- death,life\n",
      "Data..Mark Twain -- “A lie can travel ha -- misattributed-mark-twain,truth\n",
      "Data..C.S. Lewis -- “I believe in Christ -- christianity,faith,religion,sun\n",
      "Processing Page 10 -- 91\n",
      "Data..J.K. Rowling -- “The truth.\" Dumbled -- truth\n",
      "Data..Jimi Hendrix -- “I'm the one that's  -- death,life\n",
      "Data..J.M. Barrie -- “To die will be an a -- adventure,love\n",
      "Data..E.E. Cummings -- “It takes courage to -- courage\n",
      "Data..Khaled Hosseini -- “But better to get h -- life\n",
      "Data..Harper Lee -- “You never really un -- better-life-empathy\n",
      "Data..Madeleine L'Engle -- “You have to write t -- books,children,difficult,grown-ups,write,writers,writing\n",
      "Data..Mark Twain -- “Never tell the trut -- truth\n",
      "Data..Dr. Seuss -- “A person's a person -- inspirational\n",
      "Data..George R.R. Martin -- “... a mind needs bo -- books,mind\n",
      "Further Pagination is not possible, currently at 10\n"
     ]
    }
   ],
   "source": [
    "if len(quotesCheck)>0:\n",
    "    pagination = True\n",
    "    page=1\n",
    "    while pagination:\n",
    "        try:\n",
    "            print(f\"Processing Page {page} -- {(count+1)}\")\n",
    "            quotes = driver.find_elements(By.CSS_SELECTOR,\"div.row .quote\")\n",
    "            #Iterate the quotes available in the page\n",
    "            for quote in quotes:                \n",
    "                content = quote.find_element(By.CSS_SELECTOR,'.text').text                \n",
    "                author = quote.find_element(By.CLASS_NAME,\"author\").text\n",
    "                authorLink = quote.find_element(By.PARTIAL_LINK_TEXT,\"about\").get_attribute('href')\n",
    "                authorGoodread = quote.find_element(By.PARTIAL_LINK_TEXT,\"Goodread\").get_attribute('href') \n",
    "                tags = quote.find_element(By.TAG_NAME,'meta').get_attribute('content')\n",
    "                print(f\"Data..{author} -- {content[0:20]} -- {tags}\")\n",
    "                if re.search(',',tags):\n",
    "                    totalTag = tags.split(',')\n",
    "                    tag_count= len(totalTag)                    \n",
    "                elif len(tags)>0:\n",
    "                    tag_count=1\n",
    "                else:\n",
    "                    tag_count=0\n",
    "                \n",
    "                # Add values to dataSet\n",
    "                count=count+1\n",
    "                dataSet.append([author, content, tags, tag_count, authorLink,authorGoodread])                \n",
    "                \n",
    "            try:\n",
    "                #Check for Pagination with text 'next' in the Listing page\n",
    "                driver.find_element(By.CSS_SELECTOR,'li.next a').click()\n",
    "                page=page+1\n",
    "            except NoSuchElementException:                \n",
    "                pagination = False\n",
    "                print(f\"Further Pagination is not possible, currently at {page}\")\n",
    "        except Exception as e:\n",
    "            print(f\"Exception Occured: {str(e)}\")\n",
    "            pagination = False\n",
    "# print(dataSet)"
   ]
  },
  {
   "cell_type": "markdown",
   "id": "a5b68b4c-a5ff-4838-ad37-c9f178daa6fc",
   "metadata": {},
   "source": [
    "#### Logout of the system"
   ]
  },
  {
   "cell_type": "code",
   "execution_count": 11,
   "id": "3404ef87-ccf3-4dff-93b6-155015a95142",
   "metadata": {},
   "outputs": [
    {
     "name": "stdout",
     "output_type": "stream",
     "text": [
      "Current URL: http://quotes.toscrape.com/\n"
     ]
    }
   ],
   "source": [
    "driver.get(logoutUrl)\n",
    "print(f\"Current URL: {driver.current_url}\")"
   ]
  },
  {
   "cell_type": "markdown",
   "id": "d103ae87-3cfb-4898-b045-d0231fd22471",
   "metadata": {},
   "source": [
    "#### With final dataSet in hand, lets write the data to CSV and JSON files."
   ]
  },
  {
   "cell_type": "code",
   "execution_count": 12,
   "id": "879ecec3-69a6-4974-b309-2f482b524134",
   "metadata": {},
   "outputs": [
    {
     "name": "stdout",
     "output_type": "stream",
     "text": [
      "Total rows in dataSet : 100\n"
     ]
    }
   ],
   "source": [
    "print(f\"Total rows in dataSet : {len(dataSet)}\")"
   ]
  },
  {
   "cell_type": "code",
   "execution_count": 13,
   "id": "b46ba9f9-2d41-4e69-ad15-e401ff95dcc3",
   "metadata": {},
   "outputs": [],
   "source": [
    "import csv\n",
    "import json"
   ]
  },
  {
   "cell_type": "markdown",
   "id": "e6d4784c-7b5e-4922-b6be-491938675029",
   "metadata": {},
   "source": [
    "##### Create a CSV file using column as first row\n"
   ]
  },
  {
   "cell_type": "code",
   "execution_count": 14,
   "id": "eb406c6a-3405-4525-a40c-879ba0411b9d",
   "metadata": {},
   "outputs": [
    {
     "name": "stdout",
     "output_type": "stream",
     "text": [
      "CSV file Created\n"
     ]
    }
   ],
   "source": [
    "fileCsv = open('quote_details.csv', 'w', newline='', encoding='utf-8')\n",
    "writer = csv.writer(fileCsv)\n",
    "writer.writerow(column)\n",
    "for data in dataSet:\n",
    "    writer.writerow(data)\n",
    "fileCsv.close()\n",
    "print(\"CSV file Created\")"
   ]
  },
  {
   "cell_type": "markdown",
   "id": "f45de80c-b9b2-46f5-ace8-3d0958caff1f",
   "metadata": {},
   "source": [
    "##### Create a JSON file."
   ]
  },
  {
   "cell_type": "code",
   "execution_count": 15,
   "id": "d09e3d7e-19e4-4555-a5e4-db718d99af6c",
   "metadata": {},
   "outputs": [
    {
     "name": "stdout",
     "output_type": "stream",
     "text": [
      "JSON file Created\n"
     ]
    }
   ],
   "source": [
    "finalDataSet=list() #empty Dataset\n",
    "for data in dataSet:\n",
    "    finalDataSet.append(dict(zip(column,data)))  #append a dictionary with column name as key and data as value\n",
    "# print(finalDataSet)\n",
    "\n",
    "with open('quote_details.json', 'w') as jsonfile:\n",
    "    json.dump(finalDataSet,jsonfile)\n",
    "print(\"JSON file Created\")"
   ]
  },
  {
   "cell_type": "markdown",
   "id": "d3f30a49-1130-4589-ab4b-f884a21dc8b2",
   "metadata": {},
   "source": [
    "#### Closing and ending the 'driver' session using quit()"
   ]
  },
  {
   "cell_type": "code",
   "execution_count": 16,
   "id": "7f4cc1a5-993b-45a0-b182-b827eec3e622",
   "metadata": {},
   "outputs": [],
   "source": [
    "driver.quit()"
   ]
  },
  {
   "cell_type": "code",
   "execution_count": null,
   "id": "3299b86d-6437-4c10-81cf-ab947360e017",
   "metadata": {},
   "outputs": [],
   "source": []
  }
 ],
 "metadata": {
  "kernelspec": {
   "display_name": "Python 3 (ipykernel)",
   "language": "python",
   "name": "python3"
  },
  "language_info": {
   "codemirror_mode": {
    "name": "ipython",
    "version": 3
   },
   "file_extension": ".py",
   "mimetype": "text/x-python",
   "name": "python",
   "nbconvert_exporter": "python",
   "pygments_lexer": "ipython3",
   "version": "3.11.1"
  }
 },
 "nbformat": 4,
 "nbformat_minor": 5
}
