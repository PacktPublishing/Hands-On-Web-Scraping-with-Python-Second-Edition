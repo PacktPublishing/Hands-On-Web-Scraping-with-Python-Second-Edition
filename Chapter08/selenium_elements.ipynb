{
 "cells": [
  {
   "cell_type": "markdown",
   "id": "c0bfc60a-a444-4c7f-8dda-f704fe1e0312",
   "metadata": {},
   "source": [
    "### HTML Form with JavaScript"
   ]
  },
  {
   "cell_type": "code",
   "execution_count": null,
   "id": "85500edc-9346-4975-b6c1-4c01ec42052b",
   "metadata": {},
   "outputs": [],
   "source": [
    "from selenium import webdriver\n",
    "from selenium.webdriver.chrome.service import Service\n",
    "#from selenium.webdriver.common.keys import Keys\n",
    "from selenium.webdriver.common.by import By\n",
    "\n",
    "chromedriver_path=\"C:\\HOWScraping2E\\driver\\chromedriver.exe\" #fit the path as required."
   ]
  },
  {
   "cell_type": "markdown",
   "id": "fe62fa93-0997-4b3d-b6f0-abda37c42d2d",
   "metadata": {},
   "source": [
    "#### Prepare a 'driver' to use with Chrome"
   ]
  },
  {
   "cell_type": "code",
   "execution_count": null,
   "id": "fed2eea2-11e1-4f9e-8fbf-bd84450ff9cb",
   "metadata": {},
   "outputs": [],
   "source": [
    "service = Service(service=chromedriver_path)\n",
    "driver = webdriver.Chrome(service=service)"
   ]
  },
  {
   "cell_type": "markdown",
   "id": "d6217dda-4517-4e25-882c-8c5e764786f1",
   "metadata": {},
   "source": [
    "#### Example URL"
   ]
  },
  {
   "cell_type": "raw",
   "id": "36e47b60-2df4-49c7-a334-54e967a811a2",
   "metadata": {},
   "source": [
    "#demo example\n",
    "url=\"https://www.python.org\"\n",
    "driver.get(url)\n",
    "driver.find_element(By.ID,'id-search-field').get_attribute('class') # search-field\n",
    "driver.find_element(By.ID,'id-search-field').tag_name               # input\n",
    "driver.find_element(By.ID,'id-search-field').is_enabled()           # True"
   ]
  },
  {
   "cell_type": "code",
   "execution_count": null,
   "id": "6d575d28-a06f-4a64-a5d1-754621c4b728",
   "metadata": {},
   "outputs": [],
   "source": [
    "url=\"https://phptravels.com/demo\""
   ]
  },
  {
   "cell_type": "code",
   "execution_count": null,
   "id": "16290730-96ed-4d97-95f5-e9c92fc49ee5",
   "metadata": {},
   "outputs": [],
   "source": [
    "driver.get(url)"
   ]
  },
  {
   "cell_type": "code",
   "execution_count": null,
   "id": "9385f3bb-c37a-4908-8157-afb89393b011",
   "metadata": {},
   "outputs": [],
   "source": [
    "# print(driver.page_source) # loads the Page source of https://phptravels.com/demo"
   ]
  },
  {
   "cell_type": "markdown",
   "id": "d103ae87-3cfb-4898-b045-d0231fd22471",
   "metadata": {},
   "source": [
    "#### url has four input fields, prepare variables with demo values to be provided to the input elements."
   ]
  },
  {
   "cell_type": "code",
   "execution_count": null,
   "id": "b46ba9f9-2d41-4e69-ad15-e401ff95dcc3",
   "metadata": {},
   "outputs": [],
   "source": [
    "firstName = \"test\"\n",
    "lastName = \"testing\"\n",
    "businessName = \"test selenium\"\n",
    "email =\"form@test.com\""
   ]
  },
  {
   "cell_type": "markdown",
   "id": "2cbf637e-d1af-4840-a17c-2d32ae012902",
   "metadata": {},
   "source": [
    "#### Locating input using <i>find_element()</i> - By (NAME,ID,CLASS_NAME, CSS_SELECTOR...)\n",
    "#### Elements are supplied with variables using send_keys()"
   ]
  },
  {
   "cell_type": "code",
   "execution_count": null,
   "id": "2fad3567-5fbf-4df3-b6b8-dab2de5c50f5",
   "metadata": {},
   "outputs": [],
   "source": [
    "driver.find_element(By.NAME,\"first_name\").send_keys(firstName)\n",
    "driver.find_element(By.NAME,\"last_name\").send_keys(lastName)\n",
    "driver.find_element(By.NAME,\"business_name\").send_keys(businessName)\n",
    "driver.find_element(By.CLASS_NAME,\"email\").send_keys(email)"
   ]
  },
  {
   "cell_type": "markdown",
   "id": "eb3b9dcd-2839-4bbf-82c0-be07f90bdf0b",
   "metadata": {},
   "source": [
    "#### locating two integers, and insering the sum of those two"
   ]
  },
  {
   "cell_type": "code",
   "execution_count": null,
   "id": "5bd20913-c860-4b9f-b810-bb6a1e3f1f74",
   "metadata": {},
   "outputs": [],
   "source": [
    "num1 = driver.find_element(By.ID,\"numb1\").text\n",
    "num2 = driver.find_element(By.ID,\"numb2\").text\n",
    "print(num1,num2)\n",
    "if num1 and num2:\n",
    "    result= int(num1)+int(num2)\n",
    "    print(result)\n",
    "    driver.find_element(By.ID,\"number\").send_keys(result)"
   ]
  },
  {
   "cell_type": "markdown",
   "id": "08f8532c-6e42-44d5-be45-55f1f354860c",
   "metadata": {},
   "source": [
    "#### click() : exhibits the mouse click action"
   ]
  },
  {
   "cell_type": "code",
   "execution_count": null,
   "id": "828229f7-8236-42d2-a8c8-2a3a76404a27",
   "metadata": {},
   "outputs": [],
   "source": [
    "driver.find_element(By.ID,\"demo\").click()"
   ]
  },
  {
   "cell_type": "markdown",
   "id": "2d173e81-ca8d-4976-be20-0c92f2302810",
   "metadata": {},
   "source": [
    "#### After form gets clicked the message is changed in the same page (AJAX)\n",
    "#### Success message captured as screenshot. "
   ]
  },
  {
   "cell_type": "code",
   "execution_count": null,
   "id": "448789ee-e96e-4629-bafe-e5375461adc2",
   "metadata": {},
   "outputs": [],
   "source": [
    "driver.get_screenshot_as_file(\"formSuccess.png\")"
   ]
  },
  {
   "cell_type": "markdown",
   "id": "c10009e6-5b87-4646-951e-d6a9c65fda47",
   "metadata": {},
   "source": [
    "#### Displaying the success message as found in screenshot\n",
    "##### (but elements with success message already exist in page source, before form submission) "
   ]
  },
  {
   "cell_type": "code",
   "execution_count": null,
   "id": "c673d0c8-0ba8-4c4b-a76d-b799fa302e51",
   "metadata": {},
   "outputs": [],
   "source": [
    "driver.find_element(By.CSS_SELECTOR,\".completed > h2\").text"
   ]
  },
  {
   "cell_type": "code",
   "execution_count": null,
   "id": "08ff090f-45bd-4c4a-9fc6-d165b3c983b0",
   "metadata": {},
   "outputs": [],
   "source": [
    "driver.find_element(By.CSS_SELECTOR,\".completed > p\").text"
   ]
  },
  {
   "cell_type": "markdown",
   "id": "d3f30a49-1130-4589-ab4b-f884a21dc8b2",
   "metadata": {},
   "source": [
    "#### Closing and ending the 'driver' session using quit()"
   ]
  },
  {
   "cell_type": "code",
   "execution_count": null,
   "id": "7f4cc1a5-993b-45a0-b182-b827eec3e622",
   "metadata": {},
   "outputs": [],
   "source": [
    "driver.quit()"
   ]
  },
  {
   "cell_type": "code",
   "execution_count": null,
   "id": "d89138d1-cac9-42e8-aca7-d18159800693",
   "metadata": {},
   "outputs": [],
   "source": []
  }
 ],
 "metadata": {
  "kernelspec": {
   "display_name": "Python 3 (ipykernel)",
   "language": "python",
   "name": "python3"
  },
  "language_info": {
   "codemirror_mode": {
    "name": "ipython",
    "version": 3
   },
   "file_extension": ".py",
   "mimetype": "text/x-python",
   "name": "python",
   "nbconvert_exporter": "python",
   "pygments_lexer": "ipython3",
   "version": "3.11.1"
  }
 },
 "nbformat": 4,
 "nbformat_minor": 5
}
