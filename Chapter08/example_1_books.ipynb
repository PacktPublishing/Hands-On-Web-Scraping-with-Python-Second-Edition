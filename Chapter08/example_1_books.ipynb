{
 "cells": [
  {
   "cell_type": "markdown",
   "id": "c0bfc60a-a444-4c7f-8dda-f704fe1e0312",
   "metadata": {},
   "source": [
    "### Web Scraping Example - Books information from selected Category"
   ]
  },
  {
   "cell_type": "code",
   "execution_count": 1,
   "id": "85500edc-9346-4975-b6c1-4c01ec42052b",
   "metadata": {},
   "outputs": [],
   "source": [
    "from selenium import webdriver\n",
    "from selenium.webdriver.chrome.service import Service\n",
    "#from selenium.webdriver.common.keys import Keys\n",
    "from selenium.webdriver.common.by import By\n",
    "from selenium.common.exceptions import NoSuchElementException\n",
    "import re\n",
    "\n",
    "chromedriver_path=\"C:\\HOWScraping2E\\driver\\chromedriver.exe\" #fit the path as required."
   ]
  },
  {
   "cell_type": "markdown",
   "id": "fe62fa93-0997-4b3d-b6f0-abda37c42d2d",
   "metadata": {},
   "source": [
    "#### Prepare a 'driver' to use with Chrome"
   ]
  },
  {
   "cell_type": "code",
   "execution_count": 2,
   "id": "fed2eea2-11e1-4f9e-8fbf-bd84450ff9cb",
   "metadata": {},
   "outputs": [],
   "source": [
    "service = Service(service=chromedriver_path)\n",
    "driver = webdriver.Chrome(service=service)"
   ]
  },
  {
   "cell_type": "markdown",
   "id": "d6217dda-4517-4e25-882c-8c5e764786f1",
   "metadata": {},
   "source": [
    "#### URL : https://toscrape.com/"
   ]
  },
  {
   "cell_type": "code",
   "execution_count": 3,
   "id": "e17c5f87-195f-472f-92ae-91c4f4ae1f93",
   "metadata": {},
   "outputs": [],
   "source": [
    "mainUrl=\"https://toscrape.com/\" "
   ]
  },
  {
   "cell_type": "code",
   "execution_count": 4,
   "id": "16290730-96ed-4d97-95f5-e9c92fc49ee5",
   "metadata": {},
   "outputs": [],
   "source": [
    "driver.get(mainUrl)"
   ]
  },
  {
   "cell_type": "markdown",
   "id": "1389c432-a599-4dcd-9e0b-28933eb922a5",
   "metadata": {},
   "source": [
    "#### Choose the link with text 'bookstore' or 'books.toscrape.com'"
   ]
  },
  {
   "cell_type": "code",
   "execution_count": 5,
   "id": "743ff008-bed3-464b-9473-75464f2a12c8",
   "metadata": {},
   "outputs": [],
   "source": [
    "link = driver.find_element(By.PARTIAL_LINK_TEXT, \"bookstore\").get_attribute('href')"
   ]
  },
  {
   "cell_type": "code",
   "execution_count": 6,
   "id": "746cc5f8-3914-4d01-abf4-92bb2b78756e",
   "metadata": {},
   "outputs": [
    {
     "data": {
      "text/plain": [
       "'http://books.toscrape.com/'"
      ]
     },
     "execution_count": 6,
     "metadata": {},
     "output_type": "execute_result"
    }
   ],
   "source": [
    "link"
   ]
  },
  {
   "cell_type": "markdown",
   "id": "11ce6309-5754-46eb-89a6-fad00b5a046e",
   "metadata": {},
   "source": [
    "#### Verify if the link is similar to books.toscrape.com"
   ]
  },
  {
   "cell_type": "code",
   "execution_count": 7,
   "id": "cdb0ec64-0273-4701-a014-d2c1d3420f69",
   "metadata": {},
   "outputs": [
    {
     "name": "stdout",
     "output_type": "stream",
     "text": [
      "Category URL: http://books.toscrape.com/catalogue/category/books/childrens_11/index.html\n",
      "Category Name: Childrens\n",
      "\tCategory Results: 29 results - showing 1 to 20.\n"
     ]
    }
   ],
   "source": [
    "if 'books.toscrape.com' in link:\n",
    "    bookUrl = driver.find_element(By.PARTIAL_LINK_TEXT, \"bookstore\").click()\n",
    "   \n",
    "    #Choose the Category with text 'Childrens'\n",
    "    categoryURL = driver.find_element(By.LINK_TEXT, \"Childrens\").get_attribute('href')\n",
    "    print(f\"Category URL: {categoryURL}\")\n",
    "    \n",
    "    #lets load the category page\n",
    "    driver.find_element(By.LINK_TEXT, \"Childrens\").click() \n",
    "    \n",
    "    #Select the Category Name from page and the results.\n",
    "    categoryName = driver.find_element(By.CLASS_NAME, \"page-header\").find_element(By.TAG_NAME,\"h1\").text\n",
    "    categoryResults = driver.find_element(By.CSS_SELECTOR, \"form.form-horizontal\").text\n",
    "    \n",
    "    print(f\"Category Name: {categoryName}\")\n",
    "    print(f\"\\tCategory Results: {categoryResults}\")"
   ]
  },
  {
   "cell_type": "markdown",
   "id": "15d8800d-b07c-4b60-93cc-0d9686461e6a",
   "metadata": {},
   "source": [
    "#### Default values like book-count, column-name, pagination"
   ]
  },
  {
   "cell_type": "code",
   "execution_count": 8,
   "id": "fd7f81e5-6d01-4ce1-b345-75c0a2a32b21",
   "metadata": {},
   "outputs": [],
   "source": [
    "pagination=False  #default \n",
    "column=['Upc','Title','Price','Rating','Stock','Stock_Qty','Url','Image']        \n",
    "dataSet=[]   #empty dataset\n",
    "count=0"
   ]
  },
  {
   "cell_type": "code",
   "execution_count": 9,
   "id": "9385f3bb-c37a-4908-8157-afb89393b011",
   "metadata": {},
   "outputs": [
    {
     "name": "stdout",
     "output_type": "stream",
     "text": [
      "Processing Page 1 -- 1\n",
      "Data..http://books.toscrape.com/catalogue/birdsong-a-story-in-pictures_975/index.html -- Birdsong: A Story in Pictures -- star-rating Three -- £54.64\n",
      "Data..http://books.toscrape.com/catalogue/the-bear-and-the-piano_967/index.html -- The Bear and the Piano -- star-rating One -- £36.89\n",
      "Data..http://books.toscrape.com/catalogue/the-secret-of-dreadwillow-carse_944/index.html -- The Secret of Dreadwillow Carse -- star-rating One -- £56.13\n",
      "Data..http://books.toscrape.com/catalogue/the-white-cat-and-the-monk-a-retelling-of-the-poem-pangur-ban_865/index.html -- The White Cat and the Monk: A Retelling of the Poem “Pangur Bán” -- star-rating Four -- £58.08\n",
      "Data..http://books.toscrape.com/catalogue/little-red_817/index.html -- Little Red -- star-rating Three -- £13.47\n",
      "Data..http://books.toscrape.com/catalogue/walt-disneys-alice-in-wonderland_777/index.html -- Walt Disney's Alice in Wonderland -- star-rating Five -- £12.96\n",
      "Data..http://books.toscrape.com/catalogue/twenty-yawns_773/index.html -- Twenty Yawns -- star-rating Two -- £22.08\n",
      "Data..http://books.toscrape.com/catalogue/rain-fish_728/index.html -- Rain Fish -- star-rating Three -- £23.57\n",
      "Data..http://books.toscrape.com/catalogue/once-was-a-time_724/index.html -- Once Was a Time -- star-rating Two -- £18.28\n",
      "Data..http://books.toscrape.com/catalogue/luis-paints-the-world_714/index.html -- Luis Paints the World -- star-rating Three -- £53.95\n",
      "Data..http://books.toscrape.com/catalogue/nap-a-roo_567/index.html -- Nap-a-Roo -- star-rating One -- £25.08\n",
      "Data..http://books.toscrape.com/catalogue/the-whale_501/index.html -- The Whale -- star-rating Four -- £35.96\n",
      "Data..http://books.toscrape.com/catalogue/shrunken-treasures-literary-classics-short-sweet-and-silly_484/index.html -- Shrunken Treasures: Literary Classics, Short, Sweet, and Silly -- star-rating Three -- £52.87\n",
      "Data..http://books.toscrape.com/catalogue/raymie-nightingale_482/index.html -- Raymie Nightingale -- star-rating Two -- £34.41\n",
      "Data..http://books.toscrape.com/catalogue/playing-from-the-heart_481/index.html -- Playing from the Heart -- star-rating One -- £32.38\n",
      "Data..http://books.toscrape.com/catalogue/maybe-something-beautiful-how-art-transformed-a-neighborhood_386/index.html -- Maybe Something Beautiful: How Art Transformed a Neighborhood -- star-rating One -- £22.54\n",
      "Data..http://books.toscrape.com/catalogue/the-wild-robot_288/index.html -- The Wild Robot -- star-rating Three -- £56.07\n",
      "Data..http://books.toscrape.com/catalogue/the-thing-about-jellyfish_283/index.html -- The Thing About Jellyfish -- star-rating One -- £48.77\n",
      "Data..http://books.toscrape.com/catalogue/the-lonely-ones_261/index.html -- The Lonely Ones -- star-rating Five -- £43.59\n",
      "Data..http://books.toscrape.com/catalogue/the-day-the-crayons-came-home-crayons_241/index.html -- The Day the Crayons Came Home (Crayons) -- star-rating Five -- £26.33\n",
      "Processing Page 2 -- 21\n",
      "Data..http://books.toscrape.com/catalogue/the-cat-in-the-hat-beginner-books-b-1_235/index.html -- The Cat in the Hat (Beginner Books B-1) -- star-rating Two -- £16.26\n",
      "Data..http://books.toscrape.com/catalogue/red-the-true-story-of-red-riding-hood_210/index.html -- Red: The True Story of Red Riding Hood -- star-rating Three -- £28.54\n",
      "Data..http://books.toscrape.com/catalogue/horrible-bear_168/index.html -- Horrible Bear! -- star-rating Two -- £37.52\n",
      "Data..http://books.toscrape.com/catalogue/green-eggs-and-ham-beginner-books-b-16_165/index.html -- Green Eggs and Ham (Beginner Books B-16) -- star-rating Four -- £10.79\n",
      "Data..http://books.toscrape.com/catalogue/counting-thyme_142/index.html -- Counting Thyme -- star-rating One -- £10.62\n",
      "Data..http://books.toscrape.com/catalogue/are-we-there-yet_122/index.html -- Are We There Yet? -- star-rating Three -- £10.66\n",
      "Data..http://books.toscrape.com/catalogue/diary-of-a-minecraft-zombie-book-1-a-scare-of-a-dare-an-unofficial-minecraft-book_99/index.html -- Diary of a Minecraft Zombie Book 1: A Scare of a Dare (An Unofficial Minecraft Book) -- star-rating Four -- £52.88\n",
      "Data..http://books.toscrape.com/catalogue/matilda_32/index.html -- Matilda -- star-rating One -- £28.34\n",
      "Data..http://books.toscrape.com/catalogue/charlie-and-the-chocolate-factory-charlie-bucket-1_13/index.html -- Charlie and the Chocolate Factory (Charlie Bucket #1) -- star-rating Three -- £22.85\n",
      "Further Pagination is not possible, currently at 2\n"
     ]
    }
   ],
   "source": [
    "if re.search('\\d+\\s*result.*showing',categoryResults): #29results - showing 1 to 20. #10 results\n",
    "#if re.search('\\d+\\s*result.*',categoryResults): #29results - showing 1 to 20. #10 results\n",
    "    pagination = True\n",
    "    page=1\n",
    "    while pagination:\n",
    "        try:\n",
    "            print(f\"Processing Page {page} -- {(count+1)}\")\n",
    "            listings = driver.find_elements(By.CSS_SELECTOR,\"ol.row li\") # multiple elements   \n",
    "            \n",
    "            #Iterate the listing available in the page\n",
    "            for listing in listings:\n",
    "                # print(count)\n",
    "                article = listing.find_element(By.TAG_NAME,'article')\n",
    "\n",
    "                image = article.find_element(By.CSS_SELECTOR,\"a\")\n",
    "                articleLink = image.get_attribute('href')\n",
    "                imageSrc = image.find_element(By.TAG_NAME,'img').get_attribute('src')\n",
    "                imageAlt = image.find_element(By.TAG_NAME,'img').get_attribute('alt')\n",
    "                rating = article.find_element(By.CSS_SELECTOR,\"p[class*='star']\").get_attribute('class')\n",
    "                title = article.find_element(By.CSS_SELECTOR,\"h3 a\").get_attribute('title')\n",
    "                price = article.find_element(By.CLASS_NAME,\"price_color\").text\n",
    "                print(f\"Data..{articleLink} -- {imageAlt} -- {rating} -- {price}\")\n",
    "               \n",
    "                if articleLink:\n",
    "                    listing.find_element(By.TAG_NAME,'img').click() #loads the detail page\n",
    "                    upc = driver.find_element(By.XPATH,\"//th[contains(text(),'UPC')]/following-sibling::td\").text\n",
    "                    \n",
    "                    if upc: # check if UPC is available\n",
    "                        stockQty= driver.find_element(By.XPATH,\"//th[contains(text(),'Availability')]/following-sibling::td\").text\n",
    "                        \n",
    "                        # Add values to temp list\n",
    "                        temp=[upc,title,price,rating.replace('star-rating','').strip(),\n",
    "                              stockQty.split('(')[0].strip(),\n",
    "                              stockQty.split('(')[1].replace('available','').replace(')','').strip(),\n",
    "                              articleLink,\n",
    "                              imageSrc]\n",
    "                    count=count+1\n",
    "                    dataSet.append(temp) #append temp list details to main dataSet.\n",
    "                \n",
    "                #Go back to history (From Product page to Product Listing Page)\n",
    "                driver.back()       \n",
    "            try:\n",
    "                #Check for Pagination with text 'next' in the Listing page\n",
    "                driver.find_element(By.LINK_TEXT,'next').click()\n",
    "                page=page+1\n",
    "            except NoSuchElementException:                \n",
    "                pagination = False\n",
    "                print(f\"Further Pagination is not possible, currently at {page}\")\n",
    "        except Exception as e:\n",
    "            print(f\"Exception Occured: {str(e)}\")\n",
    "            pagination = False\n",
    "# print(dataSet)"
   ]
  },
  {
   "cell_type": "markdown",
   "id": "d103ae87-3cfb-4898-b045-d0231fd22471",
   "metadata": {},
   "source": [
    "#### With final dataSet in hand, lets write the data to CSV and JSON files."
   ]
  },
  {
   "cell_type": "code",
   "execution_count": 10,
   "id": "879ecec3-69a6-4974-b309-2f482b524134",
   "metadata": {},
   "outputs": [
    {
     "name": "stdout",
     "output_type": "stream",
     "text": [
      "Total rows in dataSet : 29\n"
     ]
    }
   ],
   "source": [
    "print(f\"Total rows in dataSet : {len(dataSet)}\")"
   ]
  },
  {
   "cell_type": "code",
   "execution_count": 11,
   "id": "b46ba9f9-2d41-4e69-ad15-e401ff95dcc3",
   "metadata": {},
   "outputs": [],
   "source": [
    "import csv\n",
    "import json"
   ]
  },
  {
   "cell_type": "markdown",
   "id": "e6d4784c-7b5e-4922-b6be-491938675029",
   "metadata": {},
   "source": [
    "##### Create a CSV file using column as first row\n"
   ]
  },
  {
   "cell_type": "code",
   "execution_count": 12,
   "id": "eb406c6a-3405-4525-a40c-879ba0411b9d",
   "metadata": {},
   "outputs": [
    {
     "name": "stdout",
     "output_type": "stream",
     "text": [
      "CSV file Created\n"
     ]
    }
   ],
   "source": [
    "fileCsv = open('book_details.csv', 'w', newline='', encoding='utf-8')\n",
    "writer = csv.writer(fileCsv)\n",
    "writer.writerow(column)\n",
    "for data in dataSet:\n",
    "    writer.writerow(data)\n",
    "fileCsv.close()\n",
    "print(\"CSV file Created\")"
   ]
  },
  {
   "cell_type": "markdown",
   "id": "f45de80c-b9b2-46f5-ace8-3d0958caff1f",
   "metadata": {},
   "source": [
    "##### Create a JSON file.\n"
   ]
  },
  {
   "cell_type": "code",
   "execution_count": 13,
   "id": "d09e3d7e-19e4-4555-a5e4-db718d99af6c",
   "metadata": {},
   "outputs": [
    {
     "name": "stdout",
     "output_type": "stream",
     "text": [
      "JSON file Created\n"
     ]
    }
   ],
   "source": [
    "finalDataSet=list() #empty Dataset\n",
    "for data in dataSet:\n",
    "    finalDataSet.append(dict(zip(column,data)))  #append a dictionary with column name as key and data as value\n",
    "# print(finalDataSet)\n",
    "\n",
    "with open('book_details.json', 'w') as jsonfile:\n",
    "    json.dump(finalDataSet,jsonfile)\n",
    "print(\"JSON file Created\")"
   ]
  },
  {
   "cell_type": "markdown",
   "id": "d3f30a49-1130-4589-ab4b-f884a21dc8b2",
   "metadata": {},
   "source": [
    "#### Closing and ending the 'driver' session using quit()"
   ]
  },
  {
   "cell_type": "code",
   "execution_count": 14,
   "id": "7f4cc1a5-993b-45a0-b182-b827eec3e622",
   "metadata": {},
   "outputs": [],
   "source": [
    "driver.quit()"
   ]
  },
  {
   "cell_type": "code",
   "execution_count": null,
   "id": "697253cd-85d2-4819-a26f-ca2f8677b9ea",
   "metadata": {},
   "outputs": [],
   "source": []
  }
 ],
 "metadata": {
  "kernelspec": {
   "display_name": "Python 3 (ipykernel)",
   "language": "python",
   "name": "python3"
  },
  "language_info": {
   "codemirror_mode": {
    "name": "ipython",
    "version": 3
   },
   "file_extension": ".py",
   "mimetype": "text/x-python",
   "name": "python",
   "nbconvert_exporter": "python",
   "pygments_lexer": "ipython3",
   "version": "3.11.1"
  }
 },
 "nbformat": 4,
 "nbformat_minor": 5
}
