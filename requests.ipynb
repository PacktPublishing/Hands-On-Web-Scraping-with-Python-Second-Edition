{
 "cells": [
  {
   "cell_type": "code",
   "execution_count": 92,
   "id": "d14eff15-d27f-43d2-a234-63571c975c34",
   "metadata": {},
   "outputs": [],
   "source": [
    "import requests"
   ]
  },
  {
   "cell_type": "code",
   "execution_count": 93,
   "id": "4be94a8b-6879-4a19-a33b-0c083df2bd17",
   "metadata": {
    "tags": []
   },
   "outputs": [],
   "source": [
    "link=\"https://requests.readthedocs.io/\""
   ]
  },
  {
   "cell_type": "code",
   "execution_count": 94,
   "id": "aeb2df42-a85f-4617-a61f-ca68e13e72e9",
   "metadata": {},
   "outputs": [],
   "source": [
    "response = requests.get(link)    #making HTTP Request to link"
   ]
  },
  {
   "cell_type": "code",
   "execution_count": 95,
   "id": "9d7cbd18-808b-4f42-8554-8c0070c820b5",
   "metadata": {},
   "outputs": [
    {
     "data": {
      "text/plain": [
       "requests.models.Response"
      ]
     },
     "execution_count": 95,
     "metadata": {},
     "output_type": "execute_result"
    }
   ],
   "source": [
    "type(response)"
   ]
  },
  {
   "cell_type": "code",
   "execution_count": 96,
   "id": "014b66c2-32e1-4891-8500-e2fd2a3fa79f",
   "metadata": {},
   "outputs": [
    {
     "data": {
      "text/plain": [
       "<Response [200]>"
      ]
     },
     "execution_count": 96,
     "metadata": {},
     "output_type": "execute_result"
    }
   ],
   "source": [
    "response"
   ]
  },
  {
   "cell_type": "code",
   "execution_count": null,
   "id": "1ec0c3e5-5ede-4331-a3e3-ac4ec16b3986",
   "metadata": {},
   "outputs": [],
   "source": [
    "#dir(requests)"
   ]
  },
  {
   "cell_type": "code",
   "execution_count": null,
   "id": "01433ac2-8658-4adb-b219-ea0554f17aa3",
   "metadata": {
    "scrolled": true,
    "tags": []
   },
   "outputs": [],
   "source": [
    "#dir(response)"
   ]
  },
  {
   "cell_type": "code",
   "execution_count": 97,
   "id": "42e22104-c341-4d20-a9a6-17234b8d204d",
   "metadata": {},
   "outputs": [
    {
     "data": {
      "text/plain": [
       "200"
      ]
     },
     "execution_count": 97,
     "metadata": {},
     "output_type": "execute_result"
    }
   ],
   "source": [
    "response.status_code  #status_code"
   ]
  },
  {
   "cell_type": "code",
   "execution_count": 98,
   "id": "3e463473-760d-4496-8618-0b3acdd2d8fd",
   "metadata": {},
   "outputs": [
    {
     "data": {
      "text/plain": [
       "True"
      ]
     },
     "execution_count": 98,
     "metadata": {},
     "output_type": "execute_result"
    }
   ],
   "source": [
    "response.status_code == requests.codes.ok"
   ]
  },
  {
   "cell_type": "code",
   "execution_count": 99,
   "id": "0720158a-74a6-4176-bc00-f34662d069a4",
   "metadata": {},
   "outputs": [
    {
     "data": {
      "text/plain": [
       "'https://requests.readthedocs.io/en/latest/'"
      ]
     },
     "execution_count": 99,
     "metadata": {},
     "output_type": "execute_result"
    }
   ],
   "source": [
    "response.url"
   ]
  },
  {
   "cell_type": "code",
   "execution_count": 100,
   "id": "98fd052f-966a-4212-8874-fbef43252bc9",
   "metadata": {},
   "outputs": [
    {
     "data": {
      "text/plain": [
       "[<Response [302]>]"
      ]
     },
     "execution_count": 100,
     "metadata": {},
     "output_type": "execute_result"
    }
   ],
   "source": [
    "response.history"
   ]
  },
  {
   "cell_type": "code",
   "execution_count": null,
   "id": "6bfa1412-72f7-4df0-9b07-19022075ab07",
   "metadata": {
    "scrolled": true,
    "tags": []
   },
   "outputs": [],
   "source": [
    "dir(response)"
   ]
  },
  {
   "cell_type": "code",
   "execution_count": null,
   "id": "384562de-3edf-467b-b882-a23b7eb72215",
   "metadata": {},
   "outputs": [],
   "source": [
    "response.encoding"
   ]
  },
  {
   "cell_type": "markdown",
   "id": "45940c11-74e4-463a-8ddb-b0481302c265",
   "metadata": {},
   "source": [
    "### Collecting Page Content or Source"
   ]
  },
  {
   "cell_type": "code",
   "execution_count": null,
   "id": "34b64965-487a-48e1-a238-d996ca4d3749",
   "metadata": {
    "scrolled": true,
    "tags": []
   },
   "outputs": [],
   "source": [
    "response.content[0:500] #content 500 Chars"
   ]
  },
  {
   "cell_type": "code",
   "execution_count": null,
   "id": "85949b18-33bf-41f0-9aea-df934354a14a",
   "metadata": {
    "scrolled": true,
    "tags": []
   },
   "outputs": [],
   "source": [
    "response.text[0:500]"
   ]
  },
  {
   "cell_type": "markdown",
   "id": "918c7606-5f10-4193-bae8-98f7386db5fc",
   "metadata": {},
   "source": [
    "### Write Response text to HTML file"
   ]
  },
  {
   "cell_type": "code",
   "execution_count": null,
   "id": "1e9aa2d3-e9e8-438c-ba2f-6b1de63a1ced",
   "metadata": {},
   "outputs": [],
   "source": [
    "f = open('test.html',\"wb\") #open the file in 'w' mode\n",
    "f.write(response.content) #write response.content to the file\n",
    "f.close() #close file handler"
   ]
  },
  {
   "cell_type": "markdown",
   "id": "00692166-468d-4aad-9b3e-7822183758e3",
   "metadata": {
    "tags": []
   },
   "source": [
    "### Read and Write JSON to file"
   ]
  },
  {
   "cell_type": "code",
   "execution_count": null,
   "id": "f6a7b452-8fe6-40fc-b90d-311e3943c86e",
   "metadata": {},
   "outputs": [],
   "source": [
    "jsonResponse = requests.get(\"https://feeds.citibikenyc.com/stations/stations.json\")"
   ]
  },
  {
   "cell_type": "code",
   "execution_count": null,
   "id": "874294ed-d371-4470-b6a7-eb3434518bec",
   "metadata": {},
   "outputs": [],
   "source": [
    "json_response = requests.get(\"https://feeds.citibikenyc.com/stations/stations.json\").json()\n",
    "for i in range(5):\n",
    "    print(json_response['stationBeanList'][i]['stationName'])"
   ]
  },
  {
   "cell_type": "code",
   "execution_count": null,
   "id": "b355de9d-5828-4657-aee8-86144295d5d7",
   "metadata": {},
   "outputs": [],
   "source": [
    "j = open('stations.json',\"wb\") #open the file in 'w' mode\n",
    "j.write(jsonResponse.content) #write jsonResponse.content to the file\n",
    "j.close() #close file handler"
   ]
  },
  {
   "cell_type": "markdown",
   "id": "71d0b295-55a6-4488-ab0d-208258280e93",
   "metadata": {},
   "source": [
    "### Raw content"
   ]
  },
  {
   "cell_type": "code",
   "execution_count": null,
   "id": "96ad882a-cee3-48d3-b1cc-1eaa72b0f17c",
   "metadata": {},
   "outputs": [],
   "source": [
    "new_response = requests.get(link,stream=True)"
   ]
  },
  {
   "cell_type": "code",
   "execution_count": null,
   "id": "5332fd07-4c33-4eb3-b090-a3a7873f89f5",
   "metadata": {},
   "outputs": [],
   "source": [
    "new_response.raw.read(200) #first 200 Chars"
   ]
  },
  {
   "cell_type": "markdown",
   "id": "01bec942-efd1-47d3-8224-bea9313a05cb",
   "metadata": {},
   "source": [
    "## Headers"
   ]
  },
  {
   "cell_type": "code",
   "execution_count": null,
   "id": "209e4d10-1ad2-48e4-9320-7d4a4c032c28",
   "metadata": {},
   "outputs": [],
   "source": [
    "response.request.headers #request headers"
   ]
  },
  {
   "cell_type": "code",
   "execution_count": null,
   "id": "a725020d-9dc7-4804-a7ad-cdf90851c12e",
   "metadata": {},
   "outputs": [],
   "source": [
    "response.headers #response headers"
   ]
  },
  {
   "cell_type": "code",
   "execution_count": null,
   "id": "5530924a-da23-45f7-aafe-d0e362757d1a",
   "metadata": {},
   "outputs": [],
   "source": [
    "response.headers['ETag']"
   ]
  },
  {
   "cell_type": "markdown",
   "id": "6abb7e07-37f4-452c-87c8-3cfd086c931e",
   "metadata": {},
   "source": [
    "## Cookies"
   ]
  },
  {
   "cell_type": "code",
   "execution_count": null,
   "id": "3cc28e66-f035-443c-863b-b8b52cc3804d",
   "metadata": {},
   "outputs": [],
   "source": [
    "response.cookies # empty cookies"
   ]
  },
  {
   "cell_type": "code",
   "execution_count": null,
   "id": "1ff3b2f9-562d-49da-87fd-4d1a2d29f113",
   "metadata": {},
   "outputs": [],
   "source": [
    "response_github = requests.get('https://www.github.com/anishchapagain')"
   ]
  },
  {
   "cell_type": "code",
   "execution_count": null,
   "id": "5c6eb3dd-bd8b-4bf5-8927-0b43cc5c1519",
   "metadata": {},
   "outputs": [],
   "source": [
    "response_github.cookies"
   ]
  },
  {
   "cell_type": "markdown",
   "id": "05339693-4f66-4877-ad3e-a2102986fd8a",
   "metadata": {},
   "source": [
    "### Loop through Cookies"
   ]
  },
  {
   "cell_type": "code",
   "execution_count": null,
   "id": "800ee707-f338-46dd-9efa-605a5fb0af27",
   "metadata": {},
   "outputs": [],
   "source": [
    "for cookie in response_github.cookies:\n",
    "    if cookie.domain=='github.com':\n",
    "        print(cookie.name,' : ',cookie.value)\n",
    "        break"
   ]
  },
  {
   "cell_type": "markdown",
   "id": "228e2c46-3373-4615-9c02-8d2037ac3771",
   "metadata": {},
   "source": [
    "### Pass cookie using Dictionary and RequestCookieJar"
   ]
  },
  {
   "cell_type": "code",
   "execution_count": null,
   "id": "90de432f-621c-4a2d-b29d-e9d1237d13c1",
   "metadata": {},
   "outputs": [],
   "source": [
    "cookies = dict(name='somedomain', path='/') #dictionary\n",
    "cookies\n",
    "#responseA = requests.get(someurl, cookies=cookies)"
   ]
  },
  {
   "cell_type": "code",
   "execution_count": null,
   "id": "6a9f1a30-d866-44d6-8f36-c63816ee55a0",
   "metadata": {
    "scrolled": true,
    "tags": []
   },
   "outputs": [],
   "source": [
    "dir(session)"
   ]
  },
  {
   "cell_type": "code",
   "execution_count": null,
   "id": "cd80d808-0490-4634-bf98-0e38494208c5",
   "metadata": {
    "scrolled": true,
    "tags": []
   },
   "outputs": [],
   "source": [
    "cookiesJar = requests.cookies.RequestsCookieJar() #Jar: key,value,domain,path\n",
    "cookiesJar.set('some_name', 'some_value', domain='some_domain.com', path='/secureHttps')\n",
    "cookiesJar\n",
    "#responseB = requests.get(someurl, cookies=cookiesJar)"
   ]
  },
  {
   "cell_type": "markdown",
   "id": "117a746b-babd-460e-86e7-c0d769cc878b",
   "metadata": {},
   "source": [
    "### Sessions"
   ]
  },
  {
   "cell_type": "code",
   "execution_count": null,
   "id": "743ba1a8-9da6-4b45-8a06-40184b4ae83b",
   "metadata": {},
   "outputs": [],
   "source": [
    "session = requests.Session()"
   ]
  },
  {
   "cell_type": "code",
   "execution_count": null,
   "id": "1c4ae262-ed0a-48f8-9843-939078e31b5c",
   "metadata": {},
   "outputs": [],
   "source": [
    "session"
   ]
  },
  {
   "cell_type": "code",
   "execution_count": null,
   "id": "1d8bc951-7751-4d23-ba67-d516a759799d",
   "metadata": {},
   "outputs": [],
   "source": [
    "session.headers"
   ]
  },
  {
   "cell_type": "code",
   "execution_count": null,
   "id": "d00e812c-b607-4a50-b34e-28f7ae844d10",
   "metadata": {},
   "outputs": [],
   "source": [
    "session.cookies"
   ]
  },
  {
   "cell_type": "code",
   "execution_count": null,
   "id": "f715126a-fe72-441c-9362-328b016eaa95",
   "metadata": {},
   "outputs": [],
   "source": [
    "session_obj = requests.Session()"
   ]
  },
  {
   "cell_type": "code",
   "execution_count": null,
   "id": "0f04f51e-c8f8-4066-8846-3c55a68553ed",
   "metadata": {},
   "outputs": [],
   "source": [
    "response_obj = session_obj.get('https://httpbin.org/cookies', cookies={'name': 'anishchapagain','date':'30-dec-2022'})\n",
    "response_obj.text"
   ]
  },
  {
   "cell_type": "code",
   "execution_count": null,
   "id": "2a579bd0-31c7-45e1-9b28-23b220f09763",
   "metadata": {},
   "outputs": [],
   "source": [
    "response_obj.headers"
   ]
  },
  {
   "cell_type": "code",
   "execution_count": null,
   "id": "d247080f-62f9-4674-b45d-aabe8112a0de",
   "metadata": {},
   "outputs": [],
   "source": [
    "response_test = session_obj.get('https://httpbin.org/cookies')\n",
    "response_test.text"
   ]
  },
  {
   "cell_type": "code",
   "execution_count": null,
   "id": "87dbd28c-362c-404c-a047-969a50f2ed20",
   "metadata": {},
   "outputs": [],
   "source": [
    "#response_test.cookies"
   ]
  },
  {
   "cell_type": "code",
   "execution_count": null,
   "id": "4af796c7-1f59-41d6-a5c0-7cf233ca66c3",
   "metadata": {},
   "outputs": [],
   "source": [
    "response_test.headers"
   ]
  },
  {
   "cell_type": "code",
   "execution_count": null,
   "id": "4f975276-8f94-4d31-8742-0655d45c3adc",
   "metadata": {},
   "outputs": [],
   "source": [
    "response_test.headers['Connection']='False'"
   ]
  },
  {
   "cell_type": "code",
   "execution_count": null,
   "id": "97758e2b-d03e-4727-9d47-f4c83552cdb0",
   "metadata": {},
   "outputs": [],
   "source": [
    "response_test.headers['Connection']"
   ]
  },
  {
   "cell_type": "markdown",
   "id": "a29f3ea8-3d88-4c16-957f-614b70e8373e",
   "metadata": {
    "tags": []
   },
   "source": [
    "### HTTP Methods: GET"
   ]
  },
  {
   "cell_type": "code",
   "execution_count": 104,
   "id": "0202e947-063e-48c7-b90a-9b0160cfaf6a",
   "metadata": {},
   "outputs": [],
   "source": [
    "url='https://www.anishchapagain.com'\n",
    "queries={'e':'UTF8','reviewerType':'all_reviews'}\n",
    "addHeaders={'user-agent':'','accept':'text/html','referer':'https://www.anishchapagain.com'}\n",
    "demoCookie={'domain':'anishchapagain'}\n",
    "demoIps = {'http':'http://10.10.1.10:3128',  'https': 'http://10.10.1.10:1080'} #random values need to be updated"
   ]
  },
  {
   "cell_type": "code",
   "execution_count": 105,
   "id": "61cc2105-286b-4dd3-8bc2-99d3a502175c",
   "metadata": {},
   "outputs": [
    {
     "data": {
      "text/plain": [
       "'https://www.anishchapagain.com/?e=UTF8&reviewerType=all_reviews'"
      ]
     },
     "execution_count": 105,
     "metadata": {},
     "output_type": "execute_result"
    }
   ],
   "source": [
    "response = requests.get(url, params=queries)\n",
    "response.url"
   ]
  },
  {
   "cell_type": "code",
   "execution_count": null,
   "id": "ca7d4ae9-fa7d-4726-8173-2da0bb37c4ab",
   "metadata": {},
   "outputs": [],
   "source": [
    "response = requests.get(url,params=queries,headers=addHeaders,cookies=demoCookie,proxies=demoIps,timeout=3).content\n",
    "print(response)"
   ]
  },
  {
   "cell_type": "markdown",
   "id": "ce722432-5361-4d05-8727-0c1329947f86",
   "metadata": {},
   "source": [
    "### HTTP Methods POST"
   ]
  },
  {
   "cell_type": "code",
   "execution_count": 107,
   "id": "ac3a14e9-7aa1-4fa1-806f-d8eb3c5a2841",
   "metadata": {},
   "outputs": [],
   "source": [
    "pageUrl= 'http://httpbin.org/forms/post'\n",
    "postUrl= 'http://httpbin.org/post'\n",
    "params = {'customer':'Mr Anish','custtel':'','custemail':'anish@anishchapagain.com','size':'medium',\n",
    "          'topping':['cheese','mushroom'],'delivery':'14:45','comments':'No comments'}\n",
    "headers = {'accept':'text/html, */*', 'referer':pageUrl}"
   ]
  },
  {
   "cell_type": "code",
   "execution_count": 108,
   "id": "5dc6995a-e1a6-4597-90bd-78684414c5f5",
   "metadata": {
    "scrolled": true,
    "tags": []
   },
   "outputs": [
    {
     "name": "stdout",
     "output_type": "stream",
     "text": [
      "{'args': {}, 'data': '', 'files': {}, 'form': {'comments': 'No comments', 'custemail': 'anish@anishchapagain.com', 'customer': 'Mr Anish', 'custtel': '', 'delivery': '14:45', 'size': 'medium', 'topping': ['cheese', 'mushroom']}, 'headers': {'Accept': 'text/html, */*', 'Accept-Encoding': 'gzip, deflate', 'Content-Length': '145', 'Content-Type': 'application/x-www-form-urlencoded', 'Host': 'httpbin.org', 'Referer': 'http://httpbin.org/forms/post', 'User-Agent': 'python-requests/2.28.1', 'X-Amzn-Trace-Id': 'Root=1-63aef494-1499c33129671b8c7ff6c05f'}, 'json': None, 'origin': '103.10.31.93', 'url': 'http://httpbin.org/post'}\n"
     ]
    }
   ],
   "source": [
    "response = requests.post(postUrl,data=params,headers=headers).json()\n",
    "print(response)"
   ]
  },
  {
   "cell_type": "code",
   "execution_count": null,
   "id": "b12765dd-cfa3-4009-a800-e6940725f0c0",
   "metadata": {},
   "outputs": [],
   "source": []
  }
 ],
 "metadata": {
  "kernelspec": {
   "display_name": "Python 3 (ipykernel)",
   "language": "python",
   "name": "python3"
  },
  "language_info": {
   "codemirror_mode": {
    "name": "ipython",
    "version": 3
   },
   "file_extension": ".py",
   "mimetype": "text/x-python",
   "name": "python",
   "nbconvert_exporter": "python",
   "pygments_lexer": "ipython3",
   "version": "3.11.1"
  }
 },
 "nbformat": 4,
 "nbformat_minor": 5
}
