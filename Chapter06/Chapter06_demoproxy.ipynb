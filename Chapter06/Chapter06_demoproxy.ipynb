{
 "cells": [
  {
   "cell_type": "markdown",
   "id": "9de8cd3b-a1a6-44d5-8829-7cbe08c7e7b0",
   "metadata": {},
   "source": [
    "## Demo Script: showing HOW proxy can be used"
   ]
  },
  {
   "cell_type": "code",
   "execution_count": 3,
   "id": "2af5f9a4-b2b8-4f19-9e5f-b8fdb4ca2dba",
   "metadata": {},
   "outputs": [],
   "source": [
    "import requests, random\n",
    "from pyquery import PyQuery"
   ]
  },
  {
   "cell_type": "code",
   "execution_count": 4,
   "id": "da702d9d-5282-4b07-a346-c2722a9d9f87",
   "metadata": {},
   "outputs": [],
   "source": [
    "urlA = \"https://www.somewebsite.com\"   # demo URL\n",
    "urlB = \"http://www.anotherdomain.io\"  # demo URL"
   ]
  },
  {
   "cell_type": "markdown",
   "id": "152fe552-e210-43a1-b28c-3a568eae9092",
   "metadata": {},
   "source": [
    "### Proxy can be collected in various format"
   ]
  },
  {
   "cell_type": "code",
   "execution_count": 5,
   "id": "0e38b1f9-cc22-4e4d-b1e5-06948b8a5bff",
   "metadata": {},
   "outputs": [],
   "source": [
    "proxyPool = [\"3.168.X.X\", \"104.X.X.12\",\"107.194.X.X\",\"202.45.X.X\"] #demo\n",
    "\n",
    "proxyAPI = \"https://www.someprovider.com/proxy?key=API_KEY&type=rotating\"  # rotating, residential-mobile, residential...\n",
    "\n",
    "# smartproxy, oxylabs, brightdata, mobilehop, proxyempire, .... plenty of providers are there.\n",
    "# You can just search them pick their plan and executing methods (List or API or...)."
   ]
  },
  {
   "cell_type": "markdown",
   "id": "8fc58e1d-359c-447a-8938-76af8e890d83",
   "metadata": {},
   "source": [
    "### HTTP Header & Proxy combination (is sufficient enough to bypass securities)"
   ]
  },
  {
   "cell_type": "code",
   "execution_count": 7,
   "id": "1c3be540-3954-428c-b40e-e98dc430e03a",
   "metadata": {},
   "outputs": [],
   "source": [
    "headersHTTP = { \n",
    "\"accept\" : \"text/html,application/xhtml+xml,application/xml; q=0.9,….b3;q=0.7\", #shorten - replace\n",
    "\"accept-encoding\": \"gzip, deflate, br\",\n",
    "\"accept-language\":\"en-US,en;q=0.9\",\n",
    "\"cache-control\": \"max-age=0\",\n",
    "\"upgrade-insecure-requests\":\"1\", \n",
    "\"referer\":\"https://www.somesite.com\",\n",
    "\"user-agent\": \"Mozilla/5.0 (Windows NT 10.0; Win64; x64) …….\", #shorten - replace\n",
    "} # HTTP Header (demo)"
   ]
  },
  {
   "cell_type": "markdown",
   "id": "a4b0f8ee-2c8d-41e9-8579-fc93dc83a866",
   "metadata": {},
   "source": [
    "### Example 1: Using proxyPool"
   ]
  },
  {
   "cell_type": "code",
   "execution_count": null,
   "id": "46b113dd-41b3-46bc-ba0d-865dd72799b6",
   "metadata": {},
   "outputs": [],
   "source": [
    "#1. \n",
    "proxyA = random.sample(proxyPool,k=1) #select one random IP, returns dictionary\n",
    "responseA = requests.get(urlA, headers=headersHTTP, proxies={'https':proxyA[0]})\n",
    "print(responseA)\n",
    "\n",
    "# initiate further steps on the content received"
   ]
  },
  {
   "cell_type": "markdown",
   "id": "97146bc2-8340-4a47-8e98-9babef0f2c72",
   "metadata": {},
   "source": [
    "### Example 2: Using proxyAPI"
   ]
  },
  {
   "cell_type": "code",
   "execution_count": null,
   "id": "7b54f079-52aa-45f9-9a57-d109862a0daa",
   "metadata": {},
   "outputs": [],
   "source": [
    "#2. Using proxyAPI\n",
    "proxyB = requests.get(proxyAPI).content # returns dynamic IP\n",
    "responseB = requests.get(urlB, headers=headersHTTP, proxies={'http':proxyB})\n",
    "print(responseB)\n",
    "\n",
    "# initiate further steps on the content received"
   ]
  },
  {
   "cell_type": "code",
   "execution_count": null,
   "id": "07e77607-b470-46f3-80f8-6f9731ef6c29",
   "metadata": {},
   "outputs": [],
   "source": []
  }
 ],
 "metadata": {
  "kernelspec": {
   "display_name": "Python 3 (ipykernel)",
   "language": "python",
   "name": "python3"
  },
  "language_info": {
   "codemirror_mode": {
    "name": "ipython",
    "version": 3
   },
   "file_extension": ".py",
   "mimetype": "text/x-python",
   "name": "python",
   "nbconvert_exporter": "python",
   "pygments_lexer": "ipython3",
   "version": "3.11.1"
  }
 },
 "nbformat": 4,
 "nbformat_minor": 5
}
