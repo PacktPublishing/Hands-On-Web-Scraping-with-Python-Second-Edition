{
 "cells": [
  {
   "cell_type": "markdown",
   "id": "bcb1d934-4b97-4f00-8680-3efbc1d09b06",
   "metadata": {},
   "source": [
    "### User Authentication"
   ]
  },
  {
   "cell_type": "code",
   "execution_count": 1,
   "id": "5b3ba5b5-7452-4b20-893c-6baae260287f",
   "metadata": {},
   "outputs": [],
   "source": [
    "import requests\n",
    "from pyquery import PyQuery as pq"
   ]
  },
  {
   "cell_type": "code",
   "execution_count": 2,
   "id": "23bfce3b-3e61-48a7-a2dd-4b173e1e817a",
   "metadata": {},
   "outputs": [],
   "source": [
    "baseUrl=\"http://quotes.toscrape.com/\"   #main URL\n",
    "loginUrl=\"http://quotes.toscrape.com/login\" #POST URL (Credentials and results)\n",
    "logoutUrl=\"http://quotes.toscrape.com/logout\""
   ]
  },
  {
   "cell_type": "code",
   "execution_count": 3,
   "id": "d72f4e45-8036-4ceb-94cf-d92efb0e4b68",
   "metadata": {},
   "outputs": [],
   "source": [
    "user = \"test\" # <input type=\"text\" class=\"form-control\" id=\"username\" name=\"username\" />\n",
    "csrf =''          # <input type=\"hidden\" name=\"csrf_token\" value=...... />\n",
    "passw = \"password\" # <input type=\"password\" class=\"form-control\" id=\"password\" name=\"password\" />"
   ]
  },
  {
   "cell_type": "markdown",
   "id": "1a8a3d29-9ab8-42e6-bd5f-fc8953a2051a",
   "metadata": {},
   "source": [
    "#### Form data collection"
   ]
  },
  {
   "cell_type": "code",
   "execution_count": 4,
   "id": "0c53bc73-b493-4790-b39f-25df6417cec2",
   "metadata": {},
   "outputs": [],
   "source": [
    "html = requests.get(loginUrl)\n",
    "response = pq(html.content)"
   ]
  },
  {
   "cell_type": "code",
   "execution_count": 5,
   "id": "fd677da7-42d1-4bbc-b61b-16969645ae1a",
   "metadata": {},
   "outputs": [
    {
     "data": {
      "text/plain": [
       "{'Date': 'Sat, 11 Mar 2023 12:42:55 GMT', 'Content-Type': 'text/html; charset=utf-8', 'Content-Length': '1869', 'Connection': 'keep-alive', 'Vary': 'Cookie', 'Set-Cookie': 'session=eyJjc3JmX3Rva2VuIjoiZEhMV0FEcUlWUFJrb2hmWGNtZ01lbmpTaWJsckN0QlVaWWFLeEdOcEpUeUZ2d3pFdU9RcyJ9.ZAx3Tw.QmpJe6IoX-MtTUWCFS5B8fltWoo; HttpOnly; Path=/'}"
      ]
     },
     "execution_count": 5,
     "metadata": {},
     "output_type": "execute_result"
    }
   ],
   "source": [
    "html.headers"
   ]
  },
  {
   "cell_type": "code",
   "execution_count": 6,
   "id": "99662c26-5960-4cda-b040-f68d4056c59b",
   "metadata": {},
   "outputs": [
    {
     "data": {
      "text/plain": [
       "'session=eyJjc3JmX3Rva2VuIjoiZEhMV0FEcUlWUFJrb2hmWGNtZ01lbmpTaWJsckN0QlVaWWFLeEdOcEpUeUZ2d3pFdU9RcyJ9.ZAx3Tw.QmpJe6IoX-MtTUWCFS5B8fltWoo; HttpOnly; Path=/'"
      ]
     },
     "execution_count": 6,
     "metadata": {},
     "output_type": "execute_result"
    }
   ],
   "source": [
    "html.headers['Set-Cookie']"
   ]
  },
  {
   "cell_type": "code",
   "execution_count": 7,
   "id": "e363a286-bec7-4f7e-832f-bf3cdb5e2f39",
   "metadata": {},
   "outputs": [
    {
     "data": {
      "text/plain": [
       "<RequestsCookieJar[Cookie(version=0, name='session', value='eyJjc3JmX3Rva2VuIjoiZEhMV0FEcUlWUFJrb2hmWGNtZ01lbmpTaWJsckN0QlVaWWFLeEdOcEpUeUZ2d3pFdU9RcyJ9.ZAx3Tw.QmpJe6IoX-MtTUWCFS5B8fltWoo', port=None, port_specified=False, domain='quotes.toscrape.com', domain_specified=False, domain_initial_dot=False, path='/', path_specified=True, secure=False, expires=None, discard=True, comment=None, comment_url=None, rest={'HttpOnly': None}, rfc2109=False)]>"
      ]
     },
     "execution_count": 7,
     "metadata": {},
     "output_type": "execute_result"
    }
   ],
   "source": [
    "html.cookies"
   ]
  },
  {
   "cell_type": "code",
   "execution_count": 8,
   "id": "d3a277c7-8932-4091-a3ff-2bd786ef2cc3",
   "metadata": {},
   "outputs": [],
   "source": [
    "csrf = response.find('form:first input[name=\"csrf_token\"]').attr('value') # <input type=\"hidden\" name=\"csrf_token\" value=...... />\n",
    "username = response.find('input[id=\"username\"]').attr('name')\n",
    "password = response.find('input[id=\"password\"]').attr('name')"
   ]
  },
  {
   "cell_type": "code",
   "execution_count": 9,
   "id": "ea4f5da5-c4cb-4de7-b8c9-b68fbfba1748",
   "metadata": {},
   "outputs": [
    {
     "data": {
      "text/plain": [
       "['dHLWADqIVPRkohfXcmgMenjSiblrCtBUZYaKxGNpJTyFvwzEuOQs',\n",
       " 'username',\n",
       " 'password']"
      ]
     },
     "execution_count": 9,
     "metadata": {},
     "output_type": "execute_result"
    }
   ],
   "source": [
    "[csrf,username,password]"
   ]
  },
  {
   "cell_type": "markdown",
   "id": "55e502ae-ffe3-4f1f-ac33-2907c5ea29ec",
   "metadata": {},
   "source": [
    "#### Create payload or data to be submitted as POST"
   ]
  },
  {
   "cell_type": "markdown",
   "id": "ff369de2-a39d-4e58-ae62-8bc20aca7317",
   "metadata": {},
   "source": [
    "##### Collect as much information as possible from DevTools on Headers, Payload format, Cookies and more"
   ]
  },
  {
   "cell_type": "code",
   "execution_count": 10,
   "id": "38e7d747-e79f-4c16-9d88-d6468cccf283",
   "metadata": {},
   "outputs": [],
   "source": [
    "payload = {\"csrf_token\":csrf, username:user, password:passw}\n",
    "\n",
    "# postHTML = requests.post(loginUrl,data=payload)            #Not Working\n",
    "# postHTML = requests.post(loginUrl,data=payload,headers={}) #Not Working\n",
    "\n",
    "postHTML = requests.post(loginUrl,data=payload,headers={'Cookie':html.headers['Set-Cookie']})"
   ]
  },
  {
   "cell_type": "code",
   "execution_count": 11,
   "id": "75dae227-e491-4ae2-a430-86b7a6337173",
   "metadata": {},
   "outputs": [
    {
     "data": {
      "text/plain": [
       "{'csrf_token': 'dHLWADqIVPRkohfXcmgMenjSiblrCtBUZYaKxGNpJTyFvwzEuOQs',\n",
       " 'username': 'test',\n",
       " 'password': 'password'}"
      ]
     },
     "execution_count": 11,
     "metadata": {},
     "output_type": "execute_result"
    }
   ],
   "source": [
    "payload"
   ]
  },
  {
   "cell_type": "markdown",
   "id": "12c7cd84-94a5-437c-bcef-9462f37f5f34",
   "metadata": {},
   "source": [
    "#### Verify if the URL has been rediected"
   ]
  },
  {
   "cell_type": "code",
   "execution_count": 12,
   "id": "fd2c74e6-895b-4fde-9b81-adbb4af89a3a",
   "metadata": {},
   "outputs": [
    {
     "data": {
      "text/plain": [
       "'http://quotes.toscrape.com/'"
      ]
     },
     "execution_count": 12,
     "metadata": {},
     "output_type": "execute_result"
    }
   ],
   "source": [
    "postHTML.url"
   ]
  },
  {
   "cell_type": "markdown",
   "id": "273628ca-c8e4-4a5f-bb75-de52f95cde0a",
   "metadata": {},
   "source": [
    "#### check if logout link exists"
   ]
  },
  {
   "cell_type": "code",
   "execution_count": 13,
   "id": "15bb8232-070e-4eb8-8495-9633dd88dd66",
   "metadata": {},
   "outputs": [
    {
     "data": {
      "text/plain": [
       "b'<!DOCTYPE html>\\n<html lang=\"en\">\\n<head>\\n\\t<meta charset=\"UTF-8\">\\n\\t<title>Quotes to Scrape</title>\\n    <link rel=\"stylesheet\" href=\"/static/bootstrap.min.css\">\\n    <link rel=\"stylesheet\" href=\"/static/main.css\">\\n</head>\\n<body>\\n    <div class=\"container\">\\n        <div class=\"row header-box\">\\n            <div class=\"col-md-8\">\\n                <h1>\\n                    <a href=\"/\" style=\"text-decoration: none\">Quotes to Scrape</a>\\n                </h1>\\n            </div>\\n            <div class=\"col-md-4\">\\n                <p>\\n                \\n                    <a href=\"/logout\">Logout</a>\\n                \\n                </p>\\n            </div>\\n  '"
      ]
     },
     "execution_count": 13,
     "metadata": {},
     "output_type": "execute_result"
    }
   ],
   "source": [
    "postHTML.content[:650] "
   ]
  },
  {
   "cell_type": "code",
   "execution_count": 104,
   "id": "5ca8dfc8-dca9-4f24-b74e-5289ffa5be01",
   "metadata": {},
   "outputs": [
    {
     "data": {
      "text/plain": [
       "'Logout'"
      ]
     },
     "execution_count": 104,
     "metadata": {},
     "output_type": "execute_result"
    }
   ],
   "source": [
    "verify = pq(postHTML.content).find('a[href=\"/logout\"]').text()\n",
    "verify"
   ]
  },
  {
   "cell_type": "markdown",
   "id": "39e561fb-6843-4c69-9dbd-6019421dd955",
   "metadata": {},
   "source": [
    "#### Logout from the Page"
   ]
  },
  {
   "cell_type": "code",
   "execution_count": 85,
   "id": "eac2fdd4-a9f4-4874-9526-6f7c08497359",
   "metadata": {},
   "outputs": [
    {
     "data": {
      "text/plain": [
       "b'<!DOCTYPE html>\\n<html lang=\"en\">\\n<head>\\n\\t<meta charset=\"UTF-8\">\\n\\t<title>Quotes to Scrape</title>\\n    <link rel=\"stylesheet\" href=\"/static/bootstrap.min.css\">\\n    <link rel=\"stylesheet\" href=\"/static/main.css\">\\n</head>\\n<body>\\n    <div class=\"container\">\\n        <div class=\"row header-box\">\\n            <div class=\"col-md-8\">\\n                <h1>\\n                    <a href=\"/\" style=\"text-decoration: none\">Quotes to Scrape</a>\\n                </h1>\\n            </div>\\n            <div class=\"col-md-4\">\\n                <p>\\n                \\n                    <a href=\"/login\">Login</a>\\n                \\n                </p>\\n            </div>\\n        </div>\\n    \\n\\n<div class=\"row\">\\n    <div class=\"col-md-8\">\\n\\n    <div class=\"quote\" itemscope itemtype=\"http://schema.org/CreativeWork\">\\n        <span class=\"text\" itemprop=\"text\">\\xe2\\x80\\x9cThe world as we have created it is a process of our thinking. It cannot be changed without changing our thinking.\\xe2\\x80\\x9d</span>\\n        <span>by <small class=\"author\" itemprop=\"author\">Albert Einstein</small>\\n        <a href=\"/author/Albert-Einstein\">(about)</a>\\n        </span>\\n        <div class=\"tags\">\\n            Tags:\\n            <meta class=\"keywords\" itemprop=\"keywords\" content=\"change,deep-thoughts,thinking,world\" /    > \\n            \\n            <a class=\"tag\" href=\"/tag/change/page/1/\">change</a>\\n            \\n            <a class=\"tag\" href=\"/tag/deep-thoughts/page/1/\">deep-thoughts</a>\\n            \\n            <a class=\"tag\" href=\"/tag/thinking/page/1/\">thinking</a>\\n            \\n            <a class=\"tag\" href=\"/tag/world/page/1/\">world</a>\\n            \\n        </div>\\n    </div>\\n\\n    <div class=\"quote\" itemscope itemtype=\"http://schema.org/CreativeWork\">\\n        <span class=\"text\" itemprop=\"text\">\\xe2\\x80\\x9cIt is our choices, Harry, that show what we truly are, far more than our abilities.\\xe2\\x80\\x9d</span>\\n        <span>by <small class=\"author\" itemprop=\"author\">J.K. Rowling</small>\\n        <a href=\"/author/J-K-Rowling\">(about)</a>\\n        </span>\\n        <div class=\"tags\">\\n            Tags:\\n            <meta class=\"keywords\" itemprop=\"keywords\" content=\"abilities,choices\" /    > \\n            \\n            <a class=\"tag\" href=\"/tag/abilities/page/1/\">abilities</a>\\n            \\n            <a class=\"tag\" href=\"/tag/choices/page/1/\">choices</a>\\n            \\n        </div>\\n    </div>\\n\\n    <div class=\"quote\" itemscope itemtype=\"http://schema.org/CreativeWork\">\\n        <span class=\"text\" itemprop=\"text\">\\xe2\\x80\\x9cThere are only two ways to live your life. One is as though nothing is a miracle. The other is as though everything is a miracle.\\xe2\\x80\\x9d</span>\\n        <span>by <small class=\"author\" itemprop=\"author\">Albert Einstein</small>\\n        <a href=\"/author/Albert-Einstein\">(about)</a>\\n        </span>\\n        <div class=\"tags\">\\n            Tags:\\n            <meta class=\"keywords\" itemprop=\"keywords\" content=\"inspirational,life,live,miracle,miracles\" /    > \\n            \\n            <a class=\"tag\" href=\"/tag/inspirational/page/1/\">inspirational</a>\\n            \\n            <a class=\"tag\" href=\"/tag/life/page/1/\">life</a>\\n            \\n            <a class=\"tag\" href=\"/tag/live/page/1/\">live</a>\\n            \\n            <a class=\"tag\" href=\"/tag/miracle/page/1/\">miracle</a>\\n            \\n            <a class=\"tag\" href=\"/tag/miracles/page/1/\">miracles</a>\\n            \\n        </div>\\n    </div>\\n\\n    <div class=\"quote\" itemscope itemtype=\"http://schema.org/CreativeWork\">\\n        <span class=\"text\" itemprop=\"text\">\\xe2\\x80\\x9cThe person, be it gentleman or lady, who has not pleasure in a good novel, must be intolerably stupid.\\xe2\\x80\\x9d</span>\\n        <span>by <small class=\"author\" itemprop=\"author\">Jane Austen</small>\\n        <a href=\"/author/Jane-Austen\">(about)</a>\\n        </span>\\n        <div class=\"tags\">\\n            Tags:\\n            <meta class=\"keywords\" itemprop=\"keywords\" content=\"aliteracy,books,classic,humor\" /    > \\n            \\n            <a class=\"tag\" href=\"/tag/aliteracy/page/1/\">aliteracy</a>\\n            \\n            <a class=\"tag\" href=\"/tag/books/page/1/\">books</a>\\n            \\n            <a class=\"tag\" href=\"/tag/classic/page/1/\">classic</a>\\n            \\n            <a class=\"tag\" href=\"/tag/humor/page/1/\">humor</a>\\n            \\n        </div>\\n    </div>\\n\\n    <div class=\"quote\" itemscope itemtype=\"http://schema.org/CreativeWork\">\\n        <span class=\"text\" itemprop=\"text\">\\xe2\\x80\\x9cImperfection is beauty, madness is genius and it&#39;s better to be absolutely ridiculous than absolutely boring.\\xe2\\x80\\x9d</span>\\n        <span>by <small class=\"author\" itemprop=\"author\">Marilyn Monroe</small>\\n        <a href=\"/author/Marilyn-Monroe\">(about)</a>\\n        </span>\\n        <div class=\"tags\">\\n            Tags:\\n            <meta class=\"keywords\" itemprop=\"keywords\" content=\"be-yourself,inspirational\" /    > \\n            \\n            <a class=\"tag\" href=\"/tag/be-yourself/page/1/\">be-yourself</a>\\n            \\n            <a class=\"tag\" href=\"/tag/inspirational/page/1/\">inspirational</a>\\n            \\n        </div>\\n    </div>\\n\\n    <div class=\"quote\" itemscope itemtype=\"http://schema.org/CreativeWork\">\\n        <span class=\"text\" itemprop=\"text\">\\xe2\\x80\\x9cTry not to become a man of success. Rather become a man of value.\\xe2\\x80\\x9d</span>\\n        <span>by <small class=\"author\" itemprop=\"author\">Albert Einstein</small>\\n        <a href=\"/author/Albert-Einstein\">(about)</a>\\n        </span>\\n        <div class=\"tags\">\\n            Tags:\\n            <meta class=\"keywords\" itemprop=\"keywords\" content=\"adulthood,success,value\" /    > \\n            \\n            <a class=\"tag\" href=\"/tag/adulthood/page/1/\">adulthood</a>\\n            \\n            <a class=\"tag\" href=\"/tag/success/page/1/\">success</a>\\n            \\n            <a class=\"tag\" href=\"/tag/value/page/1/\">value</a>\\n            \\n        </div>\\n    </div>\\n\\n    <div class=\"quote\" itemscope itemtype=\"http://schema.org/CreativeWork\">\\n        <span class=\"text\" itemprop=\"text\">\\xe2\\x80\\x9cIt is better to be hated for what you are than to be loved for what you are not.\\xe2\\x80\\x9d</span>\\n        <span>by <small class=\"author\" itemprop=\"author\">Andr\\xc3\\xa9 Gide</small>\\n        <a href=\"/author/Andre-Gide\">(about)</a>\\n        </span>\\n        <div class=\"tags\">\\n            Tags:\\n            <meta class=\"keywords\" itemprop=\"keywords\" content=\"life,love\" /    > \\n            \\n            <a class=\"tag\" href=\"/tag/life/page/1/\">life</a>\\n            \\n            <a class=\"tag\" href=\"/tag/love/page/1/\">love</a>\\n            \\n        </div>\\n    </div>\\n\\n    <div class=\"quote\" itemscope itemtype=\"http://schema.org/CreativeWork\">\\n        <span class=\"text\" itemprop=\"text\">\\xe2\\x80\\x9cI have not failed. I&#39;ve just found 10,000 ways that won&#39;t work.\\xe2\\x80\\x9d</span>\\n        <span>by <small class=\"author\" itemprop=\"author\">Thomas A. Edison</small>\\n        <a href=\"/author/Thomas-A-Edison\">(about)</a>\\n        </span>\\n        <div class=\"tags\">\\n            Tags:\\n            <meta class=\"keywords\" itemprop=\"keywords\" content=\"edison,failure,inspirational,paraphrased\" /    > \\n            \\n            <a class=\"tag\" href=\"/tag/edison/page/1/\">edison</a>\\n            \\n            <a class=\"tag\" href=\"/tag/failure/page/1/\">failure</a>\\n            \\n            <a class=\"tag\" href=\"/tag/inspirational/page/1/\">inspirational</a>\\n            \\n            <a class=\"tag\" href=\"/tag/paraphrased/page/1/\">paraphrased</a>\\n            \\n        </div>\\n    </div>\\n\\n    <div class=\"quote\" itemscope itemtype=\"http://schema.org/CreativeWork\">\\n        <span class=\"text\" itemprop=\"text\">\\xe2\\x80\\x9cA woman is like a tea bag; you never know how strong it is until it&#39;s in hot water.\\xe2\\x80\\x9d</span>\\n        <span>by <small class=\"author\" itemprop=\"author\">Eleanor Roosevelt</small>\\n        <a href=\"/author/Eleanor-Roosevelt\">(about)</a>\\n        </span>\\n        <div class=\"tags\">\\n            Tags:\\n            <meta class=\"keywords\" itemprop=\"keywords\" content=\"misattributed-eleanor-roosevelt\" /    > \\n            \\n            <a class=\"tag\" href=\"/tag/misattributed-eleanor-roosevelt/page/1/\">misattributed-eleanor-roosevelt</a>\\n            \\n        </div>\\n    </div>\\n\\n    <div class=\"quote\" itemscope itemtype=\"http://schema.org/CreativeWork\">\\n        <span class=\"text\" itemprop=\"text\">\\xe2\\x80\\x9cA day without sunshine is like, you know, night.\\xe2\\x80\\x9d</span>\\n        <span>by <small class=\"author\" itemprop=\"author\">Steve Martin</small>\\n        <a href=\"/author/Steve-Martin\">(about)</a>\\n        </span>\\n        <div class=\"tags\">\\n            Tags:\\n            <meta class=\"keywords\" itemprop=\"keywords\" content=\"humor,obvious,simile\" /    > \\n            \\n            <a class=\"tag\" href=\"/tag/humor/page/1/\">humor</a>\\n            \\n            <a class=\"tag\" href=\"/tag/obvious/page/1/\">obvious</a>\\n            \\n            <a class=\"tag\" href=\"/tag/simile/page/1/\">simile</a>\\n            \\n        </div>\\n    </div>\\n\\n    <nav>\\n        <ul class=\"pager\">\\n            \\n            \\n            <li class=\"next\">\\n                <a href=\"/page/2/\">Next <span aria-hidden=\"true\">&rarr;</span></a>\\n            </li>\\n            \\n        </ul>\\n    </nav>\\n    </div>\\n    <div class=\"col-md-4 tags-box\">\\n        \\n            <h2>Top Ten tags</h2>\\n            \\n            <span class=\"tag-item\">\\n            <a class=\"tag\" style=\"font-size: 28px\" href=\"/tag/love/\">love</a>\\n            </span>\\n            \\n            <span class=\"tag-item\">\\n            <a class=\"tag\" style=\"font-size: 26px\" href=\"/tag/inspirational/\">inspirational</a>\\n            </span>\\n            \\n            <span class=\"tag-item\">\\n            <a class=\"tag\" style=\"font-size: 26px\" href=\"/tag/life/\">life</a>\\n            </span>\\n            \\n            <span class=\"tag-item\">\\n            <a class=\"tag\" style=\"font-size: 24px\" href=\"/tag/humor/\">humor</a>\\n            </span>\\n            \\n            <span class=\"tag-item\">\\n            <a class=\"tag\" style=\"font-size: 22px\" href=\"/tag/books/\">books</a>\\n            </span>\\n            \\n            <span class=\"tag-item\">\\n            <a class=\"tag\" style=\"font-size: 14px\" href=\"/tag/reading/\">reading</a>\\n            </span>\\n            \\n            <span class=\"tag-item\">\\n            <a class=\"tag\" style=\"font-size: 10px\" href=\"/tag/friendship/\">friendship</a>\\n            </span>\\n            \\n            <span class=\"tag-item\">\\n            <a class=\"tag\" style=\"font-size: 8px\" href=\"/tag/friends/\">friends</a>\\n            </span>\\n            \\n            <span class=\"tag-item\">\\n            <a class=\"tag\" style=\"font-size: 8px\" href=\"/tag/truth/\">truth</a>\\n            </span>\\n            \\n            <span class=\"tag-item\">\\n            <a class=\"tag\" style=\"font-size: 6px\" href=\"/tag/simile/\">simile</a>\\n            </span>\\n            \\n        \\n    </div>\\n</div>\\n\\n    </div>\\n    <footer class=\"footer\">\\n        <div class=\"container\">\\n            <p class=\"text-muted\">\\n                Quotes by: <a href=\"https://www.goodreads.com/quotes\">GoodReads.com</a>\\n            </p>\\n            <p class=\"copyright\">\\n                Made with <span class=\\'sh-red\\'>\\xe2\\x9d\\xa4</span> by <a href=\"https://scrapinghub.com\">Scrapinghub</a>\\n            </p>\\n        </div>\\n    </footer>\\n</body>\\n</html>'"
      ]
     },
     "execution_count": 85,
     "metadata": {},
     "output_type": "execute_result"
    }
   ],
   "source": [
    "quotePage = requests.get(logoutUrl)\n",
    "quotePage.content"
   ]
  },
  {
   "cell_type": "code",
   "execution_count": null,
   "id": "a48ed572-e356-4048-819f-315683959129",
   "metadata": {},
   "outputs": [],
   "source": []
  }
 ],
 "metadata": {
  "kernelspec": {
   "display_name": "Python 3 (ipykernel)",
   "language": "python",
   "name": "python3"
  },
  "language_info": {
   "codemirror_mode": {
    "name": "ipython",
    "version": 3
   },
   "file_extension": ".py",
   "mimetype": "text/x-python",
   "name": "python",
   "nbconvert_exporter": "python",
   "pygments_lexer": "ipython3",
   "version": "3.11.1"
  }
 },
 "nbformat": 4,
 "nbformat_minor": 5
}
