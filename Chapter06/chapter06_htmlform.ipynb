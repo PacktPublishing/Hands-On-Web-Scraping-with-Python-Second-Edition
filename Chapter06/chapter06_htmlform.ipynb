{
 "cells": [
  {
   "cell_type": "markdown",
   "id": "9f26de90-297c-4009-af27-2de49b801ba7",
   "metadata": {},
   "source": [
    "### HTML form processing"
   ]
  },
  {
   "cell_type": "code",
   "execution_count": 11,
   "id": "b7b04c47-933c-457d-b1a2-c05d4548f344",
   "metadata": {},
   "outputs": [],
   "source": [
    "import requests\n",
    "from pyquery import PyQuery as pq"
   ]
  },
  {
   "cell_type": "code",
   "execution_count": 27,
   "id": "2bfc979b-dc01-4eb3-9669-bcb1713b4b1e",
   "metadata": {},
   "outputs": [],
   "source": [
    "baseUrl=\"http://quotes.toscrape.com/search.aspx\"   #main URL\n",
    "filterUrl=\"http://quotes.toscrape.com/filter.aspx\" #POST URL (loads Tag and results)"
   ]
  },
  {
   "cell_type": "code",
   "execution_count": 56,
   "id": "5bdeae76-5cb3-4881-a6ee-75ecf4f5f632",
   "metadata": {},
   "outputs": [],
   "source": [
    "pageResponse = requests.get(baseUrl)"
   ]
  },
  {
   "cell_type": "code",
   "execution_count": 14,
   "id": "6fd09041-05b2-4774-80e4-a61a4e0ce6ca",
   "metadata": {},
   "outputs": [],
   "source": [
    "response = pq(pageResponse.content)"
   ]
  },
  {
   "cell_type": "markdown",
   "id": "d7575c46-a211-4e27-a4b4-e9652043526a",
   "metadata": {},
   "source": [
    "#### Collect the required values required in form submission"
   ]
  },
  {
   "cell_type": "code",
   "execution_count": 60,
   "id": "9e3836bc-31d6-4318-b754-1d0e531de336",
   "metadata": {},
   "outputs": [],
   "source": [
    "author = response.find('select#author option:gt(0)').attr('value')"
   ]
  },
  {
   "cell_type": "code",
   "execution_count": 61,
   "id": "d6283f43-b5fb-4fb1-856f-c7d8490cc068",
   "metadata": {},
   "outputs": [],
   "source": [
    "search = response.find('input[name=\"submit_button\"]').attr('value')"
   ]
  },
  {
   "cell_type": "code",
   "execution_count": 62,
   "id": "b48a0c89-2d37-4255-992f-23244b84ab08",
   "metadata": {},
   "outputs": [],
   "source": [
    "tag = response.find('select#tag option').attr('value')"
   ]
  },
  {
   "cell_type": "code",
   "execution_count": 63,
   "id": "6d76b3ff-8e33-4c5a-bb40-89ce673812dd",
   "metadata": {},
   "outputs": [],
   "source": [
    "viewState = response.find('form[name=\"filterform\"] input#__VIEWSTATE').attr('value')"
   ]
  },
  {
   "cell_type": "code",
   "execution_count": 59,
   "id": "28d56864-bfce-438d-bb0a-20b1206b0494",
   "metadata": {},
   "outputs": [
    {
     "data": {
      "text/plain": [
       "['Albert Einstein',\n",
       " None,\n",
       " 'Search',\n",
       " 'NThiNGVmNjg0OTEzNDdiMWEzZGZlNTk5MDRlNzM4YWYsQWxiZXJ0IEVpbnN0ZWluLEouSy4gUm93bGluZyxKYW5lIEF1c3RlbixNYXJpbHluIE1vbnJvZSxBbmRyw6kgR2lkZSxUaG9tYXMgQS4gRWRpc29uLEVsZWFub3IgUm9vc2V2ZWx0LFN0ZXZlIE1hcnRpbixCb2IgTWFybGV5LERyLiBTZXVzcyxEb3VnbGFzIEFkYW1zLEVsaWUgV2llc2VsLEZyaWVkcmljaCBOaWV0enNjaGUsTWFyayBUd2FpbixBbGxlbiBTYXVuZGVycyxQYWJsbyBOZXJ1ZGEsUmFscGggV2FsZG8gRW1lcnNvbixNb3RoZXIgVGVyZXNhLEdhcnJpc29uIEtlaWxsb3IsSmltIEhlbnNvbixDaGFybGVzIE0uIFNjaHVseixXaWxsaWFtIE5pY2hvbHNvbixKb3JnZSBMdWlzIEJvcmdlcyxHZW9yZ2UgRWxpb3QsR2VvcmdlIFIuUi4gTWFydGluLEMuUy4gTGV3aXMsTWFydGluIEx1dGhlciBLaW5nIEpyLixKYW1lcyBCYWxkd2luLEhhcnVraSBNdXJha2FtaSxBbGV4YW5kcmUgRHVtYXMgZmlscyxTdGVwaGVuaWUgTWV5ZXIsRXJuZXN0IEhlbWluZ3dheSxIZWxlbiBLZWxsZXIsR2VvcmdlIEJlcm5hcmQgU2hhdyxDaGFybGVzIEJ1a293c2tpLFN1emFubmUgQ29sbGlucyxKLlIuUi4gVG9sa2llbixBbGZyZWQgVGVubnlzb24sVGVycnkgUHJhdGNoZXR0LEouRC4gU2FsaW5nZXIsR2VvcmdlIENhcmxpbixKb2huIExlbm5vbixXLkMuIEZpZWxkcyxKaW1pIEhlbmRyaXgsSi5NLiBCYXJyaWUsRS5FLiBDdW1taW5ncyxLaGFsZWQgSG9zc2VpbmksSGFycGVyIExlZSxNYWRlbGVpbmUgTCdFbmdsZQ==']"
      ]
     },
     "execution_count": 59,
     "metadata": {},
     "output_type": "execute_result"
    }
   ],
   "source": [
    "[author,tag,search,viewState]"
   ]
  },
  {
   "cell_type": "markdown",
   "id": "f6c1688e-76c6-441a-8af2-c57de0964208",
   "metadata": {},
   "source": [
    "#### Lets process the form with author, tag, and viewState"
   ]
  },
  {
   "cell_type": "code",
   "execution_count": 64,
   "id": "49e44f2d-7f04-4712-b1e5-ec85247e84de",
   "metadata": {},
   "outputs": [],
   "source": [
    "formData={'author':author,'tag':tag,'__VIEWSTATE':viewState}"
   ]
  },
  {
   "cell_type": "code",
   "execution_count": 65,
   "id": "72d1049f-3e89-4061-ac14-697f7000254d",
   "metadata": {},
   "outputs": [],
   "source": [
    "responseA = requests.post(filterUrl,data=formData)"
   ]
  },
  {
   "cell_type": "code",
   "execution_count": 66,
   "id": "8f745adc-c505-403a-ac3d-516db72db6b2",
   "metadata": {},
   "outputs": [],
   "source": [
    "responseTag = pq(responseA.content)"
   ]
  },
  {
   "cell_type": "markdown",
   "id": "3de8a79a-bcbc-42fd-8fa3-1ed3d2e053c3",
   "metadata": {},
   "source": [
    "##### Tag is available now"
   ]
  },
  {
   "cell_type": "code",
   "execution_count": 67,
   "id": "c0c331d1-bd93-4ced-a60a-9453a3766c8d",
   "metadata": {},
   "outputs": [
    {
     "data": {
      "text/plain": [
       "'change'"
      ]
     },
     "execution_count": 67,
     "metadata": {},
     "output_type": "execute_result"
    }
   ],
   "source": [
    "tag = responseTag.find('select#tag option:gt(0)').attr('value')\n",
    "tag"
   ]
  },
  {
   "cell_type": "markdown",
   "id": "f7511a0a-920b-4df0-ab85-e0da694a861e",
   "metadata": {},
   "source": [
    "#### With tag as value, we now can process final Submit step"
   ]
  },
  {
   "cell_type": "code",
   "execution_count": 48,
   "id": "c9d158bb-235a-41db-892d-2027a49dbab4",
   "metadata": {},
   "outputs": [],
   "source": [
    "finalFormData={'author':author,'tag':tag,'submit_button':search, '__VIEWSTATE':viewState}"
   ]
  },
  {
   "cell_type": "code",
   "execution_count": 49,
   "id": "abddf74b-d13b-42f1-808a-11de09217705",
   "metadata": {},
   "outputs": [],
   "source": [
    "responseB = requests.post(filterUrl,data=finalFormData) #data, params, headers, cookies, proxies"
   ]
  },
  {
   "cell_type": "code",
   "execution_count": 50,
   "id": "45207f5a-9415-4002-a684-1d6cd9cb16b1",
   "metadata": {},
   "outputs": [],
   "source": [
    "responseFinal = pq(responseB.content)"
   ]
  },
  {
   "cell_type": "markdown",
   "id": "fefb011b-c68b-4c49-92a4-1bed6dd63ac7",
   "metadata": {},
   "source": [
    "##### Final Result"
   ]
  },
  {
   "cell_type": "code",
   "execution_count": 52,
   "id": "4996b3ee-0c8b-4c71-a194-87797ffcde85",
   "metadata": {},
   "outputs": [
    {
     "data": {
      "text/plain": [
       "'“The world as we have created it is a process of our thinking. It cannot be changed without changing our thinking.” - Albert Einstein (change)'"
      ]
     },
     "execution_count": 52,
     "metadata": {},
     "output_type": "execute_result"
    }
   ],
   "source": [
    "result = responseFinal.find('.results .quote').text()\n",
    "result"
   ]
  }
 ],
 "metadata": {
  "kernelspec": {
   "display_name": "Python 3 (ipykernel)",
   "language": "python",
   "name": "python3"
  },
  "language_info": {
   "codemirror_mode": {
    "name": "ipython",
    "version": 3
   },
   "file_extension": ".py",
   "mimetype": "text/x-python",
   "name": "python",
   "nbconvert_exporter": "python",
   "pygments_lexer": "ipython3",
   "version": "3.11.1"
  }
 },
 "nbformat": 4,
 "nbformat_minor": 5
}
