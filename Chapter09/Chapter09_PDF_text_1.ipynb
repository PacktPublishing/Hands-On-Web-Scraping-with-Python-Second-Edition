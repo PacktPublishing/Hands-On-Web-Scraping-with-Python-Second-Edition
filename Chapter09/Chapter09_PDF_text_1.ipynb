{
 "cells": [
  {
   "cell_type": "markdown",
   "id": "07235b45-2149-43fc-9984-c3475b02a66c",
   "metadata": {},
   "source": [
    "### PDF Text extraction using PyPDF2"
   ]
  },
  {
   "cell_type": "code",
   "execution_count": 1,
   "id": "a963883a-7b38-4117-a5e4-ad37511f3f42",
   "metadata": {},
   "outputs": [],
   "source": [
    "from PyPDF2 import PdfReader\n",
    "import re"
   ]
  },
  {
   "cell_type": "markdown",
   "id": "6c6db61d-af2c-43d0-b105-14f3ad1129ba",
   "metadata": {},
   "source": [
    "#### PDF File or File Path"
   ]
  },
  {
   "cell_type": "code",
   "execution_count": 2,
   "id": "e664eaea-111e-473c-be14-38540ca05fe0",
   "metadata": {},
   "outputs": [],
   "source": [
    "pdfFile=\"python_cheat_sheet_v2.pdf\""
   ]
  },
  {
   "cell_type": "markdown",
   "id": "37c5128b-7c97-4cb7-9e71-52835017e169",
   "metadata": {},
   "source": [
    "#### Read the file using PdfReader (https://pypdf2.readthedocs.io/en/3.0.0/modules/PdfReader.html)"
   ]
  },
  {
   "cell_type": "code",
   "execution_count": 3,
   "id": "90db9a06-73b4-4ddc-9263-d6922ee2963b",
   "metadata": {},
   "outputs": [],
   "source": [
    "# file = open(pdfFile, 'rb')"
   ]
  },
  {
   "cell_type": "code",
   "execution_count": 4,
   "id": "8eb99269-9729-4350-8b48-7fb5ec4be456",
   "metadata": {},
   "outputs": [],
   "source": [
    "reader = PdfReader(pdfFile)    #  reader = PdfReader(file)"
   ]
  },
  {
   "cell_type": "code",
   "execution_count": 5,
   "id": "9e64760e-9d81-4615-968a-20287906bcac",
   "metadata": {},
   "outputs": [
    {
     "name": "stdout",
     "output_type": "stream",
     "text": [
      "['__class__', '__delattr__', '__dict__', '__dir__', '__doc__', '__eq__', '__format__', '__ge__', '__getattribute__', '__getstate__', '__gt__', '__hash__', '__init__', '__init_subclass__', '__le__', '__lt__', '__module__', '__ne__', '__new__', '__reduce__', '__reduce_ex__', '__repr__', '__setattr__', '__sizeof__', '__str__', '__subclasshook__', '__weakref__', '_basic_validation', '_build_destination', '_build_field', '_build_outline_item', '_check_kids', '_encryption', '_find_eof_marker', '_find_startxref_pos', '_flatten', '_get_indirect_object', '_get_named_destinations', '_get_num_pages', '_get_object_from_stream', '_get_outline', '_get_page', '_get_page_number_by_indirect', '_get_xref_issues', '_override_encryption', '_page_id2num', '_pairs', '_read_pdf15_xref_stream', '_read_standard_xref_table', '_read_xref', '_read_xref_other_error', '_read_xref_subsections', '_read_xref_tables_and_trailers', '_rebuild_xref_table', '_write_field', 'cacheGetIndirectObject', 'cacheIndirectObject', 'cache_get_indirect_object', 'cache_indirect_object', 'decode_permissions', 'decrypt', 'documentInfo', 'flattened_pages', 'getDestinationPageNumber', 'getDocumentInfo', 'getFields', 'getFormTextFields', 'getIsEncrypted', 'getNamedDestinations', 'getNumPages', 'getObject', 'getOutlines', 'getPage', 'getPageLayout', 'getPageMode', 'getPageNumber', 'getXmpMetadata', 'get_destination_page_number', 'get_fields', 'get_form_text_fields', 'get_object', 'get_page_number', 'isEncrypted', 'is_encrypted', 'metadata', 'namedDestinations', 'named_destinations', 'numPages', 'outline', 'outlines', 'pageLayout', 'pageMode', 'page_layout', 'page_mode', 'pages', 'pdf_header', 'read', 'readNextEndLine', 'readObjectHeader', 'read_next_end_line', 'read_object_header', 'resolved_objects', 'stream', 'strict', 'threads', 'trailer', 'xfa', 'xmpMetadata', 'xmp_metadata', 'xref', 'xref_free_entry', 'xref_index', 'xref_objStm']\n"
     ]
    }
   ],
   "source": [
    "print(dir(reader))"
   ]
  },
  {
   "cell_type": "markdown",
   "id": "d6446b19-4b97-41fe-ae3e-0bf19dcaabd3",
   "metadata": {},
   "source": [
    "#### metadata: Contains PDF file related descriptions"
   ]
  },
  {
   "cell_type": "code",
   "execution_count": 6,
   "id": "4467419d-db9b-48e2-8f48-6da440356a64",
   "metadata": {},
   "outputs": [
    {
     "data": {
      "text/plain": [
       "{'/Title': 'PowerPoint Presentation',\n",
       " '/Author': 'Hewlett-Packard Company',\n",
       " '/CreationDate': \"D:20181002153018+02'00'\",\n",
       " '/ModDate': \"D:20181002153018+02'00'\",\n",
       " '/Producer': 'Microsoft® PowerPoint® 2016',\n",
       " '/Creator': 'Microsoft® PowerPoint® 2016'}"
      ]
     },
     "execution_count": 6,
     "metadata": {},
     "output_type": "execute_result"
    }
   ],
   "source": [
    "meta = reader.metadata\n",
    "meta"
   ]
  },
  {
   "cell_type": "code",
   "execution_count": 7,
   "id": "87e8704d-d8f1-4d96-838e-af10ec2736a2",
   "metadata": {},
   "outputs": [
    {
     "data": {
      "text/plain": [
       "'Hewlett-Packard Company'"
      ]
     },
     "execution_count": 7,
     "metadata": {},
     "output_type": "execute_result"
    }
   ],
   "source": [
    "meta.author"
   ]
  },
  {
   "cell_type": "code",
   "execution_count": 8,
   "id": "bc465b5a-c1ee-460a-b796-c54e2c75ee58",
   "metadata": {},
   "outputs": [
    {
     "data": {
      "text/plain": [
       "'Microsoft® PowerPoint® 2016'"
      ]
     },
     "execution_count": 8,
     "metadata": {},
     "output_type": "execute_result"
    }
   ],
   "source": [
    "meta.creator"
   ]
  },
  {
   "cell_type": "markdown",
   "id": "2ff948ea-7de6-4776-a397-6a44868c25bb",
   "metadata": {},
   "source": [
    "#### check if file has encrypted text"
   ]
  },
  {
   "cell_type": "code",
   "execution_count": 9,
   "id": "3c1ffd46-abbb-426d-84bb-ddc158f5eaec",
   "metadata": {},
   "outputs": [
    {
     "data": {
      "text/plain": [
       "False"
      ]
     },
     "execution_count": 9,
     "metadata": {},
     "output_type": "execute_result"
    }
   ],
   "source": [
    "reader.is_encrypted"
   ]
  },
  {
   "cell_type": "markdown",
   "id": "bb6c69dc-1288-4cb2-adf7-2a88e4966acc",
   "metadata": {},
   "source": [
    "#### Number of pages found"
   ]
  },
  {
   "cell_type": "code",
   "execution_count": 10,
   "id": "7894a0d0-1f7d-4e89-8405-3c72d707ba2e",
   "metadata": {},
   "outputs": [
    {
     "data": {
      "text/plain": [
       "2"
      ]
     },
     "execution_count": 10,
     "metadata": {},
     "output_type": "execute_result"
    }
   ],
   "source": [
    "len(reader.pages)"
   ]
  },
  {
   "cell_type": "markdown",
   "id": "cbb4468f-8e42-4fd6-9013-1ae3e1c23354",
   "metadata": {},
   "source": [
    "##### page number can be indexed and used"
   ]
  },
  {
   "cell_type": "code",
   "execution_count": 11,
   "id": "9b4177b3-bb70-4b30-9669-113a9ee37d43",
   "metadata": {},
   "outputs": [
    {
     "data": {
      "text/plain": [
       "{'/Type': '/Page',\n",
       " '/Parent': {'/Type': '/Pages',\n",
       "  '/Count': 2,\n",
       "  '/Kids': [IndirectObject(3, 0, 3156503252688),\n",
       "   IndirectObject(20, 0, 3156503252688)]},\n",
       " '/Resources': {'/ExtGState': {'/GS5': {'/Type': '/ExtGState',\n",
       "    '/BM': '/Normal',\n",
       "    '/ca': 1},\n",
       "   '/GS6': {'/Type': '/ExtGState', '/BM': '/Normal', '/CA': 1},\n",
       "   '/GS14': {'/Type': '/ExtGState', '/BM': '/Normal', '/ca': 0.61176},\n",
       "   '/GS15': {'/Type': '/ExtGState', '/BM': '/Normal', '/ca': 0.65098},\n",
       "   '/GS16': {'/Type': '/ExtGState', '/BM': '/Normal', '/ca': 0.019608},\n",
       "   '/GS17': {'/Type': '/ExtGState', '/BM': '/Normal', '/ca': 0.94118}},\n",
       "  '/Font': {'/F1': {'/Type': '/Font',\n",
       "    '/Subtype': '/TrueType',\n",
       "    '/Name': '/F1',\n",
       "    '/BaseFont': '/ABCDEE+Bahnschrift Light',\n",
       "    '/Encoding': '/WinAnsiEncoding',\n",
       "    '/FontDescriptor': {'/Type': '/FontDescriptor',\n",
       "     '/FontName': '/ABCDEE+Bahnschrift Light',\n",
       "     '/Flags': 32,\n",
       "     '/ItalicAngle': 0,\n",
       "     '/Ascent': 994,\n",
       "     '/Descent': -206,\n",
       "     '/CapHeight': 794,\n",
       "     '/AvgWidth': 566,\n",
       "     '/MaxWidth': 2164,\n",
       "     '/FontWeight': 300,\n",
       "     '/XHeight': 250,\n",
       "     '/StemV': 56,\n",
       "     '/FontBBox': [-1057, -206, 1107, 794],\n",
       "     '/FontFile2': {'/Filter': '/FlateDecode', '/Length1': 258548}},\n",
       "    '/FirstChar': 32,\n",
       "    '/LastChar': 125,\n",
       "    '/Widths': [171,\n",
       "     227,\n",
       "     0,\n",
       "     624,\n",
       "     0,\n",
       "     687,\n",
       "     0,\n",
       "     0,\n",
       "     339,\n",
       "     339,\n",
       "     430,\n",
       "     528,\n",
       "     227,\n",
       "     479,\n",
       "     227,\n",
       "     378,\n",
       "     552,\n",
       "     333,\n",
       "     517,\n",
       "     529,\n",
       "     569,\n",
       "     544,\n",
       "     0,\n",
       "     0,\n",
       "     0,\n",
       "     0,\n",
       "     227,\n",
       "     0,\n",
       "     424,\n",
       "     459,\n",
       "     429,\n",
       "     432,\n",
       "     0,\n",
       "     647,\n",
       "     646,\n",
       "     619,\n",
       "     656,\n",
       "     598,\n",
       "     559,\n",
       "     0,\n",
       "     0,\n",
       "     275,\n",
       "     0,\n",
       "     0,\n",
       "     573,\n",
       "     779,\n",
       "     700,\n",
       "     646,\n",
       "     623,\n",
       "     0,\n",
       "     652,\n",
       "     616,\n",
       "     481,\n",
       "     0,\n",
       "     0,\n",
       "     847,\n",
       "     0,\n",
       "     0,\n",
       "     0,\n",
       "     294,\n",
       "     378,\n",
       "     294,\n",
       "     503,\n",
       "     0,\n",
       "     0,\n",
       "     532,\n",
       "     544,\n",
       "     498,\n",
       "     539,\n",
       "     536,\n",
       "     317,\n",
       "     539,\n",
       "     559,\n",
       "     251,\n",
       "     268,\n",
       "     529,\n",
       "     290,\n",
       "     856,\n",
       "     559,\n",
       "     545,\n",
       "     544,\n",
       "     539,\n",
       "     427,\n",
       "     519,\n",
       "     326,\n",
       "     556,\n",
       "     500,\n",
       "     773,\n",
       "     517,\n",
       "     483,\n",
       "     495,\n",
       "     360,\n",
       "     275,\n",
       "     360]},\n",
       "   '/F2': {'/Type': '/Font',\n",
       "    '/Subtype': '/Type0',\n",
       "    '/BaseFont': '/ABCDEE+Bahnschrift Light',\n",
       "    '/Encoding': '/Identity-H',\n",
       "    '/DescendantFonts': [IndirectObject(11, 0, 3156503252688)],\n",
       "    '/ToUnicode': {'/Filter': '/FlateDecode'}},\n",
       "   '/F3': {'/Type': '/Font',\n",
       "    '/Subtype': '/TrueType',\n",
       "    '/Name': '/F3',\n",
       "    '/BaseFont': '/ABCDEE+Calibri',\n",
       "    '/Encoding': '/WinAnsiEncoding',\n",
       "    '/FontDescriptor': {'/Type': '/FontDescriptor',\n",
       "     '/FontName': '/ABCDEE+Calibri',\n",
       "     '/Flags': 32,\n",
       "     '/ItalicAngle': 0,\n",
       "     '/Ascent': 750,\n",
       "     '/Descent': -250,\n",
       "     '/CapHeight': 750,\n",
       "     '/AvgWidth': 521,\n",
       "     '/MaxWidth': 1743,\n",
       "     '/FontWeight': 400,\n",
       "     '/XHeight': 250,\n",
       "     '/StemV': 52,\n",
       "     '/FontBBox': [-503, -250, 1240, 750],\n",
       "     '/FontFile2': {'/Filter': '/FlateDecode', '/Length1': 531984}},\n",
       "    '/FirstChar': 32,\n",
       "    '/LastChar': 120,\n",
       "    '/Widths': [226,\n",
       "     0,\n",
       "     0,\n",
       "     0,\n",
       "     0,\n",
       "     0,\n",
       "     0,\n",
       "     0,\n",
       "     0,\n",
       "     0,\n",
       "     0,\n",
       "     0,\n",
       "     0,\n",
       "     0,\n",
       "     0,\n",
       "     0,\n",
       "     507,\n",
       "     0,\n",
       "     0,\n",
       "     0,\n",
       "     0,\n",
       "     0,\n",
       "     0,\n",
       "     0,\n",
       "     0,\n",
       "     0,\n",
       "     0,\n",
       "     0,\n",
       "     0,\n",
       "     0,\n",
       "     0,\n",
       "     0,\n",
       "     0,\n",
       "     0,\n",
       "     0,\n",
       "     0,\n",
       "     0,\n",
       "     0,\n",
       "     0,\n",
       "     0,\n",
       "     0,\n",
       "     252,\n",
       "     0,\n",
       "     0,\n",
       "     0,\n",
       "     0,\n",
       "     0,\n",
       "     0,\n",
       "     0,\n",
       "     0,\n",
       "     0,\n",
       "     0,\n",
       "     0,\n",
       "     0,\n",
       "     0,\n",
       "     0,\n",
       "     0,\n",
       "     0,\n",
       "     0,\n",
       "     0,\n",
       "     0,\n",
       "     0,\n",
       "     0,\n",
       "     0,\n",
       "     0,\n",
       "     479,\n",
       "     0,\n",
       "     0,\n",
       "     525,\n",
       "     498,\n",
       "     0,\n",
       "     0,\n",
       "     0,\n",
       "     0,\n",
       "     0,\n",
       "     0,\n",
       "     0,\n",
       "     0,\n",
       "     525,\n",
       "     0,\n",
       "     0,\n",
       "     0,\n",
       "     349,\n",
       "     391,\n",
       "     335,\n",
       "     0,\n",
       "     0,\n",
       "     0,\n",
       "     433]}},\n",
       "  '/ProcSet': ['/PDF', '/Text', '/ImageB', '/ImageC', '/ImageI']},\n",
       " '/MediaBox': [0, 0, 780, 540],\n",
       " '/Contents': {'/Filter': '/FlateDecode'},\n",
       " '/Group': {'/Type': '/Group', '/S': '/Transparency', '/CS': '/DeviceRGB'},\n",
       " '/Tabs': '/S',\n",
       " '/StructParents': 0}"
      ]
     },
     "execution_count": 11,
     "metadata": {},
     "output_type": "execute_result"
    }
   ],
   "source": [
    "page1 = reader.pages[0] \n",
    "page1"
   ]
  },
  {
   "cell_type": "code",
   "execution_count": 12,
   "id": "99ad28e8-5501-4196-8255-d7c46210d03c",
   "metadata": {},
   "outputs": [
    {
     "name": "stdout",
     "output_type": "stream",
     "text": [
      "['__abstractmethods__', '__annotations__', '__class__', '__class_getitem__', '__contains__', '__delattr__', '__delitem__', '__dict__', '__dir__', '__doc__', '__eq__', '__format__', '__ge__', '__getattribute__', '__getitem__', '__getstate__', '__gt__', '__hash__', '__init__', '__init_subclass__', '__ior__', '__iter__', '__le__', '__len__', '__lt__', '__module__', '__ne__', '__new__', '__or__', '__parameters__', '__reduce__', '__reduce_ex__', '__repr__', '__reversed__', '__ror__', '__setattr__', '__setitem__', '__sizeof__', '__slots__', '__str__', '__subclasshook__', '__weakref__', '_abc_impl', '_add_transformation_matrix', '_clone', '_content_stream_rename', '_debug_for_extract', '_expand_mediabox', '_extract_text', '_get_fonts', '_is_protocol', '_is_runtime_protocol', '_merge_page', '_merge_resources', '_push_pop_gs', '_reference_clone', 'addTransformation', 'add_transformation', 'annotations', 'artBox', 'artbox', 'bleedBox', 'bleedbox', 'clear', 'clone', 'compressContentStreams', 'compress_content_streams', 'copy', 'createBlankPage', 'create_blank_page', 'cropBox', 'cropbox', 'extractText', 'extract_text', 'extract_xform_text', 'fromkeys', 'get', 'getContents', 'getObject', 'getXmpMetadata', 'get_contents', 'get_object', 'hash_func', 'hash_value', 'hash_value_data', 'images', 'indirect_ref', 'indirect_reference', 'items', 'keys', 'mediaBox', 'mediabox', 'mergePage', 'mergeRotatedPage', 'mergeRotatedScaledPage', 'mergeRotatedScaledTranslatedPage', 'mergeRotatedTranslatedPage', 'mergeScaledPage', 'mergeScaledTranslatedPage', 'mergeTransformedPage', 'mergeTranslatedPage', 'merge_page', 'pdf', 'pop', 'popitem', 'raw_get', 'readFromStream', 'read_from_stream', 'rotate', 'rotateClockwise', 'rotateCounterClockwise', 'rotate_clockwise', 'rotation', 'scale', 'scaleBy', 'scaleTo', 'scale_by', 'scale_to', 'setdefault', 'transfer_rotation_to_content', 'trimBox', 'trimbox', 'update', 'user_unit', 'values', 'writeToStream', 'write_to_stream', 'xmpMetadata', 'xmp_metadata']\n"
     ]
    }
   ],
   "source": [
    "print(dir(page1))"
   ]
  },
  {
   "cell_type": "markdown",
   "id": "d84b1602-145c-41eb-88cf-8664364eea3a",
   "metadata": {},
   "source": [
    "#### extract_text() : extracts text from given page of PDF."
   ]
  },
  {
   "cell_type": "code",
   "execution_count": 13,
   "id": "b9244709-3c08-4938-8c85-a24b5b5a7ec0",
   "metadata": {},
   "outputs": [],
   "source": [
    "page1_source = page1.extract_text()"
   ]
  },
  {
   "cell_type": "code",
   "execution_count": 14,
   "id": "39dc6cf9-4316-4d27-b23a-bdd39925e977",
   "metadata": {},
   "outputs": [
    {
     "data": {
      "text/plain": [
       "2602"
      ]
     },
     "execution_count": 14,
     "metadata": {},
     "output_type": "execute_result"
    }
   ],
   "source": [
    "len(page1_source) # total characters in page1"
   ]
  },
  {
   "cell_type": "code",
   "execution_count": 15,
   "id": "979bae56-ffd9-46b1-90f5-9d55e2a423da",
   "metadata": {},
   "outputs": [
    {
     "name": "stdout",
     "output_type": "stream",
     "text": [
      "Python for Beginners –Cheat Sheet\n",
      "Data types and Collections\n",
      "in t e g e r 10\n",
      "f l o a t 3 . 1 4\n",
      "b o o\n"
     ]
    }
   ],
   "source": [
    "print(page1_source[:100])"
   ]
  },
  {
   "cell_type": "code",
   "execution_count": 16,
   "id": "bf473966-865c-49d3-9720-b3a9e85dd319",
   "metadata": {},
   "outputs": [
    {
     "data": {
      "text/plain": [
       "'Python for Beginners –Cheat Sheet\\nData types and Collections\\nin t e g e r 10\\nf l o a t 3 . 1 4\\nb o o l e a n T r u e / F a l s e\\ns t r i n g ‘ a b c d e ’\\nl i s t [ 1 ,  2 ,  3 ,  4 ,  5 ]\\nt u p l e ( 1 ,  2 ,  ‘ a ’ ,  ‘ b ’ )\\ns e t { ‘ a ’ ,  ’ b ’ ,  ’ c ’ }\\ndi c t i o n a r y { ‘ a ’ : 1 ,  ‘ b ’ : 2 }Numerical Operators\\n+ a d d i t i o n\\n- s u b t r a c t i o n     \\n* m u l t i p l i c a t i o n\\n/ d i v i s i o n\\n** e x p o n e n t\\n% m o d u l u s\\n// f l o o r  d i v i s i o nComparison Operators\\n< l e s s\\n<= l e s s  o r  e q u a l     \\n> g r e a t e r\\n>= g r e a t e r  o r  e q u a l\\n== e q u a l\\n!= n o t  e q u a l\\nLogical Operators\\na n d l o g i c a l  A N D\\nor l o g i c a l  O R     \\nn o t l o g i c a l  N O T\\nMembership Operators\\nin v a l u e  i n  o b j e c t\\nno t  i n v a l u e  n o t  i n  o b j e c tOperations\\nS t r i n g s :\\ns[i] i : t h  i t e m  o f  s\\ns[-1] l a s t  i t e m  o f  s\\nL i s t s :\\nl=  [ ] d e f i n e  e m p t y  l i s t\\nl[i : j] s l i c e  i n  r a n g e  it o  j\\nl[i]  =  x r e p l a c e  iw i t h  x\\nl[i : j : k ] s l i c e  r a n g e  it o  j ,  s t e p  k\\nD i c t i o n a r i e s :\\nd=  { } c r e a t e  e m p t y  d i c t i o n a r y\\nd[i] r e t r i e v e  i t e m  w i t h  k e y  i\\nd[i]=  x s t o r e  x  t o  k e y  I\\nii n  d i s  k e y  ii n  d i c t i o n a r yIndex starts at 0\\nString Methods\\ns . s t r i p () r e m o v e  t r a i l i n g  w h i t e s p a c e\\ns . s p l i t ( x ) r e t u r n  l i s t ,  d e l i m i t e r  x\\ns . j o i n (l) r e t u r n  s t r i n g ,  d e l i m i t e r  s\\ns . s t a r t s w i t h ( x ) r e t u r n  T r u e  i f  s  s t a r t s  w i t h  x\\ns . e n d s w i t h ( x ) r e t u r n  T r u e  i f  s  e n d s  w i t h  x\\ns . u p p e r () r e t u r n  c o p y ,  u p p e r c a s e  o n l y\\ns . l o w e r () r e t u r n  c o p y ,  l o w e r c a s e  o n l yList Methods\\nl . a p p e n d ( x ) a p p e n d  x  t o  e n d  o f  l i s t\\nl . i n s e r t ( I ,  x ) i n s e r t  x  a t  p o s i t i o n  i\\nl . r e m o v e ( x ) r e m o v e  f i r s t  o c c u r r e n c e  o f  x\\nl . r e v e r s e () r e v e r s e  l i s t  i n  p l a c e\\nDictionary Methods\\nd . k e y s () r e t u r n s  a  l i s t  o f  k e y s\\nd . v a l u e s () r e t u r n s  a  l i s t  o f  v a l u e s\\nd. i t e m s () r e t u r n s  a  l i s t  o f  ( k e y ,  v a l u e )\\nConditional Statements\\nif c o n d i t i o n :\\n< c o d e >\\nel i f c o n d i t i o n :\\n< c o d e >\\nel s e :\\n< c o d e >Import from Module\\nf r o m  m o d u l e  i m p o r t  f u n c i m p o r t  f u n c\\nf r o m  m o d u l e  i m p o r t  f u n c a s  f i m p o r t  f u n c a s  f'"
      ]
     },
     "execution_count": 16,
     "metadata": {},
     "output_type": "execute_result"
    }
   ],
   "source": [
    "page1_source"
   ]
  },
  {
   "cell_type": "markdown",
   "id": "6e8e4e1a-c56e-4e2b-ac7c-f613fbde2607",
   "metadata": {},
   "source": [
    "#### Contents of the last page"
   ]
  },
  {
   "cell_type": "code",
   "execution_count": 17,
   "id": "b43a750e-1bcc-4020-93d0-6e6be7f612a0",
   "metadata": {},
   "outputs": [
    {
     "name": "stdout",
     "output_type": "stream",
     "text": [
      "Python for Beginners –Cheat Sheet\n",
      "Built -in Functions\n",
      "fl o a t ( x ) c o n v e r t  x  t o  f l o a t\n",
      "int( x ) c o n v e r t  x  t o  i n t e g e r\n",
      "str( x ) c o n v e r t  x  t o  s t r i n g\n",
      "se t ( x ) c o n v e r t  x  t o  s e t\n",
      "ty p e ( x ) r e t u r n s  t y p e  o f  x\n",
      "len ( x ) r e t u r n s  l e n g t h  o f  x\n",
      "ma x ( x ) r e t u r n s  m a x i m u m  o f  x\n",
      "mi n ( x ) r e t u r n s  m i n i m u m  o f  x\n",
      "su m ( x ) r e t u r n s  s u m  o f  v a l u e s  i n  x\n",
      "so r t e d ( x ) r e t u r n s  s o r t e d  l i s t\n",
      "ro u n d ( x ,  d ) r e t u r n s  x  r o u n d e d  t o  d\n",
      "pr i n t ( x ) p r i n t  o b j e c t  x\n",
      "Loops\n",
      "w h i l e  c o n d i t i o n :\n",
      "< c o d e >\n",
      "f o r  v a r in l i s t :\n",
      "< c o d e >\n",
      "C o n t r o l  s t a t e m e n t s :\n",
      "br e a k t e r m i n a t e  l o o p\n",
      "co n t i n u e j u m p  t o  n e x t  i t e r a t i o n\n",
      "pass d o e s  n o t h i n gFunctions\n",
      "d e f N a m e ( p a r a m 1 ,  p a r a m 2  =  v a l ):\n",
      "< c o d e >\n",
      "# p a r a m 2  o p t i o n a l ,  d e f a u l t :  v a l\n",
      "r e t u r n  < d a t a >Reading and Writing Files\n",
      "fh =  o p e n ( < p a t h > , ’ r ’ )\n",
      "fo r  l i n e  i n  fh:\n",
      "< c o d e >\n",
      "fh . c l o s e ()\n",
      "ou t  =  o p e n ( < p a t h > , ’ w ’ )\n",
      "ou t . w r i t e (<str >)\n",
      "ou t . c l o s e ()Regular Expressions\n",
      "im p o r t  r e\n",
      "p= r e . c o m p i l e ( p a t t e r n ) c o m p i l e  s e a r c h  q u e r y\n",
      "p . s e a r c h ( t e x t ) s e a r c h  f o r  a l l  m a t c h e s\n",
      "p . s u b ( s u b ,  t e x t ) s u b s t i t u t e  m a t c h  w i t h  s u b  \n",
      ".       a n y  o n e  c h a r a c t e r\n",
      "* r e p e a t  p r e v i o u s  0  o r  m o r e  t i m e s\n",
      "+       r e p e a t  p r e v i o u s  1  o r  m o r e  t i m e s\n",
      "?       r e p e a t  p r e v i o u s  0  o r  1  t i m e s\n",
      "\\d      a n y  d i g i t\n",
      "\\s      a n y  w h i t e s p a c e\n",
      "[abc ] a n y  c h a r a c t e r  i n  t h i s  s e t  { a ,  b ,  c }\n",
      "[^abc ] a n y  c h a r a c t e r  * n o t *  i n  t h i s  s e t\n",
      "[a-z ]   a n y  l e t t e r  b e t w e e n  a  a n d  z\n",
      "a | b a  o r  bString Formatting\n",
      "“ P u t  { } i n t o  a  { } ” . f o r m a t ( “ v a l u e s ” ,  “ s t r i n g ” )\n",
      "‘ P u t  v a l u e s  i n t o  a  s t r i n g ’\n",
      "“ P u t  w h i t e s p a c e  a f t e r :  { : < 1 0 } ,  o r  b e f o r e : { : > 1 0 } ” . f o r m a t ( “ a ” , ” b ”)\n",
      "‘ P u t  w h i t e s p a c e  a f t e r :  a          ,  o r  b e f o r e :           b ’\n",
      "“ P u t  w h i t e s p a c e  a r o u n d : { : ^ 1 0 } . ” . f o r m a t ( “ c ” )\n",
      "‘ P u t  w h i t e s p a c e  a r o u n d :         c          .\n",
      "sys.argv\n",
      "im p o r t  s y s i m p o r t  m o d u l e\n",
      "sy s . a r g v [ 0 ] n a m e  o f  s c r i p t\n",
      "sy s . a r g v [ 1 ] f i r s t  c m d l i n e  a r g\n"
     ]
    }
   ],
   "source": [
    "print(reader.pages[len(reader.pages)-1].extract_text())"
   ]
  },
  {
   "cell_type": "code",
   "execution_count": null,
   "id": "981d84ff-505e-4fa0-a6d5-27aa5c0c637b",
   "metadata": {},
   "outputs": [],
   "source": []
  }
 ],
 "metadata": {
  "kernelspec": {
   "display_name": "Python 3 (ipykernel)",
   "language": "python",
   "name": "python3"
  },
  "language_info": {
   "codemirror_mode": {
    "name": "ipython",
    "version": 3
   },
   "file_extension": ".py",
   "mimetype": "text/x-python",
   "name": "python",
   "nbconvert_exporter": "python",
   "pygments_lexer": "ipython3",
   "version": "3.11.1"
  }
 },
 "nbformat": 4,
 "nbformat_minor": 5
}
