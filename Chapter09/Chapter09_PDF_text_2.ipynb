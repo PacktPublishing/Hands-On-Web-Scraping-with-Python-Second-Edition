{
 "cells": [
  {
   "cell_type": "markdown",
   "id": "07235b45-2149-43fc-9984-c3475b02a66c",
   "metadata": {},
   "source": [
    "### PDF Text extraction using PyPDF2\n",
    "#### Extract Tabular data"
   ]
  },
  {
   "cell_type": "code",
   "execution_count": 1,
   "id": "a963883a-7b38-4117-a5e4-ad37511f3f42",
   "metadata": {},
   "outputs": [],
   "source": [
    "from PyPDF2 import PdfReader\n",
    "import re"
   ]
  },
  {
   "cell_type": "markdown",
   "id": "6c6db61d-af2c-43d0-b105-14f3ad1129ba",
   "metadata": {},
   "source": [
    "#### PDF File or File Path"
   ]
  },
  {
   "cell_type": "code",
   "execution_count": 2,
   "id": "e664eaea-111e-473c-be14-38540ca05fe0",
   "metadata": {},
   "outputs": [],
   "source": [
    "pdfFile=\"GeoBase_NHNC1_Data_Model_UML_EN.pdf\""
   ]
  },
  {
   "cell_type": "markdown",
   "id": "37c5128b-7c97-4cb7-9e71-52835017e169",
   "metadata": {},
   "source": [
    "#### Read the file using PdfReader (https://pypdf2.readthedocs.io/en/3.0.0/modules/PdfReader.html)"
   ]
  },
  {
   "cell_type": "code",
   "execution_count": 3,
   "id": "90db9a06-73b4-4ddc-9263-d6922ee2963b",
   "metadata": {},
   "outputs": [],
   "source": [
    "# file = open(pdfFile, 'rb')"
   ]
  },
  {
   "cell_type": "code",
   "execution_count": 4,
   "id": "8eb99269-9729-4350-8b48-7fb5ec4be456",
   "metadata": {},
   "outputs": [],
   "source": [
    "reader = PdfReader(pdfFile)    #  reader = PdfReader(file)"
   ]
  },
  {
   "cell_type": "code",
   "execution_count": 5,
   "id": "9e64760e-9d81-4615-968a-20287906bcac",
   "metadata": {},
   "outputs": [
    {
     "name": "stdout",
     "output_type": "stream",
     "text": [
      "['__class__', '__delattr__', '__dict__', '__dir__', '__doc__', '__eq__', '__format__', '__ge__', '__getattribute__', '__getstate__', '__gt__', '__hash__', '__init__', '__init_subclass__', '__le__', '__lt__', '__module__', '__ne__', '__new__', '__reduce__', '__reduce_ex__', '__repr__', '__setattr__', '__sizeof__', '__str__', '__subclasshook__', '__weakref__', '_basic_validation', '_build_destination', '_build_field', '_build_outline_item', '_check_kids', '_encryption', '_find_eof_marker', '_find_startxref_pos', '_flatten', '_get_indirect_object', '_get_named_destinations', '_get_num_pages', '_get_object_from_stream', '_get_outline', '_get_page', '_get_page_number_by_indirect', '_get_xref_issues', '_override_encryption', '_page_id2num', '_pairs', '_read_pdf15_xref_stream', '_read_standard_xref_table', '_read_xref', '_read_xref_other_error', '_read_xref_subsections', '_read_xref_tables_and_trailers', '_rebuild_xref_table', '_write_field', 'cacheGetIndirectObject', 'cacheIndirectObject', 'cache_get_indirect_object', 'cache_indirect_object', 'decode_permissions', 'decrypt', 'documentInfo', 'flattened_pages', 'getDestinationPageNumber', 'getDocumentInfo', 'getFields', 'getFormTextFields', 'getIsEncrypted', 'getNamedDestinations', 'getNumPages', 'getObject', 'getOutlines', 'getPage', 'getPageLayout', 'getPageMode', 'getPageNumber', 'getXmpMetadata', 'get_destination_page_number', 'get_fields', 'get_form_text_fields', 'get_object', 'get_page_number', 'isEncrypted', 'is_encrypted', 'metadata', 'namedDestinations', 'named_destinations', 'numPages', 'outline', 'outlines', 'pageLayout', 'pageMode', 'page_layout', 'page_mode', 'pages', 'pdf_header', 'read', 'readNextEndLine', 'readObjectHeader', 'read_next_end_line', 'read_object_header', 'resolved_objects', 'stream', 'strict', 'threads', 'trailer', 'xfa', 'xmpMetadata', 'xmp_metadata', 'xref', 'xref_free_entry', 'xref_index', 'xref_objStm']\n"
     ]
    }
   ],
   "source": [
    "print(dir(reader))"
   ]
  },
  {
   "cell_type": "markdown",
   "id": "d6446b19-4b97-41fe-ae3e-0bf19dcaabd3",
   "metadata": {},
   "source": [
    "#### metadata: Contains PDF file related descriptions"
   ]
  },
  {
   "cell_type": "code",
   "execution_count": 6,
   "id": "4467419d-db9b-48e2-8f48-6da440356a64",
   "metadata": {},
   "outputs": [
    {
     "data": {
      "text/plain": [
       "{'/Producer': 'Microsoft® Word 2010',\n",
       " '/Creator': 'Microsoft® Word 2010',\n",
       " '/CreationDate': \"D:20141205142043-05'00'\",\n",
       " '/ModDate': \"D:20141205142043-05'00'\"}"
      ]
     },
     "execution_count": 6,
     "metadata": {},
     "output_type": "execute_result"
    }
   ],
   "source": [
    "meta = reader.metadata\n",
    "meta"
   ]
  },
  {
   "cell_type": "code",
   "execution_count": 7,
   "id": "87e8704d-d8f1-4d96-838e-af10ec2736a2",
   "metadata": {},
   "outputs": [
    {
     "data": {
      "text/plain": [
       "'Microsoft® Word 2010'"
      ]
     },
     "execution_count": 7,
     "metadata": {},
     "output_type": "execute_result"
    }
   ],
   "source": [
    "meta.producer"
   ]
  },
  {
   "cell_type": "code",
   "execution_count": 8,
   "id": "bc465b5a-c1ee-460a-b796-c54e2c75ee58",
   "metadata": {},
   "outputs": [
    {
     "data": {
      "text/plain": [
       "'Microsoft® Word 2010'"
      ]
     },
     "execution_count": 8,
     "metadata": {},
     "output_type": "execute_result"
    }
   ],
   "source": [
    "meta.creator"
   ]
  },
  {
   "cell_type": "markdown",
   "id": "2ff948ea-7de6-4776-a397-6a44868c25bb",
   "metadata": {},
   "source": [
    "#### check if file has encrypted text"
   ]
  },
  {
   "cell_type": "code",
   "execution_count": 9,
   "id": "3c1ffd46-abbb-426d-84bb-ddc158f5eaec",
   "metadata": {},
   "outputs": [
    {
     "data": {
      "text/plain": [
       "False"
      ]
     },
     "execution_count": 9,
     "metadata": {},
     "output_type": "execute_result"
    }
   ],
   "source": [
    "reader.is_encrypted"
   ]
  },
  {
   "cell_type": "markdown",
   "id": "bb6c69dc-1288-4cb2-adf7-2a88e4966acc",
   "metadata": {},
   "source": [
    "#### Number of pages found"
   ]
  },
  {
   "cell_type": "code",
   "execution_count": 10,
   "id": "7894a0d0-1f7d-4e89-8405-3c72d707ba2e",
   "metadata": {},
   "outputs": [
    {
     "data": {
      "text/plain": [
       "19"
      ]
     },
     "execution_count": 10,
     "metadata": {},
     "output_type": "execute_result"
    }
   ],
   "source": [
    "len(reader.pages)"
   ]
  },
  {
   "cell_type": "markdown",
   "id": "cbb4468f-8e42-4fd6-9013-1ae3e1c23354",
   "metadata": {},
   "source": [
    "##### page number can be indexed and used"
   ]
  },
  {
   "cell_type": "code",
   "execution_count": 11,
   "id": "9b4177b3-bb70-4b30-9669-113a9ee37d43",
   "metadata": {},
   "outputs": [],
   "source": [
    "page1 = reader.pages[0] "
   ]
  },
  {
   "cell_type": "code",
   "execution_count": 12,
   "id": "99ad28e8-5501-4196-8255-d7c46210d03c",
   "metadata": {},
   "outputs": [
    {
     "name": "stdout",
     "output_type": "stream",
     "text": [
      "['__abstractmethods__', '__annotations__', '__class__', '__class_getitem__', '__contains__', '__delattr__', '__delitem__', '__dict__', '__dir__', '__doc__', '__eq__', '__format__', '__ge__', '__getattribute__', '__getitem__', '__getstate__', '__gt__', '__hash__', '__init__', '__init_subclass__', '__ior__', '__iter__', '__le__', '__len__', '__lt__', '__module__', '__ne__', '__new__', '__or__', '__parameters__', '__reduce__', '__reduce_ex__', '__repr__', '__reversed__', '__ror__', '__setattr__', '__setitem__', '__sizeof__', '__slots__', '__str__', '__subclasshook__', '__weakref__', '_abc_impl', '_add_transformation_matrix', '_clone', '_content_stream_rename', '_debug_for_extract', '_expand_mediabox', '_extract_text', '_get_fonts', '_is_protocol', '_is_runtime_protocol', '_merge_page', '_merge_resources', '_push_pop_gs', '_reference_clone', 'addTransformation', 'add_transformation', 'annotations', 'artBox', 'artbox', 'bleedBox', 'bleedbox', 'clear', 'clone', 'compressContentStreams', 'compress_content_streams', 'copy', 'createBlankPage', 'create_blank_page', 'cropBox', 'cropbox', 'extractText', 'extract_text', 'extract_xform_text', 'fromkeys', 'get', 'getContents', 'getObject', 'getXmpMetadata', 'get_contents', 'get_object', 'hash_func', 'hash_value', 'hash_value_data', 'images', 'indirect_ref', 'indirect_reference', 'items', 'keys', 'mediaBox', 'mediabox', 'mergePage', 'mergeRotatedPage', 'mergeRotatedScaledPage', 'mergeRotatedScaledTranslatedPage', 'mergeRotatedTranslatedPage', 'mergeScaledPage', 'mergeScaledTranslatedPage', 'mergeTransformedPage', 'mergeTranslatedPage', 'merge_page', 'pdf', 'pop', 'popitem', 'raw_get', 'readFromStream', 'read_from_stream', 'rotate', 'rotateClockwise', 'rotateCounterClockwise', 'rotate_clockwise', 'rotation', 'scale', 'scaleBy', 'scaleTo', 'scale_by', 'scale_to', 'setdefault', 'transfer_rotation_to_content', 'trimBox', 'trimbox', 'update', 'user_unit', 'values', 'writeToStream', 'write_to_stream', 'xmpMetadata', 'xmp_metadata']\n"
     ]
    }
   ],
   "source": [
    "print(dir(page1))"
   ]
  },
  {
   "cell_type": "markdown",
   "id": "d84b1602-145c-41eb-88cf-8664364eea3a",
   "metadata": {},
   "source": [
    "#### extract_text() : extracts text from given page of PDF."
   ]
  },
  {
   "cell_type": "code",
   "execution_count": 13,
   "id": "b9244709-3c08-4938-8c85-a24b5b5a7ec0",
   "metadata": {},
   "outputs": [],
   "source": [
    "page1_source = page1.extract_text()"
   ]
  },
  {
   "cell_type": "code",
   "execution_count": 14,
   "id": "39dc6cf9-4316-4d27-b23a-bdd39925e977",
   "metadata": {},
   "outputs": [
    {
     "data": {
      "text/plain": [
       "461"
      ]
     },
     "execution_count": 14,
     "metadata": {},
     "output_type": "execute_result"
    }
   ],
   "source": [
    "len(page1_source) # total characters in page1"
   ]
  },
  {
   "cell_type": "code",
   "execution_count": 147,
   "id": "979bae56-ffd9-46b1-90f5-9d55e2a423da",
   "metadata": {},
   "outputs": [
    {
     "name": "stdout",
     "output_type": "stream",
     "text": [
      "National Hydro Network, Canada, Level 1  \n",
      "Data Model  \n",
      " \n",
      " \n",
      " \n",
      "Edition 1.0  \n",
      " \n",
      " \n",
      " \n",
      "200\n"
     ]
    }
   ],
   "source": [
    "print(page1_source[:100].strip())"
   ]
  },
  {
   "cell_type": "code",
   "execution_count": 16,
   "id": "bf473966-865c-49d3-9720-b3a9e85dd319",
   "metadata": {},
   "outputs": [
    {
     "data": {
      "text/plain": [
       "' \\n \\n \\n \\n \\n \\n \\n \\nNational Hydro Network, Canada, Level 1  \\nData Model  \\n \\n \\n \\nEdition 1.0  \\n \\n \\n \\n2004 -08 \\n \\n \\nGouvernement du Canada  \\nRessources naturelles Canada  \\nCentre canadien de la cartographie et d’observation de la Terre  \\n \\n \\nService à la clientèle de GéoGratis  \\nTéléphone  : +01-819-564-4857  \\n 1-800-661-2638 (Canada et États -Unis)  \\nTélécopieur  : +01 -819-564-5698  \\nCourriel  : geoginfo@RNCan.gc.ca  \\nURL : www.GeoGratis.gc.ca  \\n \\n \\n \\n \\n \\n \\n  '"
      ]
     },
     "execution_count": 16,
     "metadata": {},
     "output_type": "execute_result"
    }
   ],
   "source": [
    "page1_source"
   ]
  },
  {
   "cell_type": "markdown",
   "id": "2561a756-5e7d-447c-93b0-f431aa0296db",
   "metadata": {},
   "source": [
    "#### tabular data"
   ]
  },
  {
   "cell_type": "code",
   "execution_count": 17,
   "id": "fb941c59-183e-47c9-9e9f-b1bfbd60faca",
   "metadata": {},
   "outputs": [],
   "source": [
    "page3 = reader.pages[2] "
   ]
  },
  {
   "cell_type": "code",
   "execution_count": 23,
   "id": "3e2d3138-c422-473e-bceb-4f9f7dd179ea",
   "metadata": {},
   "outputs": [],
   "source": [
    "page3_source = page3.extract_text()"
   ]
  },
  {
   "cell_type": "code",
   "execution_count": 149,
   "id": "996d404d-9d2a-4d7a-b0cf-707d32cb1bf1",
   "metadata": {},
   "outputs": [
    {
     "data": {
      "text/plain": [
       "'National Hydro Network, Data Model – Edition 1.0  2004 -06 \\nGeoBase®  iii REVISION HISTORY  \\nDate  Version  Description  \\nSeptember 2002  Draft 01  First draft for discussion with Nova Scotia  \\nJanuary 2003  Draft  Second draft after discussion with Nova Scotia and major review of the \\nhydro network model through:  \\n\\uf0b7 Proposal of options  \\nMarch 2003  Alpha  Draft version after discussion and decisions made concerning NHNC1 \\nscope and content with Nova Scotia and British Columbia  \\nJuly 2003  Draft 02  Draft version after discussion and decisions made concerning the \\ndetailed NHNC1 model and content with Nova Scotia, British \\nColumbia, and the Yukon. Meeting in Victoria, May 2003.  \\nDecember 2003  Draft Integration of UML model for both LRS and Segmented views of the \\nNHNC1.  \\nFebruary 2004  Draft  English review;  \\nRemove the UML model for the Segmented view.  \\nMay 2004  Draft  Update from the March Workshop comments.  \\nAugust 2004  2004.1  The object metadata a ttribute «  date » is renamed «  validity_date  » in \\nsection 3.1.6.2 and at all other parts referring to object metadata.  \\nA new Feature type value is added for inland water (see section 3.1.5)  \\nFUTURE WORK  \\nKey word  Description  \\n  \\n '"
      ]
     },
     "execution_count": 149,
     "metadata": {},
     "output_type": "execute_result"
    }
   ],
   "source": [
    "page3_source"
   ]
  },
  {
   "cell_type": "code",
   "execution_count": 47,
   "id": "d2090314-9d77-4ee8-8b5a-a55bc0774e80",
   "metadata": {},
   "outputs": [
    {
     "data": {
      "text/plain": [
       "str"
      ]
     },
     "execution_count": 47,
     "metadata": {},
     "output_type": "execute_result"
    }
   ],
   "source": [
    "type(page3_source)"
   ]
  },
  {
   "cell_type": "markdown",
   "id": "c93c5030-9d87-4caf-ba6f-714f7341dd11",
   "metadata": {},
   "source": [
    "#### Pattern with Month Name followed by 4 digit Year"
   ]
  },
  {
   "cell_type": "code",
   "execution_count": 150,
   "id": "e5215b2a-632c-42a4-9989-36d6bda90e91",
   "metadata": {},
   "outputs": [],
   "source": [
    "page3_split = re.split(r\"\\n(January|August|May|December|February|July|March|September)\\s+([0-9]{4})\",page3_source)"
   ]
  },
  {
   "cell_type": "code",
   "execution_count": 151,
   "id": "12fb45cc-d689-4fdf-b622-384672efd8ff",
   "metadata": {},
   "outputs": [
    {
     "data": {
      "text/plain": [
       "['National Hydro Network, Data Model – Edition 1.0  2004 -06 \\nGeoBase®  iii REVISION HISTORY  \\nDate  Version  Description  ',\n",
       " 'September',\n",
       " '2002',\n",
       " '  Draft 01  First draft for discussion with Nova Scotia  ',\n",
       " 'January',\n",
       " '2003',\n",
       " '  Draft  Second draft after discussion with Nova Scotia and major review of the \\nhydro network model through:  \\n\\uf0b7 Proposal of options  ',\n",
       " 'March',\n",
       " '2003',\n",
       " '  Alpha  Draft version after discussion and decisions made concerning NHNC1 \\nscope and content with Nova Scotia and British Columbia  ',\n",
       " 'July',\n",
       " '2003',\n",
       " '  Draft 02  Draft version after discussion and decisions made concerning the \\ndetailed NHNC1 model and content with Nova Scotia, British \\nColumbia, and the Yukon. Meeting in Victoria, May 2003.  ',\n",
       " 'December',\n",
       " '2003',\n",
       " '  Draft Integration of UML model for both LRS and Segmented views of the \\nNHNC1.  ',\n",
       " 'February',\n",
       " '2004',\n",
       " '  Draft  English review;  \\nRemove the UML model for the Segmented view.  ',\n",
       " 'May',\n",
       " '2004',\n",
       " '  Draft  Update from the March Workshop comments.  ',\n",
       " 'August',\n",
       " '2004',\n",
       " '  2004.1  The object metadata a ttribute «  date » is renamed «  validity_date  » in \\nsection 3.1.6.2 and at all other parts referring to object metadata.  \\nA new Feature type value is added for inland water (see section 3.1.5)  \\nFUTURE WORK  \\nKey word  Description  \\n  \\n ']"
      ]
     },
     "execution_count": 151,
     "metadata": {},
     "output_type": "execute_result"
    }
   ],
   "source": [
    "page3_split"
   ]
  },
  {
   "cell_type": "markdown",
   "id": "fbdc8ba7-137e-4212-8753-67c27066cfe7",
   "metadata": {},
   "source": [
    "#### Extracting column headers from index [0]"
   ]
  },
  {
   "cell_type": "code",
   "execution_count": 152,
   "id": "e3ada5cb-ef37-4234-a801-03d0a8e7d659",
   "metadata": {},
   "outputs": [],
   "source": [
    "col_text = re.findall(r\"\\n(.*?)$\",page3_split[0])"
   ]
  },
  {
   "cell_type": "code",
   "execution_count": 153,
   "id": "2345d3f6-27c1-476d-8750-c92a0512a471",
   "metadata": {},
   "outputs": [
    {
     "data": {
      "text/plain": [
       "['Date  Version  Description  ']"
      ]
     },
     "execution_count": 153,
     "metadata": {},
     "output_type": "execute_result"
    }
   ],
   "source": [
    "col_text"
   ]
  },
  {
   "cell_type": "code",
   "execution_count": 154,
   "id": "0d074eea-2cb2-4960-92ce-44269344a22b",
   "metadata": {},
   "outputs": [],
   "source": [
    "col_text = re.sub(r\"\\s+\",',',col_text[0].strip())"
   ]
  },
  {
   "cell_type": "code",
   "execution_count": 158,
   "id": "5b66e449-28df-4214-bdb0-0c1d85eade94",
   "metadata": {},
   "outputs": [
    {
     "data": {
      "text/plain": [
       "'Date,Version,Description'"
      ]
     },
     "execution_count": 158,
     "metadata": {},
     "output_type": "execute_result"
    }
   ],
   "source": [
    "str(col_text)"
   ]
  },
  {
   "cell_type": "code",
   "execution_count": 159,
   "id": "3845c731-d877-46ed-bda3-fd71afff00e0",
   "metadata": {},
   "outputs": [],
   "source": [
    "columns = re.split(r\"\\,\",col_text)"
   ]
  },
  {
   "cell_type": "code",
   "execution_count": 160,
   "id": "166d5a2f-2a77-4eef-bf56-eb96be27ef14",
   "metadata": {},
   "outputs": [
    {
     "data": {
      "text/plain": [
       "['Date', 'Version', 'Description']"
      ]
     },
     "execution_count": 160,
     "metadata": {},
     "output_type": "execute_result"
    }
   ],
   "source": [
    "columns"
   ]
  },
  {
   "cell_type": "markdown",
   "id": "1a38107c-ac2c-4df6-aa8e-0d29b488183f",
   "metadata": {},
   "source": [
    "#### Removing element from index [0], after extracting column names"
   ]
  },
  {
   "cell_type": "code",
   "execution_count": 100,
   "id": "aecc2164-548b-450f-bf3a-77c196541d44",
   "metadata": {},
   "outputs": [],
   "source": [
    "del page3_split[0]"
   ]
  },
  {
   "cell_type": "markdown",
   "id": "0e28d89c-f71d-4aae-9b92-90a30d26b2c0",
   "metadata": {},
   "source": [
    "#### Joining each two elements from List, as a row"
   ]
  },
  {
   "cell_type": "code",
   "execution_count": 101,
   "id": "ecf0664e-704a-4ea6-92af-08dd3f90a486",
   "metadata": {},
   "outputs": [
    {
     "data": {
      "text/plain": [
       "['September',\n",
       " '2002',\n",
       " '  Draft 01  First draft for discussion with Nova Scotia  ',\n",
       " 'January',\n",
       " '2003',\n",
       " '  Draft  Second draft after discussion with Nova Scotia and major review of the \\nhydro network model through:  \\n\\uf0b7 Proposal of options  ',\n",
       " 'March',\n",
       " '2003',\n",
       " '  Alpha  Draft version after discussion and decisions made concerning NHNC1 \\nscope and content with Nova Scotia and British Columbia  ',\n",
       " 'July',\n",
       " '2003',\n",
       " '  Draft 02  Draft version after discussion and decisions made concerning the \\ndetailed NHNC1 model and content with Nova Scotia, British \\nColumbia, and the Yukon. Meeting in Victoria, May 2003.  ',\n",
       " 'December',\n",
       " '2003',\n",
       " '  Draft Integration of UML model for both LRS and Segmented views of the \\nNHNC1.  ',\n",
       " 'February',\n",
       " '2004',\n",
       " '  Draft  English review;  \\nRemove the UML model for the Segmented view.  ',\n",
       " 'May',\n",
       " '2004',\n",
       " '  Draft  Update from the March Workshop comments.  ',\n",
       " 'August',\n",
       " '2004',\n",
       " '  2004.1  The object metadata a ttribute «  date » is renamed «  validity_date  » in \\nsection 3.1.6.2 and at all other parts referring to object metadata.  \\nA new Feature type value is added for inland water (see section 3.1.5)  \\nFUTURE WORK  \\nKey word  Description  \\n  \\n ']"
      ]
     },
     "execution_count": 101,
     "metadata": {},
     "output_type": "execute_result"
    }
   ],
   "source": [
    "page3_split"
   ]
  },
  {
   "cell_type": "markdown",
   "id": "008384db-52f8-4842-b0f4-d65753a7264a",
   "metadata": {},
   "source": [
    "#### Define container for elements"
   ]
  },
  {
   "cell_type": "code",
   "execution_count": 141,
   "id": "00e522f7-0261-42ea-8401-3b8efe78d39a",
   "metadata": {},
   "outputs": [],
   "source": [
    "dataSet=[]"
   ]
  },
  {
   "cell_type": "markdown",
   "id": "b64efcb9-f998-4cf3-95d7-02ab4bf36e5b",
   "metadata": {},
   "source": [
    "#### Pick each two index from first to last, clean and process"
   ]
  },
  {
   "cell_type": "code",
   "execution_count": 142,
   "id": "0a3532ce-327e-4dee-bf01-b88de14571b0",
   "metadata": {},
   "outputs": [],
   "source": [
    "for i in range(0,len(page3_split),3):\n",
    "    x= page3_split[i].strip()      # cleaning\n",
    "    y= page3_split[i+1].strip()    # cleaning\n",
    "    z= re.sub(r\"\\n\",'',page3_split[i+2]).strip()\n",
    "    if re.match(r\"December\",x):    # case\n",
    "        zv = re.split(r\"(\\s{1})\",z)\n",
    "    else:\n",
    "        zv = re.split(r\"(\\s{2})\",z)\n",
    "    ver = zv[0].strip()\n",
    "    del zv[0]\n",
    "   \n",
    "    desc = \"\".join(zv).strip()\n",
    "    if re.search(r\"FUTURE\",desc): # case\n",
    "        desc=re.sub(r\"(FUTURE.*)$\",'',desc).strip()\n",
    "        \n",
    "    dataSet.append([x+\" \"+y,ver,desc])"
   ]
  },
  {
   "cell_type": "markdown",
   "id": "1767a561-8984-4511-bcb5-1503933fe0ac",
   "metadata": {},
   "source": [
    "#### Final Container"
   ]
  },
  {
   "cell_type": "code",
   "execution_count": 143,
   "id": "96c9eed7-bf7d-4481-96a1-48f54ecef88d",
   "metadata": {},
   "outputs": [
    {
     "data": {
      "text/plain": [
       "[['September 2002', 'Draft 01', 'First draft for discussion with Nova Scotia'],\n",
       " ['January 2003',\n",
       "  'Draft',\n",
       "  'Second draft after discussion with Nova Scotia and major review of the hydro network model through:  \\uf0b7 Proposal of options'],\n",
       " ['March 2003',\n",
       "  'Alpha',\n",
       "  'Draft version after discussion and decisions made concerning NHNC1 scope and content with Nova Scotia and British Columbia'],\n",
       " ['July 2003',\n",
       "  'Draft 02',\n",
       "  'Draft version after discussion and decisions made concerning the detailed NHNC1 model and content with Nova Scotia, British Columbia, and the Yukon. Meeting in Victoria, May 2003.'],\n",
       " ['December 2003',\n",
       "  'Draft',\n",
       "  'Integration of UML model for both LRS and Segmented views of the NHNC1.'],\n",
       " ['February 2004',\n",
       "  'Draft',\n",
       "  'English review;  Remove the UML model for the Segmented view.'],\n",
       " ['May 2004', 'Draft', 'Update from the March Workshop comments.'],\n",
       " ['August 2004',\n",
       "  '2004.1',\n",
       "  'The object metadata a ttribute «  date » is renamed «  validity_date  » in section 3.1.6.2 and at all other parts referring to object metadata.  A new Feature type value is added for inland water (see section 3.1.5)']]"
      ]
     },
     "execution_count": 143,
     "metadata": {},
     "output_type": "execute_result"
    }
   ],
   "source": [
    "dataSet"
   ]
  },
  {
   "cell_type": "markdown",
   "id": "6e8e4e1a-c56e-4e2b-ac7c-f613fbde2607",
   "metadata": {},
   "source": [
    "#### Contents of the last page"
   ]
  },
  {
   "cell_type": "code",
   "execution_count": 144,
   "id": "b43a750e-1bcc-4020-93d0-6e6be7f612a0",
   "metadata": {},
   "outputs": [
    {
     "name": "stdout",
     "output_type": "stream",
     "text": [
      "National Hydro Network, Data Model – Edition 1.0  2004 -06 \n",
      "GeoBase®  19  \n",
      "3.1.6  Metadata  \n",
      "3.1.6.1  Polygon Metadata  \n",
      "cd Polygon MD\n",
      "Polygon Metadata\n",
      "«type»\n",
      "Polygon MD::PolygonMetadata\n",
      "+ nid:  UUID\n",
      "+ geometry:  GB_Surface\n",
      "+ validityDateOfGeometry:  DateInterval\n",
      "+ resultantPlanimetricAccuracy:  AccuracyInterval\n",
      "+ resultantAltimetricAccuracy:  AccuracyInterval [0..1]\n",
      "+ provinceName:  ProvinceName\n",
      "+ StandardVersion:  Char(6)\n",
      "+ comments:  Char (256) [0..1]«type»\n",
      "Polygon MD::ConcernedFeatures\n",
      "+ FeatureName:  Char(256)0..* 1\n",
      " \n",
      " \n",
      "3.1.6.2  Object Metadata  \n",
      "cd NHN LRS Profile Global Model\n",
      "«type»\n",
      "Object MD::ObjectMetadata\n",
      "+ nid:  DT_UUID\n",
      "+ validity_date:  DT_Date\n",
      "+ acquisitionTechnique:  CL_AcquisitionTechnique [0..1]\n",
      "+ datasetName:  Char(50)\n",
      "+ planimetricAccuracy:  Int\n",
      "+ provider:  CL_Provider\n",
      "+ completelyCover:  Boolean\n"
     ]
    }
   ],
   "source": [
    "print(reader.pages[len(reader.pages)-1].extract_text().strip())"
   ]
  },
  {
   "cell_type": "markdown",
   "id": "07d072ab-e8a9-4870-997d-65af66ab3023",
   "metadata": {},
   "source": [
    "#### Export dataSet to CSV"
   ]
  },
  {
   "cell_type": "code",
   "execution_count": 145,
   "id": "981d84ff-505e-4fa0-a6d5-27aa5c0c637b",
   "metadata": {},
   "outputs": [],
   "source": [
    "import csv\n",
    "def writeto_csv(data,filename,columns):\n",
    "    with open(filename,'w+',newline='',encoding=\"UTF-8\") as file:\n",
    "        writer = csv.DictWriter(file, fieldnames=columns)\n",
    "        writer.writeheader()\n",
    "        writer = csv.writer(file)\n",
    "        for element in data:\n",
    "            writer.writerows([element])"
   ]
  },
  {
   "cell_type": "code",
   "execution_count": 161,
   "id": "793991aa-518b-436d-85ca-8a59d454607f",
   "metadata": {},
   "outputs": [],
   "source": [
    "writeto_csv(dataSet,\"revision_history.csv\",columns)"
   ]
  },
  {
   "cell_type": "code",
   "execution_count": null,
   "id": "eb3cab59-8fbc-4688-9663-6be123fa7a16",
   "metadata": {},
   "outputs": [],
   "source": []
  }
 ],
 "metadata": {
  "kernelspec": {
   "display_name": "Python 3 (ipykernel)",
   "language": "python",
   "name": "python3"
  },
  "language_info": {
   "codemirror_mode": {
    "name": "ipython",
    "version": 3
   },
   "file_extension": ".py",
   "mimetype": "text/x-python",
   "name": "python",
   "nbconvert_exporter": "python",
   "pygments_lexer": "ipython3",
   "version": "3.11.1"
  }
 },
 "nbformat": 4,
 "nbformat_minor": 5
}
