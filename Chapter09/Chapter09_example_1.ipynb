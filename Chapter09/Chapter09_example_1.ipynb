{
 "cells": [
  {
   "cell_type": "markdown",
   "id": "680d8e4b-75c1-4a36-8c0e-da57008ce21b",
   "metadata": {},
   "source": [
    "### Scrape Name and City of dealer plus this lat/lng."
   ]
  },
  {
   "cell_type": "code",
   "execution_count": 50,
   "id": "32767cbd-3954-4bf4-b5b7-75a38f2eac4e",
   "metadata": {},
   "outputs": [],
   "source": [
    "import requests\n",
    "import re"
   ]
  },
  {
   "cell_type": "markdown",
   "id": "5d276366-fdbc-405b-9a33-2c802f5dcfff",
   "metadata": {},
   "source": [
    "#### Default collectors and title"
   ]
  },
  {
   "cell_type": "code",
   "execution_count": null,
   "id": "abe65d6b-82a1-46de-b942-b193af5a1ace",
   "metadata": {},
   "outputs": [],
   "source": [
    "dataSet=[]\n",
    "dataJSON=[]\n",
    "columns = ['Dealer_ID','Name','City','Latitude','Longitude']\n",
    "title=\"CFAO Motors-Yamaha Nigeria\""
   ]
  },
  {
   "cell_type": "markdown",
   "id": "bd52b9fa-064e-4e0f-8bdd-7be0ae6ccc7d",
   "metadata": {},
   "source": [
    "#### Target URL"
   ]
  },
  {
   "cell_type": "code",
   "execution_count": 51,
   "id": "c552d495-05d3-40b4-a910-474f49d262fb",
   "metadata": {},
   "outputs": [],
   "source": [
    "url=\"https://yamaha-moto.cfaomotors.ng/en/dealership/yamaha-nigeria-cfao-motors\""
   ]
  },
  {
   "cell_type": "markdown",
   "id": "e7684534-66aa-4d87-b4fd-353dee2a515b",
   "metadata": {},
   "source": [
    "#### Load the url and receive the content"
   ]
  },
  {
   "cell_type": "code",
   "execution_count": 52,
   "id": "fda54b35-74c1-44de-b6ef-aa5fbfc7d005",
   "metadata": {},
   "outputs": [],
   "source": [
    "source = requests.get(url).text"
   ]
  },
  {
   "cell_type": "markdown",
   "id": "0c93c841-185a-4691-9635-aa3c41a7ff78",
   "metadata": {},
   "source": [
    "#### Content sample"
   ]
  },
  {
   "cell_type": "raw",
   "id": "01090d75-fee8-4343-bdbc-70ae7bce7c9c",
   "metadata": {},
   "source": [
    "\"\"\"\n",
    "<script type=\"text/javascript\">\n",
    "\tvar map_markers \t\t= [[\"AUSTINE BEST VENTURES LTD - Igbo-Ora\",7.435186,3.2874431,\"261\",\"\\/media\\/gamme\\/marques\\/graph\\/8-map-pointer-yamaha-moto.png\"],\n",
    "    [\"BLESSED DEN-RACH DYNAMIC VENTURES LTD - Enugu\",6.9162632,7.5184719,\"257\",\"\\/media\\/gamme\\/marques\\/graph\\/8-map-pointer-yamaha-moto.png\"],[\"OLUSOLA COMMERCIAL ENTERPRISES - Ibadan\",7.478631,3.9137284999999,\"260\",\"\\/media\\/gamme\\/marques\\/graph\\/8-map-pointer-yamaha-moto.png\"],[\"S. AKINMADE NIGERIA LTD - Akure\",7.2455287,5.1887157,\"259\",\"\\/media\\/gamme\\/marques\\/graph\\/8-map-pointer-yamaha-moto.png\"]\n",
    "    ];\n",
    "\tvar map_zoom \t\t\t= 6;\n",
    "</script>\n",
    "\"\"\""
   ]
  },
  {
   "cell_type": "markdown",
   "id": "36317dee-8368-4d36-8413-c1b7916e5dab",
   "metadata": {},
   "source": [
    "#### Regex & logical steps to collect data"
   ]
  },
  {
   "cell_type": "code",
   "execution_count": 54,
   "id": "6271d1f4-edf3-4be8-b4f6-9d9db2c8b345",
   "metadata": {},
   "outputs": [
    {
     "name": "stdout",
     "output_type": "stream",
     "text": [
      "Dealer Data is available\n",
      "AUSTINE BEST VENTURES LTD - Igbo-Ora,7.435186,3.2874431,261,\\/media\\/gamme\\/marques\\/graph\\/8-map-pointer-yamaha-moto.png\n",
      "BLESSED DEN-RACH DYNAMIC VENTURES LTD - Enugu,6.9162632,7.5184719,257,\\/media\\/gamme\\/marques\\/graph\\/8-map-pointer-yamaha-moto.png\n",
      "OLUSOLA COMMERCIAL ENTERPRISES - Ibadan,7.478631,3.9137284999999,260,\\/media\\/gamme\\/marques\\/graph\\/8-map-pointer-yamaha-moto.png\n",
      "S. AKINMADE NIGERIA LTD - Akure,7.2455287,5.1887157,259,\\/media\\/gamme\\/marques\\/graph\\/8-map-pointer-yamaha-moto.png\n"
     ]
    }
   ],
   "source": [
    "if re.search(r\"(?m)map\\_markers\",source):\n",
    "    print(\"Dealer Data is available\")\n",
    "    map_markers = re.findall(r\"map\\_markers.*\\[\\[(.*)\\]\\]\\;\",source)\n",
    "    # print(map_markers[0])\n",
    "    markers = re.split(r\"\\]\\,\",map_markers[0])\n",
    "    if len(markers)>0:\n",
    "     \n",
    "        for marker in markers:            \n",
    "            marker = re.sub(r\"\\[|\\\"|\\'\",'',marker)\n",
    "            print(marker)\n",
    "            details = re.split(r\"\\,\",marker)\n",
    "            # print(details)\n",
    "            id = details[3]            \n",
    "            lat = details[1]\n",
    "            lng = details[2]\n",
    "            \n",
    "            nameCity = re.split(\"\\s+\\-\\s+\",details[0])\n",
    "            name = nameCity[0]\n",
    "            city = nameCity[1]\n",
    "            \n",
    "            dataSet.append([id,name,city, lat,lng])\n",
    "            dataJSON.append({\"id\":id,\"name\":name,\"city\":city,\"lat\":lat,\"lng\":lng})\n",
    "else:\n",
    "    print(\"Dealer Data is not available\")"
   ]
  },
  {
   "cell_type": "markdown",
   "id": "8a6d0832-8bdf-481a-9b52-3aae19e2ea80",
   "metadata": {},
   "source": [
    "#### Sample collected data"
   ]
  },
  {
   "cell_type": "code",
   "execution_count": 55,
   "id": "3ca0279d-b99b-49e5-80a3-54c79f8f7bfc",
   "metadata": {},
   "outputs": [
    {
     "data": {
      "text/plain": [
       "[['261', 'AUSTINE BEST VENTURES LTD', 'Igbo-Ora', '7.435186', '3.2874431'],\n",
       " ['257',\n",
       "  'BLESSED DEN-RACH DYNAMIC VENTURES LTD',\n",
       "  'Enugu',\n",
       "  '6.9162632',\n",
       "  '7.5184719'],\n",
       " ['260',\n",
       "  'OLUSOLA COMMERCIAL ENTERPRISES',\n",
       "  'Ibadan',\n",
       "  '7.478631',\n",
       "  '3.9137284999999'],\n",
       " ['259', 'S. AKINMADE NIGERIA LTD', 'Akure', '7.2455287', '5.1887157']]"
      ]
     },
     "execution_count": 55,
     "metadata": {},
     "output_type": "execute_result"
    }
   ],
   "source": [
    "dataSet"
   ]
  },
  {
   "cell_type": "markdown",
   "id": "ee0864ff-b318-45c1-8f5c-78b222b938e3",
   "metadata": {},
   "source": [
    "#### Export data to JSON and CSV"
   ]
  },
  {
   "cell_type": "code",
   "execution_count": 56,
   "id": "20a6ce75-9541-4962-879c-0afebee20cea",
   "metadata": {},
   "outputs": [],
   "source": [
    "import json\n",
    "with open(title.replace(\" \",\"-\")+\".json\", \"w\") as file:\n",
    "    json.dump(dataJSON, file, indent=4, sort_keys=False)"
   ]
  },
  {
   "cell_type": "code",
   "execution_count": 57,
   "id": "71b71d9a-7839-4e00-b8d4-c61cdbc88c89",
   "metadata": {},
   "outputs": [],
   "source": [
    "import csv"
   ]
  },
  {
   "cell_type": "code",
   "execution_count": 58,
   "id": "a04fc012-f179-44b7-a4dd-88b085b25623",
   "metadata": {},
   "outputs": [],
   "source": [
    "def writeto_csv(data,filename,columns):\n",
    "    with open(filename,'w+',newline='',encoding=\"UTF-8\") as file:\n",
    "        writer = csv.DictWriter(file, fieldnames=columns)\n",
    "        writer.writeheader()\n",
    "        writer = csv.writer(file)\n",
    "        for element in data:\n",
    "            writer.writerows([element])"
   ]
  },
  {
   "cell_type": "code",
   "execution_count": 59,
   "id": "0bda833f-8838-4e1e-bfbd-de4afc25f255",
   "metadata": {},
   "outputs": [],
   "source": [
    "writeto_csv(dataSet,title.replace(\" \",\"-\")+\".csv\",columns)"
   ]
  },
  {
   "cell_type": "code",
   "execution_count": null,
   "id": "f81588ba-7b4f-4f5c-8893-2b72cafd3d05",
   "metadata": {},
   "outputs": [],
   "source": []
  }
 ],
 "metadata": {
  "kernelspec": {
   "display_name": "Python 3 (ipykernel)",
   "language": "python",
   "name": "python3"
  },
  "language_info": {
   "codemirror_mode": {
    "name": "ipython",
    "version": 3
   },
   "file_extension": ".py",
   "mimetype": "text/x-python",
   "name": "python",
   "nbconvert_exporter": "python",
   "pygments_lexer": "ipython3",
   "version": "3.11.1"
  }
 },
 "nbformat": 4,
 "nbformat_minor": 5
}
