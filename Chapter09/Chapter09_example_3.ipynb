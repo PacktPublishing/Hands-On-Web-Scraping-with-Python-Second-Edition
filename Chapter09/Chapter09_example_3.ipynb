{
 "cells": [
  {
   "cell_type": "markdown",
   "id": "680d8e4b-75c1-4a36-8c0e-da57008ce21b",
   "metadata": {},
   "source": [
    "### GodFreys Dealer Data"
   ]
  },
  {
   "cell_type": "code",
   "execution_count": 1,
   "id": "32767cbd-3954-4bf4-b5b7-75a38f2eac4e",
   "metadata": {},
   "outputs": [],
   "source": [
    "import requests\n",
    "import re"
   ]
  },
  {
   "cell_type": "markdown",
   "id": "4f7ec033-860d-4251-8140-41921a7cd0fc",
   "metadata": {},
   "source": [
    "#### List, url"
   ]
  },
  {
   "cell_type": "code",
   "execution_count": 2,
   "id": "d00ee814-4cc3-4232-8bdf-302dfe34d766",
   "metadata": {},
   "outputs": [],
   "source": [
    "dataSet=[]  #Collectors\n",
    "dataJSON=[]\n",
    "\n",
    "columns = ['Name','Address','City','State','Zip','Lat','Lng'] # Header Row\n",
    "title=\"Godfreys Dealer\"  #fileName\n",
    "\n",
    "url=\"https://godfreysfeed.com/dealersandlocations\""
   ]
  },
  {
   "cell_type": "markdown",
   "id": "e7684534-66aa-4d87-b4fd-353dee2a515b",
   "metadata": {},
   "source": [
    "#### Load the url and receive the content"
   ]
  },
  {
   "cell_type": "code",
   "execution_count": 38,
   "id": "fda54b35-74c1-44de-b6ef-aa5fbfc7d005",
   "metadata": {},
   "outputs": [],
   "source": [
    "source = requests.get(url).text"
   ]
  },
  {
   "cell_type": "markdown",
   "id": "1d462e72-a3c3-4964-b54e-1eae1bb1228d",
   "metadata": {},
   "source": [
    "#### Content sample"
   ]
  },
  {
   "cell_type": "raw",
   "id": "33de1f87-a63e-4999-9ac7-bb069ec073fd",
   "metadata": {},
   "source": [
    "\"\"\"\n",
    "infowindow.setContent(infoWindowContent);\n",
    "     \tvar latLng = new google.maps.LatLng(34.7441954, -84.9719608);\n",
    "     \tvar marker_1 = new google.maps.Marker({\n",
    "     \t    position: latLng\n",
    "     \t});\n",
    "     \tmakeInfoWindowEvent(map, infowindow, marker_1);\n",
    "\t\tmap_distances.push({distance:google.maps.geometry.spherical.computeDistanceBetween(center, latLng),id:1,text:\"<strong><span style='color:#e5011c;cursor:pointer;' onclick=\\'myClick(0,markers);\\'>41 Feed and Garden Center</span></strong><br><strong>1725 S Dixie Hwy</strong><br><strong>Dalton, GA</strong><br><strong>30720</strong><br><br>\"});\n",
    "\n",
    "     \tmarkers.push(marker_1);\n",
    "\t\t \tvar infoWindowContent = \"<div style='overflow:hidden; width:200px'>\";\n",
    "\t\tinfoWindowContent = infoWindowContent+ \"<strong><span style='color:#e5011c;'>American Cowboy Shop</span></strong><br><strong>513 D Murphy Hwy</strong><br><strong>Blairsville, GA</strong><br><strong>30512</strong><br><br>\";\n",
    "\t\tinfoWindowContent+='</div>';\n",
    "     \tvar infowindow = new google.maps.InfoWindow({\n",
    "     \t\tmaxWidth: 450\n",
    "     \t});stmod>2023-04-06T14:42:05+00:00</lastmod>\n",
    "\t</url>\n",
    "\"\"\""
   ]
  },
  {
   "cell_type": "markdown",
   "id": "0fa996b6-6554-4434-99f2-ad7538a4a697",
   "metadata": {},
   "source": [
    "#### Regex & logical steps to collect data"
   ]
  },
  {
   "cell_type": "code",
   "execution_count": 47,
   "id": "6271d1f4-edf3-4be8-b4f6-9d9db2c8b345",
   "metadata": {},
   "outputs": [
    {
     "name": "stdout",
     "output_type": "stream",
     "text": [
      "Data is available\n",
      "['34.7441954, -84.9719608', '34.8752421, -83.9716038']\n",
      "[\"<strong><span style='color:#e5011c;'>41 Feed and Garden Center</span></strong><br><strong>1725 S Dixie Hwy</strong><br><strong>Dalton, GA</strong><br><strong>30720</strong><br><br>\", \"<strong><span style='color:#e5011c;'>American Cowboy Shop</span></strong><br><strong>513 D Murphy Hwy</strong><br><strong>Blairsville, GA</strong><br><strong>30512</strong><br><br>\"]\n",
      "Total information 60\n",
      "Total details 60\n",
      "(\"<strong><span style='color:#e5011c;'>41 Feed and Garden Center</span></strong><br><strong>1725 S Dixie Hwy</strong><br><strong>Dalton, GA</strong><br><strong>30720</strong><br><br>\", '34.7441954, -84.9719608')\n",
      "<strong><span style='color:#e5011c;'>41 Feed and Garden Center</span></strong><br><strong>1725 S Dixie Hwy</strong><br><strong>Dalton, GA</strong><br><strong>30720</strong><br><br>\n",
      "<strong><span style='color:#e5011c;'>American Cowboy Shop</span></strong><br><strong>513 D Murphy Hwy</strong><br><strong>Blairsville, GA</strong><br><strong>30512</strong><br><br>\n",
      "<strong><span style='color:#e5011c;'>Anderson&apos;s Feed and Hardware</span></strong><br><strong>88 Millies Place</strong><br><strong>Dahlonega, GA</strong><br><strong>30533</strong><br><br>\n",
      "<strong><span style='color:#e5011c;'>Anderson&apos;s General Store</span></strong><br><strong>23736 US Hwy 80 E</strong><br><strong>Statesboro, GA</strong><br><strong>30458</strong><br><br>\n",
      "<strong><span style='color:#e5011c;'>Bar G Horse & Cattle Supply</span></strong><br><strong>1060 Astondale Road</strong><br><strong>Bishop, GA</strong><br><strong>30621</strong><br><br>\n",
      "<strong><span style='color:#e5011c;'>Beggs Farm Supply</span></strong><br><strong>5845 Royston Hwy</strong><br><strong>Canon, GA</strong><br><strong>30520</strong><br><br>\n",
      "<strong><span style='color:#e5011c;'>Burdette Mill</span></strong><br><strong>216 Depot Street</strong><br><strong>Washington, GA</strong><br><strong>30673</strong><br><br>\n",
      "<strong><span style='color:#e5011c;'>Burke Feed</span></strong><br><strong>369 Hwy 56 N</strong><br><strong>Waynesboro, GA</strong><br><strong>30830</strong><br><br>\n",
      "<strong><span style='color:#e5011c;'>Candler Feed and Seed</span></strong><br><strong>1275 Smokey Park Hwy</strong><br><strong>Candler, NC</strong><br><strong>28715</strong><br><br>\n",
      "<strong><span style='color:#e5011c;'>Cash & Carry Feed</span></strong><br><strong>135 N McGriff St.</strong><br><strong>Whigham, GA</strong><br><strong>39897</strong><br><br>\n",
      "<strong><span style='color:#e5011c;'>Cherokee Feed and Seed</span></strong><br><strong>2370 Hightower Rd</strong><br><strong>Ball Ground, GA</strong><br><strong>30107</strong><br><br>\n",
      "<strong><span style='color:#e5011c;'>Country Oaks</span></strong><br><strong>659 Hwy. 341 S.</strong><br><strong>Barnesville, GA</strong><br><strong>30204</strong><br><br>\n",
      "<strong><span style='color:#e5011c;'>Country Oaks</span></strong><br><strong>5967 US Hwy 41</strong><br><strong>Macon, GA</strong><br><strong>31210</strong><br><br>\n",
      "<strong><span style='color:#e5011c;'>Double D Stables and Tack</span></strong><br><strong>4111 Logan Rd</strong><br><strong>Rocky Face, GA</strong><br><strong>30740</strong><br><br>\n",
      "<strong><span style='color:#e5011c;'>Dykes Creek Farm Supply</span></strong><br><strong>3387 Kingston Hwy</strong><br><strong>Rome, GA</strong><br><strong>30161</strong><br><br>\n",
      "<strong><span style='color:#e5011c;'>Eatonton Co-op</span></strong><br><strong>504 S Jefferson Ave</strong><br><strong>Eatonton, GA</strong><br><strong>31024</strong><br><br>\n",
      "<strong><span style='color:#e5011c;'>Family Feed</span></strong><br><strong>6424 Columbus Hwy 80</strong><br><strong>Box Springs, GA</strong><br><strong>31801</strong><br><br>\n",
      "<strong><span style='color:#e5011c;'>Farm & Garden Inc.</span></strong><br><strong>646 Clarksville Street</strong><br><strong>Cornelia, GA</strong><br><strong>30531</strong><br><br>\n",
      "<strong><span style='color:#e5011c;'>Farmer Seed Company</span></strong><br><strong>800 W Broad St</strong><br><strong>Doerun, GA</strong><br><strong>31744</strong><br><br>\n",
      "<strong><span style='color:#e5011c;'>Farmers Feed</span></strong><br><strong>204 N West St</strong><br><strong>Greensboro, GA</strong><br><strong>30642</strong><br><br>\n",
      "<strong><span style='color:#e5011c;'>Farmers Supply</span></strong><br><strong>1812 S Patterson Street</strong><br><strong>Valdosta, GA</strong><br><strong>31601</strong><br><br>\n",
      "<strong><span style='color:#e5011c;'>Feed South</span></strong><br><strong>2623 Knight Avenue</strong><br><strong>Waycross, GA</strong><br><strong>31503</strong><br><br>\n",
      "<strong><span style='color:#e5011c;'>Forsyth Feed & Seed</span></strong><br><strong>45 W Jefferson Street</strong><br><strong>Forsyth, GA</strong><br><strong>31029</strong><br><br>\n",
      "<strong><span style='color:#e5011c;'>Georgia Deer Farm</span></strong><br><strong>850 Hwy 27 N</strong><br><strong>Roopville, GA</strong><br><strong>30170</strong><br><br>\n",
      "<strong><span style='color:#e5011c;'>Gray Feed and Seed</span></strong><br><strong>107 Railroad Street</strong><br><strong>Gray, GA</strong><br><strong>31032</strong><br><br>\n",
      "<strong><span style='color:#e5011c;'>H&M Trailers and Feed</span></strong><br><strong>6446 JFH Pkwy</strong><br><strong>Adairsville, GA</strong><br><strong>30103</strong><br><br>\n",
      "<strong><span style='color:#e5011c;'>Hill Farm Supply</span></strong><br><strong>12700 Augusta Hwy</strong><br><strong>Sparta, GA</strong><br><strong>31087</strong><br><br>\n",
      "<strong><span style='color:#e5011c;'>Hills Ace Hardware</span></strong><br><strong>186 W Athens Street</strong><br><strong>Winder, GA</strong><br><strong>30680</strong><br><br>\n",
      "<strong><span style='color:#e5011c;'>Ijon Webb</span></strong><br><strong>1130 Stillwell Rd</strong><br><strong>Springfield, GA</strong><br><strong>31329</strong><br><br>\n",
      "<strong><span style='color:#e5011c;'>J&R Feeds</span></strong><br><strong>100 8th Street NE</strong><br><strong>Cullman, AL</strong><br><strong>35055</strong><br><br>\n",
      "<strong><span style='color:#e5011c;'>Jump N Run Farm</span></strong><br><strong>1569 Liberty Church Grove Rd</strong><br><strong>Wrightsville, GA</strong><br><strong>31096</strong><br><br>\n",
      "<strong><span style='color:#e5011c;'>L & C Farm and Garden</span></strong><br><strong>1143 East Fairplay Road</strong><br><strong>Fairplay, SC</strong><br><strong>29643</strong><br><br>\n",
      "<strong><span style='color:#e5011c;'>Lovin Equipment and Sales</span></strong><br><strong>756 Sweetwater Road</strong><br><strong>Robbinsville, NC</strong><br><strong>28771</strong><br><br>\n",
      "<strong><span style='color:#e5011c;'>Maddox Feed</span></strong><br><strong>1915 Winder Hwy</strong><br><strong>Jefferson, GA</strong><br><strong>30549</strong><br><br>\n",
      "<strong><span style='color:#e5011c;'>MeHerrin Ag and Chemical</span></strong><br><strong>43 Houston Street</strong><br><strong>Hawkinsville, GA</strong><br><strong>31036</strong><br><br>\n",
      "<strong><span style='color:#e5011c;'>Mini Mart</span></strong><br><strong>905 West Main Street</strong><br><strong>Swainsboro, GA</strong><br><strong>30401</strong><br><br>\n",
      "<strong><span style='color:#e5011c;'>North Georgia Co-Op</span></strong><br><strong>951 Progress Rd</strong><br><strong>Ellijay, GA</strong><br><strong>30540</strong><br><br>\n",
      "<strong><span style='color:#e5011c;'>Owens Farm Supply</span></strong><br><strong>6414 Mize Road</strong><br><strong>Toccoa, GA</strong><br><strong>30577</strong><br><br>\n",
      "<strong><span style='color:#e5011c;'>Patricks</span></strong><br><strong>10285 Covington Bypass</strong><br><strong>Covington, GA</strong><br><strong>30014</strong><br><br>\n",
      "<strong><span style='color:#e5011c;'>Perry Feed and Tack</span></strong><br><strong>309 Kellwood Drive</strong><br><strong>Perry, GA</strong><br><strong>31069</strong><br><br>\n",
      "<strong><span style='color:#e5011c;'>Pine Ridge Outdoor Supply</span></strong><br><strong>4999 HWY 114</strong><br><strong>Lyerly, GA</strong><br><strong>30730</strong><br><br>\n",
      "<strong><span style='color:#e5011c;'>PM Wilkins Company</span></strong><br><strong>117 N Charleston Street</strong><br><strong>Blacksburg, SC</strong><br><strong>29702</strong><br><br>\n",
      "<strong><span style='color:#e5011c;'>Reeves Hardware</span></strong><br><strong>95 BO James St</strong><br><strong>Clayton, GA</strong><br><strong>30525</strong><br><br>\n",
      "<strong><span style='color:#e5011c;'>Roberts Milling Company</span></strong><br><strong>116 West Albany Ave</strong><br><strong>Pearson, GA</strong><br><strong>31642</strong><br><br>\n",
      "<strong><span style='color:#e5011c;'>Roche Farm and Garden</span></strong><br><strong>803 E Jackson St</strong><br><strong>Dublin, GA</strong><br><strong>31040</strong><br><br>\n",
      "<strong><span style='color:#e5011c;'>Roche Farm and Garden</span></strong><br><strong>781 East Court Street</strong><br><strong>Wrightsville, GA</strong><br><strong>31040</strong><br><br>\n",
      "<strong><span style='color:#e5011c;'>Rodgers Fertilizer</span></strong><br><strong>409 N Main St</strong><br><strong>Saluda, SC</strong><br><strong>29138</strong><br><br>\n",
      "<strong><span style='color:#e5011c;'>Rogers Feed</span></strong><br><strong>1041 Easley Hwy</strong><br><strong>Pelzer, SC</strong><br><strong>29669</strong><br><br>\n",
      "<strong><span style='color:#e5011c;'>S&S Farm Supply</span></strong><br><strong>654 Mary Richardson Rd</strong><br><strong>Wray, GA</strong><br><strong>31796</strong><br><br>\n",
      "<strong><span style='color:#e5011c;'>Shirley Feed & Seed Inc</span></strong><br><strong>2439 North Elm Street</strong><br><strong>Commerce, GA</strong><br><strong>30529</strong><br><br>\n",
      "<strong><span style='color:#e5011c;'>Southland Power Fence</span></strong><br><strong>752 E 5th Ave</strong><br><strong>Colbert, GA</strong><br><strong>30628</strong><br><br>\n",
      "<strong><span style='color:#e5011c;'>Tennagia Farms</span></strong><br><strong>2105 Ga Hwy 135</strong><br><strong>Vidalia, GA</strong><br><strong>30474</strong><br><br>\n",
      "<strong><span style='color:#e5011c;'>Town & Country General Store</span></strong><br><strong>59 Hwy 212 West</strong><br><strong>Monticello, GA</strong><br><strong>31064</strong><br><br>\n",
      "<strong><span style='color:#e5011c;'>Uncle B&apos;s Feed</span></strong><br><strong>149 Ellington Road</strong><br><strong>Ellijay, GA</strong><br><strong>30540</strong><br><br>\n",
      "<strong><span style='color:#e5011c;'>Uncle B&apos;s Feed-Blue Ridge</span></strong><br><strong>2755 Blue Ridge Dr</strong><br><strong>Blue Ridge, GA</strong><br><strong>30513</strong><br><br>\n",
      "<strong><span style='color:#e5011c;'>Wayne Feed</span></strong><br><strong>712 W Cherry Street</strong><br><strong>Jesup, GA</strong><br><strong>31545</strong><br><br>\n",
      "<strong><span style='color:#e5011c;'>Weeds Farm Supply</span></strong><br><strong>527 S Winston Street</strong><br><strong>Reynolds, GA</strong><br><strong>31076</strong><br><br>\n",
      "<strong><span style='color:#e5011c;'>Westside Feed II</span></strong><br><strong>230 SE 7th Avenue</strong><br><strong>Lake Butler, FL</strong><br><strong>32054</strong><br><br>\n",
      "<strong><span style='color:#e5011c;'>White Co. Farmers Exchange</span></strong><br><strong>951 S Main St</strong><br><strong>Cleveland, GA</strong><br><strong>30528</strong><br><br>\n",
      "<strong><span style='color:#e5011c;'>Woody Folsom Trailers & Feed</span></strong><br><strong>2157 Golden Isle W</strong><br><strong>Baxley, GA</strong><br><strong>31513</strong><br><br>\n"
     ]
    }
   ],
   "source": [
    "if re.search(r\"\\.LatLng\",source):\n",
    "    print(\"Data is available\")\n",
    "    \n",
    "    latlngs = re.findall(r\"var\\s+latLng.*\\.LatLng\\((.*)\\)\\;\",source)\n",
    "    contents = re.findall(r\"infoWindowContent\\+\\s*\\\"(.*)\\\"\\;\",source)\n",
    "    print(latlngs[0:2]) #sample\n",
    "    print(contents[0:2]) #sample\n",
    "    \n",
    "    if len(latlngs)==len(contents):\n",
    "        print(f\"Total information {len(latlngs)}\")\n",
    "        \n",
    "        details = list(zip(contents,latlngs))   #zip\n",
    "        print(f\"Total details {len(details)}\")\n",
    "        print(details[0])\n",
    "        \n",
    "        for detail in details:\n",
    "            fullAddress,coordinate=detail\n",
    "            print(fullAddress)\n",
    "            fullAddress = re.sub('\\<br\\>','|',fullAddress)\n",
    "            fullAddress = re.sub('\\|\\|$','',fullAddress)\n",
    "            fullAddress = re.sub('(\\<\\/?\\w+\\>)','',fullAddress)\n",
    "            fullAddress = re.sub('(\\<\\/?.*\\>)','',fullAddress)\n",
    "            fullAddress = re.split('\\|',fullAddress)\n",
    "            # print(f\"Split Address : {fullAddress}\")\n",
    "            \n",
    "            name = fullAddress[0]\n",
    "            address = fullAddress[1]\n",
    "            city = re.split(\"\\,\",fullAddress[2])[0]\n",
    "            state = re.split(\"\\,\",fullAddress[2])[1].strip()\n",
    "            zipCode = fullAddress[3]\n",
    "            \n",
    "            coordinates=re.split(r\"\\,\",coordinate)\n",
    "            lat=coordinates[0]\n",
    "            lng=coordinates[1].strip()            \n",
    "            \n",
    "            dataSet.append([name,address,city,state,zipCode,lat,lng])           \n",
    "            dataJSON.append({\"name\":name,\"address\":address,\"city\":city,\"state\":state,\"zip\":zipCode,\"lat\":lat,\"lng\":lng})                             \n",
    "else:\n",
    "    print(\"Dealer Data is not available\")"
   ]
  },
  {
   "cell_type": "markdown",
   "id": "32a5e365-8ac8-42c0-8ab9-d8c655a665ec",
   "metadata": {},
   "source": [
    "#### Sample of collected data"
   ]
  },
  {
   "cell_type": "code",
   "execution_count": 48,
   "id": "3ca0279d-b99b-49e5-80a3-54c79f8f7bfc",
   "metadata": {},
   "outputs": [
    {
     "data": {
      "text/plain": [
       "[['41 Feed and Garden Center',\n",
       "  '1725 S Dixie Hwy',\n",
       "  'Dalton',\n",
       "  'GA',\n",
       "  '30720',\n",
       "  '34.7441954',\n",
       "  '-84.9719608'],\n",
       " ['American Cowboy Shop',\n",
       "  '513 D Murphy Hwy',\n",
       "  'Blairsville',\n",
       "  'GA',\n",
       "  '30512',\n",
       "  '34.8752421',\n",
       "  '-83.9716038'],\n",
       " ['Anderson&apos;s Feed and Hardware',\n",
       "  '88 Millies Place',\n",
       "  'Dahlonega',\n",
       "  'GA',\n",
       "  '30533',\n",
       "  '34.5532439',\n",
       "  '-83.9674074'],\n",
       " ['Anderson&apos;s General Store',\n",
       "  '23736 US Hwy 80 E',\n",
       "  'Statesboro',\n",
       "  'GA',\n",
       "  '30458',\n",
       "  '32.4317329',\n",
       "  '-81.7492182'],\n",
       " ['Bar G Horse & Cattle Supply',\n",
       "  '1060 Astondale Road',\n",
       "  'Bishop',\n",
       "  'GA',\n",
       "  '30621',\n",
       "  '33.815868',\n",
       "  '-83.43338'],\n",
       " ['Beggs Farm Supply',\n",
       "  '5845 Royston Hwy',\n",
       "  'Canon',\n",
       "  'GA',\n",
       "  '30520',\n",
       "  '34.2962829',\n",
       "  '-83.0061322'],\n",
       " ['Burdette Mill',\n",
       "  '216 Depot Street',\n",
       "  'Washington',\n",
       "  'GA',\n",
       "  '30673',\n",
       "  '33.7340136',\n",
       "  '-82.7472304'],\n",
       " ['Burke Feed',\n",
       "  '369 Hwy 56 N',\n",
       "  'Waynesboro',\n",
       "  'GA',\n",
       "  '30830',\n",
       "  '33.1062557',\n",
       "  '-81.9850557'],\n",
       " ['Candler Feed and Seed',\n",
       "  '1275 Smokey Park Hwy',\n",
       "  'Candler',\n",
       "  'NC',\n",
       "  '28715',\n",
       "  '35.546017',\n",
       "  '-82.6755575'],\n",
       " ['Cash & Carry Feed',\n",
       "  '135 N McGriff St.',\n",
       "  'Whigham',\n",
       "  'GA',\n",
       "  '39897',\n",
       "  '30.8847346',\n",
       "  '-84.3244161']]"
      ]
     },
     "execution_count": 48,
     "metadata": {},
     "output_type": "execute_result"
    }
   ],
   "source": [
    "dataSet[:10]"
   ]
  },
  {
   "cell_type": "markdown",
   "id": "ee0864ff-b318-45c1-8f5c-78b222b938e3",
   "metadata": {},
   "source": [
    "#### Export data to JSON and CSV"
   ]
  },
  {
   "cell_type": "code",
   "execution_count": 49,
   "id": "20a6ce75-9541-4962-879c-0afebee20cea",
   "metadata": {},
   "outputs": [],
   "source": [
    "import json\n",
    "with open(title.replace(\" \",\"-\")+\".json\", \"w\") as file:\n",
    "    json.dump(dataJSON, file, indent=4, sort_keys=False)"
   ]
  },
  {
   "cell_type": "code",
   "execution_count": 50,
   "id": "71b71d9a-7839-4e00-b8d4-c61cdbc88c89",
   "metadata": {},
   "outputs": [],
   "source": [
    "import csv"
   ]
  },
  {
   "cell_type": "code",
   "execution_count": 51,
   "id": "a04fc012-f179-44b7-a4dd-88b085b25623",
   "metadata": {},
   "outputs": [],
   "source": [
    "def writeto_csv(data,filename,columns):\n",
    "    with open(filename,'w+',newline='',encoding=\"UTF-8\") as file:\n",
    "        writer = csv.DictWriter(file, fieldnames=columns)\n",
    "        writer.writeheader()\n",
    "        writer = csv.writer(file)\n",
    "        for element in data:\n",
    "            writer.writerows([element])"
   ]
  },
  {
   "cell_type": "code",
   "execution_count": 52,
   "id": "0bda833f-8838-4e1e-bfbd-de4afc25f255",
   "metadata": {},
   "outputs": [],
   "source": [
    "writeto_csv(dataSet,title.replace(\" \",\"-\")+\".csv\",columns)"
   ]
  },
  {
   "cell_type": "code",
   "execution_count": null,
   "id": "f81588ba-7b4f-4f5c-8893-2b72cafd3d05",
   "metadata": {},
   "outputs": [],
   "source": []
  }
 ],
 "metadata": {
  "kernelspec": {
   "display_name": "Python 3 (ipykernel)",
   "language": "python",
   "name": "python3"
  },
  "language_info": {
   "codemirror_mode": {
    "name": "ipython",
    "version": 3
   },
   "file_extension": ".py",
   "mimetype": "text/x-python",
   "name": "python",
   "nbconvert_exporter": "python",
   "pygments_lexer": "ipython3",
   "version": "3.11.1"
  }
 },
 "nbformat": 4,
 "nbformat_minor": 5
}
