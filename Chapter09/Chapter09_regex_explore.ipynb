{
 "cells": [
  {
   "cell_type": "markdown",
   "id": "87bcfc45-9e94-4de5-a3cd-07779cad23ea",
   "metadata": {},
   "source": [
    "###  Regular Expressions (regex: re)"
   ]
  },
  {
   "cell_type": "code",
   "execution_count": 1,
   "id": "248ff98a-84e0-4384-a57d-ad3881863f08",
   "metadata": {},
   "outputs": [],
   "source": [
    "import re"
   ]
  },
  {
   "cell_type": "code",
   "execution_count": 2,
   "id": "7c8bd4d7-a990-46cc-a4d9-57d7c655679b",
   "metadata": {},
   "outputs": [
    {
     "name": "stdout",
     "output_type": "stream",
     "text": [
      "['A', 'ASCII', 'DEBUG', 'DOTALL', 'I', 'IGNORECASE', 'L', 'LOCALE', 'M', 'MULTILINE', 'Match', 'NOFLAG', 'Pattern', 'RegexFlag', 'S', 'Scanner', 'T', 'TEMPLATE', 'U', 'UNICODE', 'VERBOSE', 'X', '_MAXCACHE', '__all__', '__builtins__', '__cached__', '__doc__', '__file__', '__loader__', '__name__', '__package__', '__path__', '__spec__', '__version__', '_cache', '_casefix', '_compile', '_compile_repl', '_compiler', '_constants', '_expand', '_parser', '_pickle', '_special_chars_map', '_subx', 'compile', 'copyreg', 'enum', 'error', 'escape', 'findall', 'finditer', 'fullmatch', 'functools', 'match', 'purge', 'search', 'split', 'sub', 'subn', 'template']\n"
     ]
    }
   ],
   "source": [
    "print(dir(re))"
   ]
  },
  {
   "cell_type": "markdown",
   "id": "ab37e706-8987-4c6a-abaf-0d5e3d00a6df",
   "metadata": {},
   "source": [
    "#### Try finding only words with maximum three character"
   ]
  },
  {
   "cell_type": "code",
   "execution_count": 3,
   "id": "5d9e1b75-f047-45a9-be32-3f33b40aefaa",
   "metadata": {},
   "outputs": [],
   "source": [
    "quote=\"If you do not turn against yourself, the Human Potential is limitless\""
   ]
  },
  {
   "cell_type": "code",
   "execution_count": 4,
   "id": "81ba4d30-efa5-451b-9e3a-5d3daf761d85",
   "metadata": {},
   "outputs": [
    {
     "data": {
      "text/plain": [
       "<re.Match object; span=(3, 6), match='you'>"
      ]
     },
     "execution_count": 4,
     "metadata": {},
     "output_type": "execute_result"
    }
   ],
   "source": [
    "re.search(r\"([a-z]{3})\",quote)"
   ]
  },
  {
   "cell_type": "code",
   "execution_count": 5,
   "id": "78ca2ac6-b3df-4c0f-a16a-4a974e491ffd",
   "metadata": {},
   "outputs": [],
   "source": [
    "re.match(\"([a-z]{3})\",quote)"
   ]
  },
  {
   "cell_type": "code",
   "execution_count": 6,
   "id": "68162059-3dcb-4988-9b86-72f64915f274",
   "metadata": {},
   "outputs": [
    {
     "data": {
      "text/plain": [
       "['you',\n",
       " 'not',\n",
       " 'tur',\n",
       " 'aga',\n",
       " 'ins',\n",
       " 'you',\n",
       " 'rse',\n",
       " 'the',\n",
       " 'uma',\n",
       " 'ote',\n",
       " 'nti',\n",
       " 'lim',\n",
       " 'itl',\n",
       " 'ess']"
      ]
     },
     "execution_count": 6,
     "metadata": {},
     "output_type": "execute_result"
    }
   ],
   "source": [
    "re.findall(\"([a-z]{3})\",quote)   # lower case     "
   ]
  },
  {
   "cell_type": "code",
   "execution_count": 7,
   "id": "8aafe615-6327-463f-b84b-f4038cd7d26a",
   "metadata": {},
   "outputs": [
    {
     "data": {
      "text/plain": [
       "['you',\n",
       " 'not',\n",
       " 'tur',\n",
       " 'aga',\n",
       " 'ins',\n",
       " 'you',\n",
       " 'rse',\n",
       " 'the',\n",
       " 'Hum',\n",
       " 'Pot',\n",
       " 'ent',\n",
       " 'ial',\n",
       " 'lim',\n",
       " 'itl',\n",
       " 'ess']"
      ]
     },
     "execution_count": 7,
     "metadata": {},
     "output_type": "execute_result"
    }
   ],
   "source": [
    "re.findall(r\"([a-z]{3})\",quote,re.IGNORECASE)"
   ]
  },
  {
   "cell_type": "code",
   "execution_count": 8,
   "id": "97d4a4be-f5e4-474d-80b1-afc9cedd0610",
   "metadata": {},
   "outputs": [
    {
     "data": {
      "text/plain": [
       "['you',\n",
       " 'not',\n",
       " 'tur',\n",
       " 'aga',\n",
       " 'ins',\n",
       " 'you',\n",
       " 'rse',\n",
       " 'the',\n",
       " 'Hum',\n",
       " 'Pot',\n",
       " 'ent',\n",
       " 'ial',\n",
       " 'lim',\n",
       " 'itl',\n",
       " 'ess']"
      ]
     },
     "execution_count": 8,
     "metadata": {},
     "output_type": "execute_result"
    }
   ],
   "source": [
    "re.findall(r\"\\w{3}\",quote)   # \\w : matches lower and upper"
   ]
  },
  {
   "cell_type": "code",
   "execution_count": 9,
   "id": "bf559492-498b-4202-99c7-fca64a55d828",
   "metadata": {},
   "outputs": [
    {
     "data": {
      "text/plain": [
       "['you',\n",
       " 'not',\n",
       " 'tur',\n",
       " 'aga',\n",
       " 'ins',\n",
       " 'you',\n",
       " 'rse',\n",
       " 'the',\n",
       " 'Hum',\n",
       " 'Pot',\n",
       " 'ent',\n",
       " 'ial',\n",
       " 'lim',\n",
       " 'itl',\n",
       " 'ess']"
      ]
     },
     "execution_count": 9,
     "metadata": {},
     "output_type": "execute_result"
    }
   ],
   "source": [
    "re.findall(r\"\\s*(\\w{3})\\s*\",quote)"
   ]
  },
  {
   "cell_type": "code",
   "execution_count": 10,
   "id": "013c9942-d5db-4664-8e45-82c68d7f36a0",
   "metadata": {},
   "outputs": [
    {
     "data": {
      "text/plain": [
       "['you', 'not', 'the']"
      ]
     },
     "execution_count": 10,
     "metadata": {},
     "output_type": "execute_result"
    }
   ],
   "source": [
    "re.findall(r\"\\s+(\\w{3})\\s+\",quote)"
   ]
  },
  {
   "cell_type": "code",
   "execution_count": 11,
   "id": "59b859e6-d95d-43ab-a62b-6fbd45ea38d4",
   "metadata": {},
   "outputs": [
    {
     "data": {
      "text/plain": [
       "['you', 'not', 'the']"
      ]
     },
     "execution_count": 11,
     "metadata": {},
     "output_type": "execute_result"
    }
   ],
   "source": [
    "re.findall(r\"\\s+([a-z]{3})\\s+\",quote)"
   ]
  },
  {
   "cell_type": "code",
   "execution_count": 12,
   "id": "d1d2149c-3cbd-404a-81da-201b528b014c",
   "metadata": {},
   "outputs": [
    {
     "data": {
      "text/plain": [
       "['you', 'not', 'against', 'the', 'Potential']"
      ]
     },
     "execution_count": 12,
     "metadata": {},
     "output_type": "execute_result"
    }
   ],
   "source": [
    "re.findall(r\"\\s+(\\w{,})\\s+\",quote)"
   ]
  },
  {
   "cell_type": "code",
   "execution_count": 13,
   "id": "f6c75957-4a16-47de-9ea4-ec48f17bd268",
   "metadata": {},
   "outputs": [],
   "source": [
    "matches = re.findall(r\"\\s+([a-z]{3})\\s+\",quote)"
   ]
  },
  {
   "cell_type": "code",
   "execution_count": 14,
   "id": "cde6ebb3-bd3e-4c1b-b40f-767df040c989",
   "metadata": {},
   "outputs": [
    {
     "name": "stdout",
     "output_type": "stream",
     "text": [
      "Matched texts: ['you', 'not', 'the'], Total 3\n"
     ]
    }
   ],
   "source": [
    "print(f\"Matched texts: {matches}, Total {len(matches)}\")"
   ]
  },
  {
   "cell_type": "code",
   "execution_count": 15,
   "id": "89239868-9939-493e-827a-caf11dcede0e",
   "metadata": {},
   "outputs": [
    {
     "data": {
      "text/plain": [
       "'If you do not turn against yourself, the Human Potential is limitless'"
      ]
     },
     "execution_count": 15,
     "metadata": {},
     "output_type": "execute_result"
    }
   ],
   "source": [
    "quote"
   ]
  },
  {
   "cell_type": "code",
   "execution_count": 16,
   "id": "f08cc535-5f31-4c4d-9483-5f2d83933fd0",
   "metadata": {},
   "outputs": [],
   "source": [
    "match = re.findall(r\"\\s+([a-z]{2})\\s+|\\s+([a-z]{3})\\s+\",quote)"
   ]
  },
  {
   "cell_type": "code",
   "execution_count": 17,
   "id": "65275faa-7de4-4a5f-b9ab-a920493419a2",
   "metadata": {},
   "outputs": [
    {
     "name": "stdout",
     "output_type": "stream",
     "text": [
      "Matched texts: [('', 'you'), ('', 'not'), ('', 'the'), ('is', '')], Total 4\n"
     ]
    }
   ],
   "source": [
    "print(f\"Matched texts: {match}, Total {len(match)}\")"
   ]
  },
  {
   "cell_type": "code",
   "execution_count": 18,
   "id": "a24bf9dd-c045-488a-9c53-543e485184fc",
   "metadata": {},
   "outputs": [],
   "source": [
    "matchB = re.findall(r\"([A-Z]\\w+|[a-z]\\w+)\",quote)"
   ]
  },
  {
   "cell_type": "code",
   "execution_count": 19,
   "id": "b1a4f328-bc08-41ea-9302-aeef8970c0d1",
   "metadata": {},
   "outputs": [
    {
     "data": {
      "text/plain": [
       "['you', 'not', 'the']"
      ]
     },
     "execution_count": 19,
     "metadata": {},
     "output_type": "execute_result"
    }
   ],
   "source": [
    "matches "
   ]
  },
  {
   "cell_type": "markdown",
   "id": "bcc8aab5-9a45-446a-9997-1f45d830de5e",
   "metadata": {
    "tags": []
   },
   "source": [
    "#### Chunks using split"
   ]
  },
  {
   "cell_type": "code",
   "execution_count": 20,
   "id": "2e29d145-3e88-494f-a820-d2922f6b1d6c",
   "metadata": {},
   "outputs": [],
   "source": [
    "characters = re.split(r\"\",quote.strip())"
   ]
  },
  {
   "cell_type": "code",
   "execution_count": 21,
   "id": "a175c8ef-c1f3-439c-8924-0a777a98cb34",
   "metadata": {},
   "outputs": [
    {
     "name": "stdout",
     "output_type": "stream",
     "text": [
      "['', 'I', 'f', ' ', 'y', 'o', 'u', ' ', 'd', 'o', ' ', 'n', 'o', 't', ' ', 't', 'u', 'r', 'n', ' ', 'a', 'g', 'a', 'i', 'n', 's', 't', ' ', 'y', 'o', 'u', 'r', 's', 'e', 'l', 'f', ',', ' ', 't', 'h', 'e', ' ', 'H', 'u', 'm', 'a', 'n', ' ', 'P', 'o', 't', 'e', 'n', 't', 'i', 'a', 'l', ' ', 'i', 's', ' ', 'l', 'i', 'm', 'i', 't', 'l', 'e', 's', 's', '']\n"
     ]
    }
   ],
   "source": [
    "print(characters)"
   ]
  },
  {
   "cell_type": "code",
   "execution_count": 22,
   "id": "52090418-e022-4588-ae9a-48724e0db1a2",
   "metadata": {},
   "outputs": [],
   "source": [
    "words = re.split(\"\\s\",quote)"
   ]
  },
  {
   "cell_type": "code",
   "execution_count": 23,
   "id": "f8e18435-8481-422b-93da-fc576d5be945",
   "metadata": {},
   "outputs": [
    {
     "data": {
      "text/plain": [
       "['If',\n",
       " 'you',\n",
       " 'do',\n",
       " 'not',\n",
       " 'turn',\n",
       " 'against',\n",
       " 'yourself,',\n",
       " 'the',\n",
       " 'Human',\n",
       " 'Potential',\n",
       " 'is',\n",
       " 'limitless']"
      ]
     },
     "execution_count": 23,
     "metadata": {},
     "output_type": "execute_result"
    }
   ],
   "source": [
    "words"
   ]
  },
  {
   "cell_type": "code",
   "execution_count": 24,
   "id": "96f0e0d9-ee7d-4551-8373-866caab1d699",
   "metadata": {},
   "outputs": [
    {
     "name": "stdout",
     "output_type": "stream",
     "text": [
      "Total words in quote: 12\n"
     ]
    }
   ],
   "source": [
    "print(f\"Total words in quote: {len(words)}\")"
   ]
  },
  {
   "cell_type": "code",
   "execution_count": 25,
   "id": "262f7d83-9867-4dd4-8990-a44cb14a5308",
   "metadata": {},
   "outputs": [
    {
     "data": {
      "text/plain": [
       "[False,\n",
       " True,\n",
       " False,\n",
       " True,\n",
       " False,\n",
       " False,\n",
       " False,\n",
       " True,\n",
       " False,\n",
       " False,\n",
       " False,\n",
       " False]"
      ]
     },
     "execution_count": 25,
     "metadata": {},
     "output_type": "execute_result"
    }
   ],
   "source": [
    "[len(word)==3 for word in words]"
   ]
  },
  {
   "cell_type": "code",
   "execution_count": 26,
   "id": "e6f99e1f-5c1e-4da4-95f7-e138c23b5e84",
   "metadata": {},
   "outputs": [
    {
     "data": {
      "text/plain": [
       "[2, 3, 2, 3, 4, 7, 9, 3, 5, 9, 2, 9]"
      ]
     },
     "execution_count": 26,
     "metadata": {},
     "output_type": "execute_result"
    }
   ],
   "source": [
    "[len(word) for word in words]"
   ]
  },
  {
   "cell_type": "code",
   "execution_count": 27,
   "id": "029707bd-36ec-496e-83e5-9b34b1ec2d87",
   "metadata": {},
   "outputs": [
    {
     "data": {
      "text/plain": [
       "['If',\n",
       " 'you',\n",
       " 'do',\n",
       " 'not',\n",
       " 'turn',\n",
       " 'against',\n",
       " 'yourself',\n",
       " 'the',\n",
       " 'Human',\n",
       " 'Potential',\n",
       " 'is',\n",
       " 'limitless']"
      ]
     },
     "execution_count": 27,
     "metadata": {},
     "output_type": "execute_result"
    }
   ],
   "source": [
    "wordsOne = re.split(\"\\W+\",quote)\n",
    "wordsOne"
   ]
  },
  {
   "cell_type": "code",
   "execution_count": 28,
   "id": "af9869e0-34c9-4729-8d79-12ac2bfabe5f",
   "metadata": {},
   "outputs": [],
   "source": [
    "wordsA = re.split(\"\\,\",quote)"
   ]
  },
  {
   "cell_type": "code",
   "execution_count": 29,
   "id": "8894f557-6c95-4cca-9788-de3d4b6ef6a7",
   "metadata": {},
   "outputs": [
    {
     "data": {
      "text/plain": [
       "['If you do not turn against yourself', ' the Human Potential is limitless']"
      ]
     },
     "execution_count": 29,
     "metadata": {},
     "output_type": "execute_result"
    }
   ],
   "source": [
    "wordsA"
   ]
  },
  {
   "cell_type": "code",
   "execution_count": 30,
   "id": "81c765be-9306-4450-b45d-8644dd3635d4",
   "metadata": {},
   "outputs": [
    {
     "name": "stdout",
     "output_type": "stream",
     "text": [
      "Total words in wordsA: 2\n"
     ]
    }
   ],
   "source": [
    "print(f\"Total words in wordsA: {len(wordsA)}\")"
   ]
  },
  {
   "cell_type": "markdown",
   "id": "ce5c3b9f-a10e-4d86-a837-895c70f69881",
   "metadata": {
    "tags": []
   },
   "source": [
    "#### Replace using sub()"
   ]
  },
  {
   "cell_type": "code",
   "execution_count": 31,
   "id": "45a8e8a5-89e6-4d10-bc25-7762cd8833d5",
   "metadata": {},
   "outputs": [
    {
     "name": "stdout",
     "output_type": "stream",
     "text": [
      "If you do not turn against yourself, the HumanBeing Potential is limitless\n"
     ]
    }
   ],
   "source": [
    "if re.search(r\"(H[a-z]+)\",quote):\n",
    "    newQuote = re.sub(r\"(H[a-z]+)\",'HumanBeing',quote)\n",
    "    print(newQuote)\n",
    "    "
   ]
  },
  {
   "cell_type": "code",
   "execution_count": 32,
   "id": "c5d3e89d-efcd-405e-853d-8240fc8006a1",
   "metadata": {},
   "outputs": [
    {
     "data": {
      "text/plain": [
       "'If you do not turn against yourself the Human Potential is limitless'"
      ]
     },
     "execution_count": 32,
     "metadata": {},
     "output_type": "execute_result"
    }
   ],
   "source": [
    "newQuoteA = re.sub(r\"\\,\",'',quote)\n",
    "newQuoteA"
   ]
  },
  {
   "cell_type": "markdown",
   "id": "097d6b54-4156-46e2-859f-883c3dd0a4a4",
   "metadata": {},
   "source": [
    "#### re.compile() : Programming languages: matching start, end"
   ]
  },
  {
   "cell_type": "code",
   "execution_count": 33,
   "id": "e103f1cc-3e14-4853-97d2-3c0badea9811",
   "metadata": {},
   "outputs": [],
   "source": [
    "languages = [\"Javascript\",\"Python\",\"Go\",\"Java\",\"Kotlin\",\"PHP\",\"C#\",\"Swift\",\"R\",\"Ruby\",\"C and C++\",\"Matlab\",\"TypeScript\",\"Scala\",\"SQL\",\"HTML\",\"CSS\",\"NoSQL\",\"Rust\",\"Perl\"]"
   ]
  },
  {
   "cell_type": "code",
   "execution_count": 34,
   "id": "212ed3bc-fd25-4ce3-aa9b-538d7d3c9426",
   "metadata": {},
   "outputs": [],
   "source": [
    "vowel_start = r\"^[AEIOU]\"\n",
    "vowel_end = r\".*[aeiouAEIOU]$\"\n",
    "patternS = re.compile(vowel_start)\n",
    "patternE = re.compile(vowel_end)"
   ]
  },
  {
   "cell_type": "code",
   "execution_count": 35,
   "id": "1a650fe0-a2b0-45c4-a258-cbf7e224731e",
   "metadata": {},
   "outputs": [
    {
     "name": "stdout",
     "output_type": "stream",
     "text": [
      " Expression ^[AEIOU], Type:<class 'str'>\n"
     ]
    }
   ],
   "source": [
    "print(f\" Expression {vowel_start}, Type:{type(vowel_start)}\")"
   ]
  },
  {
   "cell_type": "code",
   "execution_count": 36,
   "id": "d7fba6f5-2962-4a9f-874b-b3382387d8db",
   "metadata": {},
   "outputs": [
    {
     "name": "stdout",
     "output_type": "stream",
     "text": [
      "re.compile('^[AEIOU]'), <class 're.Pattern'>\n"
     ]
    }
   ],
   "source": [
    "print(f\"{patternS}, {type(patternS)}\")"
   ]
  },
  {
   "cell_type": "code",
   "execution_count": 37,
   "id": "77341b83-7717-4358-afe8-7198c3c6631e",
   "metadata": {},
   "outputs": [
    {
     "name": "stdout",
     "output_type": "stream",
     "text": [
      "['__class__', '__class_getitem__', '__copy__', '__deepcopy__', '__delattr__', '__dir__', '__doc__', '__eq__', '__format__', '__ge__', '__getattribute__', '__getstate__', '__gt__', '__hash__', '__init__', '__init_subclass__', '__le__', '__lt__', '__module__', '__ne__', '__new__', '__reduce__', '__reduce_ex__', '__repr__', '__setattr__', '__sizeof__', '__str__', '__subclasshook__', 'findall', 'finditer', 'flags', 'fullmatch', 'groupindex', 'groups', 'match', 'pattern', 'scanner', 'search', 'split', 'sub', 'subn']\n"
     ]
    }
   ],
   "source": [
    "print(dir(patternS))"
   ]
  },
  {
   "cell_type": "code",
   "execution_count": 38,
   "id": "4c469f75-8005-43a9-98c1-479a70a64992",
   "metadata": {},
   "outputs": [
    {
     "name": "stdout",
     "output_type": "stream",
     "text": [
      "Go ends with vowel character\n",
      "Java ends with vowel character\n",
      "Scala ends with vowel character\n"
     ]
    }
   ],
   "source": [
    "for language in languages:\n",
    "    if re.match(patternS,language):\n",
    "        print(f\"{language} starts with vowel character\")\n",
    "    if re.match(patternE,language):\n",
    "        print(f\"{language} ends with vowel character\")    "
   ]
  },
  {
   "cell_type": "markdown",
   "id": "b70e9fc9-9815-44b2-b857-4049fab2cf93",
   "metadata": {},
   "source": [
    "### Common Regex Flags: re.MULTILINE | re.IGNORECASE"
   ]
  },
  {
   "cell_type": "code",
   "execution_count": 39,
   "id": "140cc1a0-508e-45bb-99d6-5fe96afe07c5",
   "metadata": {},
   "outputs": [],
   "source": [
    "#re.MULTILINE (re.M, m) | re.IGNORECASE (re.I, i)"
   ]
  },
  {
   "cell_type": "code",
   "execution_count": 40,
   "id": "72816dc8-19d9-4c5d-8d58-659254c08f3e",
   "metadata": {},
   "outputs": [],
   "source": [
    "sentence = \"\"\"Accept: text/html,application/xhtml+xml,application/xml;q=0.9,image/avif,image/webp,image/apng,*/*;q=0.8,application/signed-exchange;v=b3;q=0.7\n",
    "Accept-Encoding: gzip, deflate\n",
    "Accept-Language: en-US,en;q=0.9\n",
    "Cache-Control: max-age=0\n",
    "Connection: keep-alive\n",
    "Cookie: ci_session=%22session_id%22404495f061c71aca87121e\n",
    "Host: seismonepal.com\n",
    "If-Modified-Since: Sun, 1 Apr 2023 11:22:33 GMT\n",
    "If-None-Match: 64a-5f9724a6cdcf2-gzip\n",
    "Upgrade-Insecure-Requests: 1\n",
    "User-Agent: Mozilla/5.0 (Windows NT 10.0; Win64; x64) AppleWebKit/537.36 (KHTML, like Gecko) Chrome/111.0.0.0 Safari/537.36\"\"\""
   ]
  },
  {
   "cell_type": "code",
   "execution_count": 41,
   "id": "5fddde3c-a9d4-4288-b0ca-4062f7aa54d3",
   "metadata": {},
   "outputs": [],
   "source": [
    "sentence=\"\"\"Accept:text/html,application/xhtml+xml,application/xml;q=0.9,image/avif,image/webp,image/apng,*/*;q=0.8,application/signed-exchange;v=b3;q=0.7\\n\n",
    "Accept-Encoding: gzip, deflate\\nAccept-Language: en-US,en;q=0.9\\nCache-Control: max-age=0\\nConnection: keep-alive\\nCookie: ci_session=%22session_id%22404495f061c71aca87121e\\n\n",
    "Host: anishchapagain.com\\nIf-Modified-Since: Sun, 1 Apr 2023 11:22:33 GMT\\nIf-None-Match: 64a-5f9724a6cdcf2-gzip\\nUpgrade-Insecure-Requests: 1\\n\n",
    "User-Agent: Mozilla/5.0 (Windows NT 10.0; Win64; x64) AppleWebKit/537.36 (KHTML, like Gecko) Chrome/111.0.0.0 Safari/537.36\"\"\""
   ]
  },
  {
   "cell_type": "code",
   "execution_count": 42,
   "id": "381a0e59-d52b-4fd9-969d-ab74165f0e96",
   "metadata": {},
   "outputs": [
    {
     "data": {
      "text/plain": [
       "['if,image/webp,image/apng,*/*;q=0.8,application/signed-exchange;v=b3;q=0.7',\n",
       " 'ified-Since: Sun, 1 Apr 2023 11:22:33 GMT']"
      ]
     },
     "execution_count": 42,
     "metadata": {},
     "output_type": "execute_result"
    }
   ],
   "source": [
    "re.findall(\"(if.*)\",sentence) "
   ]
  },
  {
   "cell_type": "code",
   "execution_count": 43,
   "id": "cca4007f-4fe4-4481-8f8a-6ab4f2e8e100",
   "metadata": {},
   "outputs": [
    {
     "data": {
      "text/plain": [
       "[]"
      ]
     },
     "execution_count": 43,
     "metadata": {},
     "output_type": "execute_result"
    }
   ],
   "source": [
    "re.findall(\"\\n(if.*)\",sentence) "
   ]
  },
  {
   "cell_type": "code",
   "execution_count": 44,
   "id": "c498846a-9f73-4b3d-96fd-a1a3aad92de6",
   "metadata": {},
   "outputs": [
    {
     "data": {
      "text/plain": [
       "['If-Modified-Since: Sun, 1 Apr 2023 11:22:33 GMT',\n",
       " 'If-None-Match: 64a-5f9724a6cdcf2-gzip']"
      ]
     },
     "execution_count": 44,
     "metadata": {},
     "output_type": "execute_result"
    }
   ],
   "source": [
    "re.findall(\"(If.*)\",sentence) "
   ]
  },
  {
   "cell_type": "code",
   "execution_count": 45,
   "id": "5029c2d3-d9db-4105-ad14-6ab037709a7e",
   "metadata": {},
   "outputs": [
    {
     "data": {
      "text/plain": [
       "['if,image/webp,image/apng,*/*;q=0.8,application/signed-exchange;v=b3;q=0.7',\n",
       " 'ified-Since: Sun, 1 Apr 2023 11:22:33 GMT']"
      ]
     },
     "execution_count": 45,
     "metadata": {},
     "output_type": "execute_result"
    }
   ],
   "source": [
    "re.findall(\"(if.*)\",sentence)"
   ]
  },
  {
   "cell_type": "code",
   "execution_count": 46,
   "id": "937757af-d3ed-4750-8f30-833d4a81060d",
   "metadata": {},
   "outputs": [
    {
     "data": {
      "text/plain": [
       "['if,image/webp,image/apng,*/*;q=0.8,application/signed-exchange;v=b3;q=0.7',\n",
       " 'If-Modified-Since: Sun, 1 Apr 2023 11:22:33 GMT',\n",
       " 'If-None-Match: 64a-5f9724a6cdcf2-gzip']"
      ]
     },
     "execution_count": 46,
     "metadata": {},
     "output_type": "execute_result"
    }
   ],
   "source": [
    "re.findall(\"(if.*)\",sentence,flags = re.IGNORECASE)  # re.IGNORECASE"
   ]
  },
  {
   "cell_type": "code",
   "execution_count": 47,
   "id": "7ee3367f-214d-43df-9d9a-92fe07becf58",
   "metadata": {},
   "outputs": [
    {
     "data": {
      "text/plain": [
       "['if,image/webp,image/apng,*/*;q=0.8,application/signed-exchange;v=b3;q=0.7',\n",
       " 'If-Modified-Since: Sun, 1 Apr 2023 11:22:33 GMT',\n",
       " 'If-None-Match: 64a-5f9724a6cdcf2-gzip']"
      ]
     },
     "execution_count": 47,
     "metadata": {},
     "output_type": "execute_result"
    }
   ],
   "source": [
    "re.findall(\"(if.*)\",sentence,re.IGNORECASE)"
   ]
  },
  {
   "cell_type": "code",
   "execution_count": 48,
   "id": "e7919e2e-5920-4321-afb2-cae0dd2e2172",
   "metadata": {},
   "outputs": [
    {
     "data": {
      "text/plain": [
       "['if,image/webp,image/apng,*/*;q=0.8,application/signed-exchange;v=b3;q=0.7',\n",
       " 'If-Modified-Since: Sun, 1 Apr 2023 11:22:33 GMT',\n",
       " 'If-None-Match: 64a-5f9724a6cdcf2-gzip']"
      ]
     },
     "execution_count": 48,
     "metadata": {},
     "output_type": "execute_result"
    }
   ],
   "source": [
    "re.findall(r\"(?i)(if.*)\",sentence)"
   ]
  },
  {
   "cell_type": "code",
   "execution_count": 49,
   "id": "6a140452-cb31-468f-9fcc-702bbdea206c",
   "metadata": {},
   "outputs": [
    {
     "data": {
      "text/plain": [
       "['If-Modified-Since: Sun, 1 Apr 2023 11:22:33 GMT',\n",
       " 'If-None-Match: 64a-5f9724a6cdcf2-gzip']"
      ]
     },
     "execution_count": 49,
     "metadata": {},
     "output_type": "execute_result"
    }
   ],
   "source": [
    "re.findall(\"\\n(if.*)\",sentence,re.IGNORECASE)  # re.IGNORECASE"
   ]
  },
  {
   "cell_type": "code",
   "execution_count": 50,
   "id": "b6b18f6c-1c1e-402e-b4aa-1926f698d496",
   "metadata": {},
   "outputs": [
    {
     "data": {
      "text/plain": [
       "['If-Modified-Since: Sun, 1 Apr 2023 11:22:33 GMT',\n",
       " 'If-None-Match: 64a-5f9724a6cdcf2-gzip']"
      ]
     },
     "execution_count": 50,
     "metadata": {},
     "output_type": "execute_result"
    }
   ],
   "source": [
    "re.findall(\"\\n(if.*)\",sentence,re.I)    # re.IGNORECASE"
   ]
  },
  {
   "cell_type": "code",
   "execution_count": 51,
   "id": "f18d77b5-1652-47dd-bdab-36ec5359076c",
   "metadata": {},
   "outputs": [
    {
     "data": {
      "text/plain": [
       "['If-Modified-Since: Sun, 1 Apr 2023 11:22:33 GMT',\n",
       " 'If-None-Match: 64a-5f9724a6cdcf2-gzip']"
      ]
     },
     "execution_count": 51,
     "metadata": {},
     "output_type": "execute_result"
    }
   ],
   "source": [
    "re.findall(r\"(?i)\\n(if.*)\",sentence)  # inline flags (?i) - should be first regex expressions re.IGNORECASE"
   ]
  },
  {
   "cell_type": "code",
   "execution_count": 52,
   "id": "d9800d45-3b06-473d-8037-bdc05ccebdba",
   "metadata": {},
   "outputs": [
    {
     "data": {
      "text/plain": [
       "['Accept:text/html,application/xhtml+xml,application/xml;q=0.9,image/avif,image/webp,image/apng,*/*;q=0.8,application/signed-exchange;v=b3;q=0.7']"
      ]
     },
     "execution_count": 52,
     "metadata": {},
     "output_type": "execute_result"
    }
   ],
   "source": [
    "re.findall(r\"^Accept.*\",sentence)"
   ]
  },
  {
   "cell_type": "code",
   "execution_count": 53,
   "id": "cf7c949e-281a-43c9-9335-36d6f1f13583",
   "metadata": {},
   "outputs": [
    {
     "data": {
      "text/plain": [
       "['Accept:text/html,application/xhtml+xml,application/xml;q=0.9,image/avif,image/webp,image/apng,*/*;q=0.8,application/signed-exchange;v=b3;q=0.7']"
      ]
     },
     "execution_count": 53,
     "metadata": {},
     "output_type": "execute_result"
    }
   ],
   "source": [
    "re.findall(r\"^Accept.*\",sentence)"
   ]
  },
  {
   "cell_type": "code",
   "execution_count": 54,
   "id": "97d1973d-85d9-408f-9857-bc1eeb3f3316",
   "metadata": {},
   "outputs": [
    {
     "data": {
      "text/plain": [
       "[]"
      ]
     },
     "execution_count": 54,
     "metadata": {},
     "output_type": "execute_result"
    }
   ],
   "source": [
    "re.findall(r\"^accept.*\",sentence,re.M)"
   ]
  },
  {
   "cell_type": "code",
   "execution_count": 55,
   "id": "ba0b0116-69b6-436f-93b5-49042aa7954c",
   "metadata": {},
   "outputs": [
    {
     "data": {
      "text/plain": [
       "['Accept:text/html,application/xhtml+xml,application/xml;q=0.9,image/avif,image/webp,image/apng,*/*;q=0.8,application/signed-exchange;v=b3;q=0.7',\n",
       " 'Accept-Encoding: gzip, deflate',\n",
       " 'Accept-Language: en-US,en;q=0.9']"
      ]
     },
     "execution_count": 55,
     "metadata": {},
     "output_type": "execute_result"
    }
   ],
   "source": [
    "re.findall(r\"^Accept.*\",sentence,flags = re.MULTILINE)"
   ]
  },
  {
   "cell_type": "code",
   "execution_count": 56,
   "id": "d67a6b6a-b954-4abd-a1f4-ccf4cd64f40f",
   "metadata": {},
   "outputs": [
    {
     "data": {
      "text/plain": [
       "['Accept:text/html,application/xhtml+xml,application/xml;q=0.9,image/avif,image/webp,image/apng,*/*;q=0.8,application/signed-exchange;v=b3;q=0.7',\n",
       " 'Accept-Encoding: gzip, deflate',\n",
       " 'Accept-Language: en-US,en;q=0.9']"
      ]
     },
     "execution_count": 56,
     "metadata": {},
     "output_type": "execute_result"
    }
   ],
   "source": [
    "re.findall(r\"^Accept.*\",sentence,re.MULTILINE)"
   ]
  },
  {
   "cell_type": "code",
   "execution_count": 57,
   "id": "9e9a916a-b313-4b69-b249-d01623d4b752",
   "metadata": {},
   "outputs": [
    {
     "data": {
      "text/plain": [
       "['Accept:text/html,application/xhtml+xml,application/xml;q=0.9,image/avif,image/webp,image/apng,*/*;q=0.8,application/signed-exchange;v=b3;q=0.7',\n",
       " 'Accept-Encoding: gzip, deflate',\n",
       " 'Accept-Language: en-US,en;q=0.9']"
      ]
     },
     "execution_count": 57,
     "metadata": {},
     "output_type": "execute_result"
    }
   ],
   "source": [
    "re.findall(r\"(?m)^Accept.*\",sentence)"
   ]
  },
  {
   "cell_type": "code",
   "execution_count": 58,
   "id": "93070726-bba8-4506-b2a7-12d0108f2d5d",
   "metadata": {},
   "outputs": [
    {
     "data": {
      "text/plain": [
       "['Accept:text/html,application/xhtml+xml,application/xml;q=0.9,image/avif,image/webp,image/apng,*/*;q=0.8,application/signed-exchange;v=b3;q=0.7',\n",
       " 'Accept-Encoding: gzip, deflate',\n",
       " 'Accept-Language: en-US,en;q=0.9']"
      ]
     },
     "execution_count": 58,
     "metadata": {},
     "output_type": "execute_result"
    }
   ],
   "source": [
    "re.findall(r\"^accept.*\",sentence,flags = re.MULTILINE|re.I)"
   ]
  },
  {
   "cell_type": "code",
   "execution_count": 59,
   "id": "ae8cd612-a6f9-4186-9518-0b0be94f35dd",
   "metadata": {},
   "outputs": [
    {
     "data": {
      "text/plain": [
       "['Accept:text/html,application/xhtml+xml,application/xml;q=0.9,image/avif,image/webp,image/apng,*/*;q=0.8,application/signed-exchange;v=b3;q=0.7',\n",
       " 'Accept-Encoding: gzip, deflate',\n",
       " 'Accept-Language: en-US,en;q=0.9']"
      ]
     },
     "execution_count": 59,
     "metadata": {},
     "output_type": "execute_result"
    }
   ],
   "source": [
    "re.findall(r\"(?im)^accept.*\",sentence)"
   ]
  },
  {
   "cell_type": "code",
   "execution_count": null,
   "id": "d731899d-9c2a-4f9a-8db3-268ec29bd67d",
   "metadata": {},
   "outputs": [],
   "source": []
  },
  {
   "cell_type": "code",
   "execution_count": null,
   "id": "e5c1b646-f36e-4c60-a3c1-7daabc3384ca",
   "metadata": {},
   "outputs": [],
   "source": []
  }
 ],
 "metadata": {
  "kernelspec": {
   "display_name": "Python 3 (ipykernel)",
   "language": "python",
   "name": "python3"
  },
  "language_info": {
   "codemirror_mode": {
    "name": "ipython",
    "version": 3
   },
   "file_extension": ".py",
   "mimetype": "text/x-python",
   "name": "python",
   "nbconvert_exporter": "python",
   "pygments_lexer": "ipython3",
   "version": "3.11.1"
  }
 },
 "nbformat": 4,
 "nbformat_minor": 5
}
