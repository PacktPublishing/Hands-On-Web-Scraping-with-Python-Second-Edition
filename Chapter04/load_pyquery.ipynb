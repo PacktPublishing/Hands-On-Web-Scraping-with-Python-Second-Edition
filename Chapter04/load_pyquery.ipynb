{
 "cells": [
  {
   "cell_type": "code",
   "execution_count": 2,
   "id": "1a2f3ba0-2bb5-4967-abfc-a93369f5b0d6",
   "metadata": {},
   "outputs": [],
   "source": [
    "from pyquery import PyQuery as pq\n",
    "import requests"
   ]
  },
  {
   "cell_type": "code",
   "execution_count": 3,
   "id": "ee4f0ec1-156b-4b2f-848f-ef4ce18e7d2b",
   "metadata": {
    "scrolled": true,
    "tags": []
   },
   "outputs": [
    {
     "name": "stdout",
     "output_type": "stream",
     "text": [
      "['Fn', '__add__', '__call__', '__class__', '__class_getitem__', '__contains__', '__delattr__', '__delitem__', '__dict__', '__dir__', '__doc__', '__eq__', '__format__', '__ge__', '__getattribute__', '__getitem__', '__getstate__', '__gt__', '__hash__', '__html__', '__iadd__', '__imul__', '__init__', '__init_subclass__', '__iter__', '__le__', '__len__', '__lt__', '__module__', '__mul__', '__ne__', '__new__', '__reduce__', '__reduce_ex__', '__repr__', '__reversed__', '__rmul__', '__setattr__', '__setitem__', '__sizeof__', '__str__', '__subclasshook__', '__unicode__', '__weakref__', '_append', '_copy', '_css_to_xpath', '_extend', '_filter_only', '_get_root', '_next_all', '_prev_all', '_translator_class', '_traverse', '_traverse_parent_topdown', 'addClass', 'add_class', 'after', 'append', 'appendTo', 'append_to', 'attr', 'base_url', 'before', 'children', 'clear', 'clone', 'closest', 'contents', 'copy', 'count', 'css', 'each', 'empty', 'encoding', 'end', 'eq', 'extend', 'filter', 'find', 'fn', 'hasClass', 'has_class', 'height', 'hide', 'html', 'index', 'insert', 'insertAfter', 'insertBefore', 'insert_after', 'insert_before', 'is_', 'items', 'length', 'make_links_absolute', 'map', 'next', 'nextAll', 'nextUntil', 'next_all', 'next_until', 'not_', 'outerHtml', 'outer_html', 'parent', 'parents', 'pop', 'prepend', 'prependTo', 'prepend_to', 'prev', 'prevAll', 'prev_all', 'remove', 'removeAttr', 'removeClass', 'remove_attr', 'remove_class', 'remove_namespaces', 'replaceAll', 'replaceWith', 'replace_all', 'replace_with', 'reverse', 'root', 'serialize', 'serializeArray', 'serializeDict', 'serializePairs', 'serialize_array', 'serialize_dict', 'serialize_pairs', 'show', 'siblings', 'size', 'sort', 'text', 'toggleClass', 'toggle_class', 'val', 'width', 'wrap', 'wrapAll', 'wrap_all', 'xhtml_to_html']\n"
     ]
    }
   ],
   "source": [
    "print(dir(pq)) #print(dir(pyquery.PyQuery))"
   ]
  },
  {
   "cell_type": "code",
   "execution_count": 4,
   "id": "952236c4-4965-49fb-8dd3-2ac58e8cfebb",
   "metadata": {
    "scrolled": true,
    "tags": []
   },
   "outputs": [],
   "source": [
    "response = requests.get(\"https://webscraper.io/test-sites/\")"
   ]
  },
  {
   "cell_type": "code",
   "execution_count": 5,
   "id": "c4838bb6-b599-48c8-ba58-c486d70ecadd",
   "metadata": {},
   "outputs": [
    {
     "data": {
      "text/plain": [
       "requests.models.Response"
      ]
     },
     "execution_count": 5,
     "metadata": {},
     "output_type": "execute_result"
    }
   ],
   "source": [
    "type(response)"
   ]
  },
  {
   "cell_type": "code",
   "execution_count": 6,
   "id": "49e34d18-4d64-4531-8ffc-31992b596555",
   "metadata": {},
   "outputs": [
    {
     "data": {
      "text/plain": [
       "'https://webscraper.io/test-sites/'"
      ]
     },
     "execution_count": 6,
     "metadata": {},
     "output_type": "execute_result"
    }
   ],
   "source": [
    "response.url"
   ]
  },
  {
   "cell_type": "code",
   "execution_count": 7,
   "id": "b8701e33-b834-4b66-83c0-723f2a324e21",
   "metadata": {},
   "outputs": [
    {
     "data": {
      "text/plain": [
       "{'Content-Type': 'text/html; charset=UTF-8', 'Transfer-Encoding': 'chunked', 'Connection': 'keep-alive', 'Server': 'nginx/1.18.0 (Ubuntu)', 'Cache-Control': 'private, must-revalidate', 'Date': 'Sun, 29 Jan 2023 10:17:25 GMT', 'Expires': 'Sun, 29 Jan 2023 10:22:25 GMT', 'Content-Encoding': 'gzip', 'Vary': 'Accept-Encoding', 'X-Cache': 'Miss from cloudfront', 'Via': '1.1 d9b9950a37e2bcd6f29a9db1afa6ab5a.cloudfront.net (CloudFront)', 'X-Amz-Cf-Pop': 'MAA50-P1', 'X-Amz-Cf-Id': 'n_HsPxy4QWUwaQpBilGNTBvQ_2s8lK4p4mJsFQlJWHp2geV0fhD02Q=='}"
      ]
     },
     "execution_count": 7,
     "metadata": {},
     "output_type": "execute_result"
    }
   ],
   "source": [
    "response.headers"
   ]
  },
  {
   "cell_type": "code",
   "execution_count": 8,
   "id": "7d26fe95-a210-4e35-8d1e-b682f9b65cd7",
   "metadata": {},
   "outputs": [],
   "source": [
    "source = pq(response.content)"
   ]
  },
  {
   "cell_type": "code",
   "execution_count": 9,
   "id": "3f8431cf-940b-4d9c-affb-45d10086456b",
   "metadata": {},
   "outputs": [
    {
     "data": {
      "text/plain": [
       "pyquery.pyquery.PyQuery"
      ]
     },
     "execution_count": 9,
     "metadata": {},
     "output_type": "execute_result"
    }
   ],
   "source": [
    "type(source)"
   ]
  },
  {
   "cell_type": "code",
   "execution_count": 10,
   "id": "00cbd59b-3228-4a59-a8b0-608dab19e8bb",
   "metadata": {},
   "outputs": [
    {
     "data": {
      "text/plain": [
       "[<title>]"
      ]
     },
     "execution_count": 10,
     "metadata": {},
     "output_type": "execute_result"
    }
   ],
   "source": [
    "source.find('title')"
   ]
  },
  {
   "cell_type": "code",
   "execution_count": 11,
   "id": "d7bcf825-9970-4ea5-94fe-0655c840f574",
   "metadata": {},
   "outputs": [
    {
     "data": {
      "text/plain": [
       "'Web Scraper Test Sites'"
      ]
     },
     "execution_count": 11,
     "metadata": {},
     "output_type": "execute_result"
    }
   ],
   "source": [
    "source.find('title').text()"
   ]
  },
  {
   "cell_type": "code",
   "execution_count": 12,
   "id": "fa29125e-b02a-48cf-a3a2-d75eb107aabd",
   "metadata": {},
   "outputs": [
    {
     "data": {
      "text/plain": [
       "'You need to train your web scraper? We have created simple test sites that allow you to try all corner cases and proof test your scraper. Try it now.'"
      ]
     },
     "execution_count": 12,
     "metadata": {},
     "output_type": "execute_result"
    }
   ],
   "source": [
    "source.find('meta[name=\"description\"]').attr('content')"
   ]
  },
  {
   "cell_type": "code",
   "execution_count": 13,
   "id": "33bbfe48-bc65-4edb-ad5e-1eb25d13047b",
   "metadata": {},
   "outputs": [
    {
     "data": {
      "text/plain": [
       "'web scraping,Web Scraper,Chrome extension,Crawling,Cross platform scraper'"
      ]
     },
     "execution_count": 13,
     "metadata": {},
     "output_type": "execute_result"
    }
   ],
   "source": [
    "source.find('meta[name=\"keywords\"]').attr('content')"
   ]
  },
  {
   "cell_type": "code",
   "execution_count": 14,
   "id": "30eae103-4e2b-4cf8-8fd2-6c6c8f8dabcb",
   "metadata": {},
   "outputs": [
    {
     "data": {
      "text/plain": [
       "'\\n\\t\\t\\t\\t\\t\\t\\t<li>\\n\\t\\t\\t\\t\\t\\t\\t\\t<a href=\"/documentation\">Documentation</a>\\n\\t\\t\\t\\t\\t\\t\\t</li>\\n\\t\\t\\t\\t\\t\\t\\t<li>\\n\\t\\t\\t\\t\\t\\t\\t\\t<a href=\"/tutorials\">Video Tutorials</a>\\n\\t\\t\\t\\t\\t\\t\\t</li>\\n\\t\\t\\t\\t\\t\\t\\t<li>\\n\\t\\t\\t\\t\\t\\t\\t\\t<a href=\"/how-to-videos\">How to</a>\\n\\t\\t\\t\\t\\t\\t\\t</li>\\n\\t\\t\\t\\t\\t\\t\\t<li>\\n\\t\\t\\t\\t\\t\\t\\t\\t<a href=\"/test-sites\">Test Sites</a>\\n\\t\\t\\t\\t\\t\\t\\t</li>\\n\\t\\t\\t\\t\\t\\t\\t<li>\\n\\t\\t\\t\\t\\t\\t\\t\\t<a href=\"https://forum.webscraper.io/\" target=\"_blank\" rel=\"noopener\">Forum</a>\\n\\t\\t\\t\\t\\t\\t\\t</li>\\n\\t\\t\\t\\t\\t\\t'"
      ]
     },
     "execution_count": 14,
     "metadata": {},
     "output_type": "execute_result"
    }
   ],
   "source": [
    "source.find('ul.dropdown-menu').html()"
   ]
  },
  {
   "cell_type": "code",
   "execution_count": 57,
   "id": "b7a04183-233b-465c-b2c8-fc82dc765af9",
   "metadata": {},
   "outputs": [
    {
     "data": {
      "text/plain": [
       "'Toggle navigation'"
      ]
     },
     "execution_count": 57,
     "metadata": {},
     "output_type": "execute_result"
    }
   ],
   "source": [
    "source.find('a:eq(0)').text()"
   ]
  },
  {
   "cell_type": "code",
   "execution_count": 18,
   "id": "ebe0373e-d499-4590-aef6-cf253485c893",
   "metadata": {},
   "outputs": [
    {
     "data": {
      "text/plain": [
       "'Web Scraper'"
      ]
     },
     "execution_count": 18,
     "metadata": {},
     "output_type": "execute_result"
    }
   ],
   "source": [
    "source.find('a.menuitm:first').text()"
   ]
  },
  {
   "cell_type": "code",
   "execution_count": 19,
   "id": "d1de3c72-cdf2-4f72-adb1-2701daa04904",
   "metadata": {},
   "outputs": [
    {
     "data": {
      "text/plain": [
       "'Learn'"
      ]
     },
     "execution_count": 19,
     "metadata": {},
     "output_type": "execute_result"
    }
   ],
   "source": [
    "source.find('a.menuitm:last').text()"
   ]
  },
  {
   "cell_type": "code",
   "execution_count": 22,
   "id": "ea1d8656-08f8-4bc6-933f-d0ad194a2983",
   "metadata": {},
   "outputs": [
    {
     "data": {
      "text/plain": [
       "'/cloud-scraper'"
      ]
     },
     "execution_count": 22,
     "metadata": {},
     "output_type": "execute_result"
    }
   ],
   "source": [
    "source.find('a.menuitm:eq(1)').attr('href')"
   ]
  },
  {
   "cell_type": "code",
   "execution_count": 61,
   "id": "fdf3cf97-b4dd-4a03-becc-6422e8b0dbc4",
   "metadata": {},
   "outputs": [
    {
     "data": {
      "text/plain": [
       "[<a>, <a>, <a>, <a.menuitm>, <a.menuitm>, <a.menuitm>, <a.menuitm.dropdown-toggle>, <a>, <a>, <a>, <a>, <a>, <a.btn-menu1.install-extension>, <a.btn-menu2>, <a>, <a>, <a>, <a>, <a>, <a>, <a>, <a>, <a>, <a>, <a>, <a>, <a>, <a>, <a>, <a>, <a>, <a>, <a>, <a>, <a>, <a>, <a>, <a>]"
      ]
     },
     "execution_count": 61,
     "metadata": {},
     "output_type": "execute_result"
    }
   ],
   "source": [
    "source.find('a')"
   ]
  },
  {
   "cell_type": "code",
   "execution_count": 24,
   "id": "9a8efd58-9805-48d5-960b-c8d7eaadd62d",
   "metadata": {},
   "outputs": [
    {
     "data": {
      "text/plain": [
       "[<button.navbar-toggle.pull-right.collapsed>]"
      ]
     },
     "execution_count": 24,
     "metadata": {},
     "output_type": "execute_result"
    }
   ],
   "source": [
    "source.find(':input')"
   ]
  },
  {
   "cell_type": "code",
   "execution_count": 36,
   "id": "608ca60a-58a1-4361-b61d-6c36e387dc97",
   "metadata": {},
   "outputs": [
    {
     "data": {
      "text/plain": [
       "[]"
      ]
     },
     "execution_count": 36,
     "metadata": {},
     "output_type": "execute_result"
    }
   ],
   "source": [
    "source.find('input')"
   ]
  },
  {
   "cell_type": "code",
   "execution_count": 30,
   "id": "cd480959-d2d1-4648-851f-c45fe47d6594",
   "metadata": {},
   "outputs": [
    {
     "data": {
      "text/plain": [
       "[<button.navbar-toggle.pull-right.collapsed>]"
      ]
     },
     "execution_count": 30,
     "metadata": {},
     "output_type": "execute_result"
    }
   ],
   "source": [
    "source(':input')"
   ]
  },
  {
   "cell_type": "code",
   "execution_count": 25,
   "id": "2c20c2df-234e-47ac-946b-fd82554029a9",
   "metadata": {},
   "outputs": [
    {
     "data": {
      "text/plain": [
       "[<h1>, <h2.site-heading>, <h2.site-heading>, <h2.site-heading>, <h2.site-heading>, <h2.site-heading>, <h2.site-heading>, <h2.site-heading>]"
      ]
     },
     "execution_count": 25,
     "metadata": {},
     "output_type": "execute_result"
    }
   ],
   "source": [
    "source.find(':header')"
   ]
  },
  {
   "cell_type": "code",
   "execution_count": 31,
   "id": "7ad3b4fc-d08a-4118-a2a1-4ab2d6e3c4e9",
   "metadata": {},
   "outputs": [
    {
     "data": {
      "text/plain": [
       "[<meta>, <meta>, <meta>, <meta>, <link>, <meta>, <link>, <link>, <link>, <script>, <iframe>, <span.icon-bar.top-bar>, <span.icon-bar.middle-bar>, <span.icon-bar.bottom-bar>, <img>, <a>, <div.crta>, <div.crta>, <div.crta>, <div.crta>, <hr.test-site-divider>, <img>, <hr.test-site-divider>, <img>, <hr.test-site-divider>, <img>, <hr.test-site-divider>, <img>, <hr.test-site-divider>, <img>, <hr.test-site-divider>, <img>, <hr.test-site-divider>, <img>, <div.clearfix>, <div.push>, <br>, <img>, <img>]"
      ]
     },
     "execution_count": 31,
     "metadata": {},
     "output_type": "execute_result"
    }
   ],
   "source": [
    "source.find(':empty')"
   ]
  },
  {
   "cell_type": "code",
   "execution_count": 38,
   "id": "6c80530f-c323-4980-9211-03610297bf30",
   "metadata": {},
   "outputs": [
    {
     "data": {
      "text/plain": [
       "[<meta>, <meta>, <meta>, <meta>, <meta>]"
      ]
     },
     "execution_count": 38,
     "metadata": {},
     "output_type": "execute_result"
    }
   ],
   "source": [
    "source.find('meta:empty')"
   ]
  },
  {
   "cell_type": "code",
   "execution_count": 39,
   "id": "271dec25-f1a4-4100-acd3-2efa8e392b09",
   "metadata": {},
   "outputs": [
    {
     "data": {
      "text/plain": [
       "[<meta>, <meta>]"
      ]
     },
     "execution_count": 39,
     "metadata": {},
     "output_type": "execute_result"
    }
   ],
   "source": [
    "source.find('meta:empty:odd')"
   ]
  },
  {
   "cell_type": "code",
   "execution_count": 32,
   "id": "4b5f95b6-9634-4d12-802a-f89c2709b1cc",
   "metadata": {},
   "outputs": [
    {
     "data": {
      "text/plain": [
       "[<meta>, <meta>, <link>, <link>, <link>, <iframe>, <span.icon-bar.middle-bar>, <img>, <div.crta>, <div.crta>, <hr.test-site-divider>, <hr.test-site-divider>, <hr.test-site-divider>, <hr.test-site-divider>, <hr.test-site-divider>, <hr.test-site-divider>, <hr.test-site-divider>, <div.clearfix>, <br>, <img>]"
      ]
     },
     "execution_count": 32,
     "metadata": {},
     "output_type": "execute_result"
    }
   ],
   "source": [
    "source.find(':empty:even')"
   ]
  },
  {
   "cell_type": "code",
   "execution_count": 35,
   "id": "0d9c30de-f2b6-4175-b3ca-ce4db0080fce",
   "metadata": {},
   "outputs": [
    {
     "data": {
      "text/plain": [
       "[<h2.site-heading>, <h2.site-heading>, <h2.site-heading>, <h2.site-heading>]"
      ]
     },
     "execution_count": 35,
     "metadata": {},
     "output_type": "execute_result"
    }
   ],
   "source": [
    "source.find(':header:odd')"
   ]
  },
  {
   "cell_type": "code",
   "execution_count": 28,
   "id": "48986a60-4139-408a-b6d4-9cac0b510f60",
   "metadata": {},
   "outputs": [
    {
     "data": {
      "text/plain": [
       "[<a>, <a>, <a>, <a.menuitm>, <a.menuitm>, <a.menuitm>, <a.menuitm.dropdown-toggle>, <a>, <a>, <a>, <a>, <a>, <a.btn-menu1.install-extension>, <a.btn-menu2>, <a>, <a>, <a>, <a>, <a>, <a>, <a>, <a>, <a>, <a>, <a>, <a>, <a>, <a>, <a>, <a>, <a>, <a>, <a>, <a>, <a>, <a>, <a>, <a>]"
      ]
     },
     "execution_count": 28,
     "metadata": {},
     "output_type": "execute_result"
    }
   ],
   "source": [
    "source('a')"
   ]
  },
  {
   "cell_type": "code",
   "execution_count": 55,
   "id": "d7a987ab-363e-4d85-aa62-429c0188d390",
   "metadata": {},
   "outputs": [
    {
     "data": {
      "text/plain": [
       "[<a.menuitm>, <a>, <a>, <a>, <a>]"
      ]
     },
     "execution_count": 55,
     "metadata": {},
     "output_type": "execute_result"
    }
   ],
   "source": [
    "source.find('a:contains(\"Web\")')"
   ]
  },
  {
   "cell_type": "code",
   "execution_count": 56,
   "id": "41d3de99-e2e8-4e67-a552-514e76b5ac94",
   "metadata": {},
   "outputs": [
    {
     "data": {
      "text/plain": [
       "'#'"
      ]
     },
     "execution_count": 56,
     "metadata": {},
     "output_type": "execute_result"
    }
   ],
   "source": [
    "source.find('a:contains(\"Web\"):last').attr('href')"
   ]
  },
  {
   "cell_type": "code",
   "execution_count": 57,
   "id": "ee6013ef-169b-46bc-b2c6-0c08bf02262e",
   "metadata": {},
   "outputs": [
    {
     "data": {
      "text/plain": [
       "'Web Scraper'"
      ]
     },
     "execution_count": 57,
     "metadata": {},
     "output_type": "execute_result"
    }
   ],
   "source": [
    "source.find('a:contains(\"Web\"):last').text()"
   ]
  },
  {
   "cell_type": "code",
   "execution_count": 62,
   "id": "af376738-2c42-4572-bc9e-6145e4560eb6",
   "metadata": {},
   "outputs": [
    {
     "data": {
      "text/plain": [
       "True"
      ]
     },
     "execution_count": 62,
     "metadata": {},
     "output_type": "execute_result"
    }
   ],
   "source": [
    "source.find('div.row div p').is_('.copyright')"
   ]
  },
  {
   "cell_type": "code",
   "execution_count": 60,
   "id": "d490712a-6ffe-4a75-b774-ac2d176e0624",
   "metadata": {},
   "outputs": [
    {
     "data": {
      "text/plain": [
       "True"
      ]
     },
     "execution_count": 60,
     "metadata": {},
     "output_type": "execute_result"
    }
   ],
   "source": [
    "source.find('div.row div p').hasClass('copyright') "
   ]
  },
  {
   "cell_type": "code",
   "execution_count": 74,
   "id": "ed6277a5-5747-483d-834b-2aa469900524",
   "metadata": {},
   "outputs": [
    {
     "data": {
      "text/plain": [
       "False"
      ]
     },
     "execution_count": 74,
     "metadata": {},
     "output_type": "execute_result"
    }
   ],
   "source": [
    "source.find('div.row div p.copyright a').is_('#link')"
   ]
  },
  {
   "cell_type": "code",
   "execution_count": 67,
   "id": "f34b2c9e-2e4e-4b70-8daa-3a10277d4d1f",
   "metadata": {},
   "outputs": [
    {
     "data": {
      "text/plain": [
       "['/', '/cloud-scraper', '/pricing', '#section3']"
      ]
     },
     "execution_count": 67,
     "metadata": {},
     "output_type": "execute_result"
    }
   ],
   "source": [
    "[item.attr('href') for item in source.find('a.menuitm').items()] "
   ]
  },
  {
   "cell_type": "code",
   "execution_count": 68,
   "id": "629bd7c1-027d-4902-86fa-a7f654ea2e32",
   "metadata": {},
   "outputs": [
    {
     "data": {
      "text/plain": [
       "['/',\n",
       " '/cloud-scraper',\n",
       " '/pricing',\n",
       " '#section3',\n",
       " 'https://chrome.google.com/webstore/detail/web-scraper/jnhgnonknehpejjnehehllkliplmbmhn?hl=en',\n",
       " 'https://cloud.webscraper.io/']"
      ]
     },
     "execution_count": 68,
     "metadata": {},
     "output_type": "execute_result"
    }
   ],
   "source": [
    "[item.attr('href') for item in source.find('a.menuitm,a[class*=\"btn-menu\"]').items()] "
   ]
  },
  {
   "cell_type": "markdown",
   "id": "2f5d73b5-c7fb-4377-ae80-16aa6b649359",
   "metadata": {},
   "source": [
    "#### Collect <meta> with name and content only"
   ]
  },
  {
   "cell_type": "code",
   "execution_count": 103,
   "id": "5645fbf4-afb5-47ea-8fec-2e2281e9c343",
   "metadata": {},
   "outputs": [],
   "source": [
    "meta=[]\n",
    "count=0\n",
    "for item in source.find('meta').items():\n",
    "    if item.attr('name') and item.attr('content'): \n",
    "            meta.append({'index':count,'name':item.attr('name'),'content':item.attr('content')})      \n",
    "    count+=1        "
   ]
  },
  {
   "cell_type": "code",
   "execution_count": 104,
   "id": "f012a776-01b9-43b9-93d2-27daad848daf",
   "metadata": {},
   "outputs": [
    {
     "data": {
      "text/plain": [
       "[{'index': 2,\n",
       "  'name': 'keywords',\n",
       "  'content': 'web scraping,Web Scraper,Chrome extension,Crawling,Cross platform scraper'},\n",
       " {'index': 3,\n",
       "  'name': 'description',\n",
       "  'content': 'You need to train your web scraper? We have created simple test sites that allow you to try all corner cases and proof test your scraper. Try it now.'},\n",
       " {'index': 4,\n",
       "  'name': 'viewport',\n",
       "  'content': 'width=device-width, initial-scale=1.0'}]"
      ]
     },
     "execution_count": 104,
     "metadata": {},
     "output_type": "execute_result"
    }
   ],
   "source": [
    "meta"
   ]
  },
  {
   "cell_type": "code",
   "execution_count": null,
   "id": "6ecf4c10-a7ec-468a-9d6e-8b538b485a76",
   "metadata": {},
   "outputs": [],
   "source": []
  }
 ],
 "metadata": {
  "kernelspec": {
   "display_name": "Python 3 (ipykernel)",
   "language": "python",
   "name": "python3"
  },
  "language_info": {
   "codemirror_mode": {
    "name": "ipython",
    "version": 3
   },
   "file_extension": ".py",
   "mimetype": "text/x-python",
   "name": "python",
   "nbconvert_exporter": "python",
   "pygments_lexer": "ipython3",
   "version": "3.11.1"
  }
 },
 "nbformat": 4,
 "nbformat_minor": 5
}
