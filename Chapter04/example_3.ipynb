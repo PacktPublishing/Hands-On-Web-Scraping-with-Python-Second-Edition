{
 "cells": [
  {
   "cell_type": "code",
   "execution_count": 1,
   "id": "14290c39-8313-48c1-b6c1-47ca23078ef0",
   "metadata": {},
   "outputs": [],
   "source": [
    "from pyquery import PyQuery as pq\n",
    "import requests\n",
    "import csv\n",
    "url = \"http://quotes.toscrape.com/tag/books/page/\"\n",
    "columns=['id','author','quote','tags','quote_length','born_date','born_location','author_url'] #Columns for CSV header"
   ]
  },
  {
   "cell_type": "code",
   "execution_count": 2,
   "id": "1a0b6ba9-e55a-4e0f-8d92-26a3f8f333a3",
   "metadata": {},
   "outputs": [],
   "source": [
    "authorSet=dict()\n",
    "dataSet=list()\n",
    "page=1\n",
    "nextPage=True\n",
    "uid=0"
   ]
  },
  {
   "cell_type": "code",
   "execution_count": 3,
   "id": "f2aee7a6-941d-4638-ad28-771d7bb867e7",
   "metadata": {
    "tags": []
   },
   "outputs": [
    {
     "name": "stdout",
     "output_type": "stream",
     "text": [
      "http://quotes.toscrape.com/tag/books/page/1\n",
      "Quotes to Scrape\n",
      "Processing 1\n",
      "/author/Jane-Austen\n",
      "Jane_Austen\n",
      "http://quotes.toscrape.com/author/Jane-Austen\n",
      "/author/Mark-Twain\n",
      "Mark_Twain\n",
      "http://quotes.toscrape.com/author/Mark-Twain\n",
      "/author/Jorge-Luis-Borges\n",
      "Jorge_Luis_Borges\n",
      "http://quotes.toscrape.com/author/Jorge-Luis-Borges\n",
      "/author/C-S-Lewis\n",
      "C_S__Lewis\n",
      "http://quotes.toscrape.com/author/C-S-Lewis\n",
      "/author/Haruki-Murakami\n",
      "Haruki_Murakami\n",
      "http://quotes.toscrape.com/author/Haruki-Murakami\n",
      "/author/Ernest-Hemingway\n",
      "Ernest_Hemingway\n",
      "http://quotes.toscrape.com/author/Ernest-Hemingway\n",
      "/author/J-D-Salinger\n",
      "J_D__Salinger\n",
      "http://quotes.toscrape.com/author/J-D-Salinger\n",
      "/author/Mark-Twain\n",
      "Mark_Twain\n",
      "Author (Mark_Twain) details already found!\n",
      "/author/Jane-Austen\n",
      "Jane_Austen\n",
      "Author (Jane_Austen) details already found!\n",
      "/author/Madeleine-LEngle\n",
      "Madeleine_L'Engle\n",
      "http://quotes.toscrape.com/author/Madeleine-LEngle\n",
      "http://quotes.toscrape.com/tag/books/page/2\n",
      "Quotes to Scrape\n",
      "Processing 2\n",
      "/author/George-R-R-Martin\n",
      "George_R_R__Martin\n",
      "http://quotes.toscrape.com/author/George-R-R-Martin\n"
     ]
    }
   ],
   "source": [
    "while (nextPage):\n",
    "    \n",
    "    print(url+str(page))\n",
    "    response = requests.get(url+str(page))\n",
    "    source = pq(response.content)    \n",
    "    print(source.find('title').text())\n",
    "    \n",
    "    if source.find('ul.pager li.next a:contains(\"Next\")'):    \n",
    "        nextPage=True\n",
    "    else:\n",
    "        nextPage=False\n",
    "        \n",
    "    print(f\"Processing {page}\") \n",
    "    for quotes in source.find('.quote').items():\n",
    "        quote = quotes.find('[itemprop=\"text\"]').text().strip()\n",
    "        author = quotes.find('[itemprop=\"author\"]').text().strip()\n",
    "        tags = quotes.find('[itemprop=\"keywords\"]').attr('content').strip()\n",
    "        authorUrl = quotes.find('a[href*=\"/author/\"]').attr('href')\n",
    "        \n",
    "        if authorUrl:\n",
    "            print(authorUrl)\n",
    "            authorKey = author.replace('.','_').replace(' ','_').strip()\n",
    "            print(authorKey)\n",
    "            \n",
    "        if authorUrl and authorKey not in authorSet.keys():\n",
    "            authorUrl = \"http://quotes.toscrape.com\"+authorUrl\n",
    "            print(authorUrl)\n",
    "            source_author = pq(requests.get(authorUrl).content)\n",
    "            bornDate = source_author.find('.author-born-date').text()\n",
    "            bornLocation = source_author.find('.author-born-location').text().replace('in','').strip()\n",
    "            authorSet[authorKey]={'name':author,'url':authorUrl,'date':bornDate,'location':bornLocation}\n",
    "        else:\n",
    "            print(f\"Author ({authorKey}) details already found!\")\n",
    "            \n",
    "        uid+=1    \n",
    "        dataSet.append([uid,author,quote,tags.replace(',','|'),len(quote),\n",
    "                        authorSet[authorKey]['date'],\n",
    "                        authorSet[authorKey]['location'],\n",
    "                        authorSet[authorKey]['url']            \n",
    "        ]) \n",
    "    page+=1  "
   ]
  },
  {
   "cell_type": "code",
   "execution_count": 4,
   "id": "b8b7353c-337d-406f-8ab8-40cf76794fcd",
   "metadata": {},
   "outputs": [
    {
     "data": {
      "text/plain": [
       "[[1,\n",
       "  'Jane Austen',\n",
       "  '“The person, be it gentleman or lady, who has not pleasure in a good novel, must be intolerably stupid.”',\n",
       "  'aliteracy|books|classic|humor',\n",
       "  104,\n",
       "  'December 16, 1775',\n",
       "  'Steventon Rectory, Hampshire, The United Kgdom',\n",
       "  'http://quotes.toscrape.com/author/Jane-Austen'],\n",
       " [2,\n",
       "  'Mark Twain',\n",
       "  '“Good friends, good books, and a sleepy conscience: this is the ideal life.”',\n",
       "  'books|contentment|friends|friendship|life',\n",
       "  76,\n",
       "  'November 30, 1835',\n",
       "  'Florida, Missouri, The United States',\n",
       "  'http://quotes.toscrape.com/author/Mark-Twain'],\n",
       " [3,\n",
       "  'Jorge Luis Borges',\n",
       "  '“I have always imagined that Paradise will be a kind of library.”',\n",
       "  'books|library',\n",
       "  65,\n",
       "  'August 24, 1899',\n",
       "  'Buenos Aires, Argenta',\n",
       "  'http://quotes.toscrape.com/author/Jorge-Luis-Borges'],\n",
       " [4,\n",
       "  'C.S. Lewis',\n",
       "  '“You can never get a cup of tea large enough or a book long enough to suit me.”',\n",
       "  'books|inspirational|reading|tea',\n",
       "  79,\n",
       "  'November 29, 1898',\n",
       "  'Belfast, Ireland',\n",
       "  'http://quotes.toscrape.com/author/C-S-Lewis'],\n",
       " [5,\n",
       "  'Haruki Murakami',\n",
       "  '“If you only read the books that everyone else is reading, you can only think what everyone else is thinking.”',\n",
       "  'books|thought',\n",
       "  110,\n",
       "  'January 12, 1949',\n",
       "  'Kyoto, Japan',\n",
       "  'http://quotes.toscrape.com/author/Haruki-Murakami'],\n",
       " [6,\n",
       "  'Ernest Hemingway',\n",
       "  '“There is no friend as loyal as a book.”',\n",
       "  'books|friends|novelist-quotes',\n",
       "  40,\n",
       "  'July 21, 1899',\n",
       "  'Oak Park, Illois, The United States',\n",
       "  'http://quotes.toscrape.com/author/Ernest-Hemingway'],\n",
       " [7,\n",
       "  'J.D. Salinger',\n",
       "  \"“What really knocks me out is a book that, when you're all done reading it, you wish the author that wrote it was a terrific friend of yours and you could call him up on the phone whenever you felt like it. That doesn't happen much, though.”\",\n",
       "  'authors|books|literature|reading|writing',\n",
       "  241,\n",
       "  'January 01, 1919',\n",
       "  'Manhattan, New York, The United States',\n",
       "  'http://quotes.toscrape.com/author/J-D-Salinger'],\n",
       " [8,\n",
       "  'Mark Twain',\n",
       "  \"“′Classic′ - a book which people praise and don't read.”\",\n",
       "  'books|classic|reading',\n",
       "  56,\n",
       "  'November 30, 1835',\n",
       "  'Florida, Missouri, The United States',\n",
       "  'http://quotes.toscrape.com/author/Mark-Twain'],\n",
       " [9,\n",
       "  'Jane Austen',\n",
       "  '“I declare after all there is no enjoyment like reading! How much sooner one tires of any thing than of a book! -- When I have a house of my own, I shall be miserable if I have not an excellent library.”',\n",
       "  'books|library|reading',\n",
       "  203,\n",
       "  'December 16, 1775',\n",
       "  'Steventon Rectory, Hampshire, The United Kgdom',\n",
       "  'http://quotes.toscrape.com/author/Jane-Austen'],\n",
       " [10,\n",
       "  \"Madeleine L'Engle\",\n",
       "  '“You have to write the book that wants to be written. And if the book will be too difficult for grown-ups, then you write it for children.”',\n",
       "  'books|children|difficult|grown-ups|write|writers|writing',\n",
       "  139,\n",
       "  'November 29, 1918',\n",
       "  'New York City, New York, The United States',\n",
       "  'http://quotes.toscrape.com/author/Madeleine-LEngle'],\n",
       " [11,\n",
       "  'George R.R. Martin',\n",
       "  '“... a mind needs books as a sword needs a whetstone, if it is to keep its edge.”',\n",
       "  'books|mind',\n",
       "  81,\n",
       "  'September 20, 1948',\n",
       "  'Bayonne, New Jersey, The United States',\n",
       "  'http://quotes.toscrape.com/author/George-R-R-Martin']]"
      ]
     },
     "execution_count": 4,
     "metadata": {},
     "output_type": "execute_result"
    }
   ],
   "source": [
    "dataSet"
   ]
  },
  {
   "cell_type": "code",
   "execution_count": 5,
   "id": "3c4ff6a2-44b0-4735-886b-a2fe7d952aa9",
   "metadata": {},
   "outputs": [
    {
     "data": {
      "text/plain": [
       "{'Jane_Austen': {'name': 'Jane Austen',\n",
       "  'url': 'http://quotes.toscrape.com/author/Jane-Austen',\n",
       "  'date': 'December 16, 1775',\n",
       "  'location': 'Steventon Rectory, Hampshire, The United Kgdom'},\n",
       " 'Mark_Twain': {'name': 'Mark Twain',\n",
       "  'url': 'http://quotes.toscrape.com/author/Mark-Twain',\n",
       "  'date': 'November 30, 1835',\n",
       "  'location': 'Florida, Missouri, The United States'},\n",
       " 'Jorge_Luis_Borges': {'name': 'Jorge Luis Borges',\n",
       "  'url': 'http://quotes.toscrape.com/author/Jorge-Luis-Borges',\n",
       "  'date': 'August 24, 1899',\n",
       "  'location': 'Buenos Aires, Argenta'},\n",
       " 'C_S__Lewis': {'name': 'C.S. Lewis',\n",
       "  'url': 'http://quotes.toscrape.com/author/C-S-Lewis',\n",
       "  'date': 'November 29, 1898',\n",
       "  'location': 'Belfast, Ireland'},\n",
       " 'Haruki_Murakami': {'name': 'Haruki Murakami',\n",
       "  'url': 'http://quotes.toscrape.com/author/Haruki-Murakami',\n",
       "  'date': 'January 12, 1949',\n",
       "  'location': 'Kyoto, Japan'},\n",
       " 'Ernest_Hemingway': {'name': 'Ernest Hemingway',\n",
       "  'url': 'http://quotes.toscrape.com/author/Ernest-Hemingway',\n",
       "  'date': 'July 21, 1899',\n",
       "  'location': 'Oak Park, Illois, The United States'},\n",
       " 'J_D__Salinger': {'name': 'J.D. Salinger',\n",
       "  'url': 'http://quotes.toscrape.com/author/J-D-Salinger',\n",
       "  'date': 'January 01, 1919',\n",
       "  'location': 'Manhattan, New York, The United States'},\n",
       " \"Madeleine_L'Engle\": {'name': \"Madeleine L'Engle\",\n",
       "  'url': 'http://quotes.toscrape.com/author/Madeleine-LEngle',\n",
       "  'date': 'November 29, 1918',\n",
       "  'location': 'New York City, New York, The United States'},\n",
       " 'George_R_R__Martin': {'name': 'George R.R. Martin',\n",
       "  'url': 'http://quotes.toscrape.com/author/George-R-R-Martin',\n",
       "  'date': 'September 20, 1948',\n",
       "  'location': 'Bayonne, New Jersey, The United States'}}"
      ]
     },
     "execution_count": 5,
     "metadata": {},
     "output_type": "execute_result"
    }
   ],
   "source": [
    "authorSet"
   ]
  },
  {
   "cell_type": "markdown",
   "id": "cbf07590-7154-4d48-be38-dd479e092507",
   "metadata": {},
   "source": [
    "### Write to CSV"
   ]
  },
  {
   "cell_type": "code",
   "execution_count": 6,
   "id": "d9064a52-fbdf-46ca-8323-7a1f2caa1534",
   "metadata": {},
   "outputs": [],
   "source": [
    "def writeto_csv(data,filename,columns):\n",
    "    with open(filename,'w+',newline='',encoding=\"UTF-8\") as file:\n",
    "        writer = csv.DictWriter(file, fieldnames=columns)\n",
    "        writer.writeheader()\n",
    "        writer = csv.writer(file)\n",
    "        for element in data:\n",
    "            writer.writerows([element])"
   ]
  },
  {
   "cell_type": "markdown",
   "id": "593d875e-e07d-4334-8251-9bbd9ba1677a",
   "metadata": {},
   "source": [
    "#### Create CSV file from dataSet"
   ]
  },
  {
   "cell_type": "code",
   "execution_count": 7,
   "id": "ab9fe568-80a3-4cac-b71f-4ab584f21b44",
   "metadata": {},
   "outputs": [],
   "source": [
    "writeto_csv(dataSet,'quotes.csv',columns)"
   ]
  },
  {
   "cell_type": "markdown",
   "id": "19d7a381-44e3-45a5-aa08-72b236a824b5",
   "metadata": {},
   "source": [
    "### Write to JSON - author"
   ]
  },
  {
   "cell_type": "code",
   "execution_count": 8,
   "id": "a9d35178-b1cc-454c-98c4-cd5b283abadc",
   "metadata": {},
   "outputs": [],
   "source": [
    "import json\n",
    "\n",
    "with open(\"quotes_author.json\", \"w\") as file:\n",
    "    json.dump(authorSet, file, indent=4, sort_keys=False)"
   ]
  }
 ],
 "metadata": {
  "kernelspec": {
   "display_name": "Python 3 (ipykernel)",
   "language": "python",
   "name": "python3"
  },
  "language_info": {
   "codemirror_mode": {
    "name": "ipython",
    "version": 3
   },
   "file_extension": ".py",
   "mimetype": "text/x-python",
   "name": "python",
   "nbconvert_exporter": "python",
   "pygments_lexer": "ipython3",
   "version": "3.11.1"
  }
 },
 "nbformat": 4,
 "nbformat_minor": 5
}
