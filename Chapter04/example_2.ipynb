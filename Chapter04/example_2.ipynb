{
 "cells": [
  {
   "cell_type": "code",
   "execution_count": 81,
   "id": "14290c39-8313-48c1-b6c1-47ca23078ef0",
   "metadata": {},
   "outputs": [],
   "source": [
    "from pyquery import PyQuery as pq\n",
    "import requests\n",
    "import csv\n",
    "url = \"https://www.schools.com/sitemap.xml\"\n",
    "columns=['loc','lastmod','changefreq','priority'] #Columns for CSV header"
   ]
  },
  {
   "cell_type": "code",
   "execution_count": 82,
   "id": "1a0b6ba9-e55a-4e0f-8d92-26a3f8f333a3",
   "metadata": {},
   "outputs": [],
   "source": [
    "xmlFile = requests.get(url).content\n",
    "urlXML = pq(xmlFile, parser='html')"
   ]
  },
  {
   "cell_type": "code",
   "execution_count": 83,
   "id": "b8b7353c-337d-406f-8ab8-40cf76794fcd",
   "metadata": {},
   "outputs": [
    {
     "name": "stdout",
     "output_type": "stream",
     "text": [
      "Children Length:  530\n"
     ]
    }
   ],
   "source": [
    "print(\"Children Length: \",urlXML.children().__len__())"
   ]
  },
  {
   "cell_type": "markdown",
   "id": "0b96700a-70e2-4613-be9e-6fa669d8ca83",
   "metadata": {},
   "source": [
    "### Loop through total 530 Childrens"
   ]
  },
  {
   "cell_type": "code",
   "execution_count": 84,
   "id": "3d18a401-7dc6-412e-b1b5-b9478b3e6a6e",
   "metadata": {},
   "outputs": [],
   "source": [
    "dataSet=[]\n",
    "loops = range(0,urlXML.children().__len__())\n",
    "for loop in loops:\n",
    "    child = urlXML.children().eq(loop)\n",
    "    dataSet.append([\n",
    "        child.find('loc').text(),\n",
    "        child.find('lastmod').text(),\n",
    "        child.find('changefreq').text(),\n",
    "        child.find('priority').text()\n",
    "    ])"
   ]
  },
  {
   "cell_type": "markdown",
   "id": "cbf07590-7154-4d48-be38-dd479e092507",
   "metadata": {},
   "source": [
    "### Write to CSV"
   ]
  },
  {
   "cell_type": "code",
   "execution_count": 85,
   "id": "d9064a52-fbdf-46ca-8323-7a1f2caa1534",
   "metadata": {},
   "outputs": [],
   "source": [
    "def writeto_csv(data,filename,columns):\n",
    "    with open(filename,'w+',newline='',encoding=\"UTF-8\") as file:\n",
    "        writer = csv.DictWriter(file, fieldnames=columns)\n",
    "        writer.writeheader()\n",
    "        writer = csv.writer(file)\n",
    "        for element in data:\n",
    "            writer.writerows([element])"
   ]
  },
  {
   "cell_type": "markdown",
   "id": "593d875e-e07d-4334-8251-9bbd9ba1677a",
   "metadata": {},
   "source": [
    "#### Create CSV file from dataSet"
   ]
  },
  {
   "cell_type": "code",
   "execution_count": 86,
   "id": "ab9fe568-80a3-4cac-b71f-4ab584f21b44",
   "metadata": {},
   "outputs": [],
   "source": [
    "writeto_csv(dataSet,'schoolXML.csv',columns)"
   ]
  }
 ],
 "metadata": {
  "kernelspec": {
   "display_name": "Python 3 (ipykernel)",
   "language": "python",
   "name": "python3"
  },
  "language_info": {
   "codemirror_mode": {
    "name": "ipython",
    "version": 3
   },
   "file_extension": ".py",
   "mimetype": "text/x-python",
   "name": "python",
   "nbconvert_exporter": "python",
   "pygments_lexer": "ipython3",
   "version": "3.11.1"
  }
 },
 "nbformat": 4,
 "nbformat_minor": 5
}
