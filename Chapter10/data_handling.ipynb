{
 "cells": [
  {
   "cell_type": "markdown",
   "id": "78bc5509-f788-480a-832b-b23135588deb",
   "metadata": {},
   "source": [
    "## Data handling"
   ]
  },
  {
   "cell_type": "code",
   "execution_count": 1,
   "id": "ecdf0fa6-8735-4865-9aaa-fead000bbb88",
   "metadata": {},
   "outputs": [],
   "source": [
    "import pandas as pd\n",
    "import numpy as np"
   ]
  },
  {
   "cell_type": "code",
   "execution_count": 2,
   "id": "fc7b914a-9af0-41eb-ab15-f2c673c504b1",
   "metadata": {},
   "outputs": [
    {
     "name": "stdout",
     "output_type": "stream",
     "text": [
      "2.0.1\n"
     ]
    }
   ],
   "source": [
    "print(pd.__version__)"
   ]
  },
  {
   "cell_type": "markdown",
   "id": "e70d23c4-4899-4f8c-abdb-4cb12bea1014",
   "metadata": {
    "tags": []
   },
   "source": [
    "### Read/Write JSON"
   ]
  },
  {
   "cell_type": "code",
   "execution_count": 31,
   "id": "bfe283dd-daa6-460e-93a8-d1441570b12a",
   "metadata": {},
   "outputs": [
    {
     "name": "stdout",
     "output_type": "stream",
     "text": [
      "{'Upc': '9528d0948525bf5f', 'Title': 'Birdsong: A Story in Pictures', 'Price': '£54.64', 'Rating': 'Three', 'Stock': 'In stock', 'Stock_Qty': '19', 'Url': 'http://books.toscrape.com/catalogue/birdsong-a-story-in-pictures_975/index.html', 'Image': 'http://books.toscrape.com/media/cache/af/6e/af6e796160fe63e0cf19d44395c7ddf2.jpg'}\n",
      "Birdsong: A Story in Pictures\n"
     ]
    }
   ],
   "source": [
    "import json\n",
    "with open(\"book_details.json\",\"r\") as file:\n",
    "    books = json.loads(file.read())\n",
    "    print(books[0])\n",
    "    print(books[0]['Title'])"
   ]
  },
  {
   "cell_type": "markdown",
   "id": "e85f1282-6ac3-47bb-8336-7f8b4afe5f4c",
   "metadata": {},
   "source": [
    "#### Using pandas"
   ]
  },
  {
   "cell_type": "code",
   "execution_count": 23,
   "id": "0855246d-200d-440c-8bc5-943c1eba414a",
   "metadata": {},
   "outputs": [],
   "source": [
    "bookJson = pd.read_json(\"book_details.json\") "
   ]
  },
  {
   "cell_type": "code",
   "execution_count": 24,
   "id": "8cd11496-0152-467c-bf1e-08441cdd9452",
   "metadata": {},
   "outputs": [
    {
     "data": {
      "text/plain": [
       "pandas.core.frame.DataFrame"
      ]
     },
     "execution_count": 24,
     "metadata": {},
     "output_type": "execute_result"
    }
   ],
   "source": [
    "type(bookJson)"
   ]
  },
  {
   "cell_type": "code",
   "execution_count": 34,
   "id": "0e09c5c1-a617-4ed3-aee3-a928f7f62684",
   "metadata": {},
   "outputs": [
    {
     "data": {
      "text/plain": [
       "(29, 8)"
      ]
     },
     "execution_count": 34,
     "metadata": {},
     "output_type": "execute_result"
    }
   ],
   "source": [
    "bookJson.shape"
   ]
  },
  {
   "cell_type": "code",
   "execution_count": 25,
   "id": "be9dab83-6139-4f7f-a2c3-76c7d1d37429",
   "metadata": {},
   "outputs": [
    {
     "name": "stdout",
     "output_type": "stream",
     "text": [
      "['Image', 'Price', 'Rating', 'Stock', 'Stock_Qty', 'T', 'Title', 'Upc', 'Url', '_AXIS_LEN', '_AXIS_ORDERS', '_AXIS_TO_AXIS_NUMBER', '_HANDLED_TYPES', '__abs__', '__add__', '__and__', '__annotations__', '__array__', '__array_priority__', '__array_ufunc__', '__bool__', '__class__', '__contains__', '__copy__', '__dataframe__', '__deepcopy__', '__delattr__', '__delitem__', '__dict__', '__dir__', '__divmod__', '__doc__', '__eq__', '__finalize__', '__floordiv__', '__format__', '__ge__', '__getattr__', '__getattribute__', '__getitem__', '__getstate__', '__gt__', '__hash__', '__iadd__', '__iand__', '__ifloordiv__', '__imod__', '__imul__', '__init__', '__init_subclass__', '__invert__', '__ior__', '__ipow__', '__isub__', '__iter__', '__itruediv__', '__ixor__', '__le__', '__len__', '__lt__', '__matmul__', '__mod__', '__module__', '__mul__', '__ne__', '__neg__', '__new__', '__nonzero__', '__or__', '__pos__', '__pow__', '__radd__', '__rand__', '__rdivmod__', '__reduce__', '__reduce_ex__', '__repr__', '__rfloordiv__', '__rmatmul__', '__rmod__', '__rmul__', '__ror__', '__round__', '__rpow__', '__rsub__', '__rtruediv__', '__rxor__', '__setattr__', '__setitem__', '__setstate__', '__sizeof__', '__str__', '__sub__', '__subclasshook__', '__truediv__', '__weakref__', '__xor__', '_accessors', '_accum_func', '_add_numeric_operations', '_agg_examples_doc', '_agg_summary_and_see_also_doc', '_align_frame', '_align_series', '_append', '_arith_method', '_as_manager', '_attrs', '_box_col_values', '_can_fast_transpose', '_check_inplace_and_allows_duplicate_labels', '_check_inplace_setting', '_check_is_chained_assignment_possible', '_check_label_or_level_ambiguity', '_check_setitem_copy', '_clear_item_cache', '_clip_with_one_bound', '_clip_with_scalar', '_cmp_method', '_combine_frame', '_consolidate', '_consolidate_inplace', '_construct_axes_dict', '_construct_result', '_constructor', '_constructor_sliced', '_create_data_for_split_and_tight_to_dict', '_data', '_dir_additions', '_dir_deletions', '_dispatch_frame_op', '_drop_axis', '_drop_labels_or_levels', '_ensure_valid_index', '_find_valid_index', '_flags', '_from_arrays', '_get_agg_axis', '_get_axis', '_get_axis_name', '_get_axis_number', '_get_axis_resolvers', '_get_block_manager_axis', '_get_bool_data', '_get_cleaned_column_resolvers', '_get_column_array', '_get_index_resolvers', '_get_item_cache', '_get_label_or_level_values', '_get_numeric_data', '_get_value', '_getitem_bool_array', '_getitem_multilevel', '_getitem_nocopy', '_gotitem', '_hidden_attrs', '_indexed_same', '_info_axis', '_info_axis_name', '_info_axis_number', '_info_repr', '_init_mgr', '_inplace_method', '_internal_names', '_internal_names_set', '_is_copy', '_is_homogeneous_type', '_is_label_or_level_reference', '_is_label_reference', '_is_level_reference', '_is_mixed_type', '_is_view', '_iset_item', '_iset_item_mgr', '_iset_not_inplace', '_item_cache', '_iter_column_arrays', '_ixs', '_join_compat', '_logical_func', '_logical_method', '_maybe_cache_changed', '_maybe_update_cacher', '_metadata', '_mgr', '_min_count_stat_function', '_needs_reindex_multi', '_protect_consolidate', '_reduce', '_reduce_axis1', '_reindex_axes', '_reindex_columns', '_reindex_index', '_reindex_multi', '_reindex_with_indexers', '_rename', '_replace_columnwise', '_repr_data_resource_', '_repr_fits_horizontal_', '_repr_fits_vertical_', '_repr_html_', '_repr_latex_', '_reset_cache', '_reset_cacher', '_sanitize_column', '_series', '_set_axis', '_set_axis_name', '_set_axis_nocheck', '_set_is_copy', '_set_item', '_set_item_frame_value', '_set_item_mgr', '_set_value', '_setitem_array', '_setitem_frame', '_setitem_slice', '_slice', '_stat_axis', '_stat_axis_name', '_stat_axis_number', '_stat_function', '_stat_function_ddof', '_take', '_take_with_is_copy', '_to_dict_of_blocks', '_to_latex_via_styler', '_typ', '_update_inplace', '_validate_dtype', '_values', '_where', 'abs', 'add', 'add_prefix', 'add_suffix', 'agg', 'aggregate', 'align', 'all', 'any', 'apply', 'applymap', 'asfreq', 'asof', 'assign', 'astype', 'at', 'at_time', 'attrs', 'axes', 'backfill', 'between_time', 'bfill', 'bool', 'boxplot', 'clip', 'columns', 'combine', 'combine_first', 'compare', 'convert_dtypes', 'copy', 'corr', 'corrwith', 'count', 'cov', 'cummax', 'cummin', 'cumprod', 'cumsum', 'describe', 'diff', 'div', 'divide', 'dot', 'drop', 'drop_duplicates', 'droplevel', 'dropna', 'dtypes', 'duplicated', 'empty', 'eq', 'equals', 'eval', 'ewm', 'expanding', 'explode', 'ffill', 'fillna', 'filter', 'first', 'first_valid_index', 'flags', 'floordiv', 'from_dict', 'from_records', 'ge', 'get', 'groupby', 'gt', 'head', 'hist', 'iat', 'idxmax', 'idxmin', 'iloc', 'index', 'infer_objects', 'info', 'insert', 'interpolate', 'isetitem', 'isin', 'isna', 'isnull', 'items', 'iterrows', 'itertuples', 'join', 'keys', 'kurt', 'kurtosis', 'last', 'last_valid_index', 'le', 'loc', 'lt', 'mask', 'max', 'mean', 'median', 'melt', 'memory_usage', 'merge', 'min', 'mod', 'mode', 'mul', 'multiply', 'ndim', 'ne', 'nlargest', 'notna', 'notnull', 'nsmallest', 'nunique', 'pad', 'pct_change', 'pipe', 'pivot', 'pivot_table', 'plot', 'pop', 'pow', 'prod', 'product', 'quantile', 'query', 'radd', 'rank', 'rdiv', 'reindex', 'reindex_like', 'rename', 'rename_axis', 'reorder_levels', 'replace', 'resample', 'reset_index', 'rfloordiv', 'rmod', 'rmul', 'rolling', 'round', 'rpow', 'rsub', 'rtruediv', 'sample', 'select_dtypes', 'sem', 'set_axis', 'set_flags', 'set_index', 'shape', 'shift', 'size', 'skew', 'sort_index', 'sort_values', 'squeeze', 'stack', 'std', 'style', 'sub', 'subtract', 'sum', 'swapaxes', 'swaplevel', 'tail', 'take', 'to_clipboard', 'to_csv', 'to_dict', 'to_excel', 'to_feather', 'to_gbq', 'to_hdf', 'to_html', 'to_json', 'to_latex', 'to_markdown', 'to_numpy', 'to_orc', 'to_parquet', 'to_period', 'to_pickle', 'to_records', 'to_sql', 'to_stata', 'to_string', 'to_timestamp', 'to_xarray', 'to_xml', 'transform', 'transpose', 'truediv', 'truncate', 'tz_convert', 'tz_localize', 'unstack', 'update', 'value_counts', 'values', 'var', 'where', 'xs']\n"
     ]
    }
   ],
   "source": [
    "print(dir(bookJson))"
   ]
  },
  {
   "cell_type": "code",
   "execution_count": 13,
   "id": "8144ebfa-760c-48f2-87a6-a84e403c9528",
   "metadata": {},
   "outputs": [
    {
     "name": "stdout",
     "output_type": "stream",
     "text": [
      "<class 'pandas.core.frame.DataFrame'>\n",
      "RangeIndex: 29 entries, 0 to 28\n",
      "Data columns (total 8 columns):\n",
      " #   Column     Non-Null Count  Dtype \n",
      "---  ------     --------------  ----- \n",
      " 0   Upc        29 non-null     object\n",
      " 1   Title      29 non-null     object\n",
      " 2   Price      29 non-null     object\n",
      " 3   Rating     29 non-null     object\n",
      " 4   Stock      29 non-null     object\n",
      " 5   Stock_Qty  29 non-null     int64 \n",
      " 6   Url        29 non-null     object\n",
      " 7   Image      29 non-null     object\n",
      "dtypes: int64(1), object(7)\n",
      "memory usage: 1.9+ KB\n"
     ]
    }
   ],
   "source": [
    "bookJson.info()"
   ]
  },
  {
   "cell_type": "code",
   "execution_count": 12,
   "id": "b33c4f5b-15d7-4388-be1a-ba3ba82f2de8",
   "metadata": {},
   "outputs": [
    {
     "data": {
      "text/html": [
       "<div>\n",
       "<style scoped>\n",
       "    .dataframe tbody tr th:only-of-type {\n",
       "        vertical-align: middle;\n",
       "    }\n",
       "\n",
       "    .dataframe tbody tr th {\n",
       "        vertical-align: top;\n",
       "    }\n",
       "\n",
       "    .dataframe thead th {\n",
       "        text-align: right;\n",
       "    }\n",
       "</style>\n",
       "<table border=\"1\" class=\"dataframe\">\n",
       "  <thead>\n",
       "    <tr style=\"text-align: right;\">\n",
       "      <th></th>\n",
       "      <th>Upc</th>\n",
       "      <th>Title</th>\n",
       "      <th>Price</th>\n",
       "      <th>Rating</th>\n",
       "      <th>Stock</th>\n",
       "      <th>Stock_Qty</th>\n",
       "      <th>Url</th>\n",
       "      <th>Image</th>\n",
       "    </tr>\n",
       "  </thead>\n",
       "  <tbody>\n",
       "    <tr>\n",
       "      <th>0</th>\n",
       "      <td>9528d0948525bf5f</td>\n",
       "      <td>Birdsong: A Story in Pictures</td>\n",
       "      <td>£54.64</td>\n",
       "      <td>Three</td>\n",
       "      <td>In stock</td>\n",
       "      <td>19</td>\n",
       "      <td>http://books.toscrape.com/catalogue/birdsong-a...</td>\n",
       "      <td>http://books.toscrape.com/media/cache/af/6e/af...</td>\n",
       "    </tr>\n",
       "    <tr>\n",
       "      <th>1</th>\n",
       "      <td>9f6568e9c95f60b0</td>\n",
       "      <td>The Bear and the Piano</td>\n",
       "      <td>£36.89</td>\n",
       "      <td>One</td>\n",
       "      <td>In stock</td>\n",
       "      <td>18</td>\n",
       "      <td>http://books.toscrape.com/catalogue/the-bear-a...</td>\n",
       "      <td>http://books.toscrape.com/media/cache/cf/bb/cf...</td>\n",
       "    </tr>\n",
       "    <tr>\n",
       "      <th>2</th>\n",
       "      <td>b5ea0b5dabed25a8</td>\n",
       "      <td>The Secret of Dreadwillow Carse</td>\n",
       "      <td>£56.13</td>\n",
       "      <td>One</td>\n",
       "      <td>In stock</td>\n",
       "      <td>16</td>\n",
       "      <td>http://books.toscrape.com/catalogue/the-secret...</td>\n",
       "      <td>http://books.toscrape.com/media/cache/c4/a2/c4...</td>\n",
       "    </tr>\n",
       "    <tr>\n",
       "      <th>3</th>\n",
       "      <td>37c0cb19713d8dda</td>\n",
       "      <td>The White Cat and the Monk: A Retelling of the...</td>\n",
       "      <td>£58.08</td>\n",
       "      <td>Four</td>\n",
       "      <td>In stock</td>\n",
       "      <td>15</td>\n",
       "      <td>http://books.toscrape.com/catalogue/the-white-...</td>\n",
       "      <td>http://books.toscrape.com/media/cache/26/32/26...</td>\n",
       "    </tr>\n",
       "    <tr>\n",
       "      <th>4</th>\n",
       "      <td>4aa03792b50f0b22</td>\n",
       "      <td>Little Red</td>\n",
       "      <td>£13.47</td>\n",
       "      <td>Three</td>\n",
       "      <td>In stock</td>\n",
       "      <td>15</td>\n",
       "      <td>http://books.toscrape.com/catalogue/little-red...</td>\n",
       "      <td>http://books.toscrape.com/media/cache/80/25/80...</td>\n",
       "    </tr>\n",
       "  </tbody>\n",
       "</table>\n",
       "</div>"
      ],
      "text/plain": [
       "                Upc                                              Title   \n",
       "0  9528d0948525bf5f                      Birdsong: A Story in Pictures  \\\n",
       "1  9f6568e9c95f60b0                             The Bear and the Piano   \n",
       "2  b5ea0b5dabed25a8                    The Secret of Dreadwillow Carse   \n",
       "3  37c0cb19713d8dda  The White Cat and the Monk: A Retelling of the...   \n",
       "4  4aa03792b50f0b22                                         Little Red   \n",
       "\n",
       "    Price Rating     Stock  Stock_Qty   \n",
       "0  £54.64  Three  In stock         19  \\\n",
       "1  £36.89    One  In stock         18   \n",
       "2  £56.13    One  In stock         16   \n",
       "3  £58.08   Four  In stock         15   \n",
       "4  £13.47  Three  In stock         15   \n",
       "\n",
       "                                                 Url   \n",
       "0  http://books.toscrape.com/catalogue/birdsong-a...  \\\n",
       "1  http://books.toscrape.com/catalogue/the-bear-a...   \n",
       "2  http://books.toscrape.com/catalogue/the-secret...   \n",
       "3  http://books.toscrape.com/catalogue/the-white-...   \n",
       "4  http://books.toscrape.com/catalogue/little-red...   \n",
       "\n",
       "                                               Image  \n",
       "0  http://books.toscrape.com/media/cache/af/6e/af...  \n",
       "1  http://books.toscrape.com/media/cache/cf/bb/cf...  \n",
       "2  http://books.toscrape.com/media/cache/c4/a2/c4...  \n",
       "3  http://books.toscrape.com/media/cache/26/32/26...  \n",
       "4  http://books.toscrape.com/media/cache/80/25/80...  "
      ]
     },
     "execution_count": 12,
     "metadata": {},
     "output_type": "execute_result"
    }
   ],
   "source": [
    "bookJson.head()"
   ]
  },
  {
   "cell_type": "code",
   "execution_count": 8,
   "id": "c976b43f-c1db-4def-af3e-cb15feadcbee",
   "metadata": {},
   "outputs": [
    {
     "data": {
      "text/plain": [
       "0                         Birdsong: A Story in Pictures\n",
       "1                                The Bear and the Piano\n",
       "2                       The Secret of Dreadwillow Carse\n",
       "3     The White Cat and the Monk: A Retelling of the...\n",
       "4                                            Little Red\n",
       "5                     Walt Disney's Alice in Wonderland\n",
       "6                                          Twenty Yawns\n",
       "7                                             Rain Fish\n",
       "8                                       Once Was a Time\n",
       "9                                 Luis Paints the World\n",
       "10                                            Nap-a-Roo\n",
       "11                                            The Whale\n",
       "12    Shrunken Treasures: Literary Classics, Short, ...\n",
       "13                                   Raymie Nightingale\n",
       "14                               Playing from the Heart\n",
       "15    Maybe Something Beautiful: How Art Transformed...\n",
       "16                                       The Wild Robot\n",
       "17                            The Thing About Jellyfish\n",
       "18                                      The Lonely Ones\n",
       "19              The Day the Crayons Came Home (Crayons)\n",
       "20              The Cat in the Hat (Beginner Books B-1)\n",
       "21               Red: The True Story of Red Riding Hood\n",
       "22                                       Horrible Bear!\n",
       "23             Green Eggs and Ham (Beginner Books B-16)\n",
       "24                                       Counting Thyme\n",
       "25                                    Are We There Yet?\n",
       "26    Diary of a Minecraft Zombie Book 1: A Scare of...\n",
       "27                                              Matilda\n",
       "28    Charlie and the Chocolate Factory (Charlie Buc...\n",
       "Name: Title, dtype: object"
      ]
     },
     "execution_count": 8,
     "metadata": {},
     "output_type": "execute_result"
    }
   ],
   "source": [
    "bookJson.Title"
   ]
  },
  {
   "cell_type": "code",
   "execution_count": 18,
   "id": "3fa51dfa-11f5-4f19-b3a0-011db8300b50",
   "metadata": {},
   "outputs": [
    {
     "data": {
      "text/plain": [
       "Upc                                           b5ea0b5dabed25a8\n",
       "Title                          The Secret of Dreadwillow Carse\n",
       "Price                                                   £56.13\n",
       "Rating                                                     One\n",
       "Stock                                                 In stock\n",
       "Stock_Qty                                                   16\n",
       "Url          http://books.toscrape.com/catalogue/the-secret...\n",
       "Image        http://books.toscrape.com/media/cache/c4/a2/c4...\n",
       "Name: 2, dtype: object"
      ]
     },
     "execution_count": 18,
     "metadata": {},
     "output_type": "execute_result"
    }
   ],
   "source": [
    "bookJson.iloc[2]"
   ]
  },
  {
   "cell_type": "markdown",
   "id": "10d0161f-72bb-4ea9-8e63-b11179f8ead2",
   "metadata": {},
   "source": [
    "#### Writing JSON"
   ]
  },
  {
   "cell_type": "code",
   "execution_count": 36,
   "id": "7a24f9f7-9fc3-4b4f-8fcc-4df2b9514ea0",
   "metadata": {},
   "outputs": [],
   "source": [
    "dataSet=[]\n",
    "dataSet.append({'hotel':'Hotel1','reviews':{'country':'UK','reviewcount':21,'rating':9.9,'positive':9,\n",
    "               'negative':0,'stayDate':'2022-12-26'}}\n",
    "              )\n",
    "dataSet.append({'hotel':'Hotel2','reviews':{'country':'US','reviewcount':11,'rating':7.9,'positive':8,\n",
    "               'negative':0,'stayDate':'2023-01-02'}}\n",
    "              )"
   ]
  },
  {
   "cell_type": "code",
   "execution_count": 37,
   "id": "528cec49-c505-4b1d-a12f-e04daf376047",
   "metadata": {},
   "outputs": [],
   "source": [
    "import json\n",
    "with open(\"demo.json\", \"w\") as file:\n",
    "    json.dump(dataSet, file, indent=4, sort_keys=False)"
   ]
  },
  {
   "cell_type": "markdown",
   "id": "64a37458-f828-476e-9071-d60cdd6b08c2",
   "metadata": {
    "tags": []
   },
   "source": [
    "### Read/Write CSV"
   ]
  },
  {
   "cell_type": "code",
   "execution_count": 38,
   "id": "caa34607-eb7e-4ae0-ae10-5ab6ad3d1470",
   "metadata": {},
   "outputs": [],
   "source": [
    "import csv\n",
    "def writeto_csv(data,filename,columns):\n",
    "    with open(filename,'w+',newline='',encoding=\"UTF-8\") as file:\n",
    "        writer = csv.DictWriter(file,fieldnames=columns) #Column header\n",
    "        writer.writeheader()\n",
    "        writer = csv.writer(file)\n",
    "        for element in data:\n",
    "            writer.writerows([element])"
   ]
  },
  {
   "cell_type": "code",
   "execution_count": 39,
   "id": "63106735-fb88-4cc3-a3c1-94901f53f7ea",
   "metadata": {},
   "outputs": [],
   "source": [
    "holidays=[['2023-01-02', \"New Year's Day\"],\n",
    " ['2023-01-16', 'Martin Luther King, Jr. Day'],\n",
    " ['2023-02-20', \"Washington's Birthday\"],\n",
    " ['2023-04-07', 'Good Friday'],\n",
    " ['2023-04-07', 'Good Friday'],\n",
    " ['2023-05-29', 'Memorial Day'],\n",
    " ['2023-06-19', 'Juneteenth'],\n",
    " ['2023-07-04', 'Independence Day'],\n",
    " ['2023-09-04', 'Labour Day'],\n",
    " ['2023-10-09', 'Columbus Day'],\n",
    " ['2023-11-10', 'Veterans Day'],\n",
    " ['2023-11-23', 'Thanksgiving Day'],\n",
    " ['2023-12-25', 'Christmas Day']]"
   ]
  },
  {
   "cell_type": "code",
   "execution_count": 40,
   "id": "768444ba-1eba-4735-936e-8dfe9c6ce768",
   "metadata": {},
   "outputs": [],
   "source": [
    "writeto_csv(holidays,'holidays.csv',['Date','Name'])"
   ]
  },
  {
   "cell_type": "markdown",
   "id": "d4aa6c25-56e5-4e0e-b785-109a0df1af2d",
   "metadata": {},
   "source": [
    "#### using pandas"
   ]
  },
  {
   "cell_type": "code",
   "execution_count": null,
   "id": "70be0f62-c4f2-4f04-a86e-dd5ea5a2ee68",
   "metadata": {},
   "outputs": [],
   "source": [
    "\"\"\"\n",
    "category,image,no_review,price,rating,stock,title,upc,url\n",
    "Poetry,http://books.toscrape.com/media/cache/2c/da/2cdad67c44b002e7ead0cc35693c0e8b.jpg,0,£51.77,Three,In stock,A Light in the Attic,a897fe39b1053632,catalogue/a-light-in-the-attic_1000/index.html\n",
    "Historical Fiction,http://books.toscrape.com/media/cache/26/0c/260c6ae16bce31c8f8c95daddd9f4a1c.jpg,0,£53.74,One,In stock,Tipping the Velvet,90fa61229261140a,catalogue/tipping-the-velvet_999/index.html\n",
    "\"\"\""
   ]
  },
  {
   "cell_type": "code",
   "execution_count": 41,
   "id": "e65af141-0c42-42b2-8ae5-fd6a766932de",
   "metadata": {},
   "outputs": [],
   "source": [
    "books = pd.read_csv(\"books.csv\",usecols=[\"category\",\"price\",\"rating\",\"title\"])"
   ]
  },
  {
   "cell_type": "code",
   "execution_count": 42,
   "id": "1db2ae06-e711-46b6-810d-2a473f7cd89c",
   "metadata": {},
   "outputs": [
    {
     "data": {
      "text/plain": [
       "pandas.core.frame.DataFrame"
      ]
     },
     "execution_count": 42,
     "metadata": {},
     "output_type": "execute_result"
    }
   ],
   "source": [
    "type(books)"
   ]
  },
  {
   "cell_type": "code",
   "execution_count": 43,
   "id": "97b60de3-da9a-4540-ad18-1a366a4764d1",
   "metadata": {},
   "outputs": [
    {
     "data": {
      "text/plain": [
       "(1000, 4)"
      ]
     },
     "execution_count": 43,
     "metadata": {},
     "output_type": "execute_result"
    }
   ],
   "source": [
    "books.shape"
   ]
  },
  {
   "cell_type": "code",
   "execution_count": 44,
   "id": "1ca84597-38c7-4bb8-b2f9-176739c94b85",
   "metadata": {},
   "outputs": [
    {
     "data": {
      "text/html": [
       "<div>\n",
       "<style scoped>\n",
       "    .dataframe tbody tr th:only-of-type {\n",
       "        vertical-align: middle;\n",
       "    }\n",
       "\n",
       "    .dataframe tbody tr th {\n",
       "        vertical-align: top;\n",
       "    }\n",
       "\n",
       "    .dataframe thead th {\n",
       "        text-align: right;\n",
       "    }\n",
       "</style>\n",
       "<table border=\"1\" class=\"dataframe\">\n",
       "  <thead>\n",
       "    <tr style=\"text-align: right;\">\n",
       "      <th></th>\n",
       "      <th>category</th>\n",
       "      <th>price</th>\n",
       "      <th>rating</th>\n",
       "      <th>title</th>\n",
       "    </tr>\n",
       "  </thead>\n",
       "  <tbody>\n",
       "    <tr>\n",
       "      <th>0</th>\n",
       "      <td>Poetry</td>\n",
       "      <td>£51.77</td>\n",
       "      <td>Three</td>\n",
       "      <td>A Light in the Attic</td>\n",
       "    </tr>\n",
       "    <tr>\n",
       "      <th>1</th>\n",
       "      <td>Historical Fiction</td>\n",
       "      <td>£53.74</td>\n",
       "      <td>One</td>\n",
       "      <td>Tipping the Velvet</td>\n",
       "    </tr>\n",
       "    <tr>\n",
       "      <th>2</th>\n",
       "      <td>Poetry</td>\n",
       "      <td>£52.15</td>\n",
       "      <td>One</td>\n",
       "      <td>The Black Maria</td>\n",
       "    </tr>\n",
       "    <tr>\n",
       "      <th>3</th>\n",
       "      <td>Young Adult</td>\n",
       "      <td>£22.65</td>\n",
       "      <td>One</td>\n",
       "      <td>The Requiem Red</td>\n",
       "    </tr>\n",
       "    <tr>\n",
       "      <th>4</th>\n",
       "      <td>Fiction</td>\n",
       "      <td>£50.10</td>\n",
       "      <td>One</td>\n",
       "      <td>Soumission</td>\n",
       "    </tr>\n",
       "    <tr>\n",
       "      <th>...</th>\n",
       "      <td>...</td>\n",
       "      <td>...</td>\n",
       "      <td>...</td>\n",
       "      <td>...</td>\n",
       "    </tr>\n",
       "    <tr>\n",
       "      <th>995</th>\n",
       "      <td>Sequential Art</td>\n",
       "      <td>£57.06</td>\n",
       "      <td>Four</td>\n",
       "      <td>Ajin: Demi-Human, Volume 1 (Ajin: Demi-Human #1)</td>\n",
       "    </tr>\n",
       "    <tr>\n",
       "      <th>996</th>\n",
       "      <td>Classics</td>\n",
       "      <td>£55.53</td>\n",
       "      <td>One</td>\n",
       "      <td>Alice in Wonderland (Alice's Adventures in Won...</td>\n",
       "    </tr>\n",
       "    <tr>\n",
       "      <th>997</th>\n",
       "      <td>Travel</td>\n",
       "      <td>£26.08</td>\n",
       "      <td>Five</td>\n",
       "      <td>1,000 Places to See Before You Die</td>\n",
       "    </tr>\n",
       "    <tr>\n",
       "      <th>998</th>\n",
       "      <td>Mystery</td>\n",
       "      <td>£53.98</td>\n",
       "      <td>One</td>\n",
       "      <td>1st to Die (Women's Murder Club #1)</td>\n",
       "    </tr>\n",
       "    <tr>\n",
       "      <th>999</th>\n",
       "      <td>Historical Fiction</td>\n",
       "      <td>£16.97</td>\n",
       "      <td>Five</td>\n",
       "      <td>A Spy's Devotion (The Regency Spies of London #1)</td>\n",
       "    </tr>\n",
       "  </tbody>\n",
       "</table>\n",
       "<p>1000 rows × 4 columns</p>\n",
       "</div>"
      ],
      "text/plain": [
       "               category   price rating   \n",
       "0                Poetry  £51.77  Three  \\\n",
       "1    Historical Fiction  £53.74    One   \n",
       "2                Poetry  £52.15    One   \n",
       "3           Young Adult  £22.65    One   \n",
       "4               Fiction  £50.10    One   \n",
       "..                  ...     ...    ...   \n",
       "995      Sequential Art  £57.06   Four   \n",
       "996            Classics  £55.53    One   \n",
       "997              Travel  £26.08   Five   \n",
       "998             Mystery  £53.98    One   \n",
       "999  Historical Fiction  £16.97   Five   \n",
       "\n",
       "                                                 title  \n",
       "0                                 A Light in the Attic  \n",
       "1                                   Tipping the Velvet  \n",
       "2                                      The Black Maria  \n",
       "3                                      The Requiem Red  \n",
       "4                                           Soumission  \n",
       "..                                                 ...  \n",
       "995   Ajin: Demi-Human, Volume 1 (Ajin: Demi-Human #1)  \n",
       "996  Alice in Wonderland (Alice's Adventures in Won...  \n",
       "997                 1,000 Places to See Before You Die  \n",
       "998                1st to Die (Women's Murder Club #1)  \n",
       "999  A Spy's Devotion (The Regency Spies of London #1)  \n",
       "\n",
       "[1000 rows x 4 columns]"
      ]
     },
     "execution_count": 44,
     "metadata": {},
     "output_type": "execute_result"
    }
   ],
   "source": [
    "books"
   ]
  },
  {
   "cell_type": "code",
   "execution_count": 45,
   "id": "642acd23-69ae-48bf-a5fc-56942f0532ce",
   "metadata": {},
   "outputs": [
    {
     "data": {
      "text/plain": [
       "0      Three\n",
       "1        One\n",
       "2        One\n",
       "3        One\n",
       "4        One\n",
       "       ...  \n",
       "995     Four\n",
       "996      One\n",
       "997     Five\n",
       "998      One\n",
       "999     Five\n",
       "Name: rating, Length: 1000, dtype: object"
      ]
     },
     "execution_count": 45,
     "metadata": {},
     "output_type": "execute_result"
    }
   ],
   "source": [
    "books[\"rating\"]"
   ]
  },
  {
   "cell_type": "code",
   "execution_count": 46,
   "id": "fce9262d-dd71-4c38-afc5-579af5d9756e",
   "metadata": {},
   "outputs": [
    {
     "data": {
      "text/html": [
       "<div>\n",
       "<style scoped>\n",
       "    .dataframe tbody tr th:only-of-type {\n",
       "        vertical-align: middle;\n",
       "    }\n",
       "\n",
       "    .dataframe tbody tr th {\n",
       "        vertical-align: top;\n",
       "    }\n",
       "\n",
       "    .dataframe thead th {\n",
       "        text-align: right;\n",
       "    }\n",
       "</style>\n",
       "<table border=\"1\" class=\"dataframe\">\n",
       "  <thead>\n",
       "    <tr style=\"text-align: right;\">\n",
       "      <th></th>\n",
       "      <th>category</th>\n",
       "      <th>price</th>\n",
       "      <th>rating</th>\n",
       "      <th>title</th>\n",
       "    </tr>\n",
       "  </thead>\n",
       "  <tbody>\n",
       "    <tr>\n",
       "      <th>0</th>\n",
       "      <td>Poetry</td>\n",
       "      <td>£51.77</td>\n",
       "      <td>Three</td>\n",
       "      <td>A Light in the Attic</td>\n",
       "    </tr>\n",
       "    <tr>\n",
       "      <th>1</th>\n",
       "      <td>Historical Fiction</td>\n",
       "      <td>£53.74</td>\n",
       "      <td>One</td>\n",
       "      <td>Tipping the Velvet</td>\n",
       "    </tr>\n",
       "  </tbody>\n",
       "</table>\n",
       "</div>"
      ],
      "text/plain": [
       "             category   price rating                 title\n",
       "0              Poetry  £51.77  Three  A Light in the Attic\n",
       "1  Historical Fiction  £53.74    One    Tipping the Velvet"
      ]
     },
     "execution_count": 46,
     "metadata": {},
     "output_type": "execute_result"
    }
   ],
   "source": [
    "books.iloc[:2]"
   ]
  },
  {
   "cell_type": "markdown",
   "id": "8655c664-cdd4-4ff0-a86b-d6c81fa393d7",
   "metadata": {},
   "source": [
    "### SQLite"
   ]
  },
  {
   "cell_type": "code",
   "execution_count": 3,
   "id": "3b54e1e4-5d47-4f00-8f73-ff82e75bc4ed",
   "metadata": {},
   "outputs": [],
   "source": [
    "import sqlite3 as db"
   ]
  },
  {
   "cell_type": "code",
   "execution_count": 4,
   "id": "1c0bbca4-4509-4097-b5d0-a56206cb64ee",
   "metadata": {},
   "outputs": [
    {
     "data": {
      "text/plain": [
       "<module 'sqlite3' from 'C:\\\\Python311\\\\Lib\\\\sqlite3\\\\__init__.py'>"
      ]
     },
     "execution_count": 4,
     "metadata": {},
     "output_type": "execute_result"
    }
   ],
   "source": [
    "db"
   ]
  },
  {
   "cell_type": "code",
   "execution_count": 18,
   "id": "51411d77-d81a-4064-acdc-5fcd11f5b523",
   "metadata": {},
   "outputs": [
    {
     "data": {
      "text/plain": [
       "'3.39.4'"
      ]
     },
     "execution_count": 18,
     "metadata": {},
     "output_type": "execute_result"
    }
   ],
   "source": [
    "db.sqlite_version"
   ]
  },
  {
   "cell_type": "code",
   "execution_count": 19,
   "id": "eee15711-e9d6-44b6-a750-265e1ffe6902",
   "metadata": {},
   "outputs": [
    {
     "data": {
      "text/plain": [
       "(3, 39, 4)"
      ]
     },
     "execution_count": 19,
     "metadata": {},
     "output_type": "execute_result"
    }
   ],
   "source": [
    "db.sqlite_version_info"
   ]
  },
  {
   "cell_type": "code",
   "execution_count": 5,
   "id": "9bfb8832-2080-4336-aaea-e51212410878",
   "metadata": {},
   "outputs": [],
   "source": [
    "connection = db.connect('sample.db')  # create DB file"
   ]
  },
  {
   "cell_type": "code",
   "execution_count": 17,
   "id": "135e7885-18f7-4306-af82-a09b5ee4afbf",
   "metadata": {},
   "outputs": [
    {
     "data": {
      "text/plain": [
       "<sqlite3.Connection at 0x2155a3e9030>"
      ]
     },
     "execution_count": 17,
     "metadata": {},
     "output_type": "execute_result"
    }
   ],
   "source": [
    "connection"
   ]
  },
  {
   "cell_type": "code",
   "execution_count": 21,
   "id": "4bcc5c6d-b45c-4447-946d-8cf5fadd9050",
   "metadata": {},
   "outputs": [
    {
     "data": {
      "text/plain": [
       "<sqlite3.Cursor at 0x20071874b40>"
      ]
     },
     "execution_count": 21,
     "metadata": {},
     "output_type": "execute_result"
    }
   ],
   "source": [
    "connection.execute('drop table if exists holiday') "
   ]
  },
  {
   "cell_type": "code",
   "execution_count": 22,
   "id": "744987e4-4e38-4b61-b1c2-4e6b37c10a9c",
   "metadata": {},
   "outputs": [
    {
     "data": {
      "text/plain": [
       "<sqlite3.Cursor at 0x200723c7840>"
      ]
     },
     "execution_count": 22,
     "metadata": {},
     "output_type": "execute_result"
    }
   ],
   "source": [
    "connection.execute('create table holiday(ID int, Title text, Date text)')  # create table"
   ]
  },
  {
   "cell_type": "markdown",
   "id": "1b4dba87-320c-4de0-b6a5-4b2f376aa129",
   "metadata": {},
   "source": [
    "#### Insert rows into table"
   ]
  },
  {
   "cell_type": "code",
   "execution_count": 23,
   "id": "68d94bfd-d887-46eb-afcc-7e2baeb1d970",
   "metadata": {},
   "outputs": [
    {
     "data": {
      "text/plain": [
       "<sqlite3.Cursor at 0x200723c7ec0>"
      ]
     },
     "execution_count": 23,
     "metadata": {},
     "output_type": "execute_result"
    }
   ],
   "source": [
    "connection.execute('insert into holiday(ID, Title, Date) values (1,\"New Year Day\",\"2023-01-01\")')\n",
    "connection.execute('insert into holiday(ID, Title, Date) values (2,\"Good Friday\",\"2023-04-07\")')\n",
    "connection.execute('insert into holiday(ID, Title, Date) values (3,\"Christmas Day\",\"2023-12-25\")')\n",
    "connection.execute('insert into holiday(ID, Title, Date) values (4,\"Columbus Day\",\"2023-10-09\")')"
   ]
  },
  {
   "cell_type": "code",
   "execution_count": 26,
   "id": "1fdfa4d4-72f4-4786-baf2-c7a2a683d3b9",
   "metadata": {},
   "outputs": [],
   "source": [
    "connection.commit()  # commit the insertion"
   ]
  },
  {
   "cell_type": "markdown",
   "id": "c71268bc-ee58-4c4b-848d-abd1b41d2876",
   "metadata": {},
   "source": [
    "#### Read data from table"
   ]
  },
  {
   "cell_type": "code",
   "execution_count": 6,
   "id": "e877e10b-0f29-4257-9e56-786003395462",
   "metadata": {},
   "outputs": [],
   "source": [
    "result = connection.execute('select * from holiday')"
   ]
  },
  {
   "cell_type": "code",
   "execution_count": 7,
   "id": "d1f82716-5b5e-4213-aefa-54b8c54de752",
   "metadata": {},
   "outputs": [
    {
     "name": "stdout",
     "output_type": "stream",
     "text": [
      "(1, 'New Year Day', '2023-01-01')\n",
      "(2, 'Good Friday', '2023-04-07')\n",
      "(3, 'Christmas Day', '2023-12-25')\n",
      "(4, 'Columbus Day', '2023-10-09')\n"
     ]
    }
   ],
   "source": [
    "for row in result:\n",
    "    print(row)"
   ]
  },
  {
   "cell_type": "code",
   "execution_count": 21,
   "id": "82e3d1fa-ef4c-415b-af9d-567372df5d73",
   "metadata": {},
   "outputs": [],
   "source": [
    "cursor = connection.cursor()\n",
    "cursor.execute('select * from holiday')\n",
    "results = cursor.fetchall()"
   ]
  },
  {
   "cell_type": "code",
   "execution_count": 22,
   "id": "10db1a9e-412e-458e-be5f-c849a7e26b18",
   "metadata": {},
   "outputs": [
    {
     "data": {
      "text/plain": [
       "[(1, 'New Year Day', '2023-01-01'),\n",
       " (2, 'Good Friday', '2023-04-07'),\n",
       " (3, 'Christmas Day', '2023-12-25'),\n",
       " (4, 'Columbus Day', '2023-10-09')]"
      ]
     },
     "execution_count": 22,
     "metadata": {},
     "output_type": "execute_result"
    }
   ],
   "source": [
    "results"
   ]
  },
  {
   "cell_type": "code",
   "execution_count": 25,
   "id": "762f1194-725d-4ca2-92ab-9a8a97bd3c78",
   "metadata": {},
   "outputs": [
    {
     "data": {
      "text/plain": [
       "(1, 'New Year Day', '2023-01-01')"
      ]
     },
     "execution_count": 25,
     "metadata": {},
     "output_type": "execute_result"
    }
   ],
   "source": [
    "result = cursor.execute('select * from holiday')\n",
    "result.fetchone()"
   ]
  },
  {
   "cell_type": "markdown",
   "id": "dc56ecd7-497d-43c9-a6e7-825a6d821cf2",
   "metadata": {},
   "source": [
    "#### write data to CSV"
   ]
  },
  {
   "cell_type": "code",
   "execution_count": 27,
   "id": "893d62e3-b7df-471b-a042-b9aadb35652f",
   "metadata": {},
   "outputs": [],
   "source": [
    "dbConnect = db.connect('sample.db')\n",
    "holidayData = pd.read_sql('select * from holiday' ,dbConnect)\n",
    "holidayData.to_csv('holiday_sqlite.csv')\n",
    "holidayData.to_csv('holiday_sqlite_noindex.csv', index=False)"
   ]
  },
  {
   "cell_type": "markdown",
   "id": "bfe4762c-db66-40ce-b721-8f619a019e92",
   "metadata": {},
   "source": [
    "#### List all table in sample.db"
   ]
  },
  {
   "cell_type": "code",
   "execution_count": 15,
   "id": "5c8d3157-5ff4-44ee-b30c-97a91b44e107",
   "metadata": {},
   "outputs": [
    {
     "data": {
      "text/plain": [
       "[('holiday',)]"
      ]
     },
     "execution_count": 15,
     "metadata": {},
     "output_type": "execute_result"
    }
   ],
   "source": [
    "cursor.execute(\"select name from sqlite_master where type='table'\")\n",
    "tables = cursor.fetchall()\n",
    "tables"
   ]
  },
  {
   "cell_type": "code",
   "execution_count": 16,
   "id": "a8ff62fb-d773-4b69-be4f-c8519f0678dd",
   "metadata": {},
   "outputs": [
    {
     "data": {
      "text/plain": [
       "[]"
      ]
     },
     "execution_count": 16,
     "metadata": {},
     "output_type": "execute_result"
    }
   ],
   "source": [
    "cursor.execute(\"select name from sqlite_temp_master where type='table'\")\n",
    "tempMaster = cursor.fetchall()\n",
    "tempMaster"
   ]
  },
  {
   "cell_type": "code",
   "execution_count": null,
   "id": "544c7763-8b1d-4ca0-a5fa-75ad16139b11",
   "metadata": {},
   "outputs": [],
   "source": []
  }
 ],
 "metadata": {
  "kernelspec": {
   "display_name": "Python 3 (ipykernel)",
   "language": "python",
   "name": "python3"
  },
  "language_info": {
   "codemirror_mode": {
    "name": "ipython",
    "version": 3
   },
   "file_extension": ".py",
   "mimetype": "text/x-python",
   "name": "python",
   "nbconvert_exporter": "python",
   "pygments_lexer": "ipython3",
   "version": "3.11.1"
  }
 },
 "nbformat": 4,
 "nbformat_minor": 5
}
