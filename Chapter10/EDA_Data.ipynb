{
 "cells": [
  {
   "cell_type": "markdown",
   "id": "78bc5509-f788-480a-832b-b23135588deb",
   "metadata": {},
   "source": [
    "## Data Analysis and Visualization: EDA"
   ]
  },
  {
   "cell_type": "code",
   "execution_count": 1,
   "id": "ecdf0fa6-8735-4865-9aaa-fead000bbb88",
   "metadata": {},
   "outputs": [],
   "source": [
    "import pandas as pd\n",
    "import numpy as np\n",
    "from ydata_profiling import ProfileReport\n",
    "# from pandas_profiling import ProfileReport"
   ]
  },
  {
   "cell_type": "markdown",
   "id": "e85f1282-6ac3-47bb-8336-7f8b4afe5f4c",
   "metadata": {},
   "source": [
    "### Read Input: RAW"
   ]
  },
  {
   "cell_type": "code",
   "execution_count": 2,
   "id": "0855246d-200d-440c-8bc5-943c1eba414a",
   "metadata": {},
   "outputs": [],
   "source": [
    "books = pd.read_json(\"book_details.json\") # input"
   ]
  },
  {
   "cell_type": "code",
   "execution_count": 3,
   "id": "a3b034f6-9654-48f8-a0b0-2f90b4bfbe46",
   "metadata": {},
   "outputs": [
    {
     "data": {
      "text/html": [
       "<div>\n",
       "<style scoped>\n",
       "    .dataframe tbody tr th:only-of-type {\n",
       "        vertical-align: middle;\n",
       "    }\n",
       "\n",
       "    .dataframe tbody tr th {\n",
       "        vertical-align: top;\n",
       "    }\n",
       "\n",
       "    .dataframe thead th {\n",
       "        text-align: right;\n",
       "    }\n",
       "</style>\n",
       "<table border=\"1\" class=\"dataframe\">\n",
       "  <thead>\n",
       "    <tr style=\"text-align: right;\">\n",
       "      <th></th>\n",
       "      <th>Stock_Qty</th>\n",
       "    </tr>\n",
       "  </thead>\n",
       "  <tbody>\n",
       "    <tr>\n",
       "      <th>count</th>\n",
       "      <td>29.000000</td>\n",
       "    </tr>\n",
       "    <tr>\n",
       "      <th>mean</th>\n",
       "      <td>7.896552</td>\n",
       "    </tr>\n",
       "    <tr>\n",
       "      <th>std</th>\n",
       "      <td>5.857503</td>\n",
       "    </tr>\n",
       "    <tr>\n",
       "      <th>min</th>\n",
       "      <td>1.000000</td>\n",
       "    </tr>\n",
       "    <tr>\n",
       "      <th>25%</th>\n",
       "      <td>3.000000</td>\n",
       "    </tr>\n",
       "    <tr>\n",
       "      <th>50%</th>\n",
       "      <td>7.000000</td>\n",
       "    </tr>\n",
       "    <tr>\n",
       "      <th>75%</th>\n",
       "      <td>14.000000</td>\n",
       "    </tr>\n",
       "    <tr>\n",
       "      <th>max</th>\n",
       "      <td>19.000000</td>\n",
       "    </tr>\n",
       "  </tbody>\n",
       "</table>\n",
       "</div>"
      ],
      "text/plain": [
       "       Stock_Qty\n",
       "count  29.000000\n",
       "mean    7.896552\n",
       "std     5.857503\n",
       "min     1.000000\n",
       "25%     3.000000\n",
       "50%     7.000000\n",
       "75%    14.000000\n",
       "max    19.000000"
      ]
     },
     "execution_count": 3,
     "metadata": {},
     "output_type": "execute_result"
    }
   ],
   "source": [
    "books.describe()"
   ]
  },
  {
   "cell_type": "markdown",
   "id": "5ded17cc-33f7-42d7-b30c-af48893b13b9",
   "metadata": {},
   "source": [
    "#### Creating Profile Report (Raw-data)"
   ]
  },
  {
   "cell_type": "code",
   "execution_count": 4,
   "id": "c58a6c5c-3311-46da-9441-94be13e5c413",
   "metadata": {},
   "outputs": [
    {
     "data": {
      "application/vnd.jupyter.widget-view+json": {
       "model_id": "d0eaf39f89b84af8b1a54ba3082572b8",
       "version_major": 2,
       "version_minor": 0
      },
      "text/plain": [
       "Summarize dataset:   0%|          | 0/5 [00:00<?, ?it/s]"
      ]
     },
     "metadata": {},
     "output_type": "display_data"
    },
    {
     "data": {
      "application/vnd.jupyter.widget-view+json": {
       "model_id": "4a8427a762c346bcb4f31a13bd0aca15",
       "version_major": 2,
       "version_minor": 0
      },
      "text/plain": [
       "Generate report structure:   0%|          | 0/1 [00:00<?, ?it/s]"
      ]
     },
     "metadata": {},
     "output_type": "display_data"
    },
    {
     "data": {
      "application/vnd.jupyter.widget-view+json": {
       "model_id": "bf6750443de546f4911da7fe78f07d49",
       "version_major": 2,
       "version_minor": 0
      },
      "text/plain": [
       "Render HTML:   0%|          | 0/1 [00:00<?, ?it/s]"
      ]
     },
     "metadata": {},
     "output_type": "display_data"
    },
    {
     "data": {
      "application/vnd.jupyter.widget-view+json": {
       "model_id": "f487da947e1e43c09acda932001efc46",
       "version_major": 2,
       "version_minor": 0
      },
      "text/plain": [
       "Export report to file:   0%|          | 0/1 [00:00<?, ?it/s]"
      ]
     },
     "metadata": {},
     "output_type": "display_data"
    }
   ],
   "source": [
    "books_profile = ProfileReport(books,title=\"Book Details - Raw Data , Report\")\n",
    "books_profile.to_file(\"book_details_rawdata.html\")"
   ]
  },
  {
   "cell_type": "markdown",
   "id": "da32272b-6f6e-49fa-93f3-2cf2c05c4fd1",
   "metadata": {},
   "source": [
    "<hr />"
   ]
  },
  {
   "cell_type": "markdown",
   "id": "b9ee465e-4e5c-48a5-b26e-96213b16d8c3",
   "metadata": {
    "tags": []
   },
   "source": [
    "### Read Input : Cleaned Data"
   ]
  },
  {
   "cell_type": "code",
   "execution_count": 5,
   "id": "46f1751b-3e42-4d33-945c-88e7e1a1f737",
   "metadata": {},
   "outputs": [],
   "source": [
    "bookCSV = pd.read_csv(\"book_details_clean.csv\") # input"
   ]
  },
  {
   "cell_type": "code",
   "execution_count": 6,
   "id": "c7e8270f-4bd2-45aa-ad8f-ff86de72a5a9",
   "metadata": {},
   "outputs": [
    {
     "data": {
      "text/html": [
       "<div>\n",
       "<style scoped>\n",
       "    .dataframe tbody tr th:only-of-type {\n",
       "        vertical-align: middle;\n",
       "    }\n",
       "\n",
       "    .dataframe tbody tr th {\n",
       "        vertical-align: top;\n",
       "    }\n",
       "\n",
       "    .dataframe thead th {\n",
       "        text-align: right;\n",
       "    }\n",
       "</style>\n",
       "<table border=\"1\" class=\"dataframe\">\n",
       "  <thead>\n",
       "    <tr style=\"text-align: right;\">\n",
       "      <th></th>\n",
       "      <th>Price</th>\n",
       "      <th>Rating</th>\n",
       "      <th>Stock_Qty</th>\n",
       "    </tr>\n",
       "  </thead>\n",
       "  <tbody>\n",
       "    <tr>\n",
       "      <th>count</th>\n",
       "      <td>29.000000</td>\n",
       "      <td>29.000000</td>\n",
       "      <td>29.000000</td>\n",
       "    </tr>\n",
       "    <tr>\n",
       "      <th>mean</th>\n",
       "      <td>32.638276</td>\n",
       "      <td>2.620690</td>\n",
       "      <td>7.896552</td>\n",
       "    </tr>\n",
       "    <tr>\n",
       "      <th>std</th>\n",
       "      <td>15.968468</td>\n",
       "      <td>1.320546</td>\n",
       "      <td>5.857503</td>\n",
       "    </tr>\n",
       "    <tr>\n",
       "      <th>min</th>\n",
       "      <td>10.620000</td>\n",
       "      <td>1.000000</td>\n",
       "      <td>1.000000</td>\n",
       "    </tr>\n",
       "    <tr>\n",
       "      <th>25%</th>\n",
       "      <td>22.080000</td>\n",
       "      <td>1.000000</td>\n",
       "      <td>3.000000</td>\n",
       "    </tr>\n",
       "    <tr>\n",
       "      <th>50%</th>\n",
       "      <td>28.540000</td>\n",
       "      <td>3.000000</td>\n",
       "      <td>7.000000</td>\n",
       "    </tr>\n",
       "    <tr>\n",
       "      <th>75%</th>\n",
       "      <td>48.770000</td>\n",
       "      <td>3.000000</td>\n",
       "      <td>14.000000</td>\n",
       "    </tr>\n",
       "    <tr>\n",
       "      <th>max</th>\n",
       "      <td>58.080000</td>\n",
       "      <td>5.000000</td>\n",
       "      <td>19.000000</td>\n",
       "    </tr>\n",
       "  </tbody>\n",
       "</table>\n",
       "</div>"
      ],
      "text/plain": [
       "           Price     Rating  Stock_Qty\n",
       "count  29.000000  29.000000  29.000000\n",
       "mean   32.638276   2.620690   7.896552\n",
       "std    15.968468   1.320546   5.857503\n",
       "min    10.620000   1.000000   1.000000\n",
       "25%    22.080000   1.000000   3.000000\n",
       "50%    28.540000   3.000000   7.000000\n",
       "75%    48.770000   3.000000  14.000000\n",
       "max    58.080000   5.000000  19.000000"
      ]
     },
     "execution_count": 6,
     "metadata": {},
     "output_type": "execute_result"
    }
   ],
   "source": [
    "bookCSV.describe()"
   ]
  },
  {
   "cell_type": "markdown",
   "id": "22acd202-6461-449c-af8b-3e661dcf9b0d",
   "metadata": {},
   "source": [
    "#### Creating Profile Report (clean-data)"
   ]
  },
  {
   "cell_type": "code",
   "execution_count": 7,
   "id": "93b4a540-49d0-4de8-8256-ecf9b00eaaf3",
   "metadata": {},
   "outputs": [
    {
     "data": {
      "application/vnd.jupyter.widget-view+json": {
       "model_id": "54b105f2720d47649dfaac05d1d0ff85",
       "version_major": 2,
       "version_minor": 0
      },
      "text/plain": [
       "Summarize dataset:   0%|          | 0/5 [00:00<?, ?it/s]"
      ]
     },
     "metadata": {},
     "output_type": "display_data"
    },
    {
     "data": {
      "application/vnd.jupyter.widget-view+json": {
       "model_id": "4d6514073238434a9f667eb2369005f3",
       "version_major": 2,
       "version_minor": 0
      },
      "text/plain": [
       "Generate report structure:   0%|          | 0/1 [00:00<?, ?it/s]"
      ]
     },
     "metadata": {},
     "output_type": "display_data"
    },
    {
     "data": {
      "application/vnd.jupyter.widget-view+json": {
       "model_id": "edbb1e242a8a4fc5bdf1c38177e99785",
       "version_major": 2,
       "version_minor": 0
      },
      "text/plain": [
       "Render HTML:   0%|          | 0/1 [00:00<?, ?it/s]"
      ]
     },
     "metadata": {},
     "output_type": "display_data"
    },
    {
     "data": {
      "application/vnd.jupyter.widget-view+json": {
       "model_id": "117b015beff84900b200ef2a8c049bda",
       "version_major": 2,
       "version_minor": 0
      },
      "text/plain": [
       "Export report to file:   0%|          | 0/1 [00:00<?, ?it/s]"
      ]
     },
     "metadata": {},
     "output_type": "display_data"
    }
   ],
   "source": [
    "bookCSV_profile = ProfileReport(bookCSV,title=\"Book Details - Cleaned Data , Report\")\n",
    "bookCSV_profile.to_file(\"book_details.html\")"
   ]
  },
  {
   "cell_type": "code",
   "execution_count": null,
   "id": "8bc59c3b-3725-490e-a4d7-6ad7a947def6",
   "metadata": {},
   "outputs": [],
   "source": []
  }
 ],
 "metadata": {
  "kernelspec": {
   "display_name": "Python 3 (ipykernel)",
   "language": "python",
   "name": "python3"
  },
  "language_info": {
   "codemirror_mode": {
    "name": "ipython",
    "version": 3
   },
   "file_extension": ".py",
   "mimetype": "text/x-python",
   "name": "python",
   "nbconvert_exporter": "python",
   "pygments_lexer": "ipython3",
   "version": "3.11.1"
  }
 },
 "nbformat": 4,
 "nbformat_minor": 5
}
